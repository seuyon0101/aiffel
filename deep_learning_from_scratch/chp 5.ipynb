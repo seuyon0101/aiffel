{
 "cells": [
  {
   "cell_type": "markdown",
   "id": "fef5b07f",
   "metadata": {},
   "source": [
    "# 5.4 단순한 계층 구현하기"
   ]
  },
  {
   "cell_type": "code",
   "execution_count": 1,
   "id": "fa1fa112",
   "metadata": {},
   "outputs": [],
   "source": [
    "class MulLayer:\n",
    "    def __init__(self):\n",
    "        self.x = None\n",
    "        self.y = None\n",
    "    \n",
    "    def forward(self, x,y) :\n",
    "        self.x = x\n",
    "        self.y = y\n",
    "        out = x * y\n",
    "        \n",
    "        return out\n",
    "    \n",
    "    def backward(self, dout) :\n",
    "        dx = dout * self.y\n",
    "        dy = dout * self.x\n",
    "        return dx, dy"
   ]
  },
  {
   "cell_type": "code",
   "execution_count": 20,
   "id": "21b24337",
   "metadata": {},
   "outputs": [],
   "source": [
    "applelayer1 = MulLayer()\n",
    "applelayer2 = MulLayer()"
   ]
  },
  {
   "cell_type": "code",
   "execution_count": 21,
   "id": "bea10745",
   "metadata": {},
   "outputs": [],
   "source": [
    "output1 = applelayer1.forward(100,2)\n",
    "output2 = applelayer2.forward(output1, 1.1)"
   ]
  },
  {
   "cell_type": "code",
   "execution_count": 24,
   "id": "0aafcb2f",
   "metadata": {},
   "outputs": [
    {
     "name": "stdout",
     "output_type": "stream",
     "text": [
      "1.1 200\n"
     ]
    }
   ],
   "source": [
    "dx1, dy1 = applelayer2.backward(1)\n",
    "print(dx1, dy1)"
   ]
  },
  {
   "cell_type": "code",
   "execution_count": 26,
   "id": "9a43bb20",
   "metadata": {},
   "outputs": [
    {
     "name": "stdout",
     "output_type": "stream",
     "text": [
      "2.2 110.00000000000001\n"
     ]
    }
   ],
   "source": [
    "dx2, dy2 = applelayer1.backward(dx1)\n",
    "print(dx2, dy2)"
   ]
  },
  {
   "cell_type": "code",
   "execution_count": 28,
   "id": "c61967a9",
   "metadata": {},
   "outputs": [],
   "source": [
    "class AddLayer :\n",
    "    def __init__self(self) :\n",
    "        pass\n",
    "    \n",
    "    def forward(self, x, y):\n",
    "        out = x + y\n",
    "        return out\n",
    "    \n",
    "    def backward(self, dout):\n",
    "        dx = dout * 1\n",
    "        dy = dout * 1\n",
    "        \n",
    "        return dx, dy"
   ]
  },
  {
   "cell_type": "code",
   "execution_count": 34,
   "id": "5ee57368",
   "metadata": {},
   "outputs": [
    {
     "name": "stdout",
     "output_type": "stream",
     "text": [
      "dz/tax : 650\n",
      "dx/applecount : 2.2, dx/appleprice: 110.00000000000001\n",
      "dx/applecount : 3.3000000000000003, dx/appleprice: 165.0\n"
     ]
    }
   ],
   "source": [
    "#apple\n",
    "applecount = 100\n",
    "appleprice = 2\n",
    "\n",
    "#orange\n",
    "orangecount = 150\n",
    "orangeprice = 3\n",
    "\n",
    "#소비세\n",
    "tax = 1.1\n",
    "\n",
    "#firstapple\n",
    "applelayer_mul = MulLayer()\n",
    "apple_output1 = applelayer_mul.forward(applecount, appleprice)\n",
    "\n",
    "\n",
    "#firstorange\n",
    "orangelayer_mul = MulLayer()\n",
    "orange_output1 = orangelayer_mul.forward(orangecount, orangeprice)\n",
    "\n",
    "#second_addlayer\n",
    "second_add_layer = AddLayer().forward(apple_output1, orange_output1)\n",
    "\n",
    "\n",
    "#lastoutputlayer\n",
    "outputlayer = MulLayer()\n",
    "lastvalue = outputlayer.forward(second_add_layer, tax) \n",
    "\n",
    "\n",
    "#backpropagation\n",
    "dx1, dy1 = outputlayer.backward(1)\n",
    "\n",
    "print(f'dz/tax : {dy1}')\n",
    "\n",
    "#backpropagation 2nd\n",
    "dx2, dy2 = AddLayer().backward(dx1)\n",
    "\n",
    "#backpropagation 3rd\n",
    "dxa3, dya3 = applelayer_mul.backward(dx2)\n",
    "print(f'dx/applecount : {dxa3}, dx/appleprice: {dya3}')\n",
    "\n",
    "dxa3, dya3 = orangelayer_mul.backward(dx2)\n",
    "print(f'dx/applecount : {dxa3}, dx/appleprice: {dya3}')"
   ]
  },
  {
   "cell_type": "markdown",
   "id": "96c2b247",
   "metadata": {},
   "source": [
    "# 5.5 활성화 함수 계층 구현하기"
   ]
  },
  {
   "cell_type": "code",
   "execution_count": 35,
   "id": "9e497a9f",
   "metadata": {},
   "outputs": [],
   "source": [
    "class Relu :\n",
    "    def __init__(self):\n",
    "        self.mask =None\n",
    "    \n",
    "    def forward(self, x) :\n",
    "        self.mask = (x<=0)\n",
    "        out = x.copy()\n",
    "        out[self.mask] = 0\n",
    "        \n",
    "        return out\n",
    "    \n",
    "    def backward(self, dout) :\n",
    "        dout[self.mask] = 0\n",
    "        dx = dout\n",
    "        \n",
    "        return dx"
   ]
  },
  {
   "cell_type": "code",
   "execution_count": 37,
   "id": "18387dcc",
   "metadata": {},
   "outputs": [],
   "source": [
    "import numpy as np"
   ]
  },
  {
   "cell_type": "code",
   "execution_count": 38,
   "id": "790dcdc5",
   "metadata": {},
   "outputs": [],
   "source": [
    "x = np.array([[1,-0.5],[-2,3]])"
   ]
  },
  {
   "cell_type": "code",
   "execution_count": 44,
   "id": "1a33fb31",
   "metadata": {},
   "outputs": [
    {
     "name": "stdout",
     "output_type": "stream",
     "text": [
      "[[False  True]\n",
      " [ True False]]\n"
     ]
    }
   ],
   "source": [
    "mask = (x <= 0)\n",
    "print(mask)"
   ]
  },
  {
   "cell_type": "code",
   "execution_count": 45,
   "id": "97b16064",
   "metadata": {},
   "outputs": [],
   "source": [
    "#sigmoid"
   ]
  },
  {
   "cell_type": "code",
   "execution_count": null,
   "id": "a1e7fafc",
   "metadata": {},
   "outputs": [],
   "source": [
    "class Sigmoid :\n",
    "    def __init__(self):\n",
    "        self.out = None\n",
    "        \n",
    "    def forward(self, x):\n",
    "        out = 1/1(1+np.exp(-x))\n",
    "        self.out = out\n",
    "        \n",
    "        return out\n",
    "    \n",
    "\n",
    "    def backward(self, bout)"
   ]
  }
 ],
 "metadata": {
  "kernelspec": {
   "display_name": "Python 3 (ipykernel)",
   "language": "python",
   "name": "python3"
  },
  "language_info": {
   "codemirror_mode": {
    "name": "ipython",
    "version": 3
   },
   "file_extension": ".py",
   "mimetype": "text/x-python",
   "name": "python",
   "nbconvert_exporter": "python",
   "pygments_lexer": "ipython3",
   "version": "3.9.12"
  }
 },
 "nbformat": 4,
 "nbformat_minor": 5
}
