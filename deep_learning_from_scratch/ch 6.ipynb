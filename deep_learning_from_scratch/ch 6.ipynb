{
 "cells": [
  {
   "cell_type": "markdown",
   "id": "ecdec078",
   "metadata": {},
   "source": [
    "# 6.1.2. 확률적 경사 하강법 SGD"
   ]
  },
  {
   "cell_type": "markdown",
   "id": "a26e138a",
   "metadata": {},
   "source": [
    "$$ W \\leftarrow W -n \\frac{\\delta L}{\\delta W} $$"
   ]
  },
  {
   "cell_type": "code",
   "execution_count": 2,
   "id": "16da0ee5",
   "metadata": {},
   "outputs": [],
   "source": [
    "class SGD:\n",
    "    def __init__(self, lr =0.01) :\n",
    "        self.lr = lr\n",
    "        \n",
    "    def update(self, params, grads) :\n",
    "        for key in params.keys():\n",
    "            params[key] -= self.lr*grads[key]"
   ]
  },
  {
   "cell_type": "code",
   "execution_count": null,
   "id": "1f8080e7",
   "metadata": {},
   "outputs": [],
   "source": []
  }
 ],
 "metadata": {
  "kernelspec": {
   "display_name": "Python 3 (ipykernel)",
   "language": "python",
   "name": "python3"
  },
  "language_info": {
   "codemirror_mode": {
    "name": "ipython",
    "version": 3
   },
   "file_extension": ".py",
   "mimetype": "text/x-python",
   "name": "python",
   "nbconvert_exporter": "python",
   "pygments_lexer": "ipython3",
   "version": "3.9.12"
  }
 },
 "nbformat": 4,
 "nbformat_minor": 5
}
