{
 "cells": [
  {
   "cell_type": "markdown",
   "id": "3faf47a1",
   "metadata": {},
   "source": [
    "# 🤗 프로젝트 : 커스텀 프로젝트 직접 만들기"
   ]
  },
  {
   "cell_type": "markdown",
   "id": "d832f793",
   "metadata": {},
   "source": [
    "klue/bert-base 를 사용하여 NSMC task를 수행하라.\n",
    "> - https://huggingface.co/klue/bert-base\n",
    "> - https://github.com/e9t/nsmc"
   ]
  },
  {
   "cell_type": "markdown",
   "id": "ede2b2d0",
   "metadata": {},
   "source": [
    "### 평가항목 1:\n",
    "\n",
    "- sentence piece를 사용해 토크나이징 한 후\n",
    "- klue/bert-base를 특성추출기로 사용해 base-line 성능을 기록했다."
   ]
  },
  {
   "cell_type": "markdown",
   "id": "2628035b",
   "metadata": {},
   "source": [
    "### 평가항목 2: \n",
    "\n",
    "- 적절한 전처리와 fine-tuning을 통해 val_acc를 90% 이상 달성했다."
   ]
  },
  {
   "cell_type": "markdown",
   "id": "037066b7",
   "metadata": {},
   "source": [
    "### 평가항목 3:\n",
    "\n",
    "- 클래스 분포를 살펴보고 Bucketing을 수행하여 어떤 효과를 기대할 수 있는지 예상한 결과를 기록했다.\n",
    "\n",
    "- Bucketing을 수행하여 finetuning 시 연산속도와 모델성능간의 trade-off관계가 발생하는지 여부를 확인하고 분석한 결과를 제시하였다."
   ]
  },
  {
   "cell_type": "markdown",
   "id": "fad7ebcf",
   "metadata": {},
   "source": [
    "## Step 1 : preprocessing"
   ]
  },
  {
   "cell_type": "code",
   "execution_count": 1,
   "id": "8d6c7f03",
   "metadata": {},
   "outputs": [],
   "source": [
    "# excel 파일에 outline 같이 짜기\n",
    "# ! wget https://raw.githubusercontent.com/e9t/nsmc/master/ratings_train.txt\n",
    "# ! wget https://raw.githubusercontent.com/e9t/nsmc/master/ratings_test.txt"
   ]
  },
  {
   "cell_type": "code",
   "execution_count": 2,
   "id": "89a468a3",
   "metadata": {},
   "outputs": [
    {
     "name": "stdout",
     "output_type": "stream",
     "text": [
      "ratings_test.txt  ratings_train.txt\r\n"
     ]
    }
   ],
   "source": [
    "# 데이터 다운로드 되었는지 확인\n",
    "!ls rating*"
   ]
  },
  {
   "cell_type": "code",
   "execution_count": 3,
   "id": "65d8f386",
   "metadata": {},
   "outputs": [],
   "source": [
    "# pandas library 확인\n",
    "import pandas as pd\n",
    "import numpy as np"
   ]
  },
  {
   "cell_type": "code",
   "execution_count": 4,
   "id": "14c7ecb8",
   "metadata": {},
   "outputs": [],
   "source": [
    "# pandas 로 다운로드 파일 데이터프레임 생성\n",
    "train = pd.read_table('./ratings_train.txt')\n",
    "test = pd.read_table('./ratings_test.txt')"
   ]
  },
  {
   "cell_type": "code",
   "execution_count": 5,
   "id": "be52af85",
   "metadata": {},
   "outputs": [
    {
     "name": "stdout",
     "output_type": "stream",
     "text": [
      "<class 'pandas.core.frame.DataFrame'>\n",
      "RangeIndex: 150000 entries, 0 to 149999\n",
      "Data columns (total 3 columns):\n",
      " #   Column    Non-Null Count   Dtype \n",
      "---  ------    --------------   ----- \n",
      " 0   id        150000 non-null  int64 \n",
      " 1   document  149995 non-null  object\n",
      " 2   label     150000 non-null  int64 \n",
      "dtypes: int64(2), object(1)\n",
      "memory usage: 3.4+ MB\n"
     ]
    }
   ],
   "source": [
    "# 데이터 확인\n",
    "train.info() # null-value 확인 5개"
   ]
  },
  {
   "cell_type": "code",
   "execution_count": 6,
   "id": "d8511e02",
   "metadata": {},
   "outputs": [
    {
     "name": "stdout",
     "output_type": "stream",
     "text": [
      "<class 'pandas.core.frame.DataFrame'>\n",
      "RangeIndex: 50000 entries, 0 to 49999\n",
      "Data columns (total 3 columns):\n",
      " #   Column    Non-Null Count  Dtype \n",
      "---  ------    --------------  ----- \n",
      " 0   id        50000 non-null  int64 \n",
      " 1   document  49997 non-null  object\n",
      " 2   label     50000 non-null  int64 \n",
      "dtypes: int64(2), object(1)\n",
      "memory usage: 1.1+ MB\n"
     ]
    }
   ],
   "source": [
    "# 데이터 확인\n",
    "test.info() # null-value 확인 3개"
   ]
  },
  {
   "cell_type": "code",
   "execution_count": 7,
   "id": "937d577a",
   "metadata": {},
   "outputs": [
    {
     "data": {
      "text/html": [
       "<div>\n",
       "<style scoped>\n",
       "    .dataframe tbody tr th:only-of-type {\n",
       "        vertical-align: middle;\n",
       "    }\n",
       "\n",
       "    .dataframe tbody tr th {\n",
       "        vertical-align: top;\n",
       "    }\n",
       "\n",
       "    .dataframe thead th {\n",
       "        text-align: right;\n",
       "    }\n",
       "</style>\n",
       "<table border=\"1\" class=\"dataframe\">\n",
       "  <thead>\n",
       "    <tr style=\"text-align: right;\">\n",
       "      <th></th>\n",
       "      <th>id</th>\n",
       "      <th>document</th>\n",
       "      <th>label</th>\n",
       "    </tr>\n",
       "  </thead>\n",
       "  <tbody>\n",
       "    <tr>\n",
       "      <th>0</th>\n",
       "      <td>9976970</td>\n",
       "      <td>아 더빙.. 진짜 짜증나네요 목소리</td>\n",
       "      <td>0</td>\n",
       "    </tr>\n",
       "    <tr>\n",
       "      <th>1</th>\n",
       "      <td>3819312</td>\n",
       "      <td>흠...포스터보고 초딩영화줄....오버연기조차 가볍지 않구나</td>\n",
       "      <td>1</td>\n",
       "    </tr>\n",
       "    <tr>\n",
       "      <th>2</th>\n",
       "      <td>10265843</td>\n",
       "      <td>너무재밓었다그래서보는것을추천한다</td>\n",
       "      <td>0</td>\n",
       "    </tr>\n",
       "    <tr>\n",
       "      <th>3</th>\n",
       "      <td>9045019</td>\n",
       "      <td>교도소 이야기구먼 ..솔직히 재미는 없다..평점 조정</td>\n",
       "      <td>0</td>\n",
       "    </tr>\n",
       "    <tr>\n",
       "      <th>4</th>\n",
       "      <td>6483659</td>\n",
       "      <td>사이몬페그의 익살스런 연기가 돋보였던 영화!스파이더맨에서 늙어보이기만 했던 커스틴 ...</td>\n",
       "      <td>1</td>\n",
       "    </tr>\n",
       "  </tbody>\n",
       "</table>\n",
       "</div>"
      ],
      "text/plain": [
       "         id                                           document  label\n",
       "0   9976970                                아 더빙.. 진짜 짜증나네요 목소리      0\n",
       "1   3819312                  흠...포스터보고 초딩영화줄....오버연기조차 가볍지 않구나      1\n",
       "2  10265843                                  너무재밓었다그래서보는것을추천한다      0\n",
       "3   9045019                      교도소 이야기구먼 ..솔직히 재미는 없다..평점 조정      0\n",
       "4   6483659  사이몬페그의 익살스런 연기가 돋보였던 영화!스파이더맨에서 늙어보이기만 했던 커스틴 ...      1"
      ]
     },
     "execution_count": 7,
     "metadata": {},
     "output_type": "execute_result"
    }
   ],
   "source": [
    "train.head()"
   ]
  },
  {
   "cell_type": "code",
   "execution_count": 8,
   "id": "3646bfc9",
   "metadata": {},
   "outputs": [
    {
     "data": {
      "text/html": [
       "<div>\n",
       "<style scoped>\n",
       "    .dataframe tbody tr th:only-of-type {\n",
       "        vertical-align: middle;\n",
       "    }\n",
       "\n",
       "    .dataframe tbody tr th {\n",
       "        vertical-align: top;\n",
       "    }\n",
       "\n",
       "    .dataframe thead th {\n",
       "        text-align: right;\n",
       "    }\n",
       "</style>\n",
       "<table border=\"1\" class=\"dataframe\">\n",
       "  <thead>\n",
       "    <tr style=\"text-align: right;\">\n",
       "      <th></th>\n",
       "      <th>id</th>\n",
       "      <th>document</th>\n",
       "      <th>label</th>\n",
       "    </tr>\n",
       "  </thead>\n",
       "  <tbody>\n",
       "    <tr>\n",
       "      <th>0</th>\n",
       "      <td>6270596</td>\n",
       "      <td>굳 ㅋ</td>\n",
       "      <td>1</td>\n",
       "    </tr>\n",
       "    <tr>\n",
       "      <th>1</th>\n",
       "      <td>9274899</td>\n",
       "      <td>GDNTOPCLASSINTHECLUB</td>\n",
       "      <td>0</td>\n",
       "    </tr>\n",
       "    <tr>\n",
       "      <th>2</th>\n",
       "      <td>8544678</td>\n",
       "      <td>뭐야 이 평점들은.... 나쁘진 않지만 10점 짜리는 더더욱 아니잖아</td>\n",
       "      <td>0</td>\n",
       "    </tr>\n",
       "    <tr>\n",
       "      <th>3</th>\n",
       "      <td>6825595</td>\n",
       "      <td>지루하지는 않은데 완전 막장임... 돈주고 보기에는....</td>\n",
       "      <td>0</td>\n",
       "    </tr>\n",
       "    <tr>\n",
       "      <th>4</th>\n",
       "      <td>6723715</td>\n",
       "      <td>3D만 아니었어도 별 다섯 개 줬을텐데.. 왜 3D로 나와서 제 심기를 불편하게 하죠??</td>\n",
       "      <td>0</td>\n",
       "    </tr>\n",
       "  </tbody>\n",
       "</table>\n",
       "</div>"
      ],
      "text/plain": [
       "        id                                           document  label\n",
       "0  6270596                                                굳 ㅋ      1\n",
       "1  9274899                               GDNTOPCLASSINTHECLUB      0\n",
       "2  8544678             뭐야 이 평점들은.... 나쁘진 않지만 10점 짜리는 더더욱 아니잖아      0\n",
       "3  6825595                   지루하지는 않은데 완전 막장임... 돈주고 보기에는....      0\n",
       "4  6723715  3D만 아니었어도 별 다섯 개 줬을텐데.. 왜 3D로 나와서 제 심기를 불편하게 하죠??      0"
      ]
     },
     "execution_count": 8,
     "metadata": {},
     "output_type": "execute_result"
    }
   ],
   "source": [
    "test.head()"
   ]
  },
  {
   "cell_type": "code",
   "execution_count": 9,
   "id": "9fd61a75",
   "metadata": {},
   "outputs": [],
   "source": [
    "# document length\n",
    "train['doc_len'] = train['document'].apply(lambda x: len(str(x)))\n",
    "test['doc_len'] = test['document'].apply(lambda x: len(str(x)))"
   ]
  },
  {
   "cell_type": "code",
   "execution_count": 10,
   "id": "864b7e4c",
   "metadata": {},
   "outputs": [
    {
     "data": {
      "text/plain": [
       "<AxesSubplot:>"
      ]
     },
     "execution_count": 10,
     "metadata": {},
     "output_type": "execute_result"
    },
    {
     "data": {
      "image/png": "[encoded data removed]",
      "text/plain": [
       "<Figure size 432x288 with 1 Axes>"
      ]
     },
     "metadata": {
      "needs_background": "light"
     },
     "output_type": "display_data"
    }
   ],
   "source": [
    "train.doc_len.hist()"
   ]
  },
  {
   "cell_type": "code",
   "execution_count": 11,
   "id": "9035ce59",
   "metadata": {},
   "outputs": [
    {
     "data": {
      "text/plain": [
       "<AxesSubplot:>"
      ]
     },
     "execution_count": 11,
     "metadata": {},
     "output_type": "execute_result"
    },
    {
     "data": {
      "image/png": "[encoded data removed]",
      "text/plain": [
       "<Figure size 432x288 with 1 Axes>"
      ]
     },
     "metadata": {
      "needs_background": "light"
     },
     "output_type": "display_data"
    }
   ],
   "source": [
    "test.doc_len.hist()"
   ]
  },
  {
   "cell_type": "code",
   "execution_count": 12,
   "id": "9bd03e51",
   "metadata": {},
   "outputs": [
    {
     "data": {
      "text/html": [
       "<div>\n",
       "<style scoped>\n",
       "    .dataframe tbody tr th:only-of-type {\n",
       "        vertical-align: middle;\n",
       "    }\n",
       "\n",
       "    .dataframe tbody tr th {\n",
       "        vertical-align: top;\n",
       "    }\n",
       "\n",
       "    .dataframe thead th {\n",
       "        text-align: right;\n",
       "    }\n",
       "</style>\n",
       "<table border=\"1\" class=\"dataframe\">\n",
       "  <thead>\n",
       "    <tr style=\"text-align: right;\">\n",
       "      <th></th>\n",
       "      <th>id</th>\n",
       "      <th>document</th>\n",
       "      <th>label</th>\n",
       "      <th>doc_len</th>\n",
       "    </tr>\n",
       "  </thead>\n",
       "  <tbody>\n",
       "  </tbody>\n",
       "</table>\n",
       "</div>"
      ],
      "text/plain": [
       "Empty DataFrame\n",
       "Columns: [id, document, label, doc_len]\n",
       "Index: []"
      ]
     },
     "execution_count": 12,
     "metadata": {},
     "output_type": "execute_result"
    }
   ],
   "source": [
    "# null 값 있는 자료 삭제\n",
    "n_idx_tr = train.loc[train['document'].isnull()].index\n",
    "train.drop(index=n_idx_tr, inplace=True)\n",
    "train.loc[train['document'].isnull()]"
   ]
  },
  {
   "cell_type": "code",
   "execution_count": 13,
   "id": "59c0d916",
   "metadata": {},
   "outputs": [
    {
     "name": "stdout",
     "output_type": "stream",
     "text": [
      "146\n"
     ]
    }
   ],
   "source": [
    "print(train['doc_len'].max())"
   ]
  },
  {
   "cell_type": "code",
   "execution_count": 14,
   "id": "6c3376fe",
   "metadata": {},
   "outputs": [
    {
     "data": {
      "text/html": [
       "<div>\n",
       "<style scoped>\n",
       "    .dataframe tbody tr th:only-of-type {\n",
       "        vertical-align: middle;\n",
       "    }\n",
       "\n",
       "    .dataframe tbody tr th {\n",
       "        vertical-align: top;\n",
       "    }\n",
       "\n",
       "    .dataframe thead th {\n",
       "        text-align: right;\n",
       "    }\n",
       "</style>\n",
       "<table border=\"1\" class=\"dataframe\">\n",
       "  <thead>\n",
       "    <tr style=\"text-align: right;\">\n",
       "      <th></th>\n",
       "      <th>id</th>\n",
       "      <th>document</th>\n",
       "      <th>label</th>\n",
       "      <th>doc_len</th>\n",
       "    </tr>\n",
       "  </thead>\n",
       "  <tbody>\n",
       "  </tbody>\n",
       "</table>\n",
       "</div>"
      ],
      "text/plain": [
       "Empty DataFrame\n",
       "Columns: [id, document, label, doc_len]\n",
       "Index: []"
      ]
     },
     "execution_count": 14,
     "metadata": {},
     "output_type": "execute_result"
    }
   ],
   "source": [
    "# null 값 있는 자료 삭제\n",
    "n_idx_ts = test.loc[test['document'].isnull()].index\n",
    "test.drop(index=n_idx_ts, inplace=True)\n",
    "test.loc[test['document'].isnull()]"
   ]
  },
  {
   "cell_type": "code",
   "execution_count": 15,
   "id": "65774825",
   "metadata": {},
   "outputs": [
    {
     "name": "stdout",
     "output_type": "stream",
     "text": [
      "144\n"
     ]
    }
   ],
   "source": [
    "print(test['doc_len'].max())"
   ]
  },
  {
   "cell_type": "code",
   "execution_count": 16,
   "id": "59914406",
   "metadata": {},
   "outputs": [
    {
     "name": "stdout",
     "output_type": "stream",
     "text": [
      "3813\n",
      "3813\n"
     ]
    }
   ],
   "source": [
    "# 중복 확인\n",
    "print(len(train.loc[train['document'].duplicated()]))\n",
    "print(train['document'].duplicated().sum())"
   ]
  },
  {
   "cell_type": "code",
   "execution_count": 17,
   "id": "ff69195e",
   "metadata": {},
   "outputs": [
    {
     "name": "stdout",
     "output_type": "stream",
     "text": [
      "840\n",
      "840\n"
     ]
    }
   ],
   "source": [
    "# 중복 확인\n",
    "print(len(test.loc[test['document'].duplicated()]))\n",
    "print(test['document'].duplicated().sum())"
   ]
  },
  {
   "cell_type": "code",
   "execution_count": 18,
   "id": "a6aee6e6",
   "metadata": {},
   "outputs": [],
   "source": [
    "#중복 삭제\n",
    "train = train.drop_duplicates(subset='document')\n",
    "test = test.drop_duplicates(subset='document')"
   ]
  },
  {
   "cell_type": "code",
   "execution_count": 19,
   "id": "84db5cd9",
   "metadata": {},
   "outputs": [
    {
     "name": "stdout",
     "output_type": "stream",
     "text": [
      "<class 'pandas.core.frame.DataFrame'>\n",
      "Int64Index: 146182 entries, 0 to 149999\n",
      "Data columns (total 4 columns):\n",
      " #   Column    Non-Null Count   Dtype \n",
      "---  ------    --------------   ----- \n",
      " 0   id        146182 non-null  int64 \n",
      " 1   document  146182 non-null  object\n",
      " 2   label     146182 non-null  int64 \n",
      " 3   doc_len   146182 non-null  int64 \n",
      "dtypes: int64(3), object(1)\n",
      "memory usage: 5.6+ MB\n"
     ]
    }
   ],
   "source": [
    "train.info()"
   ]
  },
  {
   "cell_type": "code",
   "execution_count": 20,
   "id": "cbc8067a",
   "metadata": {},
   "outputs": [
    {
     "name": "stdout",
     "output_type": "stream",
     "text": [
      "<class 'pandas.core.frame.DataFrame'>\n",
      "Int64Index: 49157 entries, 0 to 49999\n",
      "Data columns (total 4 columns):\n",
      " #   Column    Non-Null Count  Dtype \n",
      "---  ------    --------------  ----- \n",
      " 0   id        49157 non-null  int64 \n",
      " 1   document  49157 non-null  object\n",
      " 2   label     49157 non-null  int64 \n",
      " 3   doc_len   49157 non-null  int64 \n",
      "dtypes: int64(3), object(1)\n",
      "memory usage: 1.9+ MB\n"
     ]
    }
   ],
   "source": [
    "test.info()"
   ]
  },
  {
   "cell_type": "code",
   "execution_count": 21,
   "id": "23039d60",
   "metadata": {},
   "outputs": [],
   "source": [
    "all_doc = np.concatenate((train['document'].values,test['document'].values)) "
   ]
  },
  {
   "cell_type": "code",
   "execution_count": 22,
   "id": "22ac17d7",
   "metadata": {},
   "outputs": [],
   "source": [
    "import re\n",
    "from konlpy.tag import Mecab"
   ]
  },
  {
   "cell_type": "code",
   "execution_count": 23,
   "id": "7de01904",
   "metadata": {},
   "outputs": [],
   "source": [
    "def clean_sentence(sentence):\n",
    "#         mecab = Mecab()\n",
    "        sentence = re.sub(r\"([?.!,])\", r\" \\1 \", sentence)\n",
    "        sentence = re.sub(r'[\" \"]+', \" \", sentence) \n",
    "        sentence = re.sub(r\"[^ㄱ-ㅎ가-힣a-zA-Z!.,?]+\", \" \", sentence)\n",
    "#         sentence = ' '.join(mecab.morphs(sentence))\n",
    "        return sentence"
   ]
  },
  {
   "cell_type": "code",
   "execution_count": 24,
   "id": "78e94859",
   "metadata": {},
   "outputs": [],
   "source": [
    "filtered_corpus = []\n",
    "for i in all_doc :\n",
    "    sentence = clean_sentence(i)\n",
    "    filtered_corpus.append(sentence)\n",
    "train_f = filtered_corpus[:146182]\n",
    "test_f = filtered_corpus[146182:]\n",
    "all_doc_f = np.concatenate((train_f,test_f))"
   ]
  },
  {
   "cell_type": "code",
   "execution_count": 25,
   "id": "c292088b",
   "metadata": {},
   "outputs": [
    {
     "data": {
      "text/plain": [
       "0                                                  굳 ㅋ\n",
       "1                                 GDNTOPCLASSINTHECLUB\n",
       "2               뭐야 이 평점들은.... 나쁘진 않지만 10점 짜리는 더더욱 아니잖아\n",
       "3                     지루하지는 않은데 완전 막장임... 돈주고 보기에는....\n",
       "4    3D만 아니었어도 별 다섯 개 줬을텐데.. 왜 3D로 나와서 제 심기를 불편하게 하죠??\n",
       "Name: document, dtype: object"
      ]
     },
     "execution_count": 25,
     "metadata": {},
     "output_type": "execute_result"
    }
   ],
   "source": [
    "test['document'].head()"
   ]
  },
  {
   "cell_type": "code",
   "execution_count": 26,
   "id": "b975c256",
   "metadata": {},
   "outputs": [],
   "source": [
    "train_f = filtered_corpus[:146182]\n",
    "test_f = filtered_corpus[146182:]"
   ]
  },
  {
   "cell_type": "code",
   "execution_count": 27,
   "id": "0e7f6d80",
   "metadata": {},
   "outputs": [],
   "source": [
    "all_doc_f = np.concatenate((train_f,test_f))"
   ]
  },
  {
   "cell_type": "markdown",
   "id": "09bd9ba0",
   "metadata": {},
   "source": [
    "## Step 2 : tokenizing"
   ]
  },
  {
   "cell_type": "code",
   "execution_count": 28,
   "id": "550c2d33",
   "metadata": {},
   "outputs": [
    {
     "data": {
      "text/plain": [
       "356896"
      ]
     },
     "execution_count": 28,
     "metadata": {},
     "output_type": "execute_result"
    }
   ],
   "source": [
    "#unique한 단어 확인\n",
    "\n",
    "temp_doc= set()\n",
    "for i in all_doc_f :\n",
    "    temp_doc |= set(i.split())\n",
    "    \n",
    "len(temp_doc)"
   ]
  },
  {
   "cell_type": "code",
   "execution_count": 29,
   "id": "6711221c",
   "metadata": {},
   "outputs": [],
   "source": [
    "# #sentence piece model training\n",
    "# np.random.seed(0)\n",
    "# np.random.shuffle(all_doc_f)\n",
    "\n",
    "import sentencepiece as spm\n",
    "# temp_file = 'nlp16.train.ko.temp'\n",
    "# vocab_size = 32000\n",
    "\n",
    "# with open(temp_file, 'w') as f:\n",
    "#     for row in all_doc_f[:15000]:   # 이전 스텝에서 정제했던 corpus를 활용합니다.\n",
    "#         f.write(str(row) + '\\n')\n",
    "        \n",
    "# spm.SentencePieceTrainer.Train( \n",
    "#     '--input={} --model_prefix=nlp16 --vocab_size={} --model_type=bpe'.format(temp_file, vocab_size)    \n",
    "# )"
   ]
  },
  {
   "cell_type": "code",
   "execution_count": 30,
   "id": "554414a8",
   "metadata": {},
   "outputs": [
    {
     "data": {
      "text/plain": [
       "True"
      ]
     },
     "execution_count": 30,
     "metadata": {},
     "output_type": "execute_result"
    }
   ],
   "source": [
    "tokenizer = spm.SentencePieceProcessor()\n",
    "tokenizer.Load(f'nlp16.model')"
   ]
  },
  {
   "cell_type": "code",
   "execution_count": 31,
   "id": "8646e923",
   "metadata": {},
   "outputs": [],
   "source": [
    "test_txt = '아빠가 가방을 들고 있어요'"
   ]
  },
  {
   "cell_type": "code",
   "execution_count": 32,
   "id": "04be0924",
   "metadata": {},
   "outputs": [
    {
     "data": {
      "text/plain": [
       "['▁아빠', '가', '▁가방', '을', '▁들', '고', '▁있', '어요']"
      ]
     },
     "execution_count": 32,
     "metadata": {},
     "output_type": "execute_result"
    }
   ],
   "source": [
    "tokenizer.EncodeAsPieces(test_txt)"
   ]
  },
  {
   "cell_type": "code",
   "execution_count": 33,
   "id": "ad207c26",
   "metadata": {},
   "outputs": [
    {
     "data": {
      "application/vnd.jupyter.widget-view+json": {
       "model_id": "d8966ff5e8c74c8e8ff958fdf143428f",
       "version_major": 2,
       "version_minor": 0
      },
      "text/plain": [
       "Downloading:   0%|          | 0.00/289 [00:00<?, ?B/s]"
      ]
     },
     "metadata": {},
     "output_type": "display_data"
    },
    {
     "data": {
      "application/vnd.jupyter.widget-view+json": {
       "model_id": "223cf702df9a45fd87f5bb5484da4119",
       "version_major": 2,
       "version_minor": 0
      },
      "text/plain": [
       "Downloading:   0%|          | 0.00/425 [00:00<?, ?B/s]"
      ]
     },
     "metadata": {},
     "output_type": "display_data"
    },
    {
     "data": {
      "application/vnd.jupyter.widget-view+json": {
       "model_id": "6033d972b9cc47418e4da2272c68438c",
       "version_major": 2,
       "version_minor": 0
      },
      "text/plain": [
       "Downloading:   0%|          | 0.00/243k [00:00<?, ?B/s]"
      ]
     },
     "metadata": {},
     "output_type": "display_data"
    },
    {
     "data": {
      "application/vnd.jupyter.widget-view+json": {
       "model_id": "265624e8029d4f1a8b11570dd0377540",
       "version_major": 2,
       "version_minor": 0
      },
      "text/plain": [
       "Downloading:   0%|          | 0.00/483k [00:00<?, ?B/s]"
      ]
     },
     "metadata": {},
     "output_type": "display_data"
    },
    {
     "data": {
      "application/vnd.jupyter.widget-view+json": {
       "model_id": "8d343645b5e745dbbafb29e6790902b2",
       "version_major": 2,
       "version_minor": 0
      },
      "text/plain": [
       "Downloading:   0%|          | 0.00/125 [00:00<?, ?B/s]"
      ]
     },
     "metadata": {},
     "output_type": "display_data"
    }
   ],
   "source": [
    "from transformers import AutoTokenizer\n",
    "\n",
    "tokenizer_k = AutoTokenizer.from_pretrained(\"klue/bert-base\")"
   ]
  },
  {
   "cell_type": "code",
   "execution_count": 34,
   "id": "09168d39",
   "metadata": {},
   "outputs": [
    {
     "name": "stdout",
     "output_type": "stream",
     "text": [
      "['▁아빠', '가', '▁가방', '을', '▁들', '고', '▁있', '어요']\n",
      "[1053, 30590, 6147, 30608, 28, 30585, 37, 1312]\n"
     ]
    }
   ],
   "source": [
    "# sentence piece 와 bert 모델 토크나이져와 유사하게 나오고 있으나, 워드 인덱싱 체게가 달라서 사용하기에는 어려움\n",
    "print(tokenizer.EncodeAsPieces(test_txt))\n",
    "print(tokenizer.Encode(test_txt))"
   ]
  },
  {
   "cell_type": "code",
   "execution_count": 35,
   "id": "dc5bbafd",
   "metadata": {},
   "outputs": [
    {
     "name": "stdout",
     "output_type": "stream",
     "text": [
      "['아빠', '##가', '가방', '##을', '들', '##고', '있', '##어요']\n",
      "[2, 5091, 2116, 6840, 2069, 882, 2088, 1513, 10283, 3]\n"
     ]
    }
   ],
   "source": [
    "print(tokenizer_k.tokenize(test_txt))\n",
    "print(tokenizer_k.encode(test_txt))"
   ]
  },
  {
   "cell_type": "code",
   "execution_count": 36,
   "id": "b22050ba",
   "metadata": {},
   "outputs": [
    {
     "name": "stdout",
     "output_type": "stream",
     "text": [
      "True\n",
      "True\n"
     ]
    }
   ],
   "source": [
    "# data 준비\n",
    "print(len(train_f) == len(train['label']))\n",
    "print(len(test_f) == len(test['label']))"
   ]
  },
  {
   "cell_type": "code",
   "execution_count": 37,
   "id": "0c9b7b36",
   "metadata": {},
   "outputs": [
    {
     "data": {
      "text/plain": [
       "512"
      ]
     },
     "execution_count": 37,
     "metadata": {},
     "output_type": "execute_result"
    }
   ],
   "source": [
    "tokenizer_k.model_max_length"
   ]
  },
  {
   "cell_type": "code",
   "execution_count": 38,
   "id": "09f4347d",
   "metadata": {},
   "outputs": [
    {
     "data": {
      "text/plain": [
       "['input_ids', 'token_type_ids', 'attention_mask']"
      ]
     },
     "execution_count": 38,
     "metadata": {},
     "output_type": "execute_result"
    }
   ],
   "source": [
    "tokenizer_k.model_input_names"
   ]
  },
  {
   "cell_type": "code",
   "execution_count": 39,
   "id": "fec17d64",
   "metadata": {},
   "outputs": [],
   "source": [
    "# huggingface framework 사용을 위해 데이터 준비\n",
    "train_ = pd.DataFrame({'values' : train_f, 'label' : train['label']}).reset_index(drop=True)\n",
    "test_ = pd.DataFrame({'values' : test_f, 'label' : test['label']}).reset_index(drop=True)\n",
    "\n",
    "# random sampling 100,000 for training\n",
    "train_xx1 = train_.sample(100000, random_state=123).reset_index(drop=True)\n",
    "\n",
    "# random sampling 70,000 for training\n",
    "train_x1 = train_.sample(70000, random_state=123).reset_index(drop=True)\n",
    "\n",
    "# random sampling 30,000 for training\n",
    "train_1 = train_.sample(30000, random_state=123).reset_index(drop=True)\n",
    "\n",
    "# random sampling 15,000 for training and 1,000 for test\n",
    "train_ = train_.sample(15000, random_state=123).reset_index(drop=True)\n",
    "test_ = test_.sample(1000, random_state=123).reset_index(drop=True)"
   ]
  },
  {
   "cell_type": "code",
   "execution_count": 40,
   "id": "aa50039c",
   "metadata": {},
   "outputs": [],
   "source": [
    "from datasets import Dataset\n",
    "import datasets\n",
    "\n",
    "train_d = Dataset.from_pandas(train_)\n",
    "train_d1 = Dataset.from_pandas(train_1)\n",
    "train_d2 = Dataset.from_pandas(train_x1)\n",
    "train_d3 = Dataset.from_pandas(train_xx1)\n",
    "test_d = Dataset.from_pandas(test_)\n",
    "\n",
    "# datasetdict형태로 transformation\n",
    "dataset = datasets.DatasetDict({\"train\":train_d, \"train_l\": train_d1, \"train_xl\": train_d2,\"train_xxl\": train_d3,\"test\":test_d})"
   ]
  },
  {
   "cell_type": "code",
   "execution_count": 41,
   "id": "3b9c826d",
   "metadata": {},
   "outputs": [],
   "source": [
    "from datasets import ClassLabel\n",
    "\n",
    "#int2str 사용 가능하게 label 값을 classlabel 객채로 변환, \n",
    "dataset['train'].features['label'] = ClassLabel(\n",
    "    num_classes=2, \n",
    "    names=['negative','positive'])\n",
    "\n",
    "dataset['train_l'].features['label'] = ClassLabel(\n",
    "    num_classes=2, \n",
    "    names=['negative','positive'])\n",
    "\n",
    "dataset['train_xl'].features['label'] = ClassLabel(\n",
    "    num_classes=2, \n",
    "    names=['negative','positive'])\n",
    "\n",
    "dataset['train_xxl'].features['label'] = ClassLabel(\n",
    "    num_classes=2, \n",
    "    names=['negative','positive'])\n",
    "\n",
    "dataset['test'].features['label'] = ClassLabel(\n",
    "    num_classes=2, \n",
    "    names=['negative','positive'])"
   ]
  },
  {
   "cell_type": "code",
   "execution_count": 42,
   "id": "19f9fef8",
   "metadata": {},
   "outputs": [
    {
     "data": {
      "text/plain": [
       "DatasetDict({\n",
       "    train: Dataset({\n",
       "        features: ['values', 'label'],\n",
       "        num_rows: 15000\n",
       "    })\n",
       "    train_l: Dataset({\n",
       "        features: ['values', 'label'],\n",
       "        num_rows: 30000\n",
       "    })\n",
       "    train_xl: Dataset({\n",
       "        features: ['values', 'label'],\n",
       "        num_rows: 70000\n",
       "    })\n",
       "    train_xxl: Dataset({\n",
       "        features: ['values', 'label'],\n",
       "        num_rows: 100000\n",
       "    })\n",
       "    test: Dataset({\n",
       "        features: ['values', 'label'],\n",
       "        num_rows: 1000\n",
       "    })\n",
       "})"
      ]
     },
     "execution_count": 42,
     "metadata": {},
     "output_type": "execute_result"
    }
   ],
   "source": [
    "dataset"
   ]
  },
  {
   "cell_type": "code",
   "execution_count": 43,
   "id": "b44e83ee",
   "metadata": {},
   "outputs": [],
   "source": [
    "# 데이터 값 최종 확인\n",
    "dataset.set_format(type='pandas')\n",
    "df = dataset['train'][:]"
   ]
  },
  {
   "cell_type": "code",
   "execution_count": 44,
   "id": "a929bfbf",
   "metadata": {},
   "outputs": [
    {
     "data": {
      "text/html": [
       "<div>\n",
       "<style scoped>\n",
       "    .dataframe tbody tr th:only-of-type {\n",
       "        vertical-align: middle;\n",
       "    }\n",
       "\n",
       "    .dataframe tbody tr th {\n",
       "        vertical-align: top;\n",
       "    }\n",
       "\n",
       "    .dataframe thead th {\n",
       "        text-align: right;\n",
       "    }\n",
       "</style>\n",
       "<table border=\"1\" class=\"dataframe\">\n",
       "  <thead>\n",
       "    <tr style=\"text-align: right;\">\n",
       "      <th></th>\n",
       "      <th>values</th>\n",
       "      <th>label</th>\n",
       "      <th>label_name</th>\n",
       "    </tr>\n",
       "  </thead>\n",
       "  <tbody>\n",
       "    <tr>\n",
       "      <th>0</th>\n",
       "      <td>세월을 무시하는 상콤한 하이틴무비</td>\n",
       "      <td>1</td>\n",
       "      <td>positive</td>\n",
       "    </tr>\n",
       "    <tr>\n",
       "      <th>1</th>\n",
       "      <td>일베충은 보고 반성할것</td>\n",
       "      <td>1</td>\n",
       "      <td>positive</td>\n",
       "    </tr>\n",
       "    <tr>\n",
       "      <th>2</th>\n",
       "      <td>대만ㅅㅁ섬짱개들 이따구 쓰레기영화 만들거잇네이따걸왜 상영허냐 ! ! !</td>\n",
       "      <td>0</td>\n",
       "      <td>negative</td>\n",
       "    </tr>\n",
       "    <tr>\n",
       "      <th>3</th>\n",
       "      <td>역시 한국 영화다 보니까 스토리가좀</td>\n",
       "      <td>0</td>\n",
       "      <td>negative</td>\n",
       "    </tr>\n",
       "    <tr>\n",
       "      <th>4</th>\n",
       "      <td>평점을 보니 초딩들에게는 점짜리 영화인 듯</td>\n",
       "      <td>0</td>\n",
       "      <td>negative</td>\n",
       "    </tr>\n",
       "  </tbody>\n",
       "</table>\n",
       "</div>"
      ],
      "text/plain": [
       "                                     values  label label_name\n",
       "0                        세월을 무시하는 상콤한 하이틴무비      1   positive\n",
       "1                              일베충은 보고 반성할것      1   positive\n",
       "2  대만ㅅㅁ섬짱개들 이따구 쓰레기영화 만들거잇네이따걸왜 상영허냐 ! ! !       0   negative\n",
       "3                      역시 한국 영화다 보니까 스토리가좀       0   negative\n",
       "4                  평점을 보니 초딩들에게는 점짜리 영화인 듯       0   negative"
      ]
     },
     "execution_count": 44,
     "metadata": {},
     "output_type": "execute_result"
    }
   ],
   "source": [
    "def label_int2str(row):\n",
    "    return dataset[\"train\"].features[\"label\"].int2str(row)\n",
    "\n",
    "df[\"label_name\"] = df[\"label\"].apply(label_int2str)\n",
    "df.head()"
   ]
  },
  {
   "cell_type": "code",
   "execution_count": 45,
   "id": "fdd6f35f",
   "metadata": {},
   "outputs": [
    {
     "data": {
      "image/png": "[encoded data removed]",
      "text/plain": [
       "<Figure size 432x288 with 1 Axes>"
      ]
     },
     "metadata": {
      "needs_background": "light"
     },
     "output_type": "display_data"
    }
   ],
   "source": [
    "import matplotlib.pyplot as plt\n",
    "#레이블 값 균형이 잡혀있는지 확인\n",
    "df[\"label_name\"].value_counts(ascending=True).plot.barh()\n",
    "plt.title(\"Frequency of Classes\")\n",
    "plt.show()"
   ]
  },
  {
   "cell_type": "code",
   "execution_count": 46,
   "id": "dfb10bbc",
   "metadata": {},
   "outputs": [],
   "source": [
    "# 인코딩하여 최종 데이터 dict 저장\n",
    "dataset.set_format(type=None)\n",
    "def tokenize(batch):\n",
    "    return tokenizer_k(batch['values'], padding=True, truncation=True)"
   ]
  },
  {
   "cell_type": "code",
   "execution_count": 47,
   "id": "e0a18669",
   "metadata": {},
   "outputs": [
    {
     "data": {
      "application/vnd.jupyter.widget-view+json": {
       "model_id": "d56fc5acbda8401fa373d8db35b64ad9",
       "version_major": 2,
       "version_minor": 0
      },
      "text/plain": [
       "  0%|          | 0/1 [00:00<?, ?ba/s]"
      ]
     },
     "metadata": {},
     "output_type": "display_data"
    },
    {
     "data": {
      "application/vnd.jupyter.widget-view+json": {
       "model_id": "436c918ae9024037835f0ea16b57fc4c",
       "version_major": 2,
       "version_minor": 0
      },
      "text/plain": [
       "  0%|          | 0/1 [00:00<?, ?ba/s]"
      ]
     },
     "metadata": {},
     "output_type": "display_data"
    },
    {
     "data": {
      "application/vnd.jupyter.widget-view+json": {
       "model_id": "ad068907d20e418ca76deb928f456567",
       "version_major": 2,
       "version_minor": 0
      },
      "text/plain": [
       "  0%|          | 0/1 [00:00<?, ?ba/s]"
      ]
     },
     "metadata": {},
     "output_type": "display_data"
    },
    {
     "data": {
      "application/vnd.jupyter.widget-view+json": {
       "model_id": "690df5c9acd042b8b14730af938f759e",
       "version_major": 2,
       "version_minor": 0
      },
      "text/plain": [
       "  0%|          | 0/1 [00:00<?, ?ba/s]"
      ]
     },
     "metadata": {},
     "output_type": "display_data"
    },
    {
     "data": {
      "application/vnd.jupyter.widget-view+json": {
       "model_id": "b9c2f53719dc40088e6be4965fdbb6ff",
       "version_major": 2,
       "version_minor": 0
      },
      "text/plain": [
       "  0%|          | 0/1 [00:00<?, ?ba/s]"
      ]
     },
     "metadata": {},
     "output_type": "display_data"
    }
   ],
   "source": [
    "dataset_encoded = dataset.map(tokenize, batched=True, batch_size=None)"
   ]
  },
  {
   "cell_type": "code",
   "execution_count": 48,
   "id": "937d9938",
   "metadata": {},
   "outputs": [
    {
     "name": "stdout",
     "output_type": "stream",
     "text": [
      "['attention_mask', 'input_ids', 'label', 'token_type_ids', 'values']\n"
     ]
    }
   ],
   "source": [
    "# check columns\n",
    "print(dataset_encoded[\"train\"].column_names)"
   ]
  },
  {
   "cell_type": "markdown",
   "id": "3f5d79ab",
   "metadata": {},
   "source": [
    "## Step 3 : modeling"
   ]
  },
  {
   "cell_type": "markdown",
   "id": "4176d2b8",
   "metadata": {},
   "source": [
    "### 3.1 Baseline Model"
   ]
  },
  {
   "cell_type": "code",
   "execution_count": 49,
   "id": "c824f611",
   "metadata": {},
   "outputs": [],
   "source": [
    "import torch.nn as nn\n",
    "import torch\n",
    "from transformers import AutoModelForSequenceClassification, AutoModel"
   ]
  },
  {
   "cell_type": "code",
   "execution_count": 50,
   "id": "a40992e0",
   "metadata": {},
   "outputs": [],
   "source": [
    "model_ckpt = 'klue/bert-base' #load model by huggingface checkpoint id"
   ]
  },
  {
   "cell_type": "code",
   "execution_count": 51,
   "id": "15841334",
   "metadata": {},
   "outputs": [
    {
     "data": {
      "application/vnd.jupyter.widget-view+json": {
       "model_id": "b8f3de411e9949cf9f681edf82a2bca9",
       "version_major": 2,
       "version_minor": 0
      },
      "text/plain": [
       "Downloading:   0%|          | 0.00/424M [00:00<?, ?B/s]"
      ]
     },
     "metadata": {},
     "output_type": "display_data"
    },
    {
     "name": "stderr",
     "output_type": "stream",
     "text": [
      "Some weights of the model checkpoint at klue/bert-base were not used when initializing BertModel: ['cls.seq_relationship.bias', 'cls.seq_relationship.weight', 'cls.predictions.bias', 'cls.predictions.transform.LayerNorm.bias', 'cls.predictions.decoder.bias', 'cls.predictions.decoder.weight', 'cls.predictions.transform.dense.bias', 'cls.predictions.transform.LayerNorm.weight', 'cls.predictions.transform.dense.weight']\n",
      "- This IS expected if you are initializing BertModel from the checkpoint of a model trained on another task or with another architecture (e.g. initializing a BertForSequenceClassification model from a BertForPreTraining model).\n",
      "- This IS NOT expected if you are initializing BertModel from the checkpoint of a model that you expect to be exactly identical (initializing a BertForSequenceClassification model from a BertForSequenceClassification model).\n"
     ]
    }
   ],
   "source": [
    "# model\n",
    "device = torch.device('cuda' if torch.cuda.is_available() else 'cpu')\n",
    "model = (AutoModel\n",
    "         .from_pretrained(model_ckpt)\n",
    "         .to(device))"
   ]
  },
  {
   "cell_type": "code",
   "execution_count": 52,
   "id": "1775eaf0",
   "metadata": {},
   "outputs": [
    {
     "name": "stdout",
     "output_type": "stream",
     "text": [
      "입력 텐서 크기 : torch.Size([1, 8])\n"
     ]
    }
   ],
   "source": [
    "text = '와! 정말 재밌다~'\n",
    "inputs = tokenizer_k(text, return_tensors ='pt')\n",
    "print(f\"입력 텐서 크기 : {inputs['input_ids'].size()}\")"
   ]
  },
  {
   "cell_type": "code",
   "execution_count": 53,
   "id": "45eb45b8",
   "metadata": {},
   "outputs": [
    {
     "name": "stdout",
     "output_type": "stream",
     "text": [
      "tensor([[[ 3.1418e-01, -1.1972e+00, -1.6140e-01,  ...,  7.3959e-01,\n",
      "          -1.7515e+00,  6.8540e-01],\n",
      "         [ 5.2498e-01, -6.4417e-01, -1.1196e-01,  ...,  6.5214e-01,\n",
      "           7.2646e-01,  8.4864e-01],\n",
      "         [-7.1085e-02, -2.5374e-01,  2.3147e-01,  ..., -1.0668e+00,\n",
      "           1.2168e-01,  2.2308e-01],\n",
      "         ...,\n",
      "         [-8.5548e-01, -4.1786e-02, -1.0770e+00,  ..., -1.9630e-02,\n",
      "          -8.9644e-01,  3.0567e-01],\n",
      "         [-2.8063e-01,  2.0007e-03, -2.2443e-02,  ..., -8.5091e-03,\n",
      "          -2.5301e-01,  1.1437e-01],\n",
      "         [ 1.1114e+00, -5.0673e-01,  4.0306e-01,  ...,  7.6922e-01,\n",
      "          -2.0717e+00,  1.5237e+00]]], device='cuda:0')\n"
     ]
    }
   ],
   "source": [
    "# feature extraction test\n",
    "inputs = {k:v.to(device) for k,v in inputs.items()}\n",
    "with torch.no_grad() :\n",
    "    outputs = model(**inputs)\n",
    "print(outputs.last_hidden_state)"
   ]
  },
  {
   "cell_type": "code",
   "execution_count": 54,
   "id": "149897ea",
   "metadata": {},
   "outputs": [
    {
     "data": {
      "text/plain": [
       "torch.Size([1, 768])"
      ]
     },
     "execution_count": 54,
     "metadata": {},
     "output_type": "execute_result"
    }
   ],
   "source": [
    "outputs.pooler_output.size() #CLS token hidden만 사용"
   ]
  },
  {
   "cell_type": "code",
   "execution_count": 55,
   "id": "2a3c37c5",
   "metadata": {},
   "outputs": [],
   "source": [
    "def extract_hidden_states(batch) :\n",
    "    inputs = {k:v.to(device) for k,v in batch.items() \n",
    "              if k in tokenizer_k.model_input_names}\n",
    "    \n",
    "    with torch.no_grad():\n",
    "        last_hidden_state = model(**inputs).pooler_output \n",
    "        \n",
    "    return {'hidden_state': last_hidden_state.cpu().numpy()}"
   ]
  },
  {
   "cell_type": "code",
   "execution_count": 56,
   "id": "1b7fb769",
   "metadata": {},
   "outputs": [
    {
     "data": {
      "text/plain": [
       "['input_ids', 'token_type_ids', 'attention_mask']"
      ]
     },
     "execution_count": 56,
     "metadata": {},
     "output_type": "execute_result"
    }
   ],
   "source": [
    "tokenizer_k.model_input_names"
   ]
  },
  {
   "cell_type": "code",
   "execution_count": 57,
   "id": "e1ad445b",
   "metadata": {},
   "outputs": [],
   "source": [
    "dataset_encoded.set_format('torch', columns =tokenizer_k.model_input_names) # 사용할 컬럼만 pytorch tensor로 변환"
   ]
  },
  {
   "cell_type": "code",
   "execution_count": 58,
   "id": "a1ac7bcb",
   "metadata": {},
   "outputs": [
    {
     "data": {
      "application/vnd.jupyter.widget-view+json": {
       "model_id": "a5a871228a3c4a8a8820ffac8223dabe",
       "version_major": 2,
       "version_minor": 0
      },
      "text/plain": [
       "  0%|          | 0/15 [00:00<?, ?ba/s]"
      ]
     },
     "metadata": {},
     "output_type": "display_data"
    },
    {
     "data": {
      "application/vnd.jupyter.widget-view+json": {
       "model_id": "4e2dc07c47be4454b9b39ccb0c376469",
       "version_major": 2,
       "version_minor": 0
      },
      "text/plain": [
       "  0%|          | 0/30 [00:00<?, ?ba/s]"
      ]
     },
     "metadata": {},
     "output_type": "display_data"
    },
    {
     "data": {
      "application/vnd.jupyter.widget-view+json": {
       "model_id": "ed18babbbb3141e9b98712082972ce14",
       "version_major": 2,
       "version_minor": 0
      },
      "text/plain": [
       "  0%|          | 0/70 [00:00<?, ?ba/s]"
      ]
     },
     "metadata": {},
     "output_type": "display_data"
    },
    {
     "data": {
      "application/vnd.jupyter.widget-view+json": {
       "model_id": "08b1b65da91549f09398ca7797bbe991",
       "version_major": 2,
       "version_minor": 0
      },
      "text/plain": [
       "  0%|          | 0/100 [00:00<?, ?ba/s]"
      ]
     },
     "metadata": {},
     "output_type": "display_data"
    },
    {
     "data": {
      "application/vnd.jupyter.widget-view+json": {
       "model_id": "57216d936aa148299897fb1ee5e28f8d",
       "version_major": 2,
       "version_minor": 0
      },
      "text/plain": [
       "  0%|          | 0/1 [00:00<?, ?ba/s]"
      ]
     },
     "metadata": {},
     "output_type": "display_data"
    }
   ],
   "source": [
    "dataset_hidden = dataset_encoded.map(extract_hidden_states, batched =True)"
   ]
  },
  {
   "cell_type": "code",
   "execution_count": 63,
   "id": "3dbaf273",
   "metadata": {},
   "outputs": [
    {
     "data": {
      "text/plain": [
       "['values',\n",
       " 'label',\n",
       " 'input_ids',\n",
       " 'token_type_ids',\n",
       " 'attention_mask',\n",
       " 'hidden_state']"
      ]
     },
     "execution_count": 63,
     "metadata": {},
     "output_type": "execute_result"
    }
   ],
   "source": [
    "dataset_hidden['train'].column_names"
   ]
  },
  {
   "cell_type": "code",
   "execution_count": 60,
   "id": "dc70562c",
   "metadata": {},
   "outputs": [
    {
     "name": "stdout",
     "output_type": "stream",
     "text": [
      "(15000, 768) (15000,)\n",
      "(30000, 768) (30000,)\n",
      "(70000, 768) (70000,)\n",
      "(1000, 768) (1000,)\n"
     ]
    }
   ],
   "source": [
    "# train, test set split\n",
    "X_train = np.array(dataset_hidden['train']['hidden_state'])\n",
    "X_train_l = np.array(dataset_hidden['train_l']['hidden_state'])\n",
    "X_train_xl = np.array(dataset_hidden['train_xl']['hidden_state'])\n",
    "X_train_xxl = np.array(dataset_hidden['train_xl']['hidden_state'])\n",
    "\n",
    "y_train = np.array(dataset_hidden['train']['label'])\n",
    "y_train_l = np.array(dataset_hidden['train_l']['label'])\n",
    "y_train_xl = np.array(dataset_hidden['train_xl']['label'])\n",
    "y_train_xxl = np.array(dataset_hidden['train_xl']['label'])\n",
    "\n",
    "X_valid = np.array(dataset_hidden['test']['hidden_state'])\n",
    "y_valid = np.array(dataset_hidden['test']['label'])\n",
    "print(X_train.shape, y_train.shape)\n",
    "print(X_train_l.shape,y_train_l.shape)\n",
    "print(X_train_xl.shape,y_train_xl.shape)\n",
    "print(X_valid.shape,y_valid.shape)"
   ]
  },
  {
   "cell_type": "code",
   "execution_count": 61,
   "id": "198a4a80",
   "metadata": {},
   "outputs": [
    {
     "data": {
      "text/plain": [
       "GaussianNB()"
      ]
     },
     "execution_count": 61,
     "metadata": {},
     "output_type": "execute_result"
    }
   ],
   "source": [
    "from sklearn.naive_bayes import GaussianNB\n",
    "baseline_model = GaussianNB()\n",
    "baseline_model.fit(X_train, y_train)"
   ]
  },
  {
   "cell_type": "code",
   "execution_count": 62,
   "id": "8318c512",
   "metadata": {},
   "outputs": [
    {
     "name": "stdout",
     "output_type": "stream",
     "text": [
      "baseline model accuracy score : 0.707\n"
     ]
    }
   ],
   "source": [
    "from sklearn.metrics import accuracy_score\n",
    "prediction = baseline_model.predict(X_valid)\n",
    "accuracy = accuracy_score(y_valid, prediction)\n",
    "print(f'baseline model accuracy score : {accuracy}')"
   ]
  },
  {
   "cell_type": "code",
   "execution_count": 63,
   "id": "2c65f2ca",
   "metadata": {},
   "outputs": [],
   "source": [
    "results_dict = {'GNB_base_15000' : accuracy} # 비교 분석을 위해 결과 저장"
   ]
  },
  {
   "cell_type": "code",
   "execution_count": 80,
   "id": "9251d977",
   "metadata": {},
   "outputs": [],
   "source": [
    "## 30000 개 데이터"
   ]
  },
  {
   "cell_type": "code",
   "execution_count": 64,
   "id": "0f5e41cb",
   "metadata": {},
   "outputs": [
    {
     "name": "stdout",
     "output_type": "stream",
     "text": [
      "baseline model-l accuracy score : 0.707\n"
     ]
    }
   ],
   "source": [
    "baseline_model_l = GaussianNB()\n",
    "baseline_model_l.fit(X_train_l, y_train_l)\n",
    "prediction = baseline_model_l.predict(X_valid)\n",
    "accuracy_l = accuracy_score(y_valid, prediction)\n",
    "print(f'baseline model-l accuracy score : {accuracy_l}')"
   ]
  },
  {
   "cell_type": "code",
   "execution_count": 65,
   "id": "59060a27",
   "metadata": {},
   "outputs": [],
   "source": [
    "results_dict['GNB_base_30000'] = accuracy_l"
   ]
  },
  {
   "cell_type": "code",
   "execution_count": 66,
   "id": "d2b640d5",
   "metadata": {},
   "outputs": [
    {
     "name": "stdout",
     "output_type": "stream",
     "text": [
      "baseline model-xl accuracy score : 0.705\n"
     ]
    }
   ],
   "source": [
    "baseline_model_xl = GaussianNB()\n",
    "baseline_model_xl.fit(X_train_xl, y_train_xl)\n",
    "prediction = baseline_model_xl.predict(X_valid)\n",
    "accuracy_xl = accuracy_score(y_valid, prediction)\n",
    "print(f'baseline model-xl accuracy score : {accuracy_xl}')"
   ]
  },
  {
   "cell_type": "code",
   "execution_count": 67,
   "id": "118c6c6b",
   "metadata": {},
   "outputs": [],
   "source": [
    "results_dict['GNB_base_70000'] = accuracy_xl"
   ]
  },
  {
   "cell_type": "code",
   "execution_count": 69,
   "id": "8ee6553d",
   "metadata": {},
   "outputs": [
    {
     "name": "stdout",
     "output_type": "stream",
     "text": [
      "baseline model-xxl accuracy score : 0.705\n"
     ]
    }
   ],
   "source": [
    "baseline_model_xxl = GaussianNB()\n",
    "baseline_model_xxl.fit(X_train_xxl, y_train_xxl)\n",
    "prediction = baseline_model_xxl.predict(X_valid)\n",
    "accuracy_xxl = accuracy_score(y_valid, prediction)\n",
    "print(f'baseline model-xxl accuracy score : {accuracy_xxl}')"
   ]
  },
  {
   "cell_type": "code",
   "execution_count": 70,
   "id": "9184c0b3",
   "metadata": {},
   "outputs": [],
   "source": [
    "results_dict['GNB_base_10000'] = accuracy_xxl"
   ]
  },
  {
   "cell_type": "code",
   "execution_count": 71,
   "id": "ea1a3c86",
   "metadata": {},
   "outputs": [],
   "source": [
    "del X_train \n",
    "del X_train_l\n",
    "del X_train_xl\n",
    "del X_train_xxl\n",
    "\n",
    "del y_train \n",
    "del y_train_l\n",
    "del y_train_xl\n",
    "del y_train_xxl"
   ]
  },
  {
   "cell_type": "markdown",
   "id": "a1195030",
   "metadata": {},
   "source": [
    "### 3.2 Fine-Tuning"
   ]
  },
  {
   "cell_type": "code",
   "execution_count": 73,
   "id": "58ed4952",
   "metadata": {},
   "outputs": [
    {
     "data": {
      "text/plain": [
       "0"
      ]
     },
     "execution_count": 73,
     "metadata": {},
     "output_type": "execute_result"
    }
   ],
   "source": [
    "import gc\n",
    "torch.cuda.empty_cache()\n",
    "gc.collect()"
   ]
  },
  {
   "cell_type": "code",
   "execution_count": 74,
   "id": "cae93b1a",
   "metadata": {},
   "outputs": [],
   "source": [
    "#config\n",
    "from transformers import AutoConfig\n",
    "id2label = {0: \"NEGATIVE\", 1: \"POSITIVE\"}\n",
    "label2id = {\"NEGATIVE\": 0, \"POSITIVE\": 1}\n",
    "klue_config = AutoConfig.from_pretrained(model_ckpt,\n",
    "                                        num_labels=2,\n",
    "                                        id2label =id2label,\n",
    "                                        label2id=label2id)"
   ]
  },
  {
   "cell_type": "code",
   "execution_count": 75,
   "id": "17c09c5e",
   "metadata": {},
   "outputs": [],
   "source": [
    "# model\n",
    "device = torch.device('cuda' if torch.cuda.is_available() else 'cpu')\n",
    "\n",
    "def model_init():\n",
    "    return (AutoModelForSequenceClassification\n",
    "            .from_pretrained(model_ckpt, config = klue_config)\n",
    "            .to(device))"
   ]
  },
  {
   "cell_type": "code",
   "execution_count": 76,
   "id": "0655c4ad",
   "metadata": {},
   "outputs": [],
   "source": [
    "#configure training arg\n",
    "batch_size= 64\n",
    "num_epochs = 2\n",
    "\n",
    "from transformers import TrainingArguments, Trainer\n",
    "\n",
    "training_args = TrainingArguments(output_dir= \"finetuned_model\",\n",
    "                                  num_train_epochs = num_epochs,\n",
    "                                  log_level='error',\n",
    "                                  weight_decay=0.01,\n",
    "                                  per_device_train_batch_size =batch_size,\n",
    "                                  per_device_eval_batch_size =batch_size,\n",
    "                                  evaluation_strategy ='epoch',\n",
    "                                  save_strategy = 'epoch',\n",
    "                                  fp16 =True,#quantization\n",
    "                                  disable_tqdm=False )"
   ]
  },
  {
   "cell_type": "code",
   "execution_count": 77,
   "id": "960fc725",
   "metadata": {},
   "outputs": [],
   "source": [
    "# generate data collator\n",
    "from transformers import DataCollatorWithPadding\n",
    "data_collator =  DataCollatorWithPadding(tokenizer=tokenizer_k, return_tensors=\"pt\")"
   ]
  },
  {
   "cell_type": "code",
   "execution_count": 78,
   "id": "52358f4e",
   "metadata": {},
   "outputs": [
    {
     "data": {
      "text/plain": [
       "['input_ids', 'token_type_ids', 'attention_mask']"
      ]
     },
     "execution_count": 78,
     "metadata": {},
     "output_type": "execute_result"
    }
   ],
   "source": [
    "tokenizer_k.model_input_names"
   ]
  },
  {
   "cell_type": "code",
   "execution_count": 79,
   "id": "5037c7e7",
   "metadata": {},
   "outputs": [],
   "source": [
    "#trainer\n",
    "trainer = Trainer(\n",
    "    model_init=model_init,\n",
    "    args=training_args,\n",
    "    data_collator = data_collator,\n",
    "    train_dataset=dataset_hidden['train'],\n",
    "    eval_dataset=dataset_hidden['test'],\n",
    "    tokenizer=tokenizer_k)"
   ]
  },
  {
   "cell_type": "code",
   "execution_count": 80,
   "id": "4506422e",
   "metadata": {},
   "outputs": [],
   "source": [
    "dataset_hidden.set_format(None)"
   ]
  },
  {
   "cell_type": "code",
   "execution_count": 81,
   "id": "2c86c597",
   "metadata": {},
   "outputs": [
    {
     "data": {
      "text/html": [
       "\n",
       "    <div>\n",
       "      \n",
       "      <progress value='470' max='470' style='width:300px; height:20px; vertical-align: middle;'></progress>\n",
       "      [470/470 04:01, Epoch 2/2]\n",
       "    </div>\n",
       "    <table border=\"1\" class=\"dataframe\">\n",
       "  <thead>\n",
       "    <tr style=\"text-align: left;\">\n",
       "      <th>Epoch</th>\n",
       "      <th>Training Loss</th>\n",
       "      <th>Validation Loss</th>\n",
       "    </tr>\n",
       "  </thead>\n",
       "  <tbody>\n",
       "    <tr>\n",
       "      <td>1</td>\n",
       "      <td>No log</td>\n",
       "      <td>0.330658</td>\n",
       "    </tr>\n",
       "    <tr>\n",
       "      <td>2</td>\n",
       "      <td>No log</td>\n",
       "      <td>0.358828</td>\n",
       "    </tr>\n",
       "  </tbody>\n",
       "</table><p>"
      ],
      "text/plain": [
       "<IPython.core.display.HTML object>"
      ]
     },
     "metadata": {},
     "output_type": "display_data"
    },
    {
     "data": {
      "text/plain": [
       "TrainOutput(global_step=470, training_loss=0.2802998644240359, metrics={'train_runtime': 242.5527, 'train_samples_per_second': 123.684, 'train_steps_per_second': 1.938, 'total_flos': 1757499627600000.0, 'train_loss': 0.2802998644240359, 'epoch': 2.0})"
      ]
     },
     "execution_count": 81,
     "metadata": {},
     "output_type": "execute_result"
    }
   ],
   "source": [
    "trainer.train()"
   ]
  },
  {
   "cell_type": "code",
   "execution_count": 82,
   "id": "c3bc0f97",
   "metadata": {},
   "outputs": [
    {
     "data": {
      "text/html": [
       "\n",
       "    <div>\n",
       "      \n",
       "      <progress value='16' max='16' style='width:300px; height:20px; vertical-align: middle;'></progress>\n",
       "      [16/16 00:01]\n",
       "    </div>\n",
       "    "
      ],
      "text/plain": [
       "<IPython.core.display.HTML object>"
      ]
     },
     "metadata": {},
     "output_type": "display_data"
    }
   ],
   "source": [
    "dataset_hidden.set_format(None, columns = tokenizer_k.model_input_names )\n",
    "label = dataset_hidden['test']['label']\n",
    "predictions = np.argmax(trainer.predict(dataset_hidden['test']).predictions, axis=-1)\n",
    "accuracy1 = accuracy_score(np.array(label, np.int32), np.array(predictions, np.int32))"
   ]
  },
  {
   "cell_type": "code",
   "execution_count": 83,
   "id": "f7c1e2b7",
   "metadata": {},
   "outputs": [
    {
     "name": "stdout",
     "output_type": "stream",
     "text": [
      " KLUE_Bert_15000 :0.864\n"
     ]
    }
   ],
   "source": [
    "print(f\" KLUE_Bert_15000 :{accuracy1}\")"
   ]
  },
  {
   "cell_type": "code",
   "execution_count": 84,
   "id": "23db36e6",
   "metadata": {},
   "outputs": [],
   "source": [
    "results_dict['KLUE_Bert_Finetuned_15000'] = accuracy1"
   ]
  },
  {
   "cell_type": "code",
   "execution_count": 86,
   "id": "2ba09e0d",
   "metadata": {},
   "outputs": [
    {
     "data": {
      "text/plain": [
       "0"
      ]
     },
     "execution_count": 86,
     "metadata": {},
     "output_type": "execute_result"
    }
   ],
   "source": [
    "torch.cuda.empty_cache() # GPU 캐시 데이터 삭제\n",
    "gc.collect()"
   ]
  },
  {
   "cell_type": "markdown",
   "id": "45ed409e",
   "metadata": {},
   "source": [
    "### Freezing Weight Parameters"
   ]
  },
  {
   "cell_type": "code",
   "execution_count": 87,
   "id": "053a4e21",
   "metadata": {},
   "outputs": [],
   "source": [
    "# model\n",
    "model = (AutoModelForSequenceClassification\n",
    "         .from_pretrained(model_ckpt, config = klue_config)\n",
    "         .to(device))"
   ]
  },
  {
   "cell_type": "code",
   "execution_count": 88,
   "id": "c113a337",
   "metadata": {},
   "outputs": [],
   "source": [
    "# freeze all encoder layer\n",
    "for name, param in model.named_parameters():\n",
    "     if name.startswith(\"bert.encoder.layer\"): # choose whatever you like here\n",
    "        param.requires_grad = False"
   ]
  },
  {
   "cell_type": "code",
   "execution_count": 89,
   "id": "31d519eb",
   "metadata": {},
   "outputs": [],
   "source": [
    "dataset_hidden.set_format(None)"
   ]
  },
  {
   "cell_type": "code",
   "execution_count": 90,
   "id": "b0a41e0a",
   "metadata": {},
   "outputs": [
    {
     "data": {
      "text/html": [
       "\n",
       "    <div>\n",
       "      \n",
       "      <progress value='470' max='470' style='width:300px; height:20px; vertical-align: middle;'></progress>\n",
       "      [470/470 03:01, Epoch 2/2]\n",
       "    </div>\n",
       "    <table border=\"1\" class=\"dataframe\">\n",
       "  <thead>\n",
       "    <tr style=\"text-align: left;\">\n",
       "      <th>Epoch</th>\n",
       "      <th>Training Loss</th>\n",
       "      <th>Validation Loss</th>\n",
       "    </tr>\n",
       "  </thead>\n",
       "  <tbody>\n",
       "    <tr>\n",
       "      <td>1</td>\n",
       "      <td>No log</td>\n",
       "      <td>0.385442</td>\n",
       "    </tr>\n",
       "    <tr>\n",
       "      <td>2</td>\n",
       "      <td>No log</td>\n",
       "      <td>0.380265</td>\n",
       "    </tr>\n",
       "  </tbody>\n",
       "</table><p>"
      ],
      "text/plain": [
       "<IPython.core.display.HTML object>"
      ]
     },
     "metadata": {},
     "output_type": "display_data"
    },
    {
     "data": {
      "text/plain": [
       "TrainOutput(global_step=470, training_loss=0.42131113904587764, metrics={'train_runtime': 182.0906, 'train_samples_per_second': 164.753, 'train_steps_per_second': 2.581, 'total_flos': 1757499627600000.0, 'train_loss': 0.42131113904587764, 'epoch': 2.0})"
      ]
     },
     "execution_count": 90,
     "metadata": {},
     "output_type": "execute_result"
    }
   ],
   "source": [
    "#trainer\n",
    "dataset_hidden.set_format(None)\n",
    "trainer = Trainer(\n",
    "    model=model,\n",
    "    args=training_args,\n",
    "    data_collator = data_collator,\n",
    "    train_dataset=dataset_hidden['train'],\n",
    "    eval_dataset=dataset_hidden['test'],\n",
    "    tokenizer=tokenizer_k)\n",
    "\n",
    "trainer.train()"
   ]
  },
  {
   "cell_type": "code",
   "execution_count": 91,
   "id": "b5759ce2",
   "metadata": {},
   "outputs": [
    {
     "data": {
      "text/html": [
       "\n",
       "    <div>\n",
       "      \n",
       "      <progress value='16' max='16' style='width:300px; height:20px; vertical-align: middle;'></progress>\n",
       "      [16/16 00:01]\n",
       "    </div>\n",
       "    "
      ],
      "text/plain": [
       "<IPython.core.display.HTML object>"
      ]
     },
     "metadata": {},
     "output_type": "display_data"
    },
    {
     "name": "stdout",
     "output_type": "stream",
     "text": [
      " KLUE_Bert_freeze_all_15000 :0.835\n"
     ]
    }
   ],
   "source": [
    "dataset_hidden.set_format(None, columns = tokenizer_k.model_input_names )\n",
    "label = dataset_hidden['test']['label']\n",
    "predictions = np.argmax(trainer.predict(dataset_hidden['test']).predictions, axis=-1)\n",
    "accuracy2 = accuracy_score(np.array(label, np.int32), np.array(predictions, np.int32))\n",
    "print(f\" KLUE_Bert_freeze_all_15000 :{accuracy2}\")"
   ]
  },
  {
   "cell_type": "code",
   "execution_count": 92,
   "id": "10d9ea75",
   "metadata": {},
   "outputs": [],
   "source": [
    "results_dict['KLUE_Bert_Finetuned_Freeze_all_15000'] = accuracy2"
   ]
  },
  {
   "cell_type": "code",
   "execution_count": 94,
   "id": "9675bad4",
   "metadata": {},
   "outputs": [
    {
     "data": {
      "text/plain": [
       "0"
      ]
     },
     "execution_count": 94,
     "metadata": {},
     "output_type": "execute_result"
    }
   ],
   "source": [
    "del model\n",
    "torch.cuda.empty_cache() # GPU 캐시 데이터 삭제\n",
    "gc.collect()"
   ]
  },
  {
   "cell_type": "code",
   "execution_count": 95,
   "id": "a1430e7c",
   "metadata": {},
   "outputs": [],
   "source": [
    "# model\n",
    "model = (AutoModelForSequenceClassification\n",
    "         .from_pretrained(model_ckpt, config = klue_config)\n",
    "         .to(device))"
   ]
  },
  {
   "cell_type": "code",
   "execution_count": 96,
   "id": "d70f3328",
   "metadata": {},
   "outputs": [],
   "source": [
    "# train only last layer\n",
    "for name, param in model.named_parameters():\n",
    "     if name.startswith(\"bert.encoder.layer\"): # choose whatever you like here\n",
    "            if name.startswith(\"bert.encoder.layer.11\") :\n",
    "                continue\n",
    "            else:\n",
    "                param.requires_grad = False"
   ]
  },
  {
   "cell_type": "code",
   "execution_count": 97,
   "id": "36565c5a",
   "metadata": {},
   "outputs": [
    {
     "data": {
      "text/html": [
       "\n",
       "    <div>\n",
       "      \n",
       "      <progress value='470' max='470' style='width:300px; height:20px; vertical-align: middle;'></progress>\n",
       "      [470/470 03:07, Epoch 2/2]\n",
       "    </div>\n",
       "    <table border=\"1\" class=\"dataframe\">\n",
       "  <thead>\n",
       "    <tr style=\"text-align: left;\">\n",
       "      <th>Epoch</th>\n",
       "      <th>Training Loss</th>\n",
       "      <th>Validation Loss</th>\n",
       "    </tr>\n",
       "  </thead>\n",
       "  <tbody>\n",
       "    <tr>\n",
       "      <td>1</td>\n",
       "      <td>No log</td>\n",
       "      <td>0.355520</td>\n",
       "    </tr>\n",
       "    <tr>\n",
       "      <td>2</td>\n",
       "      <td>No log</td>\n",
       "      <td>0.357624</td>\n",
       "    </tr>\n",
       "  </tbody>\n",
       "</table><p>"
      ],
      "text/plain": [
       "<IPython.core.display.HTML object>"
      ]
     },
     "metadata": {},
     "output_type": "display_data"
    },
    {
     "data": {
      "text/plain": [
       "TrainOutput(global_step=470, training_loss=0.37620404831906584, metrics={'train_runtime': 187.4599, 'train_samples_per_second': 160.034, 'train_steps_per_second': 2.507, 'total_flos': 1757499627600000.0, 'train_loss': 0.37620404831906584, 'epoch': 2.0})"
      ]
     },
     "execution_count": 97,
     "metadata": {},
     "output_type": "execute_result"
    }
   ],
   "source": [
    "#trainer\n",
    "dataset_hidden.set_format(None)\n",
    "trainer = Trainer(\n",
    "    model=model,\n",
    "    args=training_args,\n",
    "    data_collator = data_collator,\n",
    "    train_dataset=dataset_hidden['train'],\n",
    "    eval_dataset=dataset_hidden['test'],\n",
    "#     compute_metrics = compute_metrics,\n",
    "    tokenizer=tokenizer_k)\n",
    "\n",
    "trainer.train()"
   ]
  },
  {
   "cell_type": "code",
   "execution_count": 98,
   "id": "a3df0f6f",
   "metadata": {},
   "outputs": [
    {
     "data": {
      "text/html": [
       "\n",
       "    <div>\n",
       "      \n",
       "      <progress value='16' max='16' style='width:300px; height:20px; vertical-align: middle;'></progress>\n",
       "      [16/16 00:01]\n",
       "    </div>\n",
       "    "
      ],
      "text/plain": [
       "<IPython.core.display.HTML object>"
      ]
     },
     "metadata": {},
     "output_type": "display_data"
    },
    {
     "name": "stdout",
     "output_type": "stream",
     "text": [
      " KLUE_Bert_freeze_last_15000 :0.845\n"
     ]
    }
   ],
   "source": [
    "dataset_hidden.set_format(None, columns = tokenizer_k.model_input_names )\n",
    "label = dataset_hidden['test']['label']\n",
    "predictions = np.argmax(trainer.predict(dataset_hidden['test']).predictions, axis=-1)\n",
    "accuracy3 = accuracy_score(np.array(label, np.int32), np.array(predictions, np.int32))\n",
    "print(f\" KLUE_Bert_freeze_last_15000 :{accuracy3}\")"
   ]
  },
  {
   "cell_type": "code",
   "execution_count": 99,
   "id": "3b00ee91",
   "metadata": {},
   "outputs": [],
   "source": [
    "results_dict['KLUE_Bert_Finetuned_Freeze_last(12)_15000'] = accuracy3"
   ]
  },
  {
   "cell_type": "code",
   "execution_count": 103,
   "id": "1a0dc476",
   "metadata": {},
   "outputs": [
    {
     "data": {
      "text/plain": [
       "0"
      ]
     },
     "execution_count": 103,
     "metadata": {},
     "output_type": "execute_result"
    }
   ],
   "source": [
    "del model\n",
    "torch.cuda.empty_cache() # GPU 캐시 데이터 삭제\n",
    "gc.collect()"
   ]
  },
  {
   "cell_type": "code",
   "execution_count": 104,
   "id": "6687e3c2",
   "metadata": {},
   "outputs": [],
   "source": [
    "# model\n",
    "model = (AutoModelForSequenceClassification\n",
    "         .from_pretrained(model_ckpt, config = klue_config)\n",
    "         .to(device))"
   ]
  },
  {
   "cell_type": "code",
   "execution_count": 105,
   "id": "aa7fd880",
   "metadata": {},
   "outputs": [],
   "source": [
    "# train only 4 layer\n",
    "for name, param in model.named_parameters():\n",
    "     if name.startswith(\"bert.encoder.layer\"): # choose whatever you like here\n",
    "            if name.startswith(\"bert.encoder.layer.11\") or name.startswith(\"bert.encoder.layer.10\") or name.startswith(\"bert.encoder.layer.9\") or name.startswith(\"bert.encoder.layer.8\"):\n",
    "                continue\n",
    "            else:\n",
    "                param.requires_grad = False"
   ]
  },
  {
   "cell_type": "code",
   "execution_count": 106,
   "id": "5a794041",
   "metadata": {},
   "outputs": [
    {
     "data": {
      "text/html": [
       "\n",
       "    <div>\n",
       "      \n",
       "      <progress value='470' max='470' style='width:300px; height:20px; vertical-align: middle;'></progress>\n",
       "      [470/470 03:23, Epoch 2/2]\n",
       "    </div>\n",
       "    <table border=\"1\" class=\"dataframe\">\n",
       "  <thead>\n",
       "    <tr style=\"text-align: left;\">\n",
       "      <th>Epoch</th>\n",
       "      <th>Training Loss</th>\n",
       "      <th>Validation Loss</th>\n",
       "    </tr>\n",
       "  </thead>\n",
       "  <tbody>\n",
       "    <tr>\n",
       "      <td>1</td>\n",
       "      <td>No log</td>\n",
       "      <td>0.339655</td>\n",
       "    </tr>\n",
       "    <tr>\n",
       "      <td>2</td>\n",
       "      <td>No log</td>\n",
       "      <td>0.351907</td>\n",
       "    </tr>\n",
       "  </tbody>\n",
       "</table><p>"
      ],
      "text/plain": [
       "<IPython.core.display.HTML object>"
      ]
     },
     "metadata": {},
     "output_type": "display_data"
    },
    {
     "name": "stderr",
     "output_type": "stream",
     "text": [
      "/opt/conda/lib/python3.9/site-packages/transformers/trainer.py:1355: FutureWarning: Non-finite norm encountered in torch.nn.utils.clip_grad_norm_; continuing anyway. Note that the default behavior will change in a future release to error out if a non-finite total norm is encountered. At that point, setting error_if_nonfinite=false will be required to retain the old behavior.\n",
      "  nn.utils.clip_grad_norm_(\n"
     ]
    },
    {
     "data": {
      "text/plain": [
       "TrainOutput(global_step=470, training_loss=0.3230618091339761, metrics={'train_runtime': 203.6257, 'train_samples_per_second': 147.329, 'train_steps_per_second': 2.308, 'total_flos': 1757499627600000.0, 'train_loss': 0.3230618091339761, 'epoch': 2.0})"
      ]
     },
     "execution_count": 106,
     "metadata": {},
     "output_type": "execute_result"
    }
   ],
   "source": [
    "#trainer\n",
    "dataset_hidden.set_format(None)\n",
    "trainer = Trainer(\n",
    "    model=model,\n",
    "    args=training_args,\n",
    "    data_collator = data_collator,\n",
    "    train_dataset=dataset_hidden['train'],\n",
    "    eval_dataset=dataset_hidden['test'],\n",
    "    tokenizer=tokenizer_k)\n",
    "\n",
    "trainer.train()"
   ]
  },
  {
   "cell_type": "code",
   "execution_count": 107,
   "id": "afbdebd4",
   "metadata": {},
   "outputs": [
    {
     "data": {
      "text/html": [
       "\n",
       "    <div>\n",
       "      \n",
       "      <progress value='16' max='16' style='width:300px; height:20px; vertical-align: middle;'></progress>\n",
       "      [16/16 00:02]\n",
       "    </div>\n",
       "    "
      ],
      "text/plain": [
       "<IPython.core.display.HTML object>"
      ]
     },
     "metadata": {},
     "output_type": "display_data"
    },
    {
     "name": "stdout",
     "output_type": "stream",
     "text": [
      " KLUE_Bert_freeze_last4_15000 :0.851\n"
     ]
    }
   ],
   "source": [
    "dataset_hidden.set_format(None, columns = tokenizer_k.model_input_names )\n",
    "label = dataset_hidden['test']['label']\n",
    "predictions = np.argmax(trainer.predict(dataset_hidden['test']).predictions, axis=-1)\n",
    "accuracy4 = accuracy_score(np.array(label, np.int32), np.array(predictions, np.int32))\n",
    "print(f\" KLUE_Bert_freeze_last4_15000 :{accuracy4}\")"
   ]
  },
  {
   "cell_type": "code",
   "execution_count": 108,
   "id": "889a0738",
   "metadata": {},
   "outputs": [],
   "source": [
    "results_dict['KLUE_Bert_Finetuned_Freeze_layer(12,11,10,9)_15000'] = accuracy4"
   ]
  },
  {
   "cell_type": "markdown",
   "id": "2f74ad1a",
   "metadata": {},
   "source": [
    "## Step 4 : evaluation"
   ]
  },
  {
   "cell_type": "code",
   "execution_count": 109,
   "id": "c622062b",
   "metadata": {},
   "outputs": [],
   "source": [
    "import matplotlib.pyplot as plt\n",
    "import seaborn as sns"
   ]
  },
  {
   "cell_type": "code",
   "execution_count": 110,
   "id": "2a4bd29d",
   "metadata": {},
   "outputs": [
    {
     "data": {
      "image/png": "[encoded data removed]",
      "text/plain": [
       "<Figure size 720x360 with 1 Axes>"
      ]
     },
     "metadata": {
      "needs_background": "light"
     },
     "output_type": "display_data"
    }
   ],
   "source": [
    "fig, ax = plt.subplots(figsize=(10,5))\n",
    "bar = ax.barh(list(results_dict.keys()),results_dict.values())\n",
    "ax.bar_label(bar)\n",
    "sns.despine()\n",
    "plt.title('Val_Acc Comparison Btw Models')\n",
    "plt.show()"
   ]
  },
  {
   "cell_type": "markdown",
   "id": "240b3e83",
   "metadata": {},
   "source": [
    "## Step 5 : optimize results - FineTune 70,000 & 10,000,000"
   ]
  },
  {
   "cell_type": "code",
   "execution_count": 128,
   "id": "3fe4801d",
   "metadata": {},
   "outputs": [
    {
     "data": {
      "text/plain": [
       "0"
      ]
     },
     "execution_count": 128,
     "metadata": {},
     "output_type": "execute_result"
    }
   ],
   "source": [
    "# del model\n",
    "torch.cuda.empty_cache() # GPU 캐시 데이터 삭제\n",
    "gc.collect()"
   ]
  },
  {
   "cell_type": "code",
   "execution_count": 113,
   "id": "b0f8642a",
   "metadata": {},
   "outputs": [
    {
     "data": {
      "text/html": [
       "\n",
       "    <div>\n",
       "      \n",
       "      <progress value='2188' max='2188' style='width:300px; height:20px; vertical-align: middle;'></progress>\n",
       "      [2188/2188 18:00, Epoch 2/2]\n",
       "    </div>\n",
       "    <table border=\"1\" class=\"dataframe\">\n",
       "  <thead>\n",
       "    <tr style=\"text-align: left;\">\n",
       "      <th>Epoch</th>\n",
       "      <th>Training Loss</th>\n",
       "      <th>Validation Loss</th>\n",
       "    </tr>\n",
       "  </thead>\n",
       "  <tbody>\n",
       "    <tr>\n",
       "      <td>1</td>\n",
       "      <td>0.288100</td>\n",
       "      <td>0.313678</td>\n",
       "    </tr>\n",
       "    <tr>\n",
       "      <td>2</td>\n",
       "      <td>0.170500</td>\n",
       "      <td>0.320241</td>\n",
       "    </tr>\n",
       "  </tbody>\n",
       "</table><p>"
      ],
      "text/plain": [
       "<IPython.core.display.HTML object>"
      ]
     },
     "metadata": {},
     "output_type": "display_data"
    },
    {
     "name": "stderr",
     "output_type": "stream",
     "text": [
      "/opt/conda/lib/python3.9/site-packages/transformers/trainer.py:1355: FutureWarning: Non-finite norm encountered in torch.nn.utils.clip_grad_norm_; continuing anyway. Note that the default behavior will change in a future release to error out if a non-finite total norm is encountered. At that point, setting error_if_nonfinite=false will be required to retain the old behavior.\n",
      "  nn.utils.clip_grad_norm_(\n"
     ]
    },
    {
     "data": {
      "text/plain": [
       "TrainOutput(global_step=2188, training_loss=0.23720472255616126, metrics={'train_runtime': 1081.0086, 'train_samples_per_second': 129.509, 'train_steps_per_second': 2.024, 'total_flos': 9064998079200000.0, 'train_loss': 0.23720472255616126, 'epoch': 2.0})"
      ]
     },
     "execution_count": 113,
     "metadata": {},
     "output_type": "execute_result"
    }
   ],
   "source": [
    "#trainer\n",
    "dataset_hidden.set_format(None)\n",
    "trainer = Trainer(\n",
    "    model_init=model_init,\n",
    "    args=training_args,\n",
    "    data_collator = data_collator,\n",
    "    train_dataset=dataset_hidden['train_xl'],\n",
    "    eval_dataset=dataset_hidden['test'],\n",
    "    tokenizer=tokenizer_k)\n",
    "\n",
    "trainer.train()"
   ]
  },
  {
   "cell_type": "code",
   "execution_count": 116,
   "id": "4b56cd86",
   "metadata": {},
   "outputs": [
    {
     "name": "stdout",
     "output_type": "stream",
     "text": [
      " KLUE_Bert_finetuned_all_70000 :0.873\n"
     ]
    }
   ],
   "source": [
    "dataset_hidden.set_format(None, columns = tokenizer_k.model_input_names )\n",
    "label = dataset_hidden['test']['label']\n",
    "predictions = np.argmax(trainer.predict(dataset_hidden['test']).predictions, axis=-1)\n",
    "accuracy6 = accuracy_score(np.array(label, np.int32), np.array(predictions, np.int32))\n",
    "print(f\" KLUE_Bert_finetuned_all_70000 :{accuracy6}\")"
   ]
  },
  {
   "cell_type": "code",
   "execution_count": 117,
   "id": "3f200829",
   "metadata": {},
   "outputs": [],
   "source": [
    "results_dict['KLUE_Bert_FineTuned_70000'] = accuracy6"
   ]
  },
  {
   "cell_type": "markdown",
   "id": "5a4e3043",
   "metadata": {},
   "source": [
    "90% val_acc을 넘으려면, 데이터를 100,000정도로 올리고, 몇가지 optimizer부분에 몇가지 하이퍼 파라미터 정도만 수정하면 결과를 얻을 수 있을 것 같다."
   ]
  },
  {
   "cell_type": "code",
   "execution_count": 120,
   "id": "9b3555d6",
   "metadata": {},
   "outputs": [
    {
     "data": {
      "text/html": [
       "\n",
       "    <div>\n",
       "      \n",
       "      <progress value='3126' max='3126' style='width:300px; height:20px; vertical-align: middle;'></progress>\n",
       "      [3126/3126 25:28, Epoch 2/2]\n",
       "    </div>\n",
       "    <table border=\"1\" class=\"dataframe\">\n",
       "  <thead>\n",
       "    <tr style=\"text-align: left;\">\n",
       "      <th>Epoch</th>\n",
       "      <th>Training Loss</th>\n",
       "      <th>Validation Loss</th>\n",
       "    </tr>\n",
       "  </thead>\n",
       "  <tbody>\n",
       "    <tr>\n",
       "      <td>1</td>\n",
       "      <td>0.269000</td>\n",
       "      <td>0.269012</td>\n",
       "    </tr>\n",
       "    <tr>\n",
       "      <td>2</td>\n",
       "      <td>0.166500</td>\n",
       "      <td>0.302480</td>\n",
       "    </tr>\n",
       "  </tbody>\n",
       "</table><p>"
      ],
      "text/plain": [
       "<IPython.core.display.HTML object>"
      ]
     },
     "metadata": {},
     "output_type": "display_data"
    },
    {
     "data": {
      "text/plain": [
       "TrainOutput(global_step=3126, training_loss=0.233565859510894, metrics={'train_runtime': 1529.1134, 'train_samples_per_second': 130.795, 'train_steps_per_second': 2.044, 'total_flos': 1.2949997256e+16, 'train_loss': 0.233565859510894, 'epoch': 2.0})"
      ]
     },
     "execution_count": 120,
     "metadata": {},
     "output_type": "execute_result"
    }
   ],
   "source": [
    "#trainer\n",
    "dataset_hidden.set_format(None)\n",
    "trainer = Trainer(\n",
    "    model_init=model_init,\n",
    "    args=training_args,\n",
    "    data_collator = data_collator,\n",
    "    train_dataset=dataset_hidden['train_xxl'],\n",
    "    eval_dataset=dataset_hidden['test'],\n",
    "    tokenizer=tokenizer_k)\n",
    "\n",
    "trainer.train()"
   ]
  },
  {
   "cell_type": "code",
   "execution_count": 121,
   "id": "2736ac26",
   "metadata": {},
   "outputs": [
    {
     "data": {
      "text/html": [
       "\n",
       "    <div>\n",
       "      \n",
       "      <progress value='16' max='16' style='width:300px; height:20px; vertical-align: middle;'></progress>\n",
       "      [16/16 00:01]\n",
       "    </div>\n",
       "    "
      ],
      "text/plain": [
       "<IPython.core.display.HTML object>"
      ]
     },
     "metadata": {},
     "output_type": "display_data"
    },
    {
     "name": "stdout",
     "output_type": "stream",
     "text": [
      " KLUE_Bert_finetuned_all_100000 :0.891\n"
     ]
    }
   ],
   "source": [
    "dataset_hidden.set_format(None, columns = tokenizer_k.model_input_names )\n",
    "label = dataset_hidden['test']['label']\n",
    "predictions = np.argmax(trainer.predict(dataset_hidden['test']).predictions, axis=-1)\n",
    "accuracy7 = accuracy_score(np.array(label, np.int32), np.array(predictions, np.int32))\n",
    "print(f\" KLUE_Bert_finetuned_all_100000 :{accuracy7}\")"
   ]
  },
  {
   "cell_type": "code",
   "execution_count": 124,
   "id": "3a28b34a",
   "metadata": {},
   "outputs": [],
   "source": [
    "results_dict['KLUE_Bert_FineTuned_100000'] = accuracy7"
   ]
  },
  {
   "cell_type": "code",
   "execution_count": 125,
   "id": "ba060baf",
   "metadata": {},
   "outputs": [
    {
     "data": {
      "image/png": "[encoded data removed]",
      "text/plain": [
       "<Figure size 720x360 with 1 Axes>"
      ]
     },
     "metadata": {
      "needs_background": "light"
     },
     "output_type": "display_data"
    }
   ],
   "source": [
    "fig, ax = plt.subplots(figsize=(10,5))\n",
    "bar = ax.barh(list(results_dict.keys()),results_dict.values())\n",
    "ax.bar_label(bar)\n",
    "sns.despine()\n",
    "plt.title('Val_Acc Comparison Btw Models')\n",
    "plt.show()"
   ]
  },
  {
   "cell_type": "markdown",
   "id": "54875a78",
   "metadata": {},
   "source": [
    "## Step(EXTRA) : Compare w/ other finetuned model in hunggingface"
   ]
  },
  {
   "cell_type": "code",
   "execution_count": 126,
   "id": "0bee3ce6",
   "metadata": {},
   "outputs": [
    {
     "data": {
      "application/vnd.jupyter.widget-view+json": {
       "model_id": "581299ab925b43a4ab0743d188159b7a",
       "version_major": 2,
       "version_minor": 0
      },
      "text/plain": [
       "Downloading:   0%|          | 0.00/932 [00:00<?, ?B/s]"
      ]
     },
     "metadata": {},
     "output_type": "display_data"
    },
    {
     "data": {
      "application/vnd.jupyter.widget-view+json": {
       "model_id": "0ac078023acc466092d8560f99f00f13",
       "version_major": 2,
       "version_minor": 0
      },
      "text/plain": [
       "Downloading:   0%|          | 0.00/679M [00:00<?, ?B/s]"
      ]
     },
     "metadata": {},
     "output_type": "display_data"
    },
    {
     "data": {
      "application/vnd.jupyter.widget-view+json": {
       "model_id": "20ac8ac344b9478b8bea09238054a58c",
       "version_major": 2,
       "version_minor": 0
      },
      "text/plain": [
       "Downloading:   0%|          | 0.00/297 [00:00<?, ?B/s]"
      ]
     },
     "metadata": {},
     "output_type": "display_data"
    },
    {
     "data": {
      "application/vnd.jupyter.widget-view+json": {
       "model_id": "27c04cc69eba421ab441c43c34ccae3e",
       "version_major": 2,
       "version_minor": 0
      },
      "text/plain": [
       "Downloading:   0%|          | 0.00/972k [00:00<?, ?B/s]"
      ]
     },
     "metadata": {},
     "output_type": "display_data"
    },
    {
     "data": {
      "application/vnd.jupyter.widget-view+json": {
       "model_id": "532981acc04945049dfc01fd48202bcd",
       "version_major": 2,
       "version_minor": 0
      },
      "text/plain": [
       "Downloading:   0%|          | 0.00/1.87M [00:00<?, ?B/s]"
      ]
     },
     "metadata": {},
     "output_type": "display_data"
    },
    {
     "data": {
      "application/vnd.jupyter.widget-view+json": {
       "model_id": "a4cb40f4171b44658094b246574c277c",
       "version_major": 2,
       "version_minor": 0
      },
      "text/plain": [
       "Downloading:   0%|          | 0.00/112 [00:00<?, ?B/s]"
      ]
     },
     "metadata": {},
     "output_type": "display_data"
    }
   ],
   "source": [
    "from transformers import pipeline\n",
    "classifier = pipeline(\n",
    "    \"sentiment-analysis\", model=\"sangrimlee/bert-base-multilingual-cased-nsmc\"\n",
    ")"
   ]
  },
  {
   "cell_type": "code",
   "execution_count": 129,
   "id": "ee88259f",
   "metadata": {},
   "outputs": [],
   "source": [
    "predictions =[]\n",
    "for i in dataset['test']['values'] :\n",
    "    predictions.append(classifier(i)[0]['label'])"
   ]
  },
  {
   "cell_type": "code",
   "execution_count": 130,
   "id": "ffacd079",
   "metadata": {},
   "outputs": [],
   "source": [
    "label=dataset['test']['label']"
   ]
  },
  {
   "cell_type": "code",
   "execution_count": 131,
   "id": "7879c188",
   "metadata": {},
   "outputs": [],
   "source": [
    "for i in range(len(predictions)):\n",
    "    if predictions[i] =='negative':\n",
    "        predictions[i] = 0\n",
    "    else :\n",
    "        predictions[i] = 1"
   ]
  },
  {
   "cell_type": "code",
   "execution_count": 132,
   "id": "5063e919",
   "metadata": {},
   "outputs": [],
   "source": [
    "results_dict['sangrimlee/bert-base-multilingual-cased-nsmc'] = accuracy_score(label, predictions)"
   ]
  },
  {
   "cell_type": "code",
   "execution_count": 133,
   "id": "bbc614bc",
   "metadata": {},
   "outputs": [
    {
     "data": {
      "image/png": "[encoded data removed]",
      "text/plain": [
       "<Figure size 720x360 with 1 Axes>"
      ]
     },
     "metadata": {
      "needs_background": "light"
     },
     "output_type": "display_data"
    }
   ],
   "source": [
    "fig, ax = plt.subplots(figsize=(10,5))\n",
    "bar = ax.barh(list(results_dict.keys()),results_dict.values())\n",
    "ax.bar_label(bar)\n",
    "sns.despine()\n",
    "plt.title('Val_Acc Comparison Btw Models')\n",
    "plt.show()"
   ]
  },
  {
   "cell_type": "markdown",
   "id": "4e4435e5",
   "metadata": {},
   "source": [
    "## Conclusion"
   ]
  },
  {
   "cell_type": "markdown",
   "id": "bd4fa1f2",
   "metadata": {},
   "source": [
    "90% 은 넘지는 못했습니다. ㅜㅜ 데이터를 더 올리면 분명 넘을 수 있을 것 같네요.\n",
    "KLUE BERT가 또한 단순 NSMC로 finetune된 모델보다도 성능이 훨씬 좋게 나오네요."
   ]
  }
 ],
 "metadata": {
  "kernelspec": {
   "display_name": "Python 3 (ipykernel)",
   "language": "python",
   "name": "python3"
  },
  "language_info": {
   "codemirror_mode": {
    "name": "ipython",
    "version": 3
   },
   "file_extension": ".py",
   "mimetype": "text/x-python",
   "name": "python",
   "nbconvert_exporter": "python",
   "pygments_lexer": "ipython3",
   "version": "3.9.7"
  }
 },
 "nbformat": 4,
 "nbformat_minor": 5
}
