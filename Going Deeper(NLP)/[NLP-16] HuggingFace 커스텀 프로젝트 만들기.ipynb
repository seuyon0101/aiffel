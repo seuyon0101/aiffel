{
 "cells": [
  {
   "cell_type": "markdown",
   "id": "8f8d4af9",
   "metadata": {},
   "source": [
    "# 🤗 프로젝트 : 커스텀 프로젝트 직접 만들기"
   ]
  },
  {
   "cell_type": "markdown",
   "id": "38235786",
   "metadata": {},
   "source": [
    "klue/bert-base 를 사용하여 NSMC task를 수행하라.\n",
    "> - https://huggingface.co/klue/bert-base\n",
    "> - https://github.com/e9t/nsmc"
   ]
  },
  {
   "cell_type": "markdown",
   "id": "b414accc",
   "metadata": {},
   "source": [
    "### 평가항목 1:\n",
    "\n",
    "- sentence piece를 사용해 토크나이징 한 후\n",
    "- klue/bert-base를 특성추출기로 사용해 base-line 성능을 기록했다."
   ]
  },
  {
   "cell_type": "markdown",
   "id": "c19b73ae",
   "metadata": {},
   "source": [
    "### 평가항목 2: \n",
    "\n",
    "- 적절한 전처리와 fine-tuning을 통해 val_acc를 90% 이상 달성했다."
   ]
  },
  {
   "cell_type": "markdown",
   "id": "3c71e7b9",
   "metadata": {},
   "source": [
    "### 평가항목 3:\n",
    "\n",
    "- 클래스 분포를 살펴보고 Bucketing을 수행하여 어떤 효과를 기대할 수 있는지 예상한 결과를 기록했다.\n",
    "\n",
    "- Bucketing을 수행하여 finetuning 시 연산속도와 모델성능간의 trade-off관계가 발생하는지 여부를 확인하고 분석한 결과를 제시하였다."
   ]
  },
  {
   "cell_type": "markdown",
   "id": "ce335ed2",
   "metadata": {},
   "source": [
    "## Step 1 : preprocessing"
   ]
  },
  {
   "cell_type": "code",
   "execution_count": 8,
   "id": "b0947582",
   "metadata": {},
   "outputs": [
    {
     "name": "stdout",
     "output_type": "stream",
     "text": [
      "--2023-02-13 02:40:36--  https://raw.githubusercontent.com/e9t/nsmc/master/ratings_test.txt\n",
      "Resolving raw.githubusercontent.com (raw.githubusercontent.com)... 185.199.110.133, 185.199.108.133, 185.199.111.133, ...\n",
      "Connecting to raw.githubusercontent.com (raw.githubusercontent.com)|185.199.110.133|:443... connected.\n",
      "HTTP request sent, awaiting response... 200 OK\n",
      "Length: 4893335 (4.7M) [text/plain]\n",
      "Saving to: ‘ratings_test.txt’\n",
      "\n",
      "ratings_test.txt    100%[===================>]   4.67M  --.-KB/s    in 0.06s   \n",
      "\n",
      "2023-02-13 02:40:36 (78.9 MB/s) - ‘ratings_test.txt’ saved [4893335/4893335]\n",
      "\n"
     ]
    }
   ],
   "source": [
    "# excel 파일에 outline 같이 짜기\n",
    "# ! wget https://raw.githubusercontent.com/e9t/nsmc/master/ratings_train.txt\n",
    "# ! wget https://raw.githubusercontent.com/e9t/nsmc/master/ratings_test.txt"
   ]
  },
  {
   "cell_type": "code",
   "execution_count": 1,
   "id": "c29ef91a",
   "metadata": {},
   "outputs": [
    {
     "name": "stdout",
     "output_type": "stream",
     "text": [
      "ratings_test.txt  ratings_train.txt\r\n"
     ]
    }
   ],
   "source": [
    "# 데이터 다운로드 되었는지 확인\n",
    "!ls rating*"
   ]
  },
  {
   "cell_type": "code",
   "execution_count": 2,
   "id": "1662a6e5",
   "metadata": {},
   "outputs": [],
   "source": [
    "# pandas library 확인\n",
    "import pandas as pd\n",
    "import numpy as np"
   ]
  },
  {
   "cell_type": "code",
   "execution_count": 3,
   "id": "488433e5",
   "metadata": {},
   "outputs": [],
   "source": [
    "# pandas 로 다운로드 파일 데이터프레임 생성\n",
    "train = pd.read_table('./ratings_train.txt')\n",
    "test = pd.read_table('./ratings_test.txt')"
   ]
  },
  {
   "cell_type": "code",
   "execution_count": 6,
   "id": "db412dd6",
   "metadata": {},
   "outputs": [
    {
     "name": "stdout",
     "output_type": "stream",
     "text": [
      "<class 'pandas.core.frame.DataFrame'>\n",
      "RangeIndex: 150000 entries, 0 to 149999\n",
      "Data columns (total 3 columns):\n",
      " #   Column    Non-Null Count   Dtype \n",
      "---  ------    --------------   ----- \n",
      " 0   id        150000 non-null  int64 \n",
      " 1   document  149995 non-null  object\n",
      " 2   label     150000 non-null  int64 \n",
      "dtypes: int64(2), object(1)\n",
      "memory usage: 3.4+ MB\n"
     ]
    }
   ],
   "source": [
    "# 데이터 확인\n",
    "train.info() # null-value 확인 5개"
   ]
  },
  {
   "cell_type": "code",
   "execution_count": 7,
   "id": "4033756c",
   "metadata": {},
   "outputs": [
    {
     "name": "stdout",
     "output_type": "stream",
     "text": [
      "<class 'pandas.core.frame.DataFrame'>\n",
      "RangeIndex: 50000 entries, 0 to 49999\n",
      "Data columns (total 3 columns):\n",
      " #   Column    Non-Null Count  Dtype \n",
      "---  ------    --------------  ----- \n",
      " 0   id        50000 non-null  int64 \n",
      " 1   document  49997 non-null  object\n",
      " 2   label     50000 non-null  int64 \n",
      "dtypes: int64(2), object(1)\n",
      "memory usage: 1.1+ MB\n"
     ]
    }
   ],
   "source": [
    "# 데이터 확인\n",
    "test.info() # null-value 확인 3개"
   ]
  },
  {
   "cell_type": "code",
   "execution_count": 8,
   "id": "e819f7a1",
   "metadata": {},
   "outputs": [
    {
     "data": {
      "text/html": [
       "<div>\n",
       "<style scoped>\n",
       "    .dataframe tbody tr th:only-of-type {\n",
       "        vertical-align: middle;\n",
       "    }\n",
       "\n",
       "    .dataframe tbody tr th {\n",
       "        vertical-align: top;\n",
       "    }\n",
       "\n",
       "    .dataframe thead th {\n",
       "        text-align: right;\n",
       "    }\n",
       "</style>\n",
       "<table border=\"1\" class=\"dataframe\">\n",
       "  <thead>\n",
       "    <tr style=\"text-align: right;\">\n",
       "      <th></th>\n",
       "      <th>id</th>\n",
       "      <th>document</th>\n",
       "      <th>label</th>\n",
       "    </tr>\n",
       "  </thead>\n",
       "  <tbody>\n",
       "    <tr>\n",
       "      <th>0</th>\n",
       "      <td>9976970</td>\n",
       "      <td>아 더빙.. 진짜 짜증나네요 목소리</td>\n",
       "      <td>0</td>\n",
       "    </tr>\n",
       "    <tr>\n",
       "      <th>1</th>\n",
       "      <td>3819312</td>\n",
       "      <td>흠...포스터보고 초딩영화줄....오버연기조차 가볍지 않구나</td>\n",
       "      <td>1</td>\n",
       "    </tr>\n",
       "    <tr>\n",
       "      <th>2</th>\n",
       "      <td>10265843</td>\n",
       "      <td>너무재밓었다그래서보는것을추천한다</td>\n",
       "      <td>0</td>\n",
       "    </tr>\n",
       "    <tr>\n",
       "      <th>3</th>\n",
       "      <td>9045019</td>\n",
       "      <td>교도소 이야기구먼 ..솔직히 재미는 없다..평점 조정</td>\n",
       "      <td>0</td>\n",
       "    </tr>\n",
       "    <tr>\n",
       "      <th>4</th>\n",
       "      <td>6483659</td>\n",
       "      <td>사이몬페그의 익살스런 연기가 돋보였던 영화!스파이더맨에서 늙어보이기만 했던 커스틴 ...</td>\n",
       "      <td>1</td>\n",
       "    </tr>\n",
       "  </tbody>\n",
       "</table>\n",
       "</div>"
      ],
      "text/plain": [
       "         id                                           document  label\n",
       "0   9976970                                아 더빙.. 진짜 짜증나네요 목소리      0\n",
       "1   3819312                  흠...포스터보고 초딩영화줄....오버연기조차 가볍지 않구나      1\n",
       "2  10265843                                  너무재밓었다그래서보는것을추천한다      0\n",
       "3   9045019                      교도소 이야기구먼 ..솔직히 재미는 없다..평점 조정      0\n",
       "4   6483659  사이몬페그의 익살스런 연기가 돋보였던 영화!스파이더맨에서 늙어보이기만 했던 커스틴 ...      1"
      ]
     },
     "execution_count": 8,
     "metadata": {},
     "output_type": "execute_result"
    }
   ],
   "source": [
    "train.head()"
   ]
  },
  {
   "cell_type": "code",
   "execution_count": 9,
   "id": "98bfca46",
   "metadata": {},
   "outputs": [
    {
     "data": {
      "text/html": [
       "<div>\n",
       "<style scoped>\n",
       "    .dataframe tbody tr th:only-of-type {\n",
       "        vertical-align: middle;\n",
       "    }\n",
       "\n",
       "    .dataframe tbody tr th {\n",
       "        vertical-align: top;\n",
       "    }\n",
       "\n",
       "    .dataframe thead th {\n",
       "        text-align: right;\n",
       "    }\n",
       "</style>\n",
       "<table border=\"1\" class=\"dataframe\">\n",
       "  <thead>\n",
       "    <tr style=\"text-align: right;\">\n",
       "      <th></th>\n",
       "      <th>id</th>\n",
       "      <th>document</th>\n",
       "      <th>label</th>\n",
       "    </tr>\n",
       "  </thead>\n",
       "  <tbody>\n",
       "    <tr>\n",
       "      <th>0</th>\n",
       "      <td>6270596</td>\n",
       "      <td>굳 ㅋ</td>\n",
       "      <td>1</td>\n",
       "    </tr>\n",
       "    <tr>\n",
       "      <th>1</th>\n",
       "      <td>9274899</td>\n",
       "      <td>GDNTOPCLASSINTHECLUB</td>\n",
       "      <td>0</td>\n",
       "    </tr>\n",
       "    <tr>\n",
       "      <th>2</th>\n",
       "      <td>8544678</td>\n",
       "      <td>뭐야 이 평점들은.... 나쁘진 않지만 10점 짜리는 더더욱 아니잖아</td>\n",
       "      <td>0</td>\n",
       "    </tr>\n",
       "    <tr>\n",
       "      <th>3</th>\n",
       "      <td>6825595</td>\n",
       "      <td>지루하지는 않은데 완전 막장임... 돈주고 보기에는....</td>\n",
       "      <td>0</td>\n",
       "    </tr>\n",
       "    <tr>\n",
       "      <th>4</th>\n",
       "      <td>6723715</td>\n",
       "      <td>3D만 아니었어도 별 다섯 개 줬을텐데.. 왜 3D로 나와서 제 심기를 불편하게 하죠??</td>\n",
       "      <td>0</td>\n",
       "    </tr>\n",
       "  </tbody>\n",
       "</table>\n",
       "</div>"
      ],
      "text/plain": [
       "        id                                           document  label\n",
       "0  6270596                                                굳 ㅋ      1\n",
       "1  9274899                               GDNTOPCLASSINTHECLUB      0\n",
       "2  8544678             뭐야 이 평점들은.... 나쁘진 않지만 10점 짜리는 더더욱 아니잖아      0\n",
       "3  6825595                   지루하지는 않은데 완전 막장임... 돈주고 보기에는....      0\n",
       "4  6723715  3D만 아니었어도 별 다섯 개 줬을텐데.. 왜 3D로 나와서 제 심기를 불편하게 하죠??      0"
      ]
     },
     "execution_count": 9,
     "metadata": {},
     "output_type": "execute_result"
    }
   ],
   "source": [
    "test.head()"
   ]
  },
  {
   "cell_type": "code",
   "execution_count": 10,
   "id": "88a94e0b",
   "metadata": {},
   "outputs": [],
   "source": [
    "# document length\n",
    "train['doc_len'] = train['document'].apply(lambda x: len(str(x)))\n",
    "test['doc_len'] = test['document'].apply(lambda x: len(str(x)))"
   ]
  },
  {
   "cell_type": "code",
   "execution_count": 11,
   "id": "3f300c7f",
   "metadata": {},
   "outputs": [
    {
     "data": {
      "text/plain": [
       "<AxesSubplot:>"
      ]
     },
     "execution_count": 11,
     "metadata": {},
     "output_type": "execute_result"
    },
    {
     "data": {
      "image/png": "[encoded data removed]",
      "text/plain": [
       "<Figure size 432x288 with 1 Axes>"
      ]
     },
     "metadata": {
      "needs_background": "light"
     },
     "output_type": "display_data"
    }
   ],
   "source": [
    "train.doc_len.hist()"
   ]
  },
  {
   "cell_type": "code",
   "execution_count": 12,
   "id": "3c7e1be6",
   "metadata": {},
   "outputs": [
    {
     "data": {
      "text/plain": [
       "<AxesSubplot:>"
      ]
     },
     "execution_count": 12,
     "metadata": {},
     "output_type": "execute_result"
    },
    {
     "data": {
      "image/png": "[encoded data removed]",
      "text/plain": [
       "<Figure size 432x288 with 1 Axes>"
      ]
     },
     "metadata": {
      "needs_background": "light"
     },
     "output_type": "display_data"
    }
   ],
   "source": [
    "test.doc_len.hist()"
   ]
  },
  {
   "cell_type": "code",
   "execution_count": 13,
   "id": "2809fc07",
   "metadata": {},
   "outputs": [
    {
     "data": {
      "text/html": [
       "<div>\n",
       "<style scoped>\n",
       "    .dataframe tbody tr th:only-of-type {\n",
       "        vertical-align: middle;\n",
       "    }\n",
       "\n",
       "    .dataframe tbody tr th {\n",
       "        vertical-align: top;\n",
       "    }\n",
       "\n",
       "    .dataframe thead th {\n",
       "        text-align: right;\n",
       "    }\n",
       "</style>\n",
       "<table border=\"1\" class=\"dataframe\">\n",
       "  <thead>\n",
       "    <tr style=\"text-align: right;\">\n",
       "      <th></th>\n",
       "      <th>id</th>\n",
       "      <th>document</th>\n",
       "      <th>label</th>\n",
       "      <th>doc_len</th>\n",
       "    </tr>\n",
       "  </thead>\n",
       "  <tbody>\n",
       "  </tbody>\n",
       "</table>\n",
       "</div>"
      ],
      "text/plain": [
       "Empty DataFrame\n",
       "Columns: [id, document, label, doc_len]\n",
       "Index: []"
      ]
     },
     "execution_count": 13,
     "metadata": {},
     "output_type": "execute_result"
    }
   ],
   "source": [
    "# null 값 있는 자료 삭제\n",
    "n_idx_tr = train.loc[train['document'].isnull()].index\n",
    "train.drop(index=n_idx_tr, inplace=True)\n",
    "train.loc[train['document'].isnull()]"
   ]
  },
  {
   "cell_type": "code",
   "execution_count": 14,
   "id": "bcdcb625",
   "metadata": {},
   "outputs": [
    {
     "name": "stdout",
     "output_type": "stream",
     "text": [
      "146\n"
     ]
    }
   ],
   "source": [
    "print(train['doc_len'].max())"
   ]
  },
  {
   "cell_type": "code",
   "execution_count": 15,
   "id": "dd868ff2",
   "metadata": {},
   "outputs": [
    {
     "data": {
      "text/html": [
       "<div>\n",
       "<style scoped>\n",
       "    .dataframe tbody tr th:only-of-type {\n",
       "        vertical-align: middle;\n",
       "    }\n",
       "\n",
       "    .dataframe tbody tr th {\n",
       "        vertical-align: top;\n",
       "    }\n",
       "\n",
       "    .dataframe thead th {\n",
       "        text-align: right;\n",
       "    }\n",
       "</style>\n",
       "<table border=\"1\" class=\"dataframe\">\n",
       "  <thead>\n",
       "    <tr style=\"text-align: right;\">\n",
       "      <th></th>\n",
       "      <th>id</th>\n",
       "      <th>document</th>\n",
       "      <th>label</th>\n",
       "      <th>doc_len</th>\n",
       "    </tr>\n",
       "  </thead>\n",
       "  <tbody>\n",
       "  </tbody>\n",
       "</table>\n",
       "</div>"
      ],
      "text/plain": [
       "Empty DataFrame\n",
       "Columns: [id, document, label, doc_len]\n",
       "Index: []"
      ]
     },
     "execution_count": 15,
     "metadata": {},
     "output_type": "execute_result"
    }
   ],
   "source": [
    "# null 값 있는 자료 삭제\n",
    "n_idx_ts = test.loc[test['document'].isnull()].index\n",
    "test.drop(index=n_idx_ts, inplace=True)\n",
    "test.loc[test['document'].isnull()]"
   ]
  },
  {
   "cell_type": "code",
   "execution_count": 16,
   "id": "1bca788b",
   "metadata": {},
   "outputs": [
    {
     "name": "stdout",
     "output_type": "stream",
     "text": [
      "144\n"
     ]
    }
   ],
   "source": [
    "print(test['doc_len'].max())"
   ]
  },
  {
   "cell_type": "code",
   "execution_count": 17,
   "id": "9d0f7557",
   "metadata": {},
   "outputs": [
    {
     "name": "stdout",
     "output_type": "stream",
     "text": [
      "3813\n",
      "3813\n"
     ]
    }
   ],
   "source": [
    "# 중복 확인\n",
    "print(len(train.loc[train['document'].duplicated()]))\n",
    "print(train['document'].duplicated().sum())"
   ]
  },
  {
   "cell_type": "code",
   "execution_count": 18,
   "id": "5bb6dd01",
   "metadata": {},
   "outputs": [
    {
     "name": "stdout",
     "output_type": "stream",
     "text": [
      "840\n",
      "840\n"
     ]
    }
   ],
   "source": [
    "# 중복 확인\n",
    "print(len(test.loc[test['document'].duplicated()]))\n",
    "print(test['document'].duplicated().sum())"
   ]
  },
  {
   "cell_type": "code",
   "execution_count": 19,
   "id": "5151963d",
   "metadata": {},
   "outputs": [],
   "source": [
    "#중복 삭제\n",
    "train = train.drop_duplicates(subset='document')\n",
    "test = test.drop_duplicates(subset='document')"
   ]
  },
  {
   "cell_type": "code",
   "execution_count": 20,
   "id": "49f51f13",
   "metadata": {},
   "outputs": [
    {
     "name": "stdout",
     "output_type": "stream",
     "text": [
      "<class 'pandas.core.frame.DataFrame'>\n",
      "Int64Index: 146182 entries, 0 to 149999\n",
      "Data columns (total 4 columns):\n",
      " #   Column    Non-Null Count   Dtype \n",
      "---  ------    --------------   ----- \n",
      " 0   id        146182 non-null  int64 \n",
      " 1   document  146182 non-null  object\n",
      " 2   label     146182 non-null  int64 \n",
      " 3   doc_len   146182 non-null  int64 \n",
      "dtypes: int64(3), object(1)\n",
      "memory usage: 5.6+ MB\n"
     ]
    }
   ],
   "source": [
    "train.info()"
   ]
  },
  {
   "cell_type": "code",
   "execution_count": 21,
   "id": "5f317120",
   "metadata": {},
   "outputs": [
    {
     "name": "stdout",
     "output_type": "stream",
     "text": [
      "<class 'pandas.core.frame.DataFrame'>\n",
      "Int64Index: 49157 entries, 0 to 49999\n",
      "Data columns (total 4 columns):\n",
      " #   Column    Non-Null Count  Dtype \n",
      "---  ------    --------------  ----- \n",
      " 0   id        49157 non-null  int64 \n",
      " 1   document  49157 non-null  object\n",
      " 2   label     49157 non-null  int64 \n",
      " 3   doc_len   49157 non-null  int64 \n",
      "dtypes: int64(3), object(1)\n",
      "memory usage: 1.9+ MB\n"
     ]
    }
   ],
   "source": [
    "test.info()"
   ]
  },
  {
   "cell_type": "code",
   "execution_count": 22,
   "id": "dc50ab9f",
   "metadata": {},
   "outputs": [],
   "source": [
    "all_doc = np.concatenate((train['document'].values,test['document'].values)) "
   ]
  },
  {
   "cell_type": "code",
   "execution_count": 23,
   "id": "c525d756",
   "metadata": {},
   "outputs": [],
   "source": [
    "import re"
   ]
  },
  {
   "cell_type": "code",
   "execution_count": 24,
   "id": "14990ede",
   "metadata": {},
   "outputs": [],
   "source": [
    "def clean_sentence(sentence):\n",
    "        sentence = re.sub(r\"([?.!,])\", r\" \\1 \", sentence)\n",
    "        sentence = re.sub(r'[\" \"]+', \" \", sentence) \n",
    "        sentence = re.sub(r\"[^ㄱ-ㅎ가-힣a-zA-Z!.,?]+\", \" \", sentence)\n",
    "        return sentence"
   ]
  },
  {
   "cell_type": "code",
   "execution_count": 25,
   "id": "8517acd7",
   "metadata": {},
   "outputs": [],
   "source": [
    "filtered_corpus = []\n",
    "for i in all_doc :\n",
    "    sentence = clean_sentence(i)\n",
    "    filtered_corpus.append(sentence)\n",
    "train_f = filtered_corpus[:146182]\n",
    "test_f = filtered_corpus[146182:]\n",
    "all_doc_f = np.concatenate((train_f,test_f))"
   ]
  },
  {
   "cell_type": "code",
   "execution_count": 26,
   "id": "ce252388",
   "metadata": {},
   "outputs": [
    {
     "data": {
      "text/plain": [
       "0                                                  굳 ㅋ\n",
       "1                                 GDNTOPCLASSINTHECLUB\n",
       "2               뭐야 이 평점들은.... 나쁘진 않지만 10점 짜리는 더더욱 아니잖아\n",
       "3                     지루하지는 않은데 완전 막장임... 돈주고 보기에는....\n",
       "4    3D만 아니었어도 별 다섯 개 줬을텐데.. 왜 3D로 나와서 제 심기를 불편하게 하죠??\n",
       "Name: document, dtype: object"
      ]
     },
     "execution_count": 26,
     "metadata": {},
     "output_type": "execute_result"
    }
   ],
   "source": [
    "test['document'].head()"
   ]
  },
  {
   "cell_type": "code",
   "execution_count": 27,
   "id": "d29ee5a0",
   "metadata": {},
   "outputs": [],
   "source": [
    "train_f = filtered_corpus[:146182]\n",
    "test_f = filtered_corpus[146182:]"
   ]
  },
  {
   "cell_type": "code",
   "execution_count": 28,
   "id": "6ef58c5f",
   "metadata": {},
   "outputs": [],
   "source": [
    "all_doc_f = np.concatenate((train_f,test_f))"
   ]
  },
  {
   "cell_type": "markdown",
   "id": "fef39a87",
   "metadata": {},
   "source": [
    "## Step 2 : tokenizing"
   ]
  },
  {
   "cell_type": "code",
   "execution_count": 29,
   "id": "925a46f9",
   "metadata": {},
   "outputs": [
    {
     "data": {
      "text/plain": [
       "356896"
      ]
     },
     "execution_count": 29,
     "metadata": {},
     "output_type": "execute_result"
    }
   ],
   "source": [
    "#unique한 단어 확인\n",
    "\n",
    "temp_doc= set()\n",
    "for i in all_doc_f :\n",
    "    temp_doc |= set(i.split())\n",
    "    \n",
    "len(temp_doc)"
   ]
  },
  {
   "cell_type": "code",
   "execution_count": 30,
   "id": "5e0a7322",
   "metadata": {},
   "outputs": [],
   "source": [
    "# #sentence piece model training\n",
    "\n",
    "import sentencepiece as spm\n",
    "# temp_file = 'nlp16.train.ko.temp'\n",
    "# vocab_size = 35000\n",
    "\n",
    "# with open(temp_file, 'w') as f:\n",
    "#     for row in all_doc:   # 이전 스텝에서 정제했던 corpus를 활용합니다.\n",
    "#         f.write(str(row) + '\\n')\n",
    "        \n",
    "# spm.SentencePieceTrainer.Train( \n",
    "#     '--input={} --model_prefix=nlp16 --vocab_size={}'.format(temp_file, vocab_size)    \n",
    "# )"
   ]
  },
  {
   "cell_type": "code",
   "execution_count": 31,
   "id": "4dfedf3b",
   "metadata": {},
   "outputs": [
    {
     "data": {
      "text/plain": [
       "True"
      ]
     },
     "execution_count": 31,
     "metadata": {},
     "output_type": "execute_result"
    }
   ],
   "source": [
    "tokenizer = spm.SentencePieceProcessor()\n",
    "tokenizer.Load(f'nlp16.model')"
   ]
  },
  {
   "cell_type": "code",
   "execution_count": 32,
   "id": "d02b70ef",
   "metadata": {},
   "outputs": [],
   "source": [
    "test_txt = '아빠가 가방을 들고 있어요'"
   ]
  },
  {
   "cell_type": "code",
   "execution_count": 33,
   "id": "6be047f7",
   "metadata": {},
   "outputs": [
    {
     "data": {
      "text/plain": [
       "['▁아빠가', '▁가방', '을', '▁들고', '▁있어요']"
      ]
     },
     "execution_count": 33,
     "metadata": {},
     "output_type": "execute_result"
    }
   ],
   "source": [
    "tokenizer.EncodeAsPieces(test_txt)"
   ]
  },
  {
   "cell_type": "code",
   "execution_count": 34,
   "id": "95fa8461",
   "metadata": {},
   "outputs": [
    {
     "data": {
      "application/vnd.jupyter.widget-view+json": {
       "model_id": "4979762926094740afee4bba52ce0f82",
       "version_major": 2,
       "version_minor": 0
      },
      "text/plain": [
       "Downloading:   0%|          | 0.00/289 [00:00<?, ?B/s]"
      ]
     },
     "metadata": {},
     "output_type": "display_data"
    },
    {
     "data": {
      "application/vnd.jupyter.widget-view+json": {
       "model_id": "be20a93a4cc24369a4d57efb18e831f9",
       "version_major": 2,
       "version_minor": 0
      },
      "text/plain": [
       "Downloading:   0%|          | 0.00/425 [00:00<?, ?B/s]"
      ]
     },
     "metadata": {},
     "output_type": "display_data"
    },
    {
     "data": {
      "application/vnd.jupyter.widget-view+json": {
       "model_id": "dc5ba514859e4a62b5602110f8e4f1a4",
       "version_major": 2,
       "version_minor": 0
      },
      "text/plain": [
       "Downloading:   0%|          | 0.00/243k [00:00<?, ?B/s]"
      ]
     },
     "metadata": {},
     "output_type": "display_data"
    },
    {
     "data": {
      "application/vnd.jupyter.widget-view+json": {
       "model_id": "3568ad7f6bc046e386c7fb8cdc5bb4a9",
       "version_major": 2,
       "version_minor": 0
      },
      "text/plain": [
       "Downloading:   0%|          | 0.00/483k [00:00<?, ?B/s]"
      ]
     },
     "metadata": {},
     "output_type": "display_data"
    },
    {
     "data": {
      "application/vnd.jupyter.widget-view+json": {
       "model_id": "ee9c4134afcc43ec869fe57552a0d0ea",
       "version_major": 2,
       "version_minor": 0
      },
      "text/plain": [
       "Downloading:   0%|          | 0.00/125 [00:00<?, ?B/s]"
      ]
     },
     "metadata": {},
     "output_type": "display_data"
    }
   ],
   "source": [
    "from transformers import AutoTokenizer\n",
    "\n",
    "tokenizer_k = AutoTokenizer.from_pretrained(\"klue/bert-base\")"
   ]
  },
  {
   "cell_type": "code",
   "execution_count": 35,
   "id": "f9e68247",
   "metadata": {},
   "outputs": [
    {
     "data": {
      "text/plain": [
       "['▁아빠가', '▁가방', '을', '▁들고', '▁있어요']"
      ]
     },
     "execution_count": 35,
     "metadata": {},
     "output_type": "execute_result"
    }
   ],
   "source": [
    "# sentence piece 와 bert 모델 토크나이져와 사용 불가\n",
    "tokenizer.EncodeAsPieces(test_txt)"
   ]
  },
  {
   "cell_type": "code",
   "execution_count": 36,
   "id": "c60eacd7",
   "metadata": {},
   "outputs": [
    {
     "data": {
      "text/plain": [
       "['아빠', '##가', '가방', '##을', '들', '##고', '있', '##어요']"
      ]
     },
     "execution_count": 36,
     "metadata": {},
     "output_type": "execute_result"
    }
   ],
   "source": [
    "tokenizer_k.tokenize(test_txt)"
   ]
  },
  {
   "cell_type": "code",
   "execution_count": 37,
   "id": "51da6f49",
   "metadata": {},
   "outputs": [
    {
     "name": "stdout",
     "output_type": "stream",
     "text": [
      "True\n",
      "True\n"
     ]
    }
   ],
   "source": [
    "# data 준비\n",
    "print(len(train_f) == len(train['label']))\n",
    "print(len(test_f) == len(test['label']))"
   ]
  },
  {
   "cell_type": "code",
   "execution_count": 38,
   "id": "ebfb2acd",
   "metadata": {},
   "outputs": [
    {
     "data": {
      "text/plain": [
       "512"
      ]
     },
     "execution_count": 38,
     "metadata": {},
     "output_type": "execute_result"
    }
   ],
   "source": [
    "tokenizer_k.model_max_length"
   ]
  },
  {
   "cell_type": "code",
   "execution_count": 39,
   "id": "cd57f31b",
   "metadata": {},
   "outputs": [
    {
     "data": {
      "text/plain": [
       "['input_ids', 'token_type_ids', 'attention_mask']"
      ]
     },
     "execution_count": 39,
     "metadata": {},
     "output_type": "execute_result"
    }
   ],
   "source": [
    "tokenizer_k.model_input_names"
   ]
  },
  {
   "cell_type": "code",
   "execution_count": 46,
   "id": "f9984b94",
   "metadata": {},
   "outputs": [],
   "source": [
    "# huggingface framework 사용을 위해 데이터 준비\n",
    "train_ = pd.DataFrame({'values' : train_f, 'label' : train['label']}).reset_index(drop=True)\n",
    "test_ = pd.DataFrame({'values' : test_f, 'label' : test['label']}).reset_index(drop=True)\n",
    "\n",
    "# random sampling 1,5000 for training and 1,000 for test\n",
    "train_ = train_.sample(15000, random_state=123).reset_index(drop=True)\n",
    "test_ = test_.sample(1000, random_state=123).reset_index(drop=True)"
   ]
  },
  {
   "cell_type": "code",
   "execution_count": 47,
   "id": "e3cf6696",
   "metadata": {},
   "outputs": [],
   "source": [
    "from datasets import Dataset\n",
    "import datasets\n",
    "\n",
    "train_d = Dataset.from_pandas(train_)\n",
    "test_d = Dataset.from_pandas(test_)\n",
    "\n",
    "# datasetdict형태로 transformation\n",
    "dataset = datasets.DatasetDict({\"train\":train_d,\"test\":test_d})"
   ]
  },
  {
   "cell_type": "code",
   "execution_count": 48,
   "id": "fd5b11d3",
   "metadata": {},
   "outputs": [],
   "source": [
    "from datasets import ClassLabel\n",
    "\n",
    "#int2str 사용 가능하게 label 값을 classlabel 객채로 변환, \n",
    "dataset['train'].features['label'] = ClassLabel(\n",
    "    num_classes=2, \n",
    "    names=['negative','positive'])\n",
    "\n",
    "dataset['test'].features['label'] = ClassLabel(\n",
    "    num_classes=2, \n",
    "    names=['negative','positive'])"
   ]
  },
  {
   "cell_type": "code",
   "execution_count": 49,
   "id": "3bef43a6",
   "metadata": {},
   "outputs": [
    {
     "data": {
      "text/plain": [
       "DatasetDict({\n",
       "    train: Dataset({\n",
       "        features: ['values', 'label'],\n",
       "        num_rows: 15000\n",
       "    })\n",
       "    test: Dataset({\n",
       "        features: ['values', 'label'],\n",
       "        num_rows: 1000\n",
       "    })\n",
       "})"
      ]
     },
     "execution_count": 49,
     "metadata": {},
     "output_type": "execute_result"
    }
   ],
   "source": [
    "dataset"
   ]
  },
  {
   "cell_type": "code",
   "execution_count": 50,
   "id": "a6bcbc6a",
   "metadata": {},
   "outputs": [],
   "source": [
    "# 데이터 값 최종 확인\n",
    "dataset.set_format(type='pandas')\n",
    "df = dataset['train'][:]"
   ]
  },
  {
   "cell_type": "code",
   "execution_count": 51,
   "id": "7f7fc783",
   "metadata": {},
   "outputs": [
    {
     "data": {
      "text/html": [
       "<div>\n",
       "<style scoped>\n",
       "    .dataframe tbody tr th:only-of-type {\n",
       "        vertical-align: middle;\n",
       "    }\n",
       "\n",
       "    .dataframe tbody tr th {\n",
       "        vertical-align: top;\n",
       "    }\n",
       "\n",
       "    .dataframe thead th {\n",
       "        text-align: right;\n",
       "    }\n",
       "</style>\n",
       "<table border=\"1\" class=\"dataframe\">\n",
       "  <thead>\n",
       "    <tr style=\"text-align: right;\">\n",
       "      <th></th>\n",
       "      <th>values</th>\n",
       "      <th>label</th>\n",
       "      <th>label_name</th>\n",
       "    </tr>\n",
       "  </thead>\n",
       "  <tbody>\n",
       "    <tr>\n",
       "      <th>0</th>\n",
       "      <td>세월을 무시하는 상콤한 하이틴무비</td>\n",
       "      <td>1</td>\n",
       "      <td>positive</td>\n",
       "    </tr>\n",
       "    <tr>\n",
       "      <th>1</th>\n",
       "      <td>일베충은 보고 반성할것</td>\n",
       "      <td>1</td>\n",
       "      <td>positive</td>\n",
       "    </tr>\n",
       "    <tr>\n",
       "      <th>2</th>\n",
       "      <td>대만ㅅㅁ섬짱개들 이따구 쓰레기영화 만들거잇네이따걸왜 상영허냐 ! ! !</td>\n",
       "      <td>0</td>\n",
       "      <td>negative</td>\n",
       "    </tr>\n",
       "    <tr>\n",
       "      <th>3</th>\n",
       "      <td>역시 한국 영화다 보니까 스토리가좀</td>\n",
       "      <td>0</td>\n",
       "      <td>negative</td>\n",
       "    </tr>\n",
       "    <tr>\n",
       "      <th>4</th>\n",
       "      <td>평점을 보니 초딩들에게는 점짜리 영화인 듯</td>\n",
       "      <td>0</td>\n",
       "      <td>negative</td>\n",
       "    </tr>\n",
       "  </tbody>\n",
       "</table>\n",
       "</div>"
      ],
      "text/plain": [
       "                                     values  label label_name\n",
       "0                        세월을 무시하는 상콤한 하이틴무비      1   positive\n",
       "1                              일베충은 보고 반성할것      1   positive\n",
       "2  대만ㅅㅁ섬짱개들 이따구 쓰레기영화 만들거잇네이따걸왜 상영허냐 ! ! !       0   negative\n",
       "3                      역시 한국 영화다 보니까 스토리가좀       0   negative\n",
       "4                  평점을 보니 초딩들에게는 점짜리 영화인 듯       0   negative"
      ]
     },
     "execution_count": 51,
     "metadata": {},
     "output_type": "execute_result"
    }
   ],
   "source": [
    "def label_int2str(row):\n",
    "    return dataset[\"train\"].features[\"label\"].int2str(row)\n",
    "\n",
    "df[\"label_name\"] = df[\"label\"].apply(label_int2str)\n",
    "df.head()"
   ]
  },
  {
   "cell_type": "code",
   "execution_count": 52,
   "id": "ffed0ffb",
   "metadata": {},
   "outputs": [
    {
     "data": {
      "image/png": "[encoded data removed]",
      "text/plain": [
       "<Figure size 432x288 with 1 Axes>"
      ]
     },
     "metadata": {
      "needs_background": "light"
     },
     "output_type": "display_data"
    }
   ],
   "source": [
    "import matplotlib.pyplot as plt\n",
    "#레이블 값 균형이 잡혀있는지 확인\n",
    "df[\"label_name\"].value_counts(ascending=True).plot.barh()\n",
    "plt.title(\"Frequency of Classes\")\n",
    "plt.show()"
   ]
  },
  {
   "cell_type": "code",
   "execution_count": 53,
   "id": "7e771327",
   "metadata": {},
   "outputs": [],
   "source": [
    "# 인코딩하여 최종 데이터 dict 저장\n",
    "dataset.set_format(type=None)\n",
    "def tokenize(batch):\n",
    "    return tokenizer_k(batch['values'], padding=True, truncation=True)"
   ]
  },
  {
   "cell_type": "code",
   "execution_count": 54,
   "id": "a3b7f369",
   "metadata": {},
   "outputs": [
    {
     "data": {
      "application/vnd.jupyter.widget-view+json": {
       "model_id": "5881d4f00bbc4adb8a6216b2dcd3b3ff",
       "version_major": 2,
       "version_minor": 0
      },
      "text/plain": [
       "  0%|          | 0/1 [00:00<?, ?ba/s]"
      ]
     },
     "metadata": {},
     "output_type": "display_data"
    },
    {
     "data": {
      "application/vnd.jupyter.widget-view+json": {
       "model_id": "fe88662ae2584fb19149a1cbcb16daef",
       "version_major": 2,
       "version_minor": 0
      },
      "text/plain": [
       "  0%|          | 0/1 [00:00<?, ?ba/s]"
      ]
     },
     "metadata": {},
     "output_type": "display_data"
    }
   ],
   "source": [
    "dataset_encoded = dataset.map(tokenize, batched=True, batch_size=None)"
   ]
  },
  {
   "cell_type": "code",
   "execution_count": 55,
   "id": "98d7725e",
   "metadata": {},
   "outputs": [
    {
     "name": "stdout",
     "output_type": "stream",
     "text": [
      "['attention_mask', 'input_ids', 'label', 'token_type_ids', 'values']\n"
     ]
    }
   ],
   "source": [
    "# check columns\n",
    "print(dataset_encoded[\"train\"].column_names)"
   ]
  },
  {
   "cell_type": "markdown",
   "id": "a170271f",
   "metadata": {},
   "source": [
    "## Step 3 : modeling"
   ]
  },
  {
   "cell_type": "markdown",
   "id": "bc908de9",
   "metadata": {},
   "source": [
    "### 3.1 Baseline Model"
   ]
  },
  {
   "cell_type": "code",
   "execution_count": 74,
   "id": "4e1fb2cf",
   "metadata": {},
   "outputs": [],
   "source": [
    "import torch.nn as nn\n",
    "import torch\n",
    "from transformers import AutoModelForSequenceClassification, AutoModel"
   ]
  },
  {
   "cell_type": "code",
   "execution_count": 75,
   "id": "84450eaf",
   "metadata": {},
   "outputs": [],
   "source": [
    "model_ckpt = 'klue/bert-base' #load model by huggingface checkpoint id"
   ]
  },
  {
   "cell_type": "code",
   "execution_count": 76,
   "id": "30609a5f",
   "metadata": {},
   "outputs": [
    {
     "name": "stderr",
     "output_type": "stream",
     "text": [
      "Some weights of the model checkpoint at klue/bert-base were not used when initializing BertModel: ['cls.predictions.decoder.weight', 'cls.seq_relationship.weight', 'cls.predictions.transform.dense.weight', 'cls.predictions.transform.LayerNorm.weight', 'cls.predictions.transform.LayerNorm.bias', 'cls.seq_relationship.bias', 'cls.predictions.bias', 'cls.predictions.transform.dense.bias', 'cls.predictions.decoder.bias']\n",
      "- This IS expected if you are initializing BertModel from the checkpoint of a model trained on another task or with another architecture (e.g. initializing a BertForSequenceClassification model from a BertForPreTraining model).\n",
      "- This IS NOT expected if you are initializing BertModel from the checkpoint of a model that you expect to be exactly identical (initializing a BertForSequenceClassification model from a BertForSequenceClassification model).\n"
     ]
    }
   ],
   "source": [
    "# model\n",
    "device = torch.device('cuda' if torch.cuda.is_available() else 'cpu')\n",
    "model = (AutoModel\n",
    "         .from_pretrained(model_ckpt)\n",
    "         .to(device))"
   ]
  },
  {
   "cell_type": "code",
   "execution_count": 77,
   "id": "96b63203",
   "metadata": {},
   "outputs": [
    {
     "name": "stdout",
     "output_type": "stream",
     "text": [
      "입력 텐서 크기 : torch.Size([1, 8])\n"
     ]
    }
   ],
   "source": [
    "text = '와! 정말 재밌다~'\n",
    "inputs = tokenizer_k(text, return_tensors ='pt')\n",
    "print(f\"입력 텐서 크기 : {inputs['input_ids'].size()}\")"
   ]
  },
  {
   "cell_type": "code",
   "execution_count": 78,
   "id": "335aa81c",
   "metadata": {},
   "outputs": [
    {
     "name": "stdout",
     "output_type": "stream",
     "text": [
      "BaseModelOutputWithPoolingAndCrossAttentions(last_hidden_state=tensor([[[ 3.1418e-01, -1.1972e+00, -1.6140e-01,  ...,  7.3959e-01,\n",
      "          -1.7515e+00,  6.8540e-01],\n",
      "         [ 5.2498e-01, -6.4417e-01, -1.1196e-01,  ...,  6.5214e-01,\n",
      "           7.2646e-01,  8.4864e-01],\n",
      "         [-7.1085e-02, -2.5374e-01,  2.3147e-01,  ..., -1.0668e+00,\n",
      "           1.2168e-01,  2.2308e-01],\n",
      "         ...,\n",
      "         [-8.5548e-01, -4.1786e-02, -1.0770e+00,  ..., -1.9630e-02,\n",
      "          -8.9644e-01,  3.0567e-01],\n",
      "         [-2.8063e-01,  2.0007e-03, -2.2443e-02,  ..., -8.5091e-03,\n",
      "          -2.5301e-01,  1.1437e-01],\n",
      "         [ 1.1114e+00, -5.0673e-01,  4.0306e-01,  ...,  7.6922e-01,\n",
      "          -2.0717e+00,  1.5237e+00]]], device='cuda:0'), pooler_output=tensor([[ 0.5252, -0.5287,  0.4642, -0.9900,  0.3096, -0.4664, -0.4524, -0.1549,\n",
      "          0.9933, -1.0000, -0.4007, -0.9791,  0.3591, -0.5614,  0.0708, -0.9360,\n",
      "         -0.9994, -0.2200,  0.4487,  0.3043,  0.1601, -0.8950, -0.4358,  0.9952,\n",
      "         -0.1609, -0.3025, -0.9940, -0.3386, -0.8501, -0.7772,  0.7932, -0.8775,\n",
      "         -0.0789,  0.9273,  0.1817, -0.1539, -0.8379, -0.9099,  0.3241,  0.5794,\n",
      "          0.2063,  0.4345, -0.7440,  0.9998,  0.9874, -0.1794, -0.7858, -0.8457,\n",
      "          0.6256,  0.0907,  0.9696, -0.3386,  0.9963,  0.3637,  0.5484,  0.6003,\n",
      "          0.9849, -0.9999, -0.5902, -0.1462,  0.6144, -0.0807,  1.0000, -0.1288,\n",
      "         -0.7720, -0.5889, -0.9999, -0.2957,  1.0000, -0.3745, -0.4483,  0.9999,\n",
      "          0.7318, -0.6297, -0.3112,  0.1051,  0.2242,  1.0000, -0.0311,  0.2324,\n",
      "         -0.9994, -0.4985, -0.7906,  0.2711, -0.7435, -0.9978,  0.8374,  1.0000,\n",
      "          0.2934, -0.8572, -0.9632, -0.3829, -0.3269,  0.0653,  0.0621, -0.4874,\n",
      "          0.9818, -0.7490, -0.2802, -0.4162, -0.7724,  0.0204, -0.8364, -0.6548,\n",
      "         -0.8208, -0.2418,  0.9968,  0.5819,  0.2807,  0.4646, -0.7874,  0.5475,\n",
      "          0.3220, -0.2961,  0.8878, -0.3634,  0.9293,  0.2737, -0.0441, -0.7753,\n",
      "         -0.2694, -0.7638, -0.9997, -0.0266,  0.3425, -0.4315,  0.1206,  0.9996,\n",
      "          0.9828,  0.3919,  0.5430,  0.5609, -0.7659, -0.9999, -0.1987,  0.7314,\n",
      "         -0.4713,  0.9925,  0.9863, -0.7999,  1.0000,  0.9965,  0.5138,  0.9927,\n",
      "          0.2343,  0.7592,  0.1904,  0.1975, -0.1935, -0.1286, -1.0000,  0.6540,\n",
      "         -0.4172, -0.9844, -0.5852, -0.3952, -0.0031,  0.1565, -0.9978, -0.2330,\n",
      "          0.4788, -0.9908,  0.7716,  0.2013, -0.2076,  0.5442, -0.1277,  0.5704,\n",
      "          0.3471,  0.0773,  0.9199,  1.0000, -0.5176, -0.0638, -0.1508,  0.5638,\n",
      "         -0.2151, -0.5051,  0.2930, -0.1955, -0.6483,  0.3449, -0.9356,  0.2015,\n",
      "          0.5925, -0.5919, -0.3253, -0.9995, -0.4491, -0.5933,  0.9644, -0.9151,\n",
      "          0.9605, -0.9707, -0.2664,  0.3737,  0.2024, -0.1910, -0.0310,  0.3804,\n",
      "         -0.0276,  0.2481, -0.9804,  0.4332,  0.9590,  0.9743,  1.0000,  0.1252,\n",
      "          0.1762, -0.4748,  0.3621, -0.3903, -0.0165,  0.4114, -0.7888, -0.2182,\n",
      "         -0.3610,  0.9775,  0.3944, -0.3635, -0.8354, -0.1180,  0.2343, -0.5224,\n",
      "         -0.6874, -0.3484,  0.8214, -0.1061,  0.8446, -0.2143, -0.1439, -0.9994,\n",
      "          0.1177, -0.5994, -1.0000, -0.0863, -0.6980,  0.7921,  0.5400, -0.9874,\n",
      "         -0.3365, -0.2177, -0.2493, -0.2664, -0.1441,  0.2693,  0.7927, -0.2542,\n",
      "         -0.3335, -0.6743, -0.9870, -0.9251, -0.3647,  0.3777,  1.0000,  0.5971,\n",
      "          0.1630,  0.3341,  0.9826,  0.4568, -0.9998, -0.3437, -0.9358,  0.1556,\n",
      "          0.7386,  0.9733, -0.1301,  0.2429, -1.0000, -1.0000,  0.3999,  0.7990,\n",
      "          0.2443, -0.5653,  0.2766,  0.2874, -0.1407, -0.3011, -1.0000, -0.3012,\n",
      "         -0.2122,  1.0000, -0.0045,  0.3471, -0.0158, -0.8077,  0.7038, -0.5081,\n",
      "         -0.1676,  0.9932, -0.3417,  0.9999,  0.4511,  0.2726,  0.1532,  0.2740,\n",
      "          0.4020, -0.5685, -0.3080,  0.2232,  0.9658, -0.8816, -0.7745,  0.9931,\n",
      "          0.6200, -0.9956,  0.9988, -0.5970,  0.0464,  0.5488,  0.6698,  0.5237,\n",
      "          0.9963,  0.2803,  0.5880,  0.2875, -0.9727, -0.5438,  0.4291,  0.0316,\n",
      "         -0.1313,  1.0000, -0.8785,  0.0338, -0.7065, -0.9985,  0.2041,  0.9992,\n",
      "         -0.3845, -0.9936,  0.0316, -0.3366, -0.0739,  0.6792,  0.3283,  0.1227,\n",
      "         -0.5957,  0.9958, -0.9992,  0.8928,  0.0969,  0.0163,  0.1008,  0.4494,\n",
      "          0.1534, -0.9997, -0.5568,  0.4958,  0.0918, -0.9229, -0.9999,  0.7038,\n",
      "         -0.4846, -0.8206,  0.9165,  0.3404, -0.0532, -0.9878, -0.9842, -0.4082,\n",
      "         -0.8277, -0.6855, -0.7962, -0.0250,  0.4613, -0.2067,  0.8185, -0.1783,\n",
      "          0.7143, -0.0476, -0.1053,  0.0269, -0.2363,  0.0666,  0.3410,  0.3171,\n",
      "         -0.9825, -1.0000, -0.9814,  0.4914,  1.0000, -0.4692,  0.6504, -1.0000,\n",
      "         -0.4215, -0.1681, -0.9940,  0.8394,  0.3241, -0.1599, -0.8487, -0.1239,\n",
      "          0.0428, -0.6625,  0.9982, -0.3892,  0.9991, -0.9174,  0.2472,  0.9972,\n",
      "          0.3175,  0.1274,  0.0985,  0.5910,  0.9520, -0.0428,  1.0000,  0.4168,\n",
      "         -0.2552, -0.5808, -0.9987,  0.4611, -0.0045, -0.3213, -0.9473,  0.1175,\n",
      "          0.3386,  0.3536,  0.3537,  0.9778,  0.2376, -0.9966, -0.8392, -0.8235,\n",
      "          0.9990,  0.5642, -0.2839,  0.1332, -0.1037,  0.3391, -0.0637, -1.0000,\n",
      "         -0.9613,  0.5669, -0.4497, -0.6406, -0.0329, -0.0854, -0.2298, -0.2155,\n",
      "          0.0556,  0.0760,  0.3854,  0.3260, -0.7787,  0.9990,  0.5905, -0.1308,\n",
      "          0.1635,  0.9405, -0.8458, -0.6201, -0.1580,  0.5794, -0.4630,  0.5155,\n",
      "          0.5328, -0.6646,  0.3428,  0.4968,  0.7161, -0.5583, -0.7284,  0.7065,\n",
      "         -0.7948,  1.0000,  0.0203, -0.8015, -0.7595, -0.7146, -0.2473, -0.4719,\n",
      "         -0.5718,  0.6140, -0.0205,  0.2352, -0.0195, -1.0000,  0.9028,  0.7661,\n",
      "          0.4211,  0.1098,  0.3930,  0.8277, -0.9978,  0.0197, -0.4101,  0.3947,\n",
      "          0.7326,  0.8315,  0.5574,  0.9999,  0.7489, -0.2255,  0.7910, -0.2505,\n",
      "          0.5453, -0.0103, -0.5683, -0.6617,  0.1356, -0.4414, -0.2498,  0.2822,\n",
      "          0.1185, -0.2059,  0.9480, -0.3344,  0.4993,  0.1476,  0.2060, -0.8829,\n",
      "         -0.9985,  0.1382,  0.9831, -0.7543, -0.1090,  0.3886, -0.9865, -0.5627,\n",
      "          0.3057,  0.4812, -0.1033, -0.2598, -0.9969,  0.5082,  0.2008,  0.0584,\n",
      "         -0.9183,  0.5003,  0.7542, -0.2218, -0.3619,  0.1324, -0.9783, -0.2081,\n",
      "          0.0851, -0.0054,  0.1483,  0.6479, -0.3650,  0.3403, -0.8872,  0.6559,\n",
      "         -0.9992,  0.9932, -0.9957, -0.4591,  0.9699, -0.4097,  0.4234,  0.5020,\n",
      "          0.0057,  0.7429,  0.9670, -0.9857, -0.5968,  0.0951,  0.3128, -0.0722,\n",
      "          0.2026, -0.7421, -0.6814, -0.1322,  0.8707, -0.9343, -0.9982,  0.2559,\n",
      "         -1.0000,  0.5585, -0.9977, -0.3704, -0.7012, -0.5116, -0.9984, -0.7763,\n",
      "         -0.7890, -0.2445, -0.5700, -0.2528, -0.7503, -0.0311, -0.4752, -0.9741,\n",
      "         -0.7918, -0.0835, -0.6086, -0.4534,  0.0505, -0.2337, -0.1661,  0.5739,\n",
      "          0.7663, -0.5311, -0.7010, -0.0071,  0.4575,  1.0000,  0.4031, -0.2760,\n",
      "          0.3503, -0.3158, -0.4824, -0.5889, -0.2266,  0.3505,  0.4556,  0.3387,\n",
      "         -0.4269, -0.9929, -0.4216,  0.1302, -0.0710,  0.0043, -0.5359,  0.1455,\n",
      "         -0.4173,  0.6324, -0.7789, -0.5240,  0.3013, -0.0016,  0.9769,  0.8108,\n",
      "          0.0016, -0.9996,  0.9999,  0.9539,  0.0560, -0.6054, -0.5059,  0.9380,\n",
      "          0.5925,  0.3481, -0.9930, -0.9939,  0.2830,  0.9945,  0.8189,  0.1808,\n",
      "         -0.9994,  0.9619, -0.5238,  0.5759,  0.2417,  1.0000, -0.1005,  1.0000,\n",
      "          0.0311, -0.5474,  0.7010,  0.2521, -1.0000, -0.7563, -1.0000,  1.0000,\n",
      "         -0.5612,  0.9997,  0.2491, -0.2840, -0.4884, -0.9966,  0.6058, -0.0872,\n",
      "          0.1126,  0.9972,  0.1587, -0.1682, -0.7572,  0.4851,  0.1950, -0.9145,\n",
      "          0.9112, -0.8715,  0.1535, -0.3230,  0.5459, -0.9000,  1.0000, -0.1942,\n",
      "          0.1753,  0.8697,  0.4102, -0.7727,  0.4086,  0.2988,  0.7230,  0.0868,\n",
      "         -0.2999, -0.0801, -0.2121, -0.2603, -0.1182,  0.3131, -0.9306,  0.0618,\n",
      "         -0.4103, -0.2514,  0.1548,  0.9976, -0.2307, -0.6149, -0.5125,  0.3007,\n",
      "         -0.9685,  0.9752,  0.0563, -0.4330,  0.9819,  0.1137,  0.9907,  0.6964,\n",
      "          0.7578, -0.0452, -0.9229, -0.9999,  0.2112, -0.0816, -0.4618, -0.0571,\n",
      "         -0.9277,  0.9938, -0.3266,  0.8763, -0.8196,  0.4535, -0.9996,  0.3959,\n",
      "          0.3521, -0.4918,  0.4725,  0.9888,  0.0403,  0.6587,  0.2557, -0.9997,\n",
      "         -0.9945,  0.1590,  0.6234, -0.4530, -0.7011, -0.2434,  0.3207, -0.0936,\n",
      "          1.0000,  0.3732, -0.9351, -0.5220, -0.0573,  0.4680,  0.5064, -0.9696,\n",
      "         -0.2132,  0.1089, -0.6693,  0.1730,  0.9709, -1.0000, -0.9694,  0.4466,\n",
      "          0.2755,  0.0554,  0.7817,  0.6035, -0.1493,  0.5521,  0.1219,  0.1805]],\n",
      "       device='cuda:0'), hidden_states=None, past_key_values=None, attentions=None, cross_attentions=None)\n"
     ]
    }
   ],
   "source": [
    "# feature extraction test\n",
    "inputs = {k:v.to(device) for k,v in inputs.items()}\n",
    "with torch.no_grad() :\n",
    "    outputs = model(**inputs)\n",
    "print(outputs)"
   ]
  },
  {
   "cell_type": "code",
   "execution_count": 80,
   "id": "1ada48b0",
   "metadata": {},
   "outputs": [
    {
     "data": {
      "text/plain": [
       "torch.Size([1, 768])"
      ]
     },
     "execution_count": 80,
     "metadata": {},
     "output_type": "execute_result"
    }
   ],
   "source": [
    "outputs.pooler_output.size() #CLS token hidden만 사용"
   ]
  },
  {
   "cell_type": "code",
   "execution_count": 88,
   "id": "5eb9b020",
   "metadata": {},
   "outputs": [],
   "source": [
    "def extract_hidden_states(batch) :\n",
    "    inputs = {k:v.to(device) for k,v in batch.items() \n",
    "              if k in tokenizer_k.model_input_names}\n",
    "    \n",
    "    with torch.no_grad():\n",
    "        last_hidden_state = model(**inputs).pooler_output \n",
    "        \n",
    "    return {'hidden_state': last_hidden_state.cpu().numpy()}"
   ]
  },
  {
   "cell_type": "code",
   "execution_count": 89,
   "id": "a275827a",
   "metadata": {},
   "outputs": [
    {
     "data": {
      "text/plain": [
       "['input_ids', 'token_type_ids', 'attention_mask']"
      ]
     },
     "execution_count": 89,
     "metadata": {},
     "output_type": "execute_result"
    }
   ],
   "source": [
    "tokenizer_k.model_input_names"
   ]
  },
  {
   "cell_type": "code",
   "execution_count": 90,
   "id": "792164c7",
   "metadata": {},
   "outputs": [],
   "source": [
    "dataset_encoded.set_format('torch', columns =tokenizer_k.model_input_names) # 사용할 컬럼만 pytorch tensor로 변환"
   ]
  },
  {
   "cell_type": "code",
   "execution_count": 91,
   "id": "1fae52ce",
   "metadata": {},
   "outputs": [
    {
     "data": {
      "application/vnd.jupyter.widget-view+json": {
       "model_id": "cf3381f84dc44a96808cf5785f9c8c88",
       "version_major": 2,
       "version_minor": 0
      },
      "text/plain": [
       "  0%|          | 0/15 [00:00<?, ?ba/s]"
      ]
     },
     "metadata": {},
     "output_type": "display_data"
    },
    {
     "data": {
      "application/vnd.jupyter.widget-view+json": {
       "model_id": "6d6eb9db4b7d43b2b41f4390774b9c44",
       "version_major": 2,
       "version_minor": 0
      },
      "text/plain": [
       "  0%|          | 0/1 [00:00<?, ?ba/s]"
      ]
     },
     "metadata": {},
     "output_type": "display_data"
    }
   ],
   "source": [
    "dataset_hidden = dataset_encoded.map(extract_hidden_states, batched =True)"
   ]
  },
  {
   "cell_type": "code",
   "execution_count": 94,
   "id": "8f39f4f4",
   "metadata": {},
   "outputs": [
    {
     "data": {
      "text/plain": [
       "['attention_mask',\n",
       " 'hidden_state',\n",
       " 'input_ids',\n",
       " 'label',\n",
       " 'token_type_ids',\n",
       " 'values']"
      ]
     },
     "execution_count": 94,
     "metadata": {},
     "output_type": "execute_result"
    }
   ],
   "source": [
    "dataset_hidden['train'].column_names"
   ]
  },
  {
   "cell_type": "code",
   "execution_count": 95,
   "id": "baaee163",
   "metadata": {},
   "outputs": [
    {
     "name": "stdout",
     "output_type": "stream",
     "text": [
      "(15000, 768) (1000, 768)\n"
     ]
    }
   ],
   "source": [
    "# train, test set split\n",
    "X_train = np.array(dataset_hidden['train']['hidden_state'])\n",
    "X_valid = np.array(dataset_hidden['test']['hidden_state'])\n",
    "y_train = np.array(dataset_hidden['train']['label'])\n",
    "y_valid = np.array(dataset_hidden['test']['label'])\n",
    "print(X_train.shape, X_valid.shape)"
   ]
  },
  {
   "cell_type": "code",
   "execution_count": 97,
   "id": "84a41c1a",
   "metadata": {},
   "outputs": [
    {
     "data": {
      "text/plain": [
       "GaussianNB()"
      ]
     },
     "execution_count": 97,
     "metadata": {},
     "output_type": "execute_result"
    }
   ],
   "source": [
    "from sklearn.naive_bayes import GaussianNB\n",
    "baseline_model = GaussianNB()\n",
    "baseline_model.fit(X_train, y_train)"
   ]
  },
  {
   "cell_type": "code",
   "execution_count": 100,
   "id": "9a231755",
   "metadata": {},
   "outputs": [
    {
     "name": "stdout",
     "output_type": "stream",
     "text": [
      "baseline model accuracy score : 0.707\n"
     ]
    }
   ],
   "source": [
    "from sklearn.metrics import accuracy_score\n",
    "prediction = baseline_model.predict(X_valid)\n",
    "accuracy = accuracy_score(y_valid, prediction)\n",
    "print(f'baseline model accuracy score : {accuracy}')"
   ]
  },
  {
   "cell_type": "code",
   "execution_count": 101,
   "id": "34fee649",
   "metadata": {},
   "outputs": [],
   "source": [
    "results_dict = {'baseline' : accuracy} # 비교 분석을 위해 결과 저장"
   ]
  },
  {
   "cell_type": "code",
   "execution_count": null,
   "id": "e5bea3e5",
   "metadata": {},
   "outputs": [],
   "source": [
    "## 현재 여기까지 작업 --------------"
   ]
  },
  {
   "cell_type": "markdown",
   "id": "b66d0726",
   "metadata": {},
   "source": [
    "### 3.2 Fine-Tuning"
   ]
  },
  {
   "cell_type": "code",
   "execution_count": 70,
   "id": "7410aeef",
   "metadata": {},
   "outputs": [],
   "source": [
    "#config\n",
    "from transformers import AutoConfig\n",
    "id2label = {0: \"NEGATIVE\", 1: \"POSITIVE\"}\n",
    "label2id = {\"NEGATIVE\": 0, \"POSITIVE\": 1}\n",
    "klue_config = AutoConfig.from_pretrained(model_ckpt,\n",
    "                                        num_labels=2,\n",
    "                                        id2label =id2label,\n",
    "                                        label2id=label2id)"
   ]
  },
  {
   "cell_type": "code",
   "execution_count": null,
   "id": "e7556606",
   "metadata": {},
   "outputs": [],
   "source": [
    "# model\n",
    "device = torch.device('cuda' if torch.cuda.is_available() else 'cpu')\n",
    "model = (AutoModelForSequenceClassification\n",
    "         .from_pretrained(model_ckpt)\n",
    "         .to(device))"
   ]
  },
  {
   "cell_type": "code",
   "execution_count": 67,
   "id": "a28cf432",
   "metadata": {},
   "outputs": [],
   "source": [
    "#configure training arg\n",
    "batch_size= 64\n",
    "num_epochs = 3\n",
    "\n",
    "from transformers import TrainingArguments, Trainer\n",
    "training_args = TrainingArguments(output_dir=\"test_trainer\", \n",
    "                                  num_train_epochs = num_epochs,\n",
    "                                  log_level='error',\n",
    "                                  per_device_train_batch_size=batch_size,\n",
    "                                  per_device_eval_batch_size=batch_size,\n",
    "                                  save_steps=1e6, weight_decay =0.01, disable_tqdm=False )"
   ]
  },
  {
   "cell_type": "code",
   "execution_count": 68,
   "id": "581f8ccf",
   "metadata": {},
   "outputs": [],
   "source": [
    "from sklearn.metrics import accuracy_score\n",
    "\n",
    "def compute_metrics(eval_pred):\n",
    "    predictions, labels = eval_pred\n",
    "    return accuracy_score(labels, predictions)"
   ]
  },
  {
   "cell_type": "code",
   "execution_count": 62,
   "id": "2da3021e",
   "metadata": {},
   "outputs": [],
   "source": [
    "# generate data collator\n",
    "from transformers import DataCollatorWithPadding\n",
    "data_collator =  DataCollatorWithPadding(tokenizer=tokenizer_k, return_tensors=\"pt\")"
   ]
  },
  {
   "cell_type": "code",
   "execution_count": 71,
   "id": "50d37d94",
   "metadata": {},
   "outputs": [],
   "source": [
    "#trainer\n",
    "trainer = Trainer(\n",
    "    model=model,\n",
    "    args=training_args,\n",
    "    data_collator = data_collator,\n",
    "    train_dataset=dataset_encoded['train'],\n",
    "    eval_dataset=dataset_encoded['test'],\n",
    "    compute_metrics = compute_metrics,\n",
    "    tokenizer=tokenizer)"
   ]
  },
  {
   "cell_type": "code",
   "execution_count": 73,
   "id": "9ff3f0a0",
   "metadata": {},
   "outputs": [],
   "source": [
    "# trainer.train()"
   ]
  },
  {
   "cell_type": "markdown",
   "id": "c537f6d2",
   "metadata": {},
   "source": [
    "## Step 4 : evaluation"
   ]
  }
 ],
 "metadata": {
  "kernelspec": {
   "display_name": "Python 3 (ipykernel)",
   "language": "python",
   "name": "python3"
  },
  "language_info": {
   "codemirror_mode": {
    "name": "ipython",
    "version": 3
   },
   "file_extension": ".py",
   "mimetype": "text/x-python",
   "name": "python",
   "nbconvert_exporter": "python",
   "pygments_lexer": "ipython3",
   "version": "3.9.7"
  }
 },
 "nbformat": 4,
 "nbformat_minor": 5
}
