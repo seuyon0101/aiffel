{
 "cells": [
  {
   "cell_type": "markdown",
   "id": "3400ba7e",
   "metadata": {},
   "source": [
    "# 🤗 프로젝트 : 커스텀 프로젝트 직접 만들기"
   ]
  },
  {
   "cell_type": "markdown",
   "id": "925248d4",
   "metadata": {},
   "source": [
    "klue/bert-base 를 사용하여 NSMC task를 수행하라.\n",
    "> - https://huggingface.co/klue/bert-base\n",
    "> - https://github.com/e9t/nsmc"
   ]
  },
  {
   "cell_type": "markdown",
   "id": "21812286",
   "metadata": {},
   "source": [
    "### 평가항목 1:\n",
    "\n",
    "- sentence piece를 사용해 토크나이징 한 후\n",
    "- klue/bert-base를 특성추출기로 사용해 base-line 성능을 기록했다."
   ]
  },
  {
   "cell_type": "markdown",
   "id": "03904b0a",
   "metadata": {},
   "source": [
    "### 평가항목 2: \n",
    "\n",
    "- 적절한 전처리와 fine-tuning을 통해 val_acc를 90% 이상 달성했다."
   ]
  },
  {
   "cell_type": "markdown",
   "id": "134325c1",
   "metadata": {},
   "source": [
    "### 평가항목 3:\n",
    "\n",
    "- 클래스 분포를 살펴보고 Bucketing을 수행하여 어떤 효과를 기대할 수 있는지 예상한 결과를 기록했다.\n",
    "\n",
    "- Bucketing을 수행하여 finetuning 시 연산속도와 모델성능간의 trade-off관계가 발생하는지 여부를 확인하고 분석한 결과를 제시하였다."
   ]
  },
  {
   "cell_type": "markdown",
   "id": "5a577514",
   "metadata": {},
   "source": [
    "## Step 1 : preprocessing"
   ]
  },
  {
   "cell_type": "code",
   "execution_count": 8,
   "id": "9e26cfb5",
   "metadata": {},
   "outputs": [
    {
     "name": "stdout",
     "output_type": "stream",
     "text": [
      "--2023-02-13 02:40:36--  https://raw.githubusercontent.com/e9t/nsmc/master/ratings_test.txt\n",
      "Resolving raw.githubusercontent.com (raw.githubusercontent.com)... 185.199.110.133, 185.199.108.133, 185.199.111.133, ...\n",
      "Connecting to raw.githubusercontent.com (raw.githubusercontent.com)|185.199.110.133|:443... connected.\n",
      "HTTP request sent, awaiting response... 200 OK\n",
      "Length: 4893335 (4.7M) [text/plain]\n",
      "Saving to: ‘ratings_test.txt’\n",
      "\n",
      "ratings_test.txt    100%[===================>]   4.67M  --.-KB/s    in 0.06s   \n",
      "\n",
      "2023-02-13 02:40:36 (78.9 MB/s) - ‘ratings_test.txt’ saved [4893335/4893335]\n",
      "\n"
     ]
    }
   ],
   "source": [
    "# excel 파일에 outline 같이 짜기\n",
    "# ! wget https://raw.githubusercontent.com/e9t/nsmc/master/ratings_train.txt\n",
    "# ! wget https://raw.githubusercontent.com/e9t/nsmc/master/ratings_test.txt"
   ]
  },
  {
   "cell_type": "code",
   "execution_count": 1,
   "id": "83eebaf0",
   "metadata": {},
   "outputs": [
    {
     "name": "stdout",
     "output_type": "stream",
     "text": [
      "ratings_test.txt  ratings_train.txt\r\n"
     ]
    }
   ],
   "source": [
    "# 데이터 다운로드 되었는지 확인\n",
    "!ls rating*"
   ]
  },
  {
   "cell_type": "code",
   "execution_count": 2,
   "id": "e1869381",
   "metadata": {},
   "outputs": [],
   "source": [
    "# pandas library 확인\n",
    "import pandas as pd\n",
    "import numpy as np"
   ]
  },
  {
   "cell_type": "code",
   "execution_count": 3,
   "id": "b11e7958",
   "metadata": {},
   "outputs": [],
   "source": [
    "# pandas 로 다운로드 파일 데이터프레임 생성\n",
    "train = pd.read_table('./ratings_train.txt')\n",
    "test = pd.read_table('./ratings_test.txt')"
   ]
  },
  {
   "cell_type": "code",
   "execution_count": 4,
   "id": "46705779",
   "metadata": {},
   "outputs": [],
   "source": [
    "train_cp = train.copy()\n",
    "test_cp = test.copy()"
   ]
  },
  {
   "cell_type": "code",
   "execution_count": 5,
   "id": "e33f6833",
   "metadata": {},
   "outputs": [],
   "source": [
    "idx = train_cp['document'].duplicated()"
   ]
  },
  {
   "cell_type": "code",
   "execution_count": 6,
   "id": "6e6b74f6",
   "metadata": {},
   "outputs": [
    {
     "name": "stdout",
     "output_type": "stream",
     "text": [
      "<class 'pandas.core.frame.DataFrame'>\n",
      "RangeIndex: 150000 entries, 0 to 149999\n",
      "Data columns (total 3 columns):\n",
      " #   Column    Non-Null Count   Dtype \n",
      "---  ------    --------------   ----- \n",
      " 0   id        150000 non-null  int64 \n",
      " 1   document  149995 non-null  object\n",
      " 2   label     150000 non-null  int64 \n",
      "dtypes: int64(2), object(1)\n",
      "memory usage: 3.4+ MB\n"
     ]
    }
   ],
   "source": [
    "# 데이터 확인\n",
    "train.info() # null-value 확인 5개"
   ]
  },
  {
   "cell_type": "code",
   "execution_count": 7,
   "id": "cf8fe9c7",
   "metadata": {},
   "outputs": [
    {
     "name": "stdout",
     "output_type": "stream",
     "text": [
      "<class 'pandas.core.frame.DataFrame'>\n",
      "RangeIndex: 50000 entries, 0 to 49999\n",
      "Data columns (total 3 columns):\n",
      " #   Column    Non-Null Count  Dtype \n",
      "---  ------    --------------  ----- \n",
      " 0   id        50000 non-null  int64 \n",
      " 1   document  49997 non-null  object\n",
      " 2   label     50000 non-null  int64 \n",
      "dtypes: int64(2), object(1)\n",
      "memory usage: 1.1+ MB\n"
     ]
    }
   ],
   "source": [
    "# 데이터 확인\n",
    "test.info() # null-value 확인 3개"
   ]
  },
  {
   "cell_type": "code",
   "execution_count": 8,
   "id": "9cd4fcdd",
   "metadata": {},
   "outputs": [
    {
     "data": {
      "text/html": [
       "<div>\n",
       "<style scoped>\n",
       "    .dataframe tbody tr th:only-of-type {\n",
       "        vertical-align: middle;\n",
       "    }\n",
       "\n",
       "    .dataframe tbody tr th {\n",
       "        vertical-align: top;\n",
       "    }\n",
       "\n",
       "    .dataframe thead th {\n",
       "        text-align: right;\n",
       "    }\n",
       "</style>\n",
       "<table border=\"1\" class=\"dataframe\">\n",
       "  <thead>\n",
       "    <tr style=\"text-align: right;\">\n",
       "      <th></th>\n",
       "      <th>id</th>\n",
       "      <th>document</th>\n",
       "      <th>label</th>\n",
       "    </tr>\n",
       "  </thead>\n",
       "  <tbody>\n",
       "    <tr>\n",
       "      <th>0</th>\n",
       "      <td>9976970</td>\n",
       "      <td>아 더빙.. 진짜 짜증나네요 목소리</td>\n",
       "      <td>0</td>\n",
       "    </tr>\n",
       "    <tr>\n",
       "      <th>1</th>\n",
       "      <td>3819312</td>\n",
       "      <td>흠...포스터보고 초딩영화줄....오버연기조차 가볍지 않구나</td>\n",
       "      <td>1</td>\n",
       "    </tr>\n",
       "    <tr>\n",
       "      <th>2</th>\n",
       "      <td>10265843</td>\n",
       "      <td>너무재밓었다그래서보는것을추천한다</td>\n",
       "      <td>0</td>\n",
       "    </tr>\n",
       "    <tr>\n",
       "      <th>3</th>\n",
       "      <td>9045019</td>\n",
       "      <td>교도소 이야기구먼 ..솔직히 재미는 없다..평점 조정</td>\n",
       "      <td>0</td>\n",
       "    </tr>\n",
       "    <tr>\n",
       "      <th>4</th>\n",
       "      <td>6483659</td>\n",
       "      <td>사이몬페그의 익살스런 연기가 돋보였던 영화!스파이더맨에서 늙어보이기만 했던 커스틴 ...</td>\n",
       "      <td>1</td>\n",
       "    </tr>\n",
       "  </tbody>\n",
       "</table>\n",
       "</div>"
      ],
      "text/plain": [
       "         id                                           document  label\n",
       "0   9976970                                아 더빙.. 진짜 짜증나네요 목소리      0\n",
       "1   3819312                  흠...포스터보고 초딩영화줄....오버연기조차 가볍지 않구나      1\n",
       "2  10265843                                  너무재밓었다그래서보는것을추천한다      0\n",
       "3   9045019                      교도소 이야기구먼 ..솔직히 재미는 없다..평점 조정      0\n",
       "4   6483659  사이몬페그의 익살스런 연기가 돋보였던 영화!스파이더맨에서 늙어보이기만 했던 커스틴 ...      1"
      ]
     },
     "execution_count": 8,
     "metadata": {},
     "output_type": "execute_result"
    }
   ],
   "source": [
    "train.head()"
   ]
  },
  {
   "cell_type": "code",
   "execution_count": 9,
   "id": "c0896b8a",
   "metadata": {},
   "outputs": [
    {
     "data": {
      "text/html": [
       "<div>\n",
       "<style scoped>\n",
       "    .dataframe tbody tr th:only-of-type {\n",
       "        vertical-align: middle;\n",
       "    }\n",
       "\n",
       "    .dataframe tbody tr th {\n",
       "        vertical-align: top;\n",
       "    }\n",
       "\n",
       "    .dataframe thead th {\n",
       "        text-align: right;\n",
       "    }\n",
       "</style>\n",
       "<table border=\"1\" class=\"dataframe\">\n",
       "  <thead>\n",
       "    <tr style=\"text-align: right;\">\n",
       "      <th></th>\n",
       "      <th>id</th>\n",
       "      <th>document</th>\n",
       "      <th>label</th>\n",
       "    </tr>\n",
       "  </thead>\n",
       "  <tbody>\n",
       "    <tr>\n",
       "      <th>0</th>\n",
       "      <td>6270596</td>\n",
       "      <td>굳 ㅋ</td>\n",
       "      <td>1</td>\n",
       "    </tr>\n",
       "    <tr>\n",
       "      <th>1</th>\n",
       "      <td>9274899</td>\n",
       "      <td>GDNTOPCLASSINTHECLUB</td>\n",
       "      <td>0</td>\n",
       "    </tr>\n",
       "    <tr>\n",
       "      <th>2</th>\n",
       "      <td>8544678</td>\n",
       "      <td>뭐야 이 평점들은.... 나쁘진 않지만 10점 짜리는 더더욱 아니잖아</td>\n",
       "      <td>0</td>\n",
       "    </tr>\n",
       "    <tr>\n",
       "      <th>3</th>\n",
       "      <td>6825595</td>\n",
       "      <td>지루하지는 않은데 완전 막장임... 돈주고 보기에는....</td>\n",
       "      <td>0</td>\n",
       "    </tr>\n",
       "    <tr>\n",
       "      <th>4</th>\n",
       "      <td>6723715</td>\n",
       "      <td>3D만 아니었어도 별 다섯 개 줬을텐데.. 왜 3D로 나와서 제 심기를 불편하게 하죠??</td>\n",
       "      <td>0</td>\n",
       "    </tr>\n",
       "  </tbody>\n",
       "</table>\n",
       "</div>"
      ],
      "text/plain": [
       "        id                                           document  label\n",
       "0  6270596                                                굳 ㅋ      1\n",
       "1  9274899                               GDNTOPCLASSINTHECLUB      0\n",
       "2  8544678             뭐야 이 평점들은.... 나쁘진 않지만 10점 짜리는 더더욱 아니잖아      0\n",
       "3  6825595                   지루하지는 않은데 완전 막장임... 돈주고 보기에는....      0\n",
       "4  6723715  3D만 아니었어도 별 다섯 개 줬을텐데.. 왜 3D로 나와서 제 심기를 불편하게 하죠??      0"
      ]
     },
     "execution_count": 9,
     "metadata": {},
     "output_type": "execute_result"
    }
   ],
   "source": [
    "test.head()"
   ]
  },
  {
   "cell_type": "code",
   "execution_count": 10,
   "id": "3efe1e15",
   "metadata": {},
   "outputs": [],
   "source": [
    "# document length\n",
    "train['doc_len'] = train['document'].apply(lambda x: len(str(x)))\n",
    "test['doc_len'] = test['document'].apply(lambda x: len(str(x)))"
   ]
  },
  {
   "cell_type": "code",
   "execution_count": 11,
   "id": "555551bb",
   "metadata": {},
   "outputs": [
    {
     "data": {
      "text/plain": [
       "<AxesSubplot:>"
      ]
     },
     "execution_count": 11,
     "metadata": {},
     "output_type": "execute_result"
    },
    {
     "data": {
      "image/png": "[encoded data removed]",
      "text/plain": [
       "<Figure size 432x288 with 1 Axes>"
      ]
     },
     "metadata": {
      "needs_background": "light"
     },
     "output_type": "display_data"
    }
   ],
   "source": [
    "train.doc_len.hist()"
   ]
  },
  {
   "cell_type": "code",
   "execution_count": 12,
   "id": "dc319fb2",
   "metadata": {},
   "outputs": [
    {
     "data": {
      "text/plain": [
       "<AxesSubplot:>"
      ]
     },
     "execution_count": 12,
     "metadata": {},
     "output_type": "execute_result"
    },
    {
     "data": {
      "image/png": "[encoded data removed]",
      "text/plain": [
       "<Figure size 432x288 with 1 Axes>"
      ]
     },
     "metadata": {
      "needs_background": "light"
     },
     "output_type": "display_data"
    }
   ],
   "source": [
    "test.doc_len.hist()"
   ]
  },
  {
   "cell_type": "code",
   "execution_count": 13,
   "id": "ebe45c69",
   "metadata": {},
   "outputs": [
    {
     "data": {
      "text/html": [
       "<div>\n",
       "<style scoped>\n",
       "    .dataframe tbody tr th:only-of-type {\n",
       "        vertical-align: middle;\n",
       "    }\n",
       "\n",
       "    .dataframe tbody tr th {\n",
       "        vertical-align: top;\n",
       "    }\n",
       "\n",
       "    .dataframe thead th {\n",
       "        text-align: right;\n",
       "    }\n",
       "</style>\n",
       "<table border=\"1\" class=\"dataframe\">\n",
       "  <thead>\n",
       "    <tr style=\"text-align: right;\">\n",
       "      <th></th>\n",
       "      <th>id</th>\n",
       "      <th>document</th>\n",
       "      <th>label</th>\n",
       "      <th>doc_len</th>\n",
       "    </tr>\n",
       "  </thead>\n",
       "  <tbody>\n",
       "  </tbody>\n",
       "</table>\n",
       "</div>"
      ],
      "text/plain": [
       "Empty DataFrame\n",
       "Columns: [id, document, label, doc_len]\n",
       "Index: []"
      ]
     },
     "execution_count": 13,
     "metadata": {},
     "output_type": "execute_result"
    }
   ],
   "source": [
    "# null 값 있는 자료 삭제\n",
    "n_idx_tr = train.loc[train['document'].isnull()].index\n",
    "train.drop(index=n_idx_tr, inplace=True)\n",
    "train.loc[train['document'].isnull()]"
   ]
  },
  {
   "cell_type": "code",
   "execution_count": 14,
   "id": "3407a04e",
   "metadata": {},
   "outputs": [
    {
     "name": "stdout",
     "output_type": "stream",
     "text": [
      "146\n"
     ]
    }
   ],
   "source": [
    "print(train['doc_len'].max())"
   ]
  },
  {
   "cell_type": "code",
   "execution_count": 15,
   "id": "7ae07cf4",
   "metadata": {},
   "outputs": [
    {
     "data": {
      "text/html": [
       "<div>\n",
       "<style scoped>\n",
       "    .dataframe tbody tr th:only-of-type {\n",
       "        vertical-align: middle;\n",
       "    }\n",
       "\n",
       "    .dataframe tbody tr th {\n",
       "        vertical-align: top;\n",
       "    }\n",
       "\n",
       "    .dataframe thead th {\n",
       "        text-align: right;\n",
       "    }\n",
       "</style>\n",
       "<table border=\"1\" class=\"dataframe\">\n",
       "  <thead>\n",
       "    <tr style=\"text-align: right;\">\n",
       "      <th></th>\n",
       "      <th>id</th>\n",
       "      <th>document</th>\n",
       "      <th>label</th>\n",
       "      <th>doc_len</th>\n",
       "    </tr>\n",
       "  </thead>\n",
       "  <tbody>\n",
       "  </tbody>\n",
       "</table>\n",
       "</div>"
      ],
      "text/plain": [
       "Empty DataFrame\n",
       "Columns: [id, document, label, doc_len]\n",
       "Index: []"
      ]
     },
     "execution_count": 15,
     "metadata": {},
     "output_type": "execute_result"
    }
   ],
   "source": [
    "# null 값 있는 자료 삭제\n",
    "n_idx_ts = test.loc[test['document'].isnull()].index\n",
    "test.drop(index=n_idx_ts, inplace=True)\n",
    "test.loc[test['document'].isnull()]"
   ]
  },
  {
   "cell_type": "code",
   "execution_count": 16,
   "id": "1a5c612b",
   "metadata": {},
   "outputs": [
    {
     "name": "stdout",
     "output_type": "stream",
     "text": [
      "144\n"
     ]
    }
   ],
   "source": [
    "print(test['doc_len'].max())"
   ]
  },
  {
   "cell_type": "code",
   "execution_count": 17,
   "id": "2e699d61",
   "metadata": {},
   "outputs": [
    {
     "name": "stdout",
     "output_type": "stream",
     "text": [
      "3813\n",
      "3813\n"
     ]
    }
   ],
   "source": [
    "# 중복 확인\n",
    "print(len(train.loc[train['document'].duplicated()]))\n",
    "print(train['document'].duplicated().sum())"
   ]
  },
  {
   "cell_type": "code",
   "execution_count": 18,
   "id": "f7474b91",
   "metadata": {},
   "outputs": [
    {
     "name": "stdout",
     "output_type": "stream",
     "text": [
      "840\n",
      "840\n"
     ]
    }
   ],
   "source": [
    "# 중복 확인\n",
    "print(len(test.loc[test['document'].duplicated()]))\n",
    "print(test['document'].duplicated().sum())"
   ]
  },
  {
   "cell_type": "code",
   "execution_count": 19,
   "id": "63656b0c",
   "metadata": {},
   "outputs": [],
   "source": [
    "#중복 삭제\n",
    "train = train.drop_duplicates(subset='document')\n",
    "test = test.drop_duplicates(subset='document')"
   ]
  },
  {
   "cell_type": "code",
   "execution_count": 20,
   "id": "57cda6ce",
   "metadata": {},
   "outputs": [
    {
     "name": "stdout",
     "output_type": "stream",
     "text": [
      "<class 'pandas.core.frame.DataFrame'>\n",
      "Int64Index: 146182 entries, 0 to 149999\n",
      "Data columns (total 4 columns):\n",
      " #   Column    Non-Null Count   Dtype \n",
      "---  ------    --------------   ----- \n",
      " 0   id        146182 non-null  int64 \n",
      " 1   document  146182 non-null  object\n",
      " 2   label     146182 non-null  int64 \n",
      " 3   doc_len   146182 non-null  int64 \n",
      "dtypes: int64(3), object(1)\n",
      "memory usage: 5.6+ MB\n"
     ]
    }
   ],
   "source": [
    "train.info()"
   ]
  },
  {
   "cell_type": "code",
   "execution_count": 21,
   "id": "8ca1d973",
   "metadata": {},
   "outputs": [
    {
     "name": "stdout",
     "output_type": "stream",
     "text": [
      "<class 'pandas.core.frame.DataFrame'>\n",
      "Int64Index: 49157 entries, 0 to 49999\n",
      "Data columns (total 4 columns):\n",
      " #   Column    Non-Null Count  Dtype \n",
      "---  ------    --------------  ----- \n",
      " 0   id        49157 non-null  int64 \n",
      " 1   document  49157 non-null  object\n",
      " 2   label     49157 non-null  int64 \n",
      " 3   doc_len   49157 non-null  int64 \n",
      "dtypes: int64(3), object(1)\n",
      "memory usage: 1.9+ MB\n"
     ]
    }
   ],
   "source": [
    "test.info()"
   ]
  },
  {
   "cell_type": "code",
   "execution_count": 22,
   "id": "ad043c78",
   "metadata": {},
   "outputs": [],
   "source": [
    "all_doc = np.concatenate((train['document'].values,test['document'].values)) "
   ]
  },
  {
   "cell_type": "code",
   "execution_count": 23,
   "id": "018c5a46",
   "metadata": {},
   "outputs": [],
   "source": [
    "import re"
   ]
  },
  {
   "cell_type": "code",
   "execution_count": 24,
   "id": "441e20ff",
   "metadata": {},
   "outputs": [],
   "source": [
    "def clean_sentence(sentence):\n",
    "        sentence = re.sub(r\"([?.!,])\", r\" \\1 \", sentence)\n",
    "        sentence = re.sub(r'[\" \"]+', \" \", sentence) \n",
    "        sentence = re.sub(r\"[^ㄱ-ㅎ가-힣a-zA-Z!.,?]+\", \" \", sentence)\n",
    "        return sentence"
   ]
  },
  {
   "cell_type": "code",
   "execution_count": 25,
   "id": "be940326",
   "metadata": {},
   "outputs": [],
   "source": [
    "filtered_corpus = []\n",
    "for i in all_doc :\n",
    "    sentence = clean_sentence(i)\n",
    "    filtered_corpus.append(sentence)\n",
    "train_f = filtered_corpus[:146182]\n",
    "test_f = filtered_corpus[146182:]\n",
    "all_doc_f = np.concatenate((train_f,test_f))"
   ]
  },
  {
   "cell_type": "code",
   "execution_count": 26,
   "id": "019dce18",
   "metadata": {},
   "outputs": [
    {
     "data": {
      "text/plain": [
       "0                                                  굳 ㅋ\n",
       "1                                 GDNTOPCLASSINTHECLUB\n",
       "2               뭐야 이 평점들은.... 나쁘진 않지만 10점 짜리는 더더욱 아니잖아\n",
       "3                     지루하지는 않은데 완전 막장임... 돈주고 보기에는....\n",
       "4    3D만 아니었어도 별 다섯 개 줬을텐데.. 왜 3D로 나와서 제 심기를 불편하게 하죠??\n",
       "Name: document, dtype: object"
      ]
     },
     "execution_count": 26,
     "metadata": {},
     "output_type": "execute_result"
    }
   ],
   "source": [
    "test['document'].head()"
   ]
  },
  {
   "cell_type": "code",
   "execution_count": 27,
   "id": "471e0d59",
   "metadata": {},
   "outputs": [],
   "source": [
    "train_f = filtered_corpus[:146182]\n",
    "test_f = filtered_corpus[146182:]"
   ]
  },
  {
   "cell_type": "code",
   "execution_count": 28,
   "id": "8d186fa7",
   "metadata": {},
   "outputs": [],
   "source": [
    "all_doc_f = np.concatenate((train_f,test_f))"
   ]
  },
  {
   "cell_type": "markdown",
   "id": "6dcfb81e",
   "metadata": {},
   "source": [
    "## Step 2 : tokenizing"
   ]
  },
  {
   "cell_type": "code",
   "execution_count": 29,
   "id": "91884cf4",
   "metadata": {},
   "outputs": [
    {
     "data": {
      "text/plain": [
       "356896"
      ]
     },
     "execution_count": 29,
     "metadata": {},
     "output_type": "execute_result"
    }
   ],
   "source": [
    "#unique한 단어 확인\n",
    "\n",
    "temp_doc= set()\n",
    "for i in all_doc_f :\n",
    "    temp_doc |= set(i.split())\n",
    "    \n",
    "len(temp_doc)"
   ]
  },
  {
   "cell_type": "code",
   "execution_count": 30,
   "id": "7106d6c0",
   "metadata": {},
   "outputs": [],
   "source": [
    "# #sentence piece model training\n",
    "\n",
    "import sentencepiece as spm\n",
    "# temp_file = 'nlp16.train.ko.temp'\n",
    "# vocab_size = 35000\n",
    "\n",
    "# with open(temp_file, 'w') as f:\n",
    "#     for row in all_doc:   # 이전 스텝에서 정제했던 corpus를 활용합니다.\n",
    "#         f.write(str(row) + '\\n')\n",
    "        \n",
    "# spm.SentencePieceTrainer.Train( \n",
    "#     '--input={} --model_prefix=nlp16 --vocab_size={}'.format(temp_file, vocab_size)    \n",
    "# )"
   ]
  },
  {
   "cell_type": "code",
   "execution_count": 31,
   "id": "efa92a7d",
   "metadata": {},
   "outputs": [
    {
     "data": {
      "text/plain": [
       "True"
      ]
     },
     "execution_count": 31,
     "metadata": {},
     "output_type": "execute_result"
    }
   ],
   "source": [
    "tokenizer = spm.SentencePieceProcessor()\n",
    "tokenizer.Load(f'nlp16.model')"
   ]
  },
  {
   "cell_type": "code",
   "execution_count": 32,
   "id": "7a9c2437",
   "metadata": {},
   "outputs": [],
   "source": [
    "test_txt = '아빠가 가방을 들고 있어요'"
   ]
  },
  {
   "cell_type": "code",
   "execution_count": 33,
   "id": "c49b449c",
   "metadata": {},
   "outputs": [
    {
     "data": {
      "text/plain": [
       "['▁아빠가', '▁가방', '을', '▁들고', '▁있어요']"
      ]
     },
     "execution_count": 33,
     "metadata": {},
     "output_type": "execute_result"
    }
   ],
   "source": [
    "tokenizer.EncodeAsPieces(test_txt)"
   ]
  },
  {
   "cell_type": "code",
   "execution_count": 34,
   "id": "a53f1b5a",
   "metadata": {},
   "outputs": [],
   "source": [
    "from transformers import AutoTokenizer\n",
    "\n",
    "tokenizer_k = AutoTokenizer.from_pretrained(\"klue/bert-base\")"
   ]
  },
  {
   "cell_type": "code",
   "execution_count": 35,
   "id": "ed0e948b",
   "metadata": {},
   "outputs": [
    {
     "data": {
      "text/plain": [
       "['▁아빠가', '▁가방', '을', '▁들고', '▁있어요']"
      ]
     },
     "execution_count": 35,
     "metadata": {},
     "output_type": "execute_result"
    }
   ],
   "source": [
    "# sentence piece 와 bert 모델 토크나이져와 사용 불가\n",
    "tokenizer.EncodeAsPieces(test_txt)"
   ]
  },
  {
   "cell_type": "code",
   "execution_count": 36,
   "id": "ca64b64e",
   "metadata": {},
   "outputs": [
    {
     "data": {
      "text/plain": [
       "['아빠', '##가', '가방', '##을', '들', '##고', '있', '##어요']"
      ]
     },
     "execution_count": 36,
     "metadata": {},
     "output_type": "execute_result"
    }
   ],
   "source": [
    "tokenizer_k.tokenize(test_txt)"
   ]
  },
  {
   "cell_type": "code",
   "execution_count": 37,
   "id": "3565ea79",
   "metadata": {},
   "outputs": [
    {
     "name": "stdout",
     "output_type": "stream",
     "text": [
      "True\n",
      "True\n"
     ]
    }
   ],
   "source": [
    "# data 준비\n",
    "print(len(train_f) == len(train['label']))\n",
    "print(len(test_f) == len(test['label']))"
   ]
  },
  {
   "cell_type": "code",
   "execution_count": 38,
   "id": "9684d474",
   "metadata": {},
   "outputs": [
    {
     "data": {
      "text/plain": [
       "512"
      ]
     },
     "execution_count": 38,
     "metadata": {},
     "output_type": "execute_result"
    }
   ],
   "source": [
    "tokenizer_k.model_max_length"
   ]
  },
  {
   "cell_type": "code",
   "execution_count": 39,
   "id": "67b24154",
   "metadata": {},
   "outputs": [
    {
     "data": {
      "text/plain": [
       "['input_ids', 'token_type_ids', 'attention_mask']"
      ]
     },
     "execution_count": 39,
     "metadata": {},
     "output_type": "execute_result"
    }
   ],
   "source": [
    "tokenizer_k.model_input_names"
   ]
  },
  {
   "cell_type": "code",
   "execution_count": 40,
   "id": "d0480443",
   "metadata": {},
   "outputs": [],
   "source": [
    "# huggingface framework 사용을 위해 데이터 준비\n",
    "train_ = pd.DataFrame({'values' : train_f, 'label' : train['label']}).reset_index(drop=True)\n",
    "test_ = pd.DataFrame({'values' : test_f, 'label' : test['label']}).reset_index(drop=True)"
   ]
  },
  {
   "cell_type": "code",
   "execution_count": 41,
   "id": "e3835b7b",
   "metadata": {},
   "outputs": [],
   "source": [
    "from datasets import Dataset\n",
    "import datasets\n",
    "\n",
    "train_d = Dataset.from_pandas(train_)\n",
    "test_d = Dataset.from_pandas(test_)\n",
    "\n",
    "# datasetdict형태로 transformation\n",
    "dataset = datasets.DatasetDict({\"train\":train_d,\"test\":test_d})"
   ]
  },
  {
   "cell_type": "code",
   "execution_count": 42,
   "id": "b99f6044",
   "metadata": {},
   "outputs": [],
   "source": [
    "from datasets import ClassLabel\n",
    "\n",
    "#int2str 사용 가능하게 label 값을 classlabel 객채로 변환, \n",
    "dataset['train'].features['label'] = ClassLabel(\n",
    "    num_classes=2, \n",
    "    names=['negative','positive'])\n",
    "\n",
    "dataset['test'].features['label'] = ClassLabel(\n",
    "    num_classes=2, \n",
    "    names=['negative','positive'])"
   ]
  },
  {
   "cell_type": "code",
   "execution_count": 43,
   "id": "da1b8459",
   "metadata": {},
   "outputs": [],
   "source": [
    "# 데이터 값 최종 확인\n",
    "dataset.set_format(type='pandas')\n",
    "df = dataset['train'][:]"
   ]
  },
  {
   "cell_type": "code",
   "execution_count": 44,
   "id": "8247f6ff",
   "metadata": {},
   "outputs": [
    {
     "data": {
      "text/html": [
       "<div>\n",
       "<style scoped>\n",
       "    .dataframe tbody tr th:only-of-type {\n",
       "        vertical-align: middle;\n",
       "    }\n",
       "\n",
       "    .dataframe tbody tr th {\n",
       "        vertical-align: top;\n",
       "    }\n",
       "\n",
       "    .dataframe thead th {\n",
       "        text-align: right;\n",
       "    }\n",
       "</style>\n",
       "<table border=\"1\" class=\"dataframe\">\n",
       "  <thead>\n",
       "    <tr style=\"text-align: right;\">\n",
       "      <th></th>\n",
       "      <th>values</th>\n",
       "      <th>label</th>\n",
       "      <th>label_name</th>\n",
       "    </tr>\n",
       "  </thead>\n",
       "  <tbody>\n",
       "    <tr>\n",
       "      <th>0</th>\n",
       "      <td>아 더빙 . . 진짜 짜증나네요 목소리</td>\n",
       "      <td>0</td>\n",
       "      <td>negative</td>\n",
       "    </tr>\n",
       "    <tr>\n",
       "      <th>1</th>\n",
       "      <td>흠 . . . 포스터보고 초딩영화줄 . . . . 오버연기조차 가볍지 않구나</td>\n",
       "      <td>1</td>\n",
       "      <td>positive</td>\n",
       "    </tr>\n",
       "    <tr>\n",
       "      <th>2</th>\n",
       "      <td>너무재밓었다그래서보는것을추천한다</td>\n",
       "      <td>0</td>\n",
       "      <td>negative</td>\n",
       "    </tr>\n",
       "    <tr>\n",
       "      <th>3</th>\n",
       "      <td>교도소 이야기구먼 . . 솔직히 재미는 없다 . . 평점 조정</td>\n",
       "      <td>0</td>\n",
       "      <td>negative</td>\n",
       "    </tr>\n",
       "    <tr>\n",
       "      <th>4</th>\n",
       "      <td>사이몬페그의 익살스런 연기가 돋보였던 영화 ! 스파이더맨에서 늙어보이기만 했던 커스...</td>\n",
       "      <td>1</td>\n",
       "      <td>positive</td>\n",
       "    </tr>\n",
       "  </tbody>\n",
       "</table>\n",
       "</div>"
      ],
      "text/plain": [
       "                                              values  label label_name\n",
       "0                              아 더빙 . . 진짜 짜증나네요 목소리      0   negative\n",
       "1         흠 . . . 포스터보고 초딩영화줄 . . . . 오버연기조차 가볍지 않구나      1   positive\n",
       "2                                  너무재밓었다그래서보는것을추천한다      0   negative\n",
       "3                 교도소 이야기구먼 . . 솔직히 재미는 없다 . . 평점 조정      0   negative\n",
       "4  사이몬페그의 익살스런 연기가 돋보였던 영화 ! 스파이더맨에서 늙어보이기만 했던 커스...      1   positive"
      ]
     },
     "execution_count": 44,
     "metadata": {},
     "output_type": "execute_result"
    }
   ],
   "source": [
    "def label_int2str(row):\n",
    "    return dataset[\"train\"].features[\"label\"].int2str(row)\n",
    "\n",
    "df[\"label_name\"] = df[\"label\"].apply(label_int2str)\n",
    "df.head()"
   ]
  },
  {
   "cell_type": "code",
   "execution_count": 45,
   "id": "be5f6a29",
   "metadata": {},
   "outputs": [
    {
     "data": {
      "image/png": "[encoded data removed]",
      "text/plain": [
       "<Figure size 432x288 with 1 Axes>"
      ]
     },
     "metadata": {
      "needs_background": "light"
     },
     "output_type": "display_data"
    }
   ],
   "source": [
    "import matplotlib.pyplot as plt\n",
    "#레이블 값 균형이 잡혀있는지 확인\n",
    "df[\"label_name\"].value_counts(ascending=True).plot.barh()\n",
    "plt.title(\"Frequency of Classes\")\n",
    "plt.show()"
   ]
  },
  {
   "cell_type": "code",
   "execution_count": 46,
   "id": "ec1f4bcd",
   "metadata": {},
   "outputs": [],
   "source": [
    "# 인코딩하여 최종 데이터 dict 저장\n",
    "dataset.set_format(type=None)\n",
    "def tokenize(batch):\n",
    "    return tokenizer_k(batch['values'], padding=True, truncation=True)"
   ]
  },
  {
   "cell_type": "code",
   "execution_count": 47,
   "id": "9227372f",
   "metadata": {},
   "outputs": [
    {
     "data": {
      "application/vnd.jupyter.widget-view+json": {
       "model_id": "c37a9a0f4d15445d87195ced3c00542f",
       "version_major": 2,
       "version_minor": 0
      },
      "text/plain": [
       "  0%|          | 0/1 [00:00<?, ?ba/s]"
      ]
     },
     "metadata": {},
     "output_type": "display_data"
    },
    {
     "data": {
      "application/vnd.jupyter.widget-view+json": {
       "model_id": "9e29ab6ffb184e93a6a3628b75e80d09",
       "version_major": 2,
       "version_minor": 0
      },
      "text/plain": [
       "  0%|          | 0/1 [00:00<?, ?ba/s]"
      ]
     },
     "metadata": {},
     "output_type": "display_data"
    }
   ],
   "source": [
    "dataset_encoded = dataset.map(tokenize, batched=True, batch_size=None)"
   ]
  },
  {
   "cell_type": "code",
   "execution_count": 48,
   "id": "d5343dd0",
   "metadata": {},
   "outputs": [
    {
     "name": "stdout",
     "output_type": "stream",
     "text": [
      "['attention_mask', 'input_ids', 'label', 'token_type_ids', 'values']\n"
     ]
    }
   ],
   "source": [
    "# check columns\n",
    "print(dataset_encoded[\"train\"].column_names)"
   ]
  },
  {
   "cell_type": "code",
   "execution_count": 62,
   "id": "ba5d1a56",
   "metadata": {},
   "outputs": [],
   "source": [
    "# generate data collator\n",
    "from transformers import DataCollatorWithPadding\n",
    "data_collator =  DataCollatorWithPadding(tokenizer=tokenizer_k, return_tensors=\"pt\")"
   ]
  },
  {
   "cell_type": "markdown",
   "id": "340cca41",
   "metadata": {},
   "source": [
    "## Step 3 : modeling"
   ]
  },
  {
   "cell_type": "code",
   "execution_count": 63,
   "id": "03e0e18a",
   "metadata": {},
   "outputs": [],
   "source": [
    "import torch.nn as nn\n",
    "import torch\n",
    "from transformers import AutoModelForSequenceClassification"
   ]
  },
  {
   "cell_type": "code",
   "execution_count": 64,
   "id": "c68dcd6f",
   "metadata": {},
   "outputs": [],
   "source": [
    "model_ckpt = 'klue/bert-base' #load model by huggingface checkpoint id\n",
    "tokenizer = AutoTokenizer.from_pretrained(model_ckpt)"
   ]
  },
  {
   "cell_type": "code",
   "execution_count": 65,
   "id": "586760a7",
   "metadata": {},
   "outputs": [],
   "source": [
    "#config\n",
    "from transformers import AutoConfig\n",
    "id2label = {0: \"NEGATIVE\", 1: \"POSITIVE\"}\n",
    "label2id = {\"NEGATIVE\": 0, \"POSITIVE\": 1}\n",
    "klue_config = AutoConfig.from_pretrained(model_ckpt,\n",
    "                                        num_labels=2,\n",
    "                                        id2label =id2label,\n",
    "                                        label2id=label2id)"
   ]
  },
  {
   "cell_type": "code",
   "execution_count": 66,
   "id": "a75897c1",
   "metadata": {},
   "outputs": [],
   "source": [
    "# model\n",
    "device = torch.device('cuda' if torch.cuda.is_available() else 'cpu')\n",
    "model = (AutoModelForSequenceClassification\n",
    "         .from_pretrained(model_ckpt, config = klue_config)\n",
    "         .to(device))"
   ]
  },
  {
   "cell_type": "code",
   "execution_count": 67,
   "id": "07c1364c",
   "metadata": {},
   "outputs": [],
   "source": [
    "#configure training arg\n",
    "batch_size= 24\n",
    "num_epochs =3\n",
    "\n",
    "from transformers import TrainingArguments, Trainer\n",
    "training_args = TrainingArguments(output_dir=\"test_trainer\", \n",
    "                                  num_train_epochs = num_epochs,\n",
    "                                  log_level='error',\n",
    "                                  per_device_train_batch_size=batch_size,\n",
    "                                  per_device_eval_batch_size=batch_size,\n",
    "                                  save_steps=1e6, weight_decay =0.01, disable_tqdm=False )"
   ]
  },
  {
   "cell_type": "code",
   "execution_count": 68,
   "id": "a93d092a",
   "metadata": {},
   "outputs": [],
   "source": [
    "from sklearn.metrics import accuracy_score\n",
    "\n",
    "def compute_metrics(eval_pred):\n",
    "    predictions, labels = eval_pred\n",
    "    return accuracy_score(labels, predictions)"
   ]
  },
  {
   "cell_type": "code",
   "execution_count": 71,
   "id": "97a56b92",
   "metadata": {},
   "outputs": [],
   "source": [
    "#trainer\n",
    "trainer = Trainer(\n",
    "    model=model,\n",
    "    args=training_args,\n",
    "    data_collator = data_collator,\n",
    "    train_dataset=dataset_encoded['train'],\n",
    "    eval_dataset=dataset_encoded['test'],\n",
    "    compute_metrics = compute_metrics,\n",
    "    tokenizer=tokenizer)"
   ]
  },
  {
   "cell_type": "code",
   "execution_count": 73,
   "id": "92630b02",
   "metadata": {},
   "outputs": [],
   "source": [
    "# trainer.train()"
   ]
  },
  {
   "cell_type": "markdown",
   "id": "93b4adad",
   "metadata": {},
   "source": [
    "## Step 4 : evaluation"
   ]
  }
 ],
 "metadata": {
  "kernelspec": {
   "display_name": "Python 3 (ipykernel)",
   "language": "python",
   "name": "python3"
  },
  "language_info": {
   "codemirror_mode": {
    "name": "ipython",
    "version": 3
   },
   "file_extension": ".py",
   "mimetype": "text/x-python",
   "name": "python",
   "nbconvert_exporter": "python",
   "pygments_lexer": "ipython3",
   "version": "3.9.7"
  }
 },
 "nbformat": 4,
 "nbformat_minor": 5
}
