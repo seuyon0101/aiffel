{
 "cells": [
  {
   "cell_type": "markdown",
   "id": "471acc2e",
   "metadata": {},
   "source": [
    "## 로이터 뉴스 데이터 (1) 데이터 확인하기"
   ]
  },
  {
   "cell_type": "code",
   "execution_count": 1,
   "id": "b0c77705",
   "metadata": {},
   "outputs": [
    {
     "name": "stdout",
     "output_type": "stream",
     "text": [
      "=3\n"
     ]
    }
   ],
   "source": [
    "from tensorflow.keras.datasets import reuters\n",
    "import matplotlib.pyplot as plt\n",
    "import seaborn as sns\n",
    "import numpy as np\n",
    "import pandas as pd\n",
    "\n",
    "print('=3')"
   ]
  },
  {
   "cell_type": "code",
   "execution_count": 2,
   "id": "5cd90ed8",
   "metadata": {},
   "outputs": [
    {
     "name": "stdout",
     "output_type": "stream",
     "text": [
      "Downloading data from https://storage.googleapis.com/tensorflow/tf-keras-datasets/reuters.npz\n",
      "2113536/2110848 [==============================] - 0s 0us/step\n",
      "2121728/2110848 [==============================] - 0s 0us/step\n"
     ]
    }
   ],
   "source": [
    "# 훈련되이터 로드\n",
    "(x_train, y_train), (x_test, y_test) = reuters.load_data(num_words=10000, test_split=0.2)"
   ]
  },
  {
   "cell_type": "code",
   "execution_count": 3,
   "id": "11736f0a",
   "metadata": {},
   "outputs": [
    {
     "name": "stdout",
     "output_type": "stream",
     "text": [
      "훈련 샘플의 수: 8982\n",
      "테스트 샘플의 수: 2246\n"
     ]
    }
   ],
   "source": [
    "print('훈련 샘플의 수: {}'.format(len(x_train)))\n",
    "print('테스트 샘플의 수: {}'.format(len(x_test)))"
   ]
  },
  {
   "cell_type": "code",
   "execution_count": 4,
   "id": "7854d1a3",
   "metadata": {},
   "outputs": [
    {
     "name": "stdout",
     "output_type": "stream",
     "text": [
      "[1, 2, 2, 8, 43, 10, 447, 5, 25, 207, 270, 5, 3095, 111, 16, 369, 186, 90, 67, 7, 89, 5, 19, 102, 6, 19, 124, 15, 90, 67, 84, 22, 482, 26, 7, 48, 4, 49, 8, 864, 39, 209, 154, 6, 151, 6, 83, 11, 15, 22, 155, 11, 15, 7, 48, 9, 4579, 1005, 504, 6, 258, 6, 272, 11, 15, 22, 134, 44, 11, 15, 16, 8, 197, 1245, 90, 67, 52, 29, 209, 30, 32, 132, 6, 109, 15, 17, 12]\n",
      "[1, 4, 1378, 2025, 9, 697, 4622, 111, 8, 25, 109, 29, 3650, 11, 150, 244, 364, 33, 30, 30, 1398, 333, 6, 2, 159, 9, 1084, 363, 13, 2, 71, 9, 2, 71, 117, 4, 225, 78, 206, 10, 9, 1214, 8, 4, 270, 5, 2, 7, 748, 48, 9, 2, 7, 207, 1451, 966, 1864, 793, 97, 133, 336, 7, 4, 493, 98, 273, 104, 284, 25, 39, 338, 22, 905, 220, 3465, 644, 59, 20, 6, 119, 61, 11, 15, 58, 579, 26, 10, 67, 7, 4, 738, 98, 43, 88, 333, 722, 12, 20, 6, 19, 746, 35, 15, 10, 9, 1214, 855, 129, 783, 21, 4, 2280, 244, 364, 51, 16, 299, 452, 16, 515, 4, 99, 29, 5, 4, 364, 281, 48, 10, 9, 1214, 23, 644, 47, 20, 324, 27, 56, 2, 2, 5, 192, 510, 17, 12]\n"
     ]
    }
   ],
   "source": [
    "print(x_train[0])\n",
    "print(x_test[0])"
   ]
  },
  {
   "cell_type": "code",
   "execution_count": 5,
   "id": "9d7d03c7",
   "metadata": {},
   "outputs": [
    {
     "name": "stdout",
     "output_type": "stream",
     "text": [
      "3\n",
      "3\n"
     ]
    }
   ],
   "source": [
    "print(y_train[0])\n",
    "print(y_test[0])"
   ]
  },
  {
   "cell_type": "code",
   "execution_count": 6,
   "id": "b9ad1135",
   "metadata": {},
   "outputs": [
    {
     "name": "stdout",
     "output_type": "stream",
     "text": [
      "클래스의 수 : 46\n"
     ]
    }
   ],
   "source": [
    "num_classes = max(y_train) + 1\n",
    "print('클래스의 수 : {}'.format(num_classes))"
   ]
  },
  {
   "cell_type": "code",
   "execution_count": 7,
   "id": "f7ff5847",
   "metadata": {},
   "outputs": [
    {
     "name": "stdout",
     "output_type": "stream",
     "text": [
      "훈련용 뉴스의 최대 길이 :2376\n",
      "훈련용 뉴스의 평균 길이 :145.5398574927633\n"
     ]
    },
    {
     "data": {
      "image/png": "[encoded data removed]",
      "text/plain": [
       "<Figure size 432x288 with 1 Axes>"
      ]
     },
     "metadata": {
      "needs_background": "light"
     },
     "output_type": "display_data"
    }
   ],
   "source": [
    "print('훈련용 뉴스의 최대 길이 :{}'.format(max(len(l) for l in x_train)))\n",
    "print('훈련용 뉴스의 평균 길이 :{}'.format(sum(map(len, x_train))/len(x_train)))\n",
    "\n",
    "plt.hist([len(s) for s in x_train], bins=50)\n",
    "plt.xlabel('length of samples')\n",
    "plt.ylabel('number of samples')\n",
    "plt.show()"
   ]
  },
  {
   "cell_type": "code",
   "execution_count": 8,
   "id": "a555470a",
   "metadata": {},
   "outputs": [
    {
     "data": {
      "image/png": "[encoded data removed]",
      "text/plain": [
       "<Figure size 792x360 with 1 Axes>"
      ]
     },
     "metadata": {
      "needs_background": "light"
     },
     "output_type": "display_data"
    }
   ],
   "source": [
    "fig, axe = plt.subplots(ncols=1)\n",
    "fig.set_size_inches(11,5)\n",
    "sns.countplot(x=y_train)\n",
    "plt.show()"
   ]
  },
  {
   "cell_type": "code",
   "execution_count": 9,
   "id": "cf15c4f9",
   "metadata": {},
   "outputs": [
    {
     "name": "stdout",
     "output_type": "stream",
     "text": [
      "각 클래스 빈도수:\n",
      "[[   0    1    2    3    4    5    6    7    8    9   10   11   12   13\n",
      "    14   15   16   17   18   19   20   21   22   23   24   25   26   27\n",
      "    28   29   30   31   32   33   34   35   36   37   38   39   40   41\n",
      "    42   43   44   45]\n",
      " [  55  432   74 3159 1949   17   48   16  139  101  124  390   49  172\n",
      "    26   20  444   39   66  549  269  100   15   41   62   92   24   15\n",
      "    48   19   45   39   32   11   50   10   49   19   19   24   36   30\n",
      "    13   21   12   18]]\n"
     ]
    }
   ],
   "source": [
    "unique_elements, counts_elements = np.unique(y_train, return_counts=True)\n",
    "print(\"각 클래스 빈도수:\")\n",
    "print(np.asarray((unique_elements, counts_elements)))"
   ]
  },
  {
   "cell_type": "markdown",
   "id": "2b272aae",
   "metadata": {},
   "source": [
    "## 로이터 뉴스 데이터 (2) 데이터 복원하기"
   ]
  },
  {
   "cell_type": "code",
   "execution_count": 10,
   "id": "3058db8c",
   "metadata": {},
   "outputs": [
    {
     "name": "stdout",
     "output_type": "stream",
     "text": [
      "Downloading data from https://storage.googleapis.com/tensorflow/tf-keras-datasets/reuters_word_index.json\n",
      "557056/550378 [==============================] - 0s 0us/step\n",
      "565248/550378 [==============================] - 0s 0us/step\n",
      "=3\n"
     ]
    }
   ],
   "source": [
    "word_index = reuters.get_word_index(path=\"reuters_word_index.json\")\n",
    "print('=3')"
   ]
  },
  {
   "cell_type": "code",
   "execution_count": 11,
   "id": "e0c64601",
   "metadata": {},
   "outputs": [
    {
     "data": {
      "text/plain": [
       "1"
      ]
     },
     "execution_count": 11,
     "metadata": {},
     "output_type": "execute_result"
    }
   ],
   "source": [
    "word_index['the']"
   ]
  },
  {
   "cell_type": "code",
   "execution_count": 12,
   "id": "31cea06f",
   "metadata": {},
   "outputs": [
    {
     "name": "stdout",
     "output_type": "stream",
     "text": [
      "=3\n"
     ]
    }
   ],
   "source": [
    "index_to_word = { index+3 : word for word, index in word_index.items() }\n",
    "print('=3')"
   ]
  },
  {
   "cell_type": "code",
   "execution_count": 13,
   "id": "9c55a8b3",
   "metadata": {},
   "outputs": [
    {
     "name": "stdout",
     "output_type": "stream",
     "text": [
      "the\n",
      "it\n"
     ]
    }
   ],
   "source": [
    "print(index_to_word[4])\n",
    "print(index_to_word[16])"
   ]
  },
  {
   "cell_type": "code",
   "execution_count": 14,
   "id": "28b7b5f6",
   "metadata": {},
   "outputs": [
    {
     "name": "stdout",
     "output_type": "stream",
     "text": [
      "=3\n"
     ]
    }
   ],
   "source": [
    "# index_to_word에 숫자 0은 <pad>, 숫자 1은 <sos>, 숫자 2는 <unk>를 넣어줍니다.\n",
    "for index, token in enumerate((\"<pad>\", \"<sos>\", \"<unk>\")):\n",
    "  index_to_word[index]=token\n",
    "print('=3')"
   ]
  },
  {
   "cell_type": "code",
   "execution_count": 15,
   "id": "a7df6a57",
   "metadata": {},
   "outputs": [
    {
     "name": "stdout",
     "output_type": "stream",
     "text": [
      "<sos> <unk> <unk> said as a result of its december acquisition of space co it expects earnings per share in 1987 of 1 15 to 1 30 dlrs per share up from 70 cts in 1986 the company said pretax net should rise to nine to 10 mln dlrs from six mln dlrs in 1986 and rental operation revenues to 19 to 22 mln dlrs from 12 5 mln dlrs it said cash flow per share this year should be 2 50 to three dlrs reuter 3\n"
     ]
    }
   ],
   "source": [
    "print(' '.join([index_to_word[index] for index in x_train[0]]))"
   ]
  },
  {
   "cell_type": "code",
   "execution_count": 16,
   "id": "36ebe12b",
   "metadata": {},
   "outputs": [
    {
     "name": "stdout",
     "output_type": "stream",
     "text": [
      "the transaction is expected to be completed\n"
     ]
    }
   ],
   "source": [
    "tok_seq = [4, 587, 23, 133, 6, 30, 515]\n",
    "print(' '.join([index_to_word[index] for index in tok_seq]))"
   ]
  },
  {
   "cell_type": "code",
   "execution_count": 17,
   "id": "30e33fc4",
   "metadata": {},
   "outputs": [
    {
     "name": "stdout",
     "output_type": "stream",
     "text": [
      "the staffing is expected to be completed\n"
     ]
    }
   ],
   "source": [
    "tok_seq = [4, 12000, 23, 133, 6, 30, 515]\n",
    "print(' '.join([index_to_word[index] for index in tok_seq]))"
   ]
  },
  {
   "cell_type": "code",
   "execution_count": 18,
   "id": "de646ff5",
   "metadata": {},
   "outputs": [
    {
     "name": "stdout",
     "output_type": "stream",
     "text": [
      "8982\n"
     ]
    }
   ],
   "source": [
    "decoded = []\n",
    "for i in range(len(x_train)):\n",
    "    t = ' '.join([index_to_word[index] for index in x_train[i]])\n",
    "    decoded.append(t)\n",
    "\n",
    "x_train = decoded\n",
    "print(len(x_train))"
   ]
  },
  {
   "cell_type": "code",
   "execution_count": 19,
   "id": "b940c7e7",
   "metadata": {},
   "outputs": [
    {
     "name": "stdout",
     "output_type": "stream",
     "text": [
      "2246\n"
     ]
    }
   ],
   "source": [
    "decoded = []\n",
    "for i in range(len(x_test)):\n",
    "    t = ' '.join([index_to_word[index] for index in x_test[i]])\n",
    "    decoded.append(t)\n",
    "\n",
    "x_test = decoded\n",
    "print(len(x_test))"
   ]
  },
  {
   "cell_type": "code",
   "execution_count": 20,
   "id": "ff76ee81",
   "metadata": {},
   "outputs": [
    {
     "data": {
      "text/plain": [
       "['<sos> <unk> <unk> said as a result of its december acquisition of space co it expects earnings per share in 1987 of 1 15 to 1 30 dlrs per share up from 70 cts in 1986 the company said pretax net should rise to nine to 10 mln dlrs from six mln dlrs in 1986 and rental operation revenues to 19 to 22 mln dlrs from 12 5 mln dlrs it said cash flow per share this year should be 2 50 to three dlrs reuter 3',\n",
       " '<sos> generale de banque sa lt <unk> br and lt heller overseas corp of chicago have each taken 50 pct stakes in <unk> company sa <unk> factors generale de banque said in a statement it gave no financial details of the transaction sa <unk> <unk> turnover in 1986 was 17 5 billion belgian francs reuter 3',\n",
       " '<sos> shr 3 28 dlrs vs 22 cts shr diluted 2 99 dlrs vs 22 cts net 46 0 mln vs 3 328 000 avg shrs 14 0 mln vs 15 2 mln year shr 5 41 dlrs vs 1 56 dlrs shr diluted 4 94 dlrs vs 1 50 dlrs net 78 2 mln vs 25 9 mln avg shrs 14 5 mln vs 15 1 mln note earnings per share reflect the two for one split effective january 6 1987 per share amounts are calculated after preferred stock dividends loss continuing operations for the qtr 1986 includes gains of sale of investments in <unk> corp of 14 mln dlrs and associated companies of 4 189 000 less writedowns of investments in national <unk> inc of 11 8 mln and <unk> corp of 15 6 mln reuter 3',\n",
       " \"<sos> the farmers home administration the u s agriculture department's farm lending arm could lose about seven billion dlrs in outstanding principal on its severely <unk> borrowers or about one fourth of its farm loan portfolio the general accounting office gao said in remarks prepared for delivery to the senate agriculture committee brian crowley senior associate director of gao also said that a preliminary analysis of proposed changes in <unk> financial eligibility standards indicated as many as one half of <unk> borrowers who received new loans from the agency in 1986 would be <unk> under the proposed system the agency has proposed evaluating <unk> credit using a variety of financial ratios instead of relying solely on <unk> ability senate agriculture committee chairman patrick leahy d vt <unk> the proposed eligibility changes telling <unk> administrator <unk> clark at a hearing that they would mark a dramatic shift in the agency's purpose away from being farmers' lender of last resort toward becoming a big city bank but clark defended the new regulations saying the agency had a responsibility to <unk> its 70 billion dlr loan portfolio in a <unk> yet <unk> manner crowley of gao <unk> <unk> arm said the proposed credit <unk> system attempted to ensure that <unk> would make loans only to borrowers who had a reasonable change of repaying their debt reuter 3\",\n",
       " '<sos> seton co said its board has received a proposal from chairman and chief executive officer philip d <unk> to acquire seton for 15 75 dlrs per share in cash seton said the acquisition bid is subject to <unk> arranging the necessary financing it said he intends to ask other members of senior management to participate the company said <unk> owns 30 pct of seton stock and other management members another 7 5 pct seton said it has formed an independent board committee to consider the offer and has deferred the annual meeting it had scheduled for march 31 reuter 3']"
      ]
     },
     "execution_count": 20,
     "metadata": {},
     "output_type": "execute_result"
    }
   ],
   "source": [
    "x_train[:5]"
   ]
  },
  {
   "cell_type": "markdown",
   "id": "8defc6b1",
   "metadata": {},
   "source": [
    "## 벡터화 하기"
   ]
  },
  {
   "cell_type": "code",
   "execution_count": 21,
   "id": "09a3b72c",
   "metadata": {},
   "outputs": [
    {
     "name": "stdout",
     "output_type": "stream",
     "text": [
      "=3\n"
     ]
    }
   ],
   "source": [
    "from sklearn.feature_extraction.text import CountVectorizer\n",
    "from sklearn.feature_extraction.text import TfidfTransformer\n",
    "print('=3')"
   ]
  },
  {
   "cell_type": "code",
   "execution_count": 22,
   "id": "9e2419af",
   "metadata": {},
   "outputs": [
    {
     "name": "stdout",
     "output_type": "stream",
     "text": [
      "(8982, 9670)\n"
     ]
    }
   ],
   "source": [
    "dtmvector = CountVectorizer()\n",
    "x_train_dtm = dtmvector.fit_transform(x_train)\n",
    "print(x_train_dtm.shape)"
   ]
  },
  {
   "cell_type": "code",
   "execution_count": 23,
   "id": "eab2612e",
   "metadata": {},
   "outputs": [
    {
     "name": "stdout",
     "output_type": "stream",
     "text": [
      "(8982, 9670)\n"
     ]
    }
   ],
   "source": [
    "tfidf_transformer = TfidfTransformer()\n",
    "tfidfv = tfidf_transformer.fit_transform(x_train_dtm)\n",
    "print(tfidfv.shape)"
   ]
  },
  {
   "cell_type": "markdown",
   "id": "8388f2b5",
   "metadata": {},
   "source": [
    "### 나이브 베이즈 분류기"
   ]
  },
  {
   "cell_type": "code",
   "execution_count": 24,
   "id": "1cd13ba1",
   "metadata": {},
   "outputs": [
    {
     "name": "stdout",
     "output_type": "stream",
     "text": [
      "=3\n"
     ]
    }
   ],
   "source": [
    "from sklearn.naive_bayes import MultinomialNB #다항분포 나이브 베이즈 모델\n",
    "from sklearn.linear_model import LogisticRegression, SGDClassifier\n",
    "from sklearn.naive_bayes import ComplementNB\n",
    "from sklearn.tree import DecisionTreeClassifier\n",
    "from sklearn.ensemble import RandomForestClassifier\n",
    "from sklearn.ensemble import GradientBoostingClassifier\n",
    "from sklearn.ensemble import VotingClassifier\n",
    "from sklearn.svm import LinearSVC\n",
    "from sklearn.metrics import accuracy_score #정확도 계산\n",
    "\n",
    "print('=3')"
   ]
  },
  {
   "cell_type": "code",
   "execution_count": 25,
   "id": "cbf4bde6",
   "metadata": {},
   "outputs": [
    {
     "data": {
      "text/plain": [
       "MultinomialNB()"
      ]
     },
     "execution_count": 25,
     "metadata": {},
     "output_type": "execute_result"
    }
   ],
   "source": [
    "model = MultinomialNB()\n",
    "model.fit(tfidfv, y_train)"
   ]
  },
  {
   "cell_type": "code",
   "execution_count": 26,
   "id": "8f76d43c",
   "metadata": {},
   "outputs": [
    {
     "name": "stdout",
     "output_type": "stream",
     "text": [
      "정확도: 0.6567230632235085\n"
     ]
    }
   ],
   "source": [
    "x_test_dtm = dtmvector.transform(x_test) #테스트 데이터를 DTM으로 변환\n",
    "tfidfv_test = tfidf_transformer.transform(x_test_dtm) #DTM을 TF-IDF 행렬로 변환\n",
    "\n",
    "predicted = model.predict(tfidfv_test) #테스트 데이터에 대한 예측\n",
    "print(\"정확도:\", accuracy_score(y_test, predicted)) #예측값과 실제값 비교"
   ]
  },
  {
   "cell_type": "code",
   "execution_count": 27,
   "id": "85399f31",
   "metadata": {},
   "outputs": [
    {
     "data": {
      "text/plain": [
       "'<sos> <unk> <unk> oil and gas partnership said it completed the sale of interests in two major oil and gas fields to lt energy assets international corp for 21 mln dlrs the company said it sold about one half of its 50 pct interest in the oak hill and north <unk> fields its two largest producing properties it said it used about 20 mln dlrs of the proceeds to <unk> principal on its senior secured notes semi annual principal payments on the remaining 40 mln dlrs of notes have been satisfied until december 1988 as a result it said the company said the note agreements were amended to reflect an easing of some financial covenants and an increase of interest to 13 5 pct from 13 0 pct until december 1990 it said the <unk> exercise price for 1 125 000 warrants was also reduced to 50 cts from 1 50 dlrs the company said energy assets agreed to share the costs of increasing production at the oak hill field reuter 3'"
      ]
     },
     "execution_count": 27,
     "metadata": {},
     "output_type": "execute_result"
    }
   ],
   "source": [
    "x_test[3]"
   ]
  },
  {
   "cell_type": "code",
   "execution_count": 28,
   "id": "47fbf50c",
   "metadata": {},
   "outputs": [
    {
     "data": {
      "text/plain": [
       "4"
      ]
     },
     "execution_count": 28,
     "metadata": {},
     "output_type": "execute_result"
    }
   ],
   "source": [
    "y_test[3]"
   ]
  },
  {
   "cell_type": "code",
   "execution_count": 29,
   "id": "c5ba836c",
   "metadata": {},
   "outputs": [
    {
     "data": {
      "image/png": "[encoded data removed]",
      "text/plain": [
       "<Figure size 792x360 with 1 Axes>"
      ]
     },
     "metadata": {
      "needs_background": "light"
     },
     "output_type": "display_data"
    }
   ],
   "source": [
    "probability_3 = model.predict_proba(tfidfv_test[3])[0]\n",
    "\n",
    "plt.rcParams[\"figure.figsize\"] = (11,5)\n",
    "plt.bar(model.classes_, probability_3)\n",
    "plt.xlim(-1, 21)\n",
    "plt.xticks(model.classes_)\n",
    "plt.xlabel(\"Class\")\n",
    "plt.ylabel(\"Probability\")\n",
    "plt.show()"
   ]
  },
  {
   "cell_type": "code",
   "execution_count": 30,
   "id": "90f9f55c",
   "metadata": {},
   "outputs": [
    {
     "data": {
      "text/plain": [
       "array([4])"
      ]
     },
     "execution_count": 30,
     "metadata": {},
     "output_type": "execute_result"
    }
   ],
   "source": [
    "model.predict(tfidfv_test[3])"
   ]
  },
  {
   "cell_type": "markdown",
   "id": "b2394c09",
   "metadata": {},
   "source": [
    "##  F1-Score, Confusion Matrix"
   ]
  },
  {
   "cell_type": "code",
   "execution_count": 31,
   "id": "b4b99d52",
   "metadata": {},
   "outputs": [
    {
     "name": "stdout",
     "output_type": "stream",
     "text": [
      "=3\n"
     ]
    }
   ],
   "source": [
    "from sklearn.metrics import classification_report\n",
    "from sklearn.metrics import confusion_matrix\n",
    "\n",
    "print('=3')"
   ]
  },
  {
   "cell_type": "code",
   "execution_count": 32,
   "id": "a12b65e3",
   "metadata": {},
   "outputs": [
    {
     "name": "stdout",
     "output_type": "stream",
     "text": [
      "              precision    recall  f1-score   support\n",
      "\n",
      "           0       0.00      0.00      0.00        12\n",
      "           1       0.62      0.69      0.65       105\n",
      "           2       0.00      0.00      0.00        20\n",
      "           3       0.81      0.90      0.85       813\n",
      "           4       0.51      0.96      0.67       474\n",
      "           5       0.00      0.00      0.00         5\n",
      "           6       0.00      0.00      0.00        14\n",
      "           7       0.00      0.00      0.00         3\n",
      "           8       0.00      0.00      0.00        38\n",
      "           9       1.00      0.08      0.15        25\n",
      "          10       0.00      0.00      0.00        30\n",
      "          11       0.66      0.63      0.64        83\n",
      "          12       0.00      0.00      0.00        13\n",
      "          13       1.00      0.03      0.05        37\n",
      "          14       0.00      0.00      0.00         2\n",
      "          15       0.00      0.00      0.00         9\n",
      "          16       0.69      0.56      0.61        99\n",
      "          17       0.00      0.00      0.00        12\n",
      "          18       0.00      0.00      0.00        20\n",
      "          19       0.60      0.78      0.68       133\n",
      "          20       1.00      0.04      0.08        70\n",
      "          21       0.00      0.00      0.00        27\n",
      "          22       0.00      0.00      0.00         7\n",
      "          23       0.00      0.00      0.00        12\n",
      "          24       0.00      0.00      0.00        19\n",
      "          25       1.00      0.03      0.06        31\n",
      "          26       0.00      0.00      0.00         8\n",
      "          27       0.00      0.00      0.00         4\n",
      "          28       0.00      0.00      0.00        10\n",
      "          29       0.00      0.00      0.00         4\n",
      "          30       0.00      0.00      0.00        12\n",
      "          31       0.00      0.00      0.00        13\n",
      "          32       0.00      0.00      0.00        10\n",
      "          33       0.00      0.00      0.00         5\n",
      "          34       0.00      0.00      0.00         7\n",
      "          35       0.00      0.00      0.00         6\n",
      "          36       0.00      0.00      0.00        11\n",
      "          37       0.00      0.00      0.00         2\n",
      "          38       0.00      0.00      0.00         3\n",
      "          39       0.00      0.00      0.00         5\n",
      "          40       0.00      0.00      0.00        10\n",
      "          41       0.00      0.00      0.00         8\n",
      "          42       0.00      0.00      0.00         3\n",
      "          43       0.00      0.00      0.00         6\n",
      "          44       0.00      0.00      0.00         5\n",
      "          45       0.00      0.00      0.00         1\n",
      "\n",
      "    accuracy                           0.66      2246\n",
      "   macro avg       0.17      0.10      0.10      2246\n",
      "weighted avg       0.59      0.66      0.58      2246\n",
      "\n"
     ]
    }
   ],
   "source": [
    "print(classification_report(y_test, model.predict(tfidfv_test), zero_division=0))"
   ]
  },
  {
   "cell_type": "code",
   "execution_count": 33,
   "id": "2bdf75a0",
   "metadata": {},
   "outputs": [
    {
     "name": "stdout",
     "output_type": "stream",
     "text": [
      "=3\n"
     ]
    }
   ],
   "source": [
    "def graph_confusion_matrix(model, x_test, y_test):#, classes_name):\n",
    "  df_cm = pd.DataFrame(confusion_matrix(y_test, model.predict(x_test)))#, index=classes_name, columns=classes_name)\n",
    "  fig = plt.figure(figsize=(12,12))\n",
    "  heatmap = sns.heatmap(df_cm, annot=True, fmt=\"d\")\n",
    "  heatmap.yaxis.set_ticklabels(heatmap.yaxis.get_ticklabels(), rotation=0, ha='right', fontsize=12)\n",
    "  heatmap.xaxis.set_ticklabels(heatmap.xaxis.get_ticklabels(), rotation=45, ha='right', fontsize=12)\n",
    "  plt.ylabel('label')\n",
    "  plt.xlabel('predicted value')\n",
    "\n",
    "print('=3')"
   ]
  },
  {
   "cell_type": "code",
   "execution_count": 34,
   "id": "b45a142c",
   "metadata": {},
   "outputs": [
    {
     "data": {
      "image/png": "[encoded data removed]",
      "text/plain": [
       "<Figure size 864x864 with 2 Axes>"
      ]
     },
     "metadata": {
      "needs_background": "light"
     },
     "output_type": "display_data"
    }
   ],
   "source": [
    "graph_confusion_matrix(model, tfidfv_test, y_test)"
   ]
  },
  {
   "cell_type": "markdown",
   "id": "15c82647",
   "metadata": {},
   "source": [
    "## 다양한 머신러닝 모델 사용해보기 (1)"
   ]
  },
  {
   "cell_type": "code",
   "execution_count": 35,
   "id": "e2cc64b0",
   "metadata": {},
   "outputs": [
    {
     "data": {
      "text/plain": [
       "ComplementNB()"
      ]
     },
     "execution_count": 35,
     "metadata": {},
     "output_type": "execute_result"
    }
   ],
   "source": [
    "#complemt NB ; used when labels are unbalanced\n",
    "cb = ComplementNB()\n",
    "cb.fit(tfidfv, y_train)"
   ]
  },
  {
   "cell_type": "code",
   "execution_count": 36,
   "id": "728ad466",
   "metadata": {},
   "outputs": [
    {
     "name": "stdout",
     "output_type": "stream",
     "text": [
      "정확도: 0.7707034728406055\n"
     ]
    }
   ],
   "source": [
    "predicted = cb.predict(tfidfv_test) #테스트 데이터에 대한 예측\n",
    "print(\"정확도:\", accuracy_score(y_test, predicted)) #예측값과 실제값 비교"
   ]
  },
  {
   "cell_type": "code",
   "execution_count": 37,
   "id": "a781d30b",
   "metadata": {},
   "outputs": [
    {
     "data": {
      "text/plain": [
       "LogisticRegression(C=10000, max_iter=3000)"
      ]
     },
     "execution_count": 37,
     "metadata": {},
     "output_type": "execute_result"
    }
   ],
   "source": [
    "#Logistic Regression\n",
    "# 10분 정도 소요됩니다.\n",
    "lr = LogisticRegression(C=10000, penalty='l2', max_iter=3000)\n",
    "lr.fit(tfidfv, y_train)"
   ]
  },
  {
   "cell_type": "code",
   "execution_count": 38,
   "id": "2ecf581e",
   "metadata": {},
   "outputs": [
    {
     "name": "stdout",
     "output_type": "stream",
     "text": [
      "정확도: 0.8107747105966162\n"
     ]
    }
   ],
   "source": [
    "predicted = lr.predict(tfidfv_test) #테스트 데이터에 대한 예측\n",
    "print(\"정확도:\", accuracy_score(y_test, predicted)) #예측값과 실제값 비교"
   ]
  },
  {
   "cell_type": "code",
   "execution_count": 39,
   "id": "2f898420",
   "metadata": {},
   "outputs": [
    {
     "name": "stderr",
     "output_type": "stream",
     "text": [
      "/opt/conda/lib/python3.9/site-packages/sklearn/svm/_base.py:1199: ConvergenceWarning: Liblinear failed to converge, increase the number of iterations.\n",
      "  warnings.warn(\n"
     ]
    },
    {
     "data": {
      "text/plain": [
       "LinearSVC(C=1000, dual=False, max_iter=3000, penalty='l1')"
      ]
     },
     "execution_count": 39,
     "metadata": {},
     "output_type": "execute_result"
    }
   ],
   "source": [
    "# SVM\n",
    "lsvc = LinearSVC(C=1000, penalty='l1', max_iter=3000, dual=False)\n",
    "lsvc.fit(tfidfv, y_train)"
   ]
  },
  {
   "cell_type": "code",
   "execution_count": 40,
   "id": "f2ea6d81",
   "metadata": {},
   "outputs": [
    {
     "name": "stdout",
     "output_type": "stream",
     "text": [
      "정확도: 0.7849510240427426\n"
     ]
    }
   ],
   "source": [
    "predicted = lsvc.predict(tfidfv_test) #테스트 데이터에 대한 예측\n",
    "print(\"정확도:\", accuracy_score(y_test, predicted)) #예측값과 실제값 비교"
   ]
  },
  {
   "cell_type": "markdown",
   "id": "e3859069",
   "metadata": {},
   "source": [
    "## 다양한 머신러닝 모델 사용해보기 (2)"
   ]
  },
  {
   "cell_type": "code",
   "execution_count": 41,
   "id": "72a07eb2",
   "metadata": {},
   "outputs": [
    {
     "data": {
      "text/plain": [
       "DecisionTreeClassifier(max_depth=10, random_state=0)"
      ]
     },
     "execution_count": 41,
     "metadata": {},
     "output_type": "execute_result"
    }
   ],
   "source": [
    "tree = DecisionTreeClassifier(max_depth=10, random_state=0)\n",
    "tree.fit(tfidfv, y_train)"
   ]
  },
  {
   "cell_type": "code",
   "execution_count": 42,
   "id": "12a2c65d",
   "metadata": {},
   "outputs": [
    {
     "name": "stdout",
     "output_type": "stream",
     "text": [
      "정확도: 0.6202137132680321\n"
     ]
    }
   ],
   "source": [
    "predicted = tree.predict(tfidfv_test) #테스트 데이터에 대한 예측\n",
    "print(\"정확도:\", accuracy_score(y_test, predicted)) #예측값과 실제값 비교"
   ]
  },
  {
   "cell_type": "code",
   "execution_count": 43,
   "id": "619bb542",
   "metadata": {},
   "outputs": [
    {
     "data": {
      "text/plain": [
       "RandomForestClassifier(n_estimators=5, random_state=0)"
      ]
     },
     "execution_count": 43,
     "metadata": {},
     "output_type": "execute_result"
    }
   ],
   "source": [
    "forest = RandomForestClassifier(n_estimators=5, random_state=0)\n",
    "forest.fit(tfidfv, y_train)"
   ]
  },
  {
   "cell_type": "code",
   "execution_count": 49,
   "id": "e59eb52d",
   "metadata": {},
   "outputs": [
    {
     "name": "stdout",
     "output_type": "stream",
     "text": [
      "정확도: 0.674087266251113\n"
     ]
    }
   ],
   "source": [
    "predicted = forest.predict(tfidfv_test) #테스트 데이터에 대한 예측\n",
    "print(\"정확도:\", accuracy_score(y_test, predicted)) #예측값과 실제값 비교"
   ]
  },
  {
   "cell_type": "code",
   "execution_count": 50,
   "id": "1d91c26b",
   "metadata": {},
   "outputs": [
    {
     "data": {
      "text/plain": [
       "GradientBoostingClassifier(random_state=0)"
      ]
     },
     "execution_count": 50,
     "metadata": {},
     "output_type": "execute_result"
    }
   ],
   "source": [
    "# 15분 정도 소요될 수 있습니다.\n",
    "# grbt = GradientBoostingClassifier(random_state=0) # verbose=3\n",
    "# grbt.fit(tfidfv, y_train)"
   ]
  },
  {
   "cell_type": "code",
   "execution_count": 51,
   "id": "b727b334",
   "metadata": {},
   "outputs": [
    {
     "name": "stdout",
     "output_type": "stream",
     "text": [
      "정확도: 0.7662511130899377\n"
     ]
    }
   ],
   "source": [
    "# predicted = grbt.predict(tfidfv_test) #테스트 데이터에 대한 예측\n",
    "# print(\"정확도:\", accuracy_score(y_test, predicted)) #예측값과 실제값 비교"
   ]
  },
  {
   "cell_type": "code",
   "execution_count": 45,
   "id": "7e22f65d",
   "metadata": {},
   "outputs": [],
   "source": [
    "# # 20분 이상 소요될 수 있습니다.\n",
    "# voting_classifier = VotingClassifier(estimators=[\n",
    "#          ('lr', LogisticRegression(C=10000, max_iter=3000, penalty='l2')),\n",
    "#         ('cb', ComplementNB()),\n",
    "#         ('grbt', GradientBoostingClassifier(random_state=0))\n",
    "# ], voting='soft')\n",
    "# voting_classifier.fit(tfidfv, y_train)"
   ]
  },
  {
   "cell_type": "code",
   "execution_count": 46,
   "id": "6cf40f3e",
   "metadata": {},
   "outputs": [],
   "source": [
    "# predicted = voting_classifier.predict(tfidfv_test) #테스트 데이터에 대한 예측\n",
    "# print(\"정확도:\", accuracy_score(y_test, predicted)) #예측값과 실제값 비교"
   ]
  },
  {
   "cell_type": "markdown",
   "id": "dfa7dc6b",
   "metadata": {},
   "source": [
    "# 프로젝트: Vocabulary Size를 변경해서 시도해보기"
   ]
  },
  {
   "attachments": {
    "image.png": {
     "image/png": "[encoded data removed]"
    }
   },
   "cell_type": "markdown",
   "id": "9f2b29ea",
   "metadata": {},
   "source": [
    "![image.png](attachment:image.png)"
   ]
  },
  {
   "cell_type": "code",
   "execution_count": 1,
   "id": "c186f361",
   "metadata": {},
   "outputs": [
    {
     "name": "stdout",
     "output_type": "stream",
     "text": [
      "2.6.0\n",
      "3.4.3\n",
      "0.11.2\n",
      "1.21.4\n",
      "1.3.3\n",
      "1.0\n"
     ]
    }
   ],
   "source": [
    "import tensorflow\n",
    "import matplotlib\n",
    "import seaborn \n",
    "import numpy \n",
    "import pandas\n",
    "import sklearn\n",
    "\n",
    "from tensorflow.keras.datasets import reuters\n",
    "import matplotlib.pyplot as plt\n",
    "import seaborn as sns\n",
    "import numpy as np\n",
    "import pandas as pd\n",
    "\n",
    "\n",
    "print(tensorflow.__version__)\n",
    "print(matplotlib.__version__)\n",
    "print(seaborn.__version__)\n",
    "print(numpy.__version__)\n",
    "print(pandas.__version__)\n",
    "print(sklearn.__version__)"
   ]
  },
  {
   "cell_type": "markdown",
   "id": "9f86e926",
   "metadata": {},
   "source": [
    "### vocab size 조정"
   ]
  },
  {
   "cell_type": "code",
   "execution_count": 2,
   "id": "1c5c509c",
   "metadata": {},
   "outputs": [],
   "source": [
    "# check vocab size 확인 함수\n",
    "\n",
    "def check_vocab_size(train,test) :\n",
    "    all_list = np.concatenate((train, test),axis=0)    \n",
    "    vocab_set = set()\n",
    "\n",
    "    for i in all_list :\n",
    "        vocab_set |= set(i)\n",
    "    \n",
    "    return len(vocab_set)"
   ]
  },
  {
   "cell_type": "code",
   "execution_count": 3,
   "id": "ae176948",
   "metadata": {},
   "outputs": [],
   "source": [
    "#모든 단어 사용\n",
    "(xa_train, ya_train), (xa_test, ya_test) = reuters.load_data(num_words=None, test_split=0.2)"
   ]
  },
  {
   "cell_type": "code",
   "execution_count": 4,
   "id": "3ea0d77a",
   "metadata": {},
   "outputs": [
    {
     "data": {
      "text/plain": [
       "30980"
      ]
     },
     "execution_count": 4,
     "metadata": {},
     "output_type": "execute_result"
    }
   ],
   "source": [
    "# 전체 vocab 사이즈 크기는 30980 으로 나오네요\n",
    "check_vocab_size(xa_train, xa_test)"
   ]
  },
  {
   "cell_type": "code",
   "execution_count": 5,
   "id": "ac87a4fb",
   "metadata": {},
   "outputs": [],
   "source": [
    "# 빈도수 상위 15,000개의 단어만 사용\n",
    "(xb_train, yb_train), (xb_test, yb_test) = reuters.load_data(num_words=15000, test_split=0.2)"
   ]
  },
  {
   "cell_type": "code",
   "execution_count": 6,
   "id": "0a5f5c72",
   "metadata": {},
   "outputs": [
    {
     "data": {
      "text/plain": [
       "14998"
      ]
     },
     "execution_count": 6,
     "metadata": {},
     "output_type": "execute_result"
    }
   ],
   "source": [
    "# 전체 vocab 사이즈에서 2개가 빠질까? 여기도 그러네요\n",
    "check_vocab_size(xb_train, xb_test)"
   ]
  },
  {
   "cell_type": "code",
   "execution_count": 7,
   "id": "2ae2969c",
   "metadata": {},
   "outputs": [],
   "source": [
    "# 빈도수 상위 5,000개의 단어만 사용\n",
    "(xc_train, yc_train), (xc_test, yc_test) = reuters.load_data(num_words=5000, test_split=0.2)"
   ]
  },
  {
   "cell_type": "code",
   "execution_count": 8,
   "id": "199a5dae",
   "metadata": {},
   "outputs": [
    {
     "data": {
      "text/plain": [
       "4998"
      ]
     },
     "execution_count": 8,
     "metadata": {},
     "output_type": "execute_result"
    }
   ],
   "source": [
    "# 전체 vocab 사이즈에서 2개가 빠질까?\n",
    "check_vocab_size(xc_train, xc_test)"
   ]
  },
  {
   "cell_type": "code",
   "execution_count": 9,
   "id": "018c8345",
   "metadata": {},
   "outputs": [
    {
     "name": "stdout",
     "output_type": "stream",
     "text": [
      "=3\n"
     ]
    }
   ],
   "source": [
    "# decode token seq \n",
    "index_word ={ i+3 : w for w, i in reuters.get_word_index().items()}\n",
    "for index, token in enumerate((\"<pad>\", \"<sos>\", \"<unk>\")):\n",
    "    index_word[index]=token\n",
    "print('=3')\n",
    "\n",
    "def decode_seq(token) :\n",
    "    decode = []\n",
    "    for i in token :\n",
    "        decode.append(index_word[i])\n",
    "    \n",
    "    return ' '.join(decode)"
   ]
  },
  {
   "cell_type": "code",
   "execution_count": 10,
   "id": "0eb5836a",
   "metadata": {},
   "outputs": [
    {
     "name": "stdout",
     "output_type": "stream",
     "text": [
      "vocab_size tye : all\n",
      "<sos> shr 3 28 dlrs vs 22 cts shr diluted 2 99 dlrs vs 22 cts net 46 0 mln vs 3 328 000 avg shrs 14 0 mln vs 15 2 mln year shr 5 41 dlrs vs 1 56 dlrs shr diluted 4 94 dlrs vs 1 50 dlrs net 78 2 mln vs 25 9 mln avg shrs 14 5 mln vs 15 1 mln note earnings per share reflect the two for one split effective january 6 1987 per share amounts are calculated after preferred stock dividends loss continuing operations for the qtr 1986 includes gains of sale of investments in enron corp of 14 mln dlrs and associated companies of 4 189 000 less writedowns of investments in national intergroup inc of 11 8 mln and brae corp of 15 6 mln reuter 3\n",
      "\n",
      "\n",
      "\n",
      "vocab_size tye : 15000\n",
      "<sos> shr 3 28 dlrs vs 22 cts shr diluted 2 99 dlrs vs 22 cts net 46 0 mln vs 3 328 000 avg shrs 14 0 mln vs 15 2 mln year shr 5 41 dlrs vs 1 56 dlrs shr diluted 4 94 dlrs vs 1 50 dlrs net 78 2 mln vs 25 9 mln avg shrs 14 5 mln vs 15 1 mln note earnings per share reflect the two for one split effective january 6 1987 per share amounts are calculated after preferred stock dividends loss continuing operations for the qtr 1986 includes gains of sale of investments in enron corp of 14 mln dlrs and associated companies of 4 189 000 less writedowns of investments in national intergroup inc of 11 8 mln and <unk> corp of 15 6 mln reuter 3\n",
      "\n",
      "\n",
      "\n",
      "vocab_size tye : 5000\n",
      "<sos> shr 3 28 dlrs vs 22 cts shr diluted 2 99 dlrs vs 22 cts net 46 0 mln vs 3 328 000 avg shrs 14 0 mln vs 15 2 mln year shr 5 41 dlrs vs 1 56 dlrs shr diluted 4 94 dlrs vs 1 50 dlrs net 78 2 mln vs 25 9 mln avg shrs 14 5 mln vs 15 1 mln note earnings per share reflect the two for one split effective january 6 1987 per share amounts are calculated after preferred stock dividends loss continuing operations for the qtr 1986 includes gains of sale of investments in <unk> corp of 14 mln dlrs and associated companies of 4 189 000 less writedowns of investments in national <unk> inc of 11 8 mln and <unk> corp of 15 6 mln reuter 3\n",
      "\n",
      "\n",
      "\n"
     ]
    }
   ],
   "source": [
    "for i,corpus_seq in enumerate([xa_train,xb_train,xc_train]) :\n",
    "    vocab_type = {1:'all', 2:'15000', 3:'5000'}\n",
    "    \n",
    "    print(f'vocab_size tye : {vocab_type[i+1]}')\n",
    "    print(decode_seq(corpus_seq[2]))\n",
    "    \n",
    "    print('\\n\\n')"
   ]
  },
  {
   "cell_type": "code",
   "execution_count": 11,
   "id": "3a2de21d",
   "metadata": {},
   "outputs": [],
   "source": [
    "def i2w_token(token) :\n",
    "    return [decode_seq(i) for i in token] "
   ]
  },
  {
   "cell_type": "code",
   "execution_count": 12,
   "id": "ce0bfe51",
   "metadata": {},
   "outputs": [],
   "source": [
    "# i2w for vectorization \n",
    "xa_tr = i2w_token(xa_train)\n",
    "xa_ts = i2w_token(xa_test)\n",
    "\n",
    "xb_tr = i2w_token(xb_train)\n",
    "xb_ts = i2w_token(xb_test)\n",
    "\n",
    "xc_tr = i2w_token(xc_train)\n",
    "xc_ts = i2w_token(xc_test)\n"
   ]
  },
  {
   "cell_type": "markdown",
   "id": "964b7e8d",
   "metadata": {},
   "source": [
    "### Vectorization"
   ]
  },
  {
   "cell_type": "code",
   "execution_count": 13,
   "id": "47b06d6a",
   "metadata": {},
   "outputs": [
    {
     "name": "stdout",
     "output_type": "stream",
     "text": [
      "=3\n"
     ]
    }
   ],
   "source": [
    "from sklearn.feature_extraction.text import CountVectorizer\n",
    "from sklearn.feature_extraction.text import TfidfTransformer\n",
    "print('=3')"
   ]
  },
  {
   "cell_type": "code",
   "execution_count": 14,
   "id": "49349ffe",
   "metadata": {},
   "outputs": [],
   "source": [
    "def tfidf_vectorization(x_train, x_test) :\n",
    "\n",
    "    # DTM\n",
    "    dtf = CountVectorizer()\n",
    "    x_train = dtf.fit_transform(x_train)\n",
    "    x_test = dtf.transform(x_test)\n",
    "    \n",
    "    #TF-IDF\n",
    "    tfidfvector = TfidfTransformer()\n",
    "    x_train = tfidfvector.fit_transform(x_train)\n",
    "    x_test = tfidfvector.transform(x_test)\n",
    "    \n",
    "    print('train shape: ', x_train.shape)\n",
    "    print('test shape: ', x_test.shape)\n",
    "    print()\n",
    "    \n",
    "    return x_train, x_test, tfidfvector"
   ]
  },
  {
   "cell_type": "code",
   "execution_count": 15,
   "id": "29fe2e49",
   "metadata": {},
   "outputs": [
    {
     "name": "stdout",
     "output_type": "stream",
     "text": [
      "vocab size : all\n",
      "train shape:  (8982, 26506)\n",
      "test shape:  (2246, 26506)\n",
      "\n",
      "vocab size : 15000\n",
      "train shape:  (8982, 14227)\n",
      "test shape:  (2246, 14227)\n",
      "\n",
      "vocab size : 5000 \n",
      "train shape:  (8982, 4867)\n",
      "test shape:  (2246, 4867)\n",
      "\n"
     ]
    }
   ],
   "source": [
    "print('vocab size : all')\n",
    "xa_tr_v, xa_ts_v, tfidfvector= tfidf_vectorization(xa_tr, xa_ts)\n",
    "print('vocab size : 15000')\n",
    "xb_tr_v, xb_ts_v, tfidfvector= tfidf_vectorization(xb_tr, xb_ts)\n",
    "print('vocab size : 5000 ')\n",
    "xc_tr_v, xc_ts_v, tfidfvector= tfidf_vectorization(xc_tr, xc_ts)"
   ]
  },
  {
   "cell_type": "markdown",
   "id": "7b757f42",
   "metadata": {},
   "source": [
    "### Modeling and Evaluating Results"
   ]
  },
  {
   "cell_type": "code",
   "execution_count": 16,
   "id": "3abad56d",
   "metadata": {},
   "outputs": [],
   "source": [
    "from sklearn.naive_bayes import MultinomialNB #다항분포 나이브 베이즈 모델\n",
    "from sklearn.linear_model import LogisticRegression, SGDClassifier\n",
    "from sklearn.naive_bayes import ComplementNB\n",
    "from sklearn.svm import LinearSVC\n",
    "\n",
    "from sklearn.tree import DecisionTreeClassifier\n",
    "from sklearn.ensemble import RandomForestClassifier\n",
    "from sklearn.ensemble import GradientBoostingClassifier\n",
    "from sklearn.ensemble import VotingClassifier\n",
    "from sklearn.metrics import f1_score"
   ]
  },
  {
   "cell_type": "code",
   "execution_count": 17,
   "id": "52c3c4bb",
   "metadata": {},
   "outputs": [],
   "source": [
    "meta_data = {'xa' : {'xtrain' : xa_tr_v, 'xtest' : xa_ts_v, 'ytrain' : ya_train, 'ytest' : ya_test }, \n",
    "             'xb' : {'xtrain' : xb_tr_v, 'xtest' : xb_ts_v, 'ytrain' : yb_train, 'ytest' : yb_test },\n",
    "             'xc' : {'xtrain' : xc_tr_v, 'xtest' : xc_ts_v, 'ytrain' : yc_train, 'ytest' : yc_test }} "
   ]
  },
  {
   "cell_type": "code",
   "execution_count": 50,
   "id": "688307c9",
   "metadata": {},
   "outputs": [],
   "source": [
    "def compare_model_results(model, data) :\n",
    "    vocab_size = ['xa','xb','xc']\n",
    "    results = []\n",
    "    for i in vocab_size :\n",
    "        model = model\n",
    "        model.fit(meta_data[i]['xtrain'], meta_data[i]['ytrain'])\n",
    "        f1score = f1_score( meta_data[i]['ytest'], model.predict(meta_data[i]['xtest']), average='weighted')\n",
    "        results.append(f1score)\n",
    "        \n",
    "    return results"
   ]
  },
  {
   "cell_type": "code",
   "execution_count": 262,
   "id": "05086210",
   "metadata": {},
   "outputs": [
    {
     "data": {
      "image/png": "[encoded data removed]",
      "text/plain": [
       "<Figure size 792x360 with 1 Axes>"
      ]
     },
     "metadata": {
      "needs_background": "light"
     },
     "output_type": "display_data"
    }
   ],
   "source": [
    "# 1. MultinomialNB\n",
    "\n",
    "f1 = compare_model_results(MultinomialNB(), meta_data)\n",
    "\n",
    "fig, ax = plt.subplots()\n",
    "\n",
    "p1 = ax.bar(['v_all', 'v_15,000', 'v_5,000'],f1)\n",
    "ax.bar_label(p1,label_type='center', color='white')\n",
    "plt.title('F1-score : MultinomialNB ')\n",
    "plt.show()"
   ]
  },
  {
   "cell_type": "code",
   "execution_count": 263,
   "id": "79ccab31",
   "metadata": {},
   "outputs": [
    {
     "data": {
      "image/png": "[encoded data removed]",
      "text/plain": [
       "<Figure size 792x360 with 1 Axes>"
      ]
     },
     "metadata": {
      "needs_background": "light"
     },
     "output_type": "display_data"
    }
   ],
   "source": [
    "# 2. ComplementNB\n",
    "\n",
    "f1 = compare_model_results(ComplementNB(), meta_data)\n",
    "\n",
    "fig, ax = plt.subplots()\n",
    "\n",
    "p1 = ax.bar(['v_all', 'v_15,000', 'v_5,000'],f1)\n",
    "ax.bar_label(p1,label_type='center', color='white')\n",
    "plt.title('F1-score :  ComplementNB ')\n",
    "plt.show()"
   ]
  },
  {
   "cell_type": "code",
   "execution_count": 264,
   "id": "0854c189",
   "metadata": {},
   "outputs": [
    {
     "name": "stderr",
     "output_type": "stream",
     "text": [
      "/opt/conda/lib/python3.9/site-packages/sklearn/svm/_base.py:1199: ConvergenceWarning: Liblinear failed to converge, increase the number of iterations.\n",
      "  warnings.warn(\n",
      "/opt/conda/lib/python3.9/site-packages/sklearn/svm/_base.py:1199: ConvergenceWarning: Liblinear failed to converge, increase the number of iterations.\n",
      "  warnings.warn(\n",
      "/opt/conda/lib/python3.9/site-packages/sklearn/svm/_base.py:1199: ConvergenceWarning: Liblinear failed to converge, increase the number of iterations.\n",
      "  warnings.warn(\n"
     ]
    },
    {
     "data": {
      "image/png": "[encoded data removed]",
      "text/plain": [
       "<Figure size 792x360 with 1 Axes>"
      ]
     },
     "metadata": {
      "needs_background": "light"
     },
     "output_type": "display_data"
    }
   ],
   "source": [
    "# 3. SVM\n",
    "\n",
    "model = LinearSVC(C=1000)\n",
    "\n",
    "f1 = compare_model_results(model, meta_data)\n",
    "\n",
    "fig, ax = plt.subplots()\n",
    "\n",
    "p1 = ax.bar(['v_all', 'v_15,000', 'v_5,000'],f1)\n",
    "ax.bar_label(p1,label_type='center', color='white')\n",
    "plt.title('F1-score : Linear SVM ')\n",
    "plt.show()"
   ]
  },
  {
   "cell_type": "code",
   "execution_count": 268,
   "id": "c8b49f2d",
   "metadata": {},
   "outputs": [
    {
     "data": {
      "image/png": "[encoded data removed]",
      "text/plain": [
       "<Figure size 792x360 with 1 Axes>"
      ]
     },
     "metadata": {
      "needs_background": "light"
     },
     "output_type": "display_data"
    }
   ],
   "source": [
    "# 4. LogisticRegression\n",
    "model = LogisticRegression(C=1000, penalty='l2', max_iter=3000)\n",
    "\n",
    "f1 = compare_model_results(model, meta_data)\n",
    "\n",
    "fig, ax = plt.subplots()\n",
    "\n",
    "p1 = ax.bar(['v_all', 'v_15,000', 'v_5,000'],f1)\n",
    "ax.bar_label(p1,label_type='center', color='white')\n",
    "plt.title('F1-score : LogisticRegression ')\n",
    "plt.show()"
   ]
  },
  {
   "cell_type": "code",
   "execution_count": 265,
   "id": "49a5ecd9",
   "metadata": {},
   "outputs": [
    {
     "data": {
      "image/png": "[encoded data removed]",
      "text/plain": [
       "<Figure size 792x360 with 1 Axes>"
      ]
     },
     "metadata": {
      "needs_background": "light"
     },
     "output_type": "display_data"
    }
   ],
   "source": [
    "# 5. DecisionTreeClassifier\n",
    "\n",
    "model = DecisionTreeClassifier()\n",
    "\n",
    "f1 = compare_model_results(model, meta_data)\n",
    "\n",
    "fig, ax = plt.subplots()\n",
    "\n",
    "p1 = ax.bar(['v_all', 'v_15,000', 'v_5,000'],f1)\n",
    "ax.bar_label(p1,label_type='center', color='white')\n",
    "plt.title('F1-score : DecisionTreeClassifier' )\n",
    "plt.show()"
   ]
  },
  {
   "cell_type": "code",
   "execution_count": 266,
   "id": "940b76a5",
   "metadata": {},
   "outputs": [
    {
     "data": {
      "image/png": "[encoded data removed]",
      "text/plain": [
       "<Figure size 792x360 with 1 Axes>"
      ]
     },
     "metadata": {
      "needs_background": "light"
     },
     "output_type": "display_data"
    }
   ],
   "source": [
    "# 6. RandomTreeClassifier\n",
    "\n",
    "model = RandomForestClassifier(n_estimators=100)\n",
    "\n",
    "f1 = compare_model_results(model, meta_data)\n",
    "\n",
    "fig, ax = plt.subplots()\n",
    "\n",
    "p1 = ax.bar(['v_all', 'v_15,000', 'v_5,000'],f1)\n",
    "ax.bar_label(p1,label_type='center', color='white')\n",
    "plt.title('F1-score : RandomTreeClassifier' )\n",
    "plt.show()"
   ]
  },
  {
   "cell_type": "code",
   "execution_count": 52,
   "id": "10baf985",
   "metadata": {},
   "outputs": [],
   "source": [
    "# # 7. GradientBoostingClassifier\n",
    "\n",
    "# model = GradientBoostingClassifier(random_state=1)\n",
    "\n",
    "# f1 = compare_model_results(model, meta_data)\n",
    "\n",
    "# fig, ax = plt.subplots()\n",
    "\n",
    "# p1 = ax.bar(['v_all', 'v_15,000', 'v_5,000'],f1)\n",
    "# ax.bar_label(p1,label_type='center', color='white')\n",
    "# plt.title('F1-score : GradientBoostingClassifier' )\n",
    "# plt.show()"
   ]
  },
  {
   "cell_type": "code",
   "execution_count": null,
   "id": "c62b1096",
   "metadata": {},
   "outputs": [],
   "source": [
    "# # 8. Voting Classifier\n",
    "\n",
    "# model = VotingClassifier(estimators=[\n",
    "#          ('lr', LogisticRegression(C=1000, max_iter=3000, penalty='l2')),\n",
    "#         ('cb', ComplementNB()),\n",
    "#         ('grbt', GradientBoostingClassifier(random_state=0))\n",
    "# ], voting='soft')\n",
    "\n",
    "# f1 = compare_model_results(model, meta_data)\n",
    "\n",
    "# fig, ax = plt.subplots()\n",
    "\n",
    "# p1 = ax.bar(['v_all', 'v_15,000', 'v_5,000'],f1)\n",
    "# ax.bar_label(p1,label_type='center', color='white')\n",
    "# plt.title('F1-score : Voting Classifier' )\n",
    "# plt.show()"
   ]
  },
  {
   "cell_type": "code",
   "execution_count": 19,
   "id": "890f9edc",
   "metadata": {},
   "outputs": [],
   "source": [
    "# 26506\n",
    "# 14227"
   ]
  },
  {
   "cell_type": "code",
   "execution_count": 22,
   "id": "c90edf0d",
   "metadata": {},
   "outputs": [
    {
     "name": "stdout",
     "output_type": "stream",
     "text": [
      "Model: \"sequential_1\"\n",
      "_________________________________________________________________\n",
      "Layer (type)                 Output Shape              Param #   \n",
      "=================================================================\n",
      "embedding_1 (Embedding)      (None, None, 16)          77872     \n",
      "_________________________________________________________________\n",
      "lstm_1 (LSTM)                (None, 8)                 800       \n",
      "_________________________________________________________________\n",
      "dense_3 (Dense)              (None, 16)                144       \n",
      "_________________________________________________________________\n",
      "dense_4 (Dense)              (None, 32)                544       \n",
      "_________________________________________________________________\n",
      "dense_5 (Dense)              (None, 46)                1518      \n",
      "=================================================================\n",
      "Total params: 80,878\n",
      "Trainable params: 80,878\n",
      "Non-trainable params: 0\n",
      "_________________________________________________________________\n"
     ]
    }
   ],
   "source": [
    "# 9. Neural Network\n",
    "import tensorflow as tf\n",
    "word_vector_dim = 16\n",
    "vocab_size = meta_data['xc']['xtrain'].shape[1]\n",
    "\n",
    "models = tf.keras.Sequential([\n",
    "    tf.keras.layers.Embedding(vocab_size, word_vector_dim, input_shape=(None,)),\n",
    "    tf.keras.layers.LSTM(8),   # 가장 널리 쓰이는 RNN인 LSTM 레이어를 사용하였습니다. 이때 LSTM state 벡터의 차원수는 8로 하였습니다. (변경 가능)\n",
    "    tf.keras.layers.Dense(16, activation='relu'),\n",
    "    tf.keras.layers.Dense(32, activation='relu'),\n",
    "    tf.keras.layers.Dense(46, activation='softmax'), \n",
    "])\n",
    "\n",
    "models.summary()"
   ]
  },
  {
   "cell_type": "code",
   "execution_count": 23,
   "id": "4c195bf5",
   "metadata": {},
   "outputs": [],
   "source": [
    "target = yc_train.copy() #one-hot encoding\n",
    "num = np.unique(target, axis=0)\n",
    "num =num.shape[0]\n",
    "encoding = np.eye(num)[target] "
   ]
  },
  {
   "cell_type": "code",
   "execution_count": 24,
   "id": "2333954e",
   "metadata": {},
   "outputs": [
    {
     "name": "stdout",
     "output_type": "stream",
     "text": [
      "(6287, 4867)\n",
      "(6287, 46)\n"
     ]
    }
   ],
   "source": [
    "x_train = xc_tr_v.toarray().copy()\n",
    "y_train = encoding.copy()\n",
    "\n",
    "val_size =int(len(x_train) * 0.3) +1 \n",
    "\n",
    "# validation set 10000건 분리\n",
    "x_val = x_train[:val_size]   \n",
    "y_val = y_train[:val_size]\n",
    "\n",
    "# validation set을 제외한 나머지 \n",
    "partial_x_train = x_train[val_size:]  \n",
    "partial_y_train = y_train[val_size:]\n",
    "\n",
    "print(partial_x_train.shape)\n",
    "print(partial_y_train.shape)"
   ]
  },
  {
   "cell_type": "code",
   "execution_count": 25,
   "id": "832f6b6c",
   "metadata": {},
   "outputs": [
    {
     "name": "stdout",
     "output_type": "stream",
     "text": [
      "Epoch 1/25\n",
      "25/25 [==============================] - 6s 168ms/step - loss: 3.8290 - accuracy: 0.0121 - val_loss: 3.8247 - val_accuracy: 0.0186\n",
      "Epoch 2/25\n",
      "25/25 [==============================] - 4s 155ms/step - loss: 3.8216 - accuracy: 0.0194 - val_loss: 3.8186 - val_accuracy: 0.3447\n",
      "Epoch 3/25\n",
      "25/25 [==============================] - 4s 151ms/step - loss: 3.8156 - accuracy: 0.3547 - val_loss: 3.8128 - val_accuracy: 0.3447\n",
      "Epoch 4/25\n",
      "25/25 [==============================] - 4s 149ms/step - loss: 3.8094 - accuracy: 0.3547 - val_loss: 3.8062 - val_accuracy: 0.3447\n",
      "Epoch 5/25\n",
      "25/25 [==============================] - 4s 150ms/step - loss: 3.8021 - accuracy: 0.3547 - val_loss: 3.7982 - val_accuracy: 0.3447\n",
      "Epoch 6/25\n",
      "25/25 [==============================] - 4s 152ms/step - loss: 3.7929 - accuracy: 0.3547 - val_loss: 3.7880 - val_accuracy: 0.3447\n",
      "Epoch 7/25\n",
      "25/25 [==============================] - 4s 151ms/step - loss: 3.7810 - accuracy: 0.3547 - val_loss: 3.7746 - val_accuracy: 0.3447\n",
      "Epoch 8/25\n",
      "25/25 [==============================] - 4s 150ms/step - loss: 3.7651 - accuracy: 0.3547 - val_loss: 3.7564 - val_accuracy: 0.3447\n",
      "Epoch 9/25\n",
      "25/25 [==============================] - 4s 149ms/step - loss: 3.7436 - accuracy: 0.3547 - val_loss: 3.7315 - val_accuracy: 0.3447\n",
      "Epoch 10/25\n",
      "25/25 [==============================] - 4s 151ms/step - loss: 3.7139 - accuracy: 0.3547 - val_loss: 3.6971 - val_accuracy: 0.3447\n",
      "Epoch 11/25\n",
      "25/25 [==============================] - 4s 149ms/step - loss: 3.6727 - accuracy: 0.3547 - val_loss: 3.6484 - val_accuracy: 0.3447\n",
      "Epoch 12/25\n",
      "25/25 [==============================] - 4s 148ms/step - loss: 3.6133 - accuracy: 0.3547 - val_loss: 3.5777 - val_accuracy: 0.3447\n",
      "Epoch 13/25\n",
      "25/25 [==============================] - 4s 150ms/step - loss: 3.5260 - accuracy: 0.3547 - val_loss: 3.4738 - val_accuracy: 0.3447\n",
      "Epoch 14/25\n",
      "25/25 [==============================] - 4s 150ms/step - loss: 3.4017 - accuracy: 0.3547 - val_loss: 3.3320 - val_accuracy: 0.3447\n",
      "Epoch 15/25\n",
      "25/25 [==============================] - 4s 149ms/step - loss: 3.2450 - accuracy: 0.3547 - val_loss: 3.1681 - val_accuracy: 0.3447\n",
      "Epoch 16/25\n",
      "25/25 [==============================] - 4s 150ms/step - loss: 3.0767 - accuracy: 0.3547 - val_loss: 3.0056 - val_accuracy: 0.3447\n",
      "Epoch 17/25\n",
      "25/25 [==============================] - 4s 150ms/step - loss: 2.9188 - accuracy: 0.3547 - val_loss: 2.8605 - val_accuracy: 0.3447\n",
      "Epoch 18/25\n",
      "25/25 [==============================] - 4s 154ms/step - loss: 2.7827 - accuracy: 0.3547 - val_loss: 2.7421 - val_accuracy: 0.3447\n",
      "Epoch 19/25\n",
      "25/25 [==============================] - 4s 150ms/step - loss: 2.6744 - accuracy: 0.3547 - val_loss: 2.6495 - val_accuracy: 0.3447\n",
      "Epoch 20/25\n",
      "25/25 [==============================] - 4s 149ms/step - loss: 2.5918 - accuracy: 0.3547 - val_loss: 2.5827 - val_accuracy: 0.3447\n",
      "Epoch 21/25\n",
      "25/25 [==============================] - 4s 150ms/step - loss: 2.5332 - accuracy: 0.3547 - val_loss: 2.5368 - val_accuracy: 0.3447\n",
      "Epoch 22/25\n",
      "25/25 [==============================] - 4s 151ms/step - loss: 2.4936 - accuracy: 0.3547 - val_loss: 2.5064 - val_accuracy: 0.3447\n",
      "Epoch 23/25\n",
      "25/25 [==============================] - 4s 148ms/step - loss: 2.4678 - accuracy: 0.3547 - val_loss: 2.4871 - val_accuracy: 0.3447\n",
      "Epoch 24/25\n",
      "25/25 [==============================] - 4s 150ms/step - loss: 2.4511 - accuracy: 0.3547 - val_loss: 2.4746 - val_accuracy: 0.3447\n",
      "Epoch 25/25\n",
      "25/25 [==============================] - 4s 147ms/step - loss: 2.4403 - accuracy: 0.3547 - val_loss: 2.4660 - val_accuracy: 0.3447\n"
     ]
    }
   ],
   "source": [
    "lr = 1e-4\n",
    "models.compile(optimizer=tf.keras.optimizers.Adam(learning_rate = lr),\n",
    "              loss='categorical_crossentropy',\n",
    "              metrics=['accuracy'])\n",
    "               \n",
    "epochs= 25  # 몇 epoch를 훈련하면 좋을지 결과를 보면서 바꾸어 봅시다. \n",
    "\n",
    "history0 = models.fit(partial_x_train,\n",
    "                        partial_y_train,\n",
    "                        epochs=epochs,\n",
    "                        batch_size=256,\n",
    "                        validation_data=(x_val, y_val),\n",
    "                        verbose=1)"
   ]
  },
  {
   "cell_type": "markdown",
   "id": "029b51a0",
   "metadata": {},
   "source": [
    "아주 간단한 RNN 모델로 5,000 vocab 짜리 input으로 신경망으로 분류모델을 돌려봤습니다. \n",
    "성능이 확실 안 좋게 나오는 것 같네요. \n",
    "\n",
    "모델의 한계가 있는 것 같고, TF-IDF로 임베딩의 한계라고도 볼 수 있을 것 같네요. \n",
    "\n",
    "결국 이런 상황에서는 일반 machine learning 모델이 성능이 좋기 때문에, 만약 자원의 한계가 있을 경우는 머신러닝을 이용하는 것이 최선일 수도 있겠다라는 생각이 들었습니다."
   ]
  }
 ],
 "metadata": {
  "kernelspec": {
   "display_name": "Python 3 (ipykernel)",
   "language": "python",
   "name": "python3"
  },
  "language_info": {
   "codemirror_mode": {
    "name": "ipython",
    "version": 3
   },
   "file_extension": ".py",
   "mimetype": "text/x-python",
   "name": "python",
   "nbconvert_exporter": "python",
   "pygments_lexer": "ipython3",
   "version": "3.9.7"
  }
 },
 "nbformat": 4,
 "nbformat_minor": 5
}
