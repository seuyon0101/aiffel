{
 "cells": [
  {
   "cell_type": "code",
   "execution_count": 1,
   "id": "793202f3",
   "metadata": {},
   "outputs": [],
   "source": [
    "import random"
   ]
  },
  {
   "cell_type": "code",
   "execution_count": 315,
   "id": "44f173b2",
   "metadata": {},
   "outputs": [],
   "source": [
    "import random\n",
    "\n",
    "class aiffel :\n",
    "\n",
    "    def __init__(self, students):\n",
    "        self.students = students\n",
    "\n",
    "    def randomizer(self, number_of_groups = 7, seed=0):\n",
    "        '''\n",
    "        Returns randomized groups of people; default is 7 groups\n",
    "\n",
    "        Parameter :\n",
    "\n",
    "        - self.students : list of student names\n",
    "        - number_of_groups : no of groups ; default 7\n",
    "        - seed : random seed\n",
    "\n",
    "        '''\n",
    "        if len(self.students) < number_of_groups:\n",
    "            raise Exception('length of students list must be greater than number of groups')\n",
    "            \n",
    "        random.seed(seed)\n",
    "        groups = []\n",
    "        random.shuffle(self.students)  \n",
    "\n",
    "        t = round(len(self.students) // number_of_groups)\n",
    "\n",
    "        i = 0\n",
    "        while i < len(self.students) :\n",
    "            groups.append(self.students[i:i+t])\n",
    "            i += t\n",
    "            if len(groups) == number_of_groups:\n",
    "                break\n",
    "\n",
    "        remainder = len(self.students) - i\n",
    "        print(remainder)\n",
    "\n",
    "        if remainder != 0 :\n",
    "            for i in range(1,remainder+1):\n",
    "                groups[i-1].append(self.students[-i])\n",
    "\n",
    "        return groups "
   ]
  },
  {
   "cell_type": "code",
   "execution_count": 316,
   "id": "a9128dc4",
   "metadata": {},
   "outputs": [
    {
     "ename": "Exception",
     "evalue": "length of students list must be greater than number of groups",
     "output_type": "error",
     "traceback": [
      "\u001b[0;31m---------------------------------------------------------------------------\u001b[0m",
      "\u001b[0;31mException\u001b[0m                                 Traceback (most recent call last)",
      "Input \u001b[0;32mIn [316]\u001b[0m, in \u001b[0;36m<cell line: 1>\u001b[0;34m()\u001b[0m\n\u001b[0;32m----> 1\u001b[0m \u001b[43maiffel\u001b[49m\u001b[43m(\u001b[49m\u001b[43m[\u001b[49m\u001b[38;5;124;43m'\u001b[39;49m\u001b[38;5;124;43ma\u001b[39;49m\u001b[38;5;124;43m'\u001b[39;49m\u001b[43m,\u001b[49m\u001b[38;5;124;43m'\u001b[39;49m\u001b[38;5;124;43mb\u001b[39;49m\u001b[38;5;124;43m'\u001b[39;49m\u001b[43m]\u001b[49m\u001b[43m)\u001b[49m\u001b[38;5;241;43m.\u001b[39;49m\u001b[43mrandomizer\u001b[49m\u001b[43m(\u001b[49m\u001b[38;5;241;43m3\u001b[39;49m\u001b[43m,\u001b[49m\u001b[38;5;241;43m0\u001b[39;49m\u001b[43m)\u001b[49m\n",
      "Input \u001b[0;32mIn [315]\u001b[0m, in \u001b[0;36maiffel.randomizer\u001b[0;34m(self, number_of_groups, seed)\u001b[0m\n\u001b[1;32m      9\u001b[0m \u001b[38;5;124;03m'''\u001b[39;00m\n\u001b[1;32m     10\u001b[0m \u001b[38;5;124;03mReturns randomized groups of people; default is 7 groups\u001b[39;00m\n\u001b[1;32m     11\u001b[0m \n\u001b[0;32m   (...)\u001b[0m\n\u001b[1;32m     17\u001b[0m \n\u001b[1;32m     18\u001b[0m \u001b[38;5;124;03m'''\u001b[39;00m\n\u001b[1;32m     19\u001b[0m \u001b[38;5;28;01mif\u001b[39;00m \u001b[38;5;28mlen\u001b[39m(\u001b[38;5;28mself\u001b[39m\u001b[38;5;241m.\u001b[39mstudents) \u001b[38;5;241m<\u001b[39m number_of_groups:\n\u001b[0;32m---> 20\u001b[0m     \u001b[38;5;28;01mraise\u001b[39;00m \u001b[38;5;167;01mException\u001b[39;00m(\u001b[38;5;124m'\u001b[39m\u001b[38;5;124mlength of students list must be greater than number of groups\u001b[39m\u001b[38;5;124m'\u001b[39m)\n\u001b[1;32m     22\u001b[0m random\u001b[38;5;241m.\u001b[39mseed(seed)\n\u001b[1;32m     23\u001b[0m groups \u001b[38;5;241m=\u001b[39m []\n",
      "\u001b[0;31mException\u001b[0m: length of students list must be greater than number of groups"
     ]
    }
   ],
   "source": [
    "aiffel(['a','b']).randomizer(3,0)"
   ]
  },
  {
   "cell_type": "code",
   "execution_count": null,
   "id": "47f85454",
   "metadata": {},
   "outputs": [],
   "source": []
  }
 ],
 "metadata": {
  "kernelspec": {
   "display_name": "Python 3 (ipykernel)",
   "language": "python",
   "name": "python3"
  },
  "language_info": {
   "codemirror_mode": {
    "name": "ipython",
    "version": 3
   },
   "file_extension": ".py",
   "mimetype": "text/x-python",
   "name": "python",
   "nbconvert_exporter": "python",
   "pygments_lexer": "ipython3",
   "version": "3.9.12"
  }
 },
 "nbformat": 4,
 "nbformat_minor": 5
}
