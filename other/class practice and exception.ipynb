{
 "cells": [
  {
   "cell_type": "code",
   "execution_count": 10,
   "id": "7c63db50",
   "metadata": {},
   "outputs": [],
   "source": [
    "class Person :\n",
    "    def __init__(self):\n",
    "        self.bag = []\n",
    "    def put_bag(self, stuff):\n",
    "        self.bag.append(stuff)"
   ]
  },
  {
   "cell_type": "code",
   "execution_count": 11,
   "id": "71a724b8",
   "metadata": {},
   "outputs": [],
   "source": [
    "james = Person()"
   ]
  },
  {
   "cell_type": "code",
   "execution_count": 12,
   "id": "d43392cb",
   "metadata": {},
   "outputs": [],
   "source": [
    "james.put_bag('key')"
   ]
  },
  {
   "cell_type": "code",
   "execution_count": 13,
   "id": "3de53fff",
   "metadata": {},
   "outputs": [],
   "source": [
    "maria = Person()"
   ]
  },
  {
   "cell_type": "code",
   "execution_count": 14,
   "id": "9bd41104",
   "metadata": {},
   "outputs": [],
   "source": [
    "maria.put_bag('phone')"
   ]
  },
  {
   "cell_type": "code",
   "execution_count": 15,
   "id": "51373351",
   "metadata": {},
   "outputs": [
    {
     "data": {
      "text/plain": [
       "['key']"
      ]
     },
     "execution_count": 15,
     "metadata": {},
     "output_type": "execute_result"
    }
   ],
   "source": [
    "james.bag"
   ]
  },
  {
   "cell_type": "code",
   "execution_count": 22,
   "id": "90ac9156",
   "metadata": {},
   "outputs": [],
   "source": [
    "from functools import reduce\n",
    "\n",
    "class Calc :\n",
    "    x = 10    \n",
    "    def __init__(self, brand ='casio'):\n",
    "        self.brand = brand\n",
    "\n",
    "    def add(a, b):\n",
    "        return a + b\n",
    "    \n",
    "    def multiply(a,b):\n",
    "        return  a *b"
   ]
  },
  {
   "cell_type": "code",
   "execution_count": 25,
   "id": "b8a65986",
   "metadata": {},
   "outputs": [
    {
     "data": {
      "text/plain": [
       "20"
      ]
     },
     "execution_count": 25,
     "metadata": {},
     "output_type": "execute_result"
    }
   ],
   "source": [
    "Calc.add(10,10)"
   ]
  },
  {
   "cell_type": "code",
   "execution_count": 63,
   "id": "5092e1ea",
   "metadata": {},
   "outputs": [],
   "source": [
    "class Person :\n",
    "    def __init__(self, name):\n",
    "        self.hello = 'hello'\n",
    "        self.name = name\n",
    "        \n",
    "    def greetings(self) :\n",
    "        print('hello')\n",
    "        \n",
    "class Student(Person) :\n",
    "    def __init__(self, name):\n",
    "        super().__init__(name)\n",
    "        self.school ='school'\n",
    "        \n",
    "    def greetings(self):\n",
    "        super().greetings()\n",
    "        print('my name is {}'.format(self.name))\n",
    "        \n",
    "    def question(self) :\n",
    "        super().greetings()\n",
    "        print('?')"
   ]
  },
  {
   "cell_type": "code",
   "execution_count": 64,
   "id": "07cc38de",
   "metadata": {},
   "outputs": [],
   "source": [
    "james = Student('james')"
   ]
  },
  {
   "cell_type": "code",
   "execution_count": 65,
   "id": "50753002",
   "metadata": {},
   "outputs": [
    {
     "name": "stdout",
     "output_type": "stream",
     "text": [
      "hello\n",
      "?\n"
     ]
    }
   ],
   "source": [
    "james.question()"
   ]
  },
  {
   "cell_type": "code",
   "execution_count": 70,
   "id": "6c281166",
   "metadata": {},
   "outputs": [
    {
     "data": {
      "text/plain": [
       "[__main__.Student, __main__.Person, object]"
      ]
     },
     "execution_count": 70,
     "metadata": {},
     "output_type": "execute_result"
    }
   ],
   "source": [
    "Student.mro()"
   ]
  },
  {
   "cell_type": "code",
   "execution_count": 34,
   "id": "69feb401",
   "metadata": {},
   "outputs": [
    {
     "name": "stdout",
     "output_type": "stream",
     "text": [
      "Help on class Student in module __main__:\n",
      "\n",
      "class Student(Person)\n",
      " |  Method resolution order:\n",
      " |      Student\n",
      " |      Person\n",
      " |      builtins.object\n",
      " |  \n",
      " |  Methods defined here:\n",
      " |  \n",
      " |  question(self)\n",
      " |  \n",
      " |  ----------------------------------------------------------------------\n",
      " |  Methods inherited from Person:\n",
      " |  \n",
      " |  greetings(self)\n",
      " |  \n",
      " |  ----------------------------------------------------------------------\n",
      " |  Data descriptors inherited from Person:\n",
      " |  \n",
      " |  __dict__\n",
      " |      dictionary for instance variables (if defined)\n",
      " |  \n",
      " |  __weakref__\n",
      " |      list of weak references to the object (if defined)\n",
      "\n"
     ]
    }
   ],
   "source": [
    "help(Student)"
   ]
  },
  {
   "cell_type": "code",
   "execution_count": 71,
   "id": "b7d49203",
   "metadata": {},
   "outputs": [],
   "source": [
    "from abc import *"
   ]
  },
  {
   "cell_type": "code",
   "execution_count": null,
   "id": "4b97a92e",
   "metadata": {},
   "outputs": [],
   "source": [
    "class Check(ABCmethod)"
   ]
  },
  {
   "cell_type": "code",
   "execution_count": null,
   "id": "8a34c06c",
   "metadata": {},
   "outputs": [],
   "source": []
  },
  {
   "cell_type": "code",
   "execution_count": 84,
   "id": "e7e53dac",
   "metadata": {},
   "outputs": [],
   "source": [
    "class Person :\n",
    "    def __init__(self):\n",
    "        self.bag = []\n",
    "    \n",
    "    def putbag(self, item):\n",
    "        self.bag.append(item)"
   ]
  },
  {
   "cell_type": "code",
   "execution_count": 85,
   "id": "625c3590",
   "metadata": {},
   "outputs": [],
   "source": [
    "joseph = Person()"
   ]
  },
  {
   "cell_type": "code",
   "execution_count": 86,
   "id": "57d683b5",
   "metadata": {},
   "outputs": [],
   "source": [
    "john = Person()"
   ]
  },
  {
   "cell_type": "code",
   "execution_count": 87,
   "id": "5f468eb8",
   "metadata": {},
   "outputs": [],
   "source": [
    "joseph.putbag('key')"
   ]
  },
  {
   "cell_type": "code",
   "execution_count": 88,
   "id": "30daabc5",
   "metadata": {},
   "outputs": [],
   "source": [
    "john.putbag('phone')"
   ]
  },
  {
   "cell_type": "code",
   "execution_count": 188,
   "id": "d530fac7",
   "metadata": {},
   "outputs": [],
   "source": [
    "# 36. 3 상속을 받은 후 기반 클래스의 속성에 접근해보았다.\n",
    "class Person :\n",
    "    def __init__(self, name):\n",
    "        self.hello = 'hello'\n",
    "        self.name = name\n",
    "    \n",
    "    def putbag(self, item):\n",
    "        self.bag.append(item)\n",
    "        \n",
    "    def sayhello(self):\n",
    "        print('Hello~! (wave)')\n",
    "\n",
    "class Student(Person) :\n",
    "    def __init__(self,name) :\n",
    "        super().__init__(name)\n",
    "        self.school = 'school'\n",
    "\n",
    "    def sayhello1(self):\n",
    "        super().sayhello()\n",
    "        print('Hello~! my name is {}'.format(self.name))\n"
   ]
  },
  {
   "cell_type": "code",
   "execution_count": 189,
   "id": "d36766ed",
   "metadata": {},
   "outputs": [],
   "source": [
    "student = Student('james')"
   ]
  },
  {
   "cell_type": "code",
   "execution_count": 191,
   "id": "03b55c61",
   "metadata": {},
   "outputs": [
    {
     "name": "stdout",
     "output_type": "stream",
     "text": [
      "Hello~! (wave)\n",
      "hello~\n"
     ]
    }
   ],
   "source": [
    "student.sayhello2()"
   ]
  },
  {
   "cell_type": "code",
   "execution_count": 132,
   "id": "21ce9ae9",
   "metadata": {},
   "outputs": [
    {
     "data": {
      "text/plain": [
       "'school'"
      ]
     },
     "execution_count": 132,
     "metadata": {},
     "output_type": "execute_result"
    }
   ],
   "source": [
    "student.school"
   ]
  },
  {
   "cell_type": "code",
   "execution_count": null,
   "id": "6bf6e0de",
   "metadata": {},
   "outputs": [],
   "source": [
    "# 36.4 메서드 오버라이딩이 필요한 경우와 동작 방식에 대해 설명할 수 있다.\n"
   ]
  },
  {
   "cell_type": "code",
   "execution_count": null,
   "id": "754823d9",
   "metadata": {},
   "outputs": [],
   "source": [
    "# \"36.5 다음 예시에서 x는 어떤 문장을 출력할지 예상해보고, \n",
    "# 클래스.mro를 사용하여 실제로 어떤 순서로 동작하는지 확인해 보자\""
   ]
  },
  {
   "cell_type": "code",
   "execution_count": 193,
   "id": "ca39662c",
   "metadata": {},
   "outputs": [],
   "source": [
    "class A :\n",
    "    def greetings():\n",
    "        print('hello A')\n",
    "\n",
    "class B(A) :\n",
    "    def greetings():\n",
    "        print('hello B')\n",
    "        \n",
    "class C(A) :\n",
    "    def greetings():\n",
    "        print('hello C')\n",
    "\n",
    "class D(B,C) :\n",
    "    pass"
   ]
  },
  {
   "cell_type": "code",
   "execution_count": 196,
   "id": "f4190052",
   "metadata": {},
   "outputs": [
    {
     "data": {
      "text/plain": [
       "[__main__.D, __main__.B, __main__.C, __main__.A, object]"
      ]
     },
     "execution_count": 196,
     "metadata": {},
     "output_type": "execute_result"
    }
   ],
   "source": [
    "D.mro()"
   ]
  },
  {
   "cell_type": "code",
   "execution_count": 198,
   "id": "22335ecb",
   "metadata": {},
   "outputs": [
    {
     "name": "stdout",
     "output_type": "stream",
     "text": [
      "hello B\n"
     ]
    }
   ],
   "source": [
    "D.greetings()"
   ]
  },
  {
   "cell_type": "code",
   "execution_count": 199,
   "id": "486f7b8f",
   "metadata": {},
   "outputs": [],
   "source": [
    "# 예외 처리\n",
    "def ten_div(x) :\n",
    "    return 10/x"
   ]
  },
  {
   "cell_type": "code",
   "execution_count": 200,
   "id": "ea21ee9a",
   "metadata": {},
   "outputs": [
    {
     "data": {
      "text/plain": [
       "5.0"
      ]
     },
     "execution_count": 200,
     "metadata": {},
     "output_type": "execute_result"
    }
   ],
   "source": [
    "ten_div(2)"
   ]
  },
  {
   "cell_type": "code",
   "execution_count": 210,
   "id": "2ff2629a",
   "metadata": {},
   "outputs": [
    {
     "name": "stdout",
     "output_type": "stream",
     "text": [
      "error: division by zero\n",
      "what?\n"
     ]
    }
   ],
   "source": [
    "try :\n",
    "    for i in range(0,10):\n",
    "        a = ten_div(i)\n",
    "        print(a)\n",
    "except Exception as e :\n",
    "    print('error: {}'.format(e))\n",
    "finally :\n",
    "    print('what?')"
   ]
  },
  {
   "cell_type": "code",
   "execution_count": 233,
   "id": "37c6a5fe",
   "metadata": {},
   "outputs": [
    {
     "name": "stdout",
     "output_type": "stream",
     "text": [
      "3의 배수인 번호만 입력해주세요: 5\n",
      "what?\n",
      "5\n",
      "what?:  what?\n"
     ]
    }
   ],
   "source": [
    "#raise \n",
    "class newExceptions(Exception):\n",
    "    pass\n",
    "\n",
    "def check_multiple_three():\n",
    "    x = int(input('3의 배수인 번호만 입력해주세요: '))\n",
    "    try:\n",
    "        if x % 3 != 0 :\n",
    "            raise newExceptions('what?')\n",
    "    except Exception as e :\n",
    "        print(e)\n",
    "        raise \n",
    "    finally :\n",
    "        print(x)\n",
    "\n",
    "try:\n",
    "    check_multiple_three()\n",
    "except Exception as e:\n",
    "    print('what?: ',e)"
   ]
  },
  {
   "cell_type": "code",
   "execution_count": 238,
   "id": "aff2c703",
   "metadata": {},
   "outputs": [
    {
     "name": "stdout",
     "output_type": "stream",
     "text": [
      "3의 배수만 입력해주세요5\n",
      "3의 배수가 아닙니다\n",
      "3의 배수가 아닙니다\n"
     ]
    }
   ],
   "source": [
    "def check_multiple_of_three():\n",
    "    try :\n",
    "        x = int(input('3의 배수만 입력해주세요'))\n",
    "        if x % 3 != 0 :\n",
    "            raise Exception('3의 배수가 아닙니다')\n",
    "    except Exception as e:\n",
    "        print(e)\n",
    "        raise\n",
    "\n",
    "try :\n",
    "    check_multiple_of_three()\n",
    "except Exception as e:\n",
    "    print(e)"
   ]
  },
  {
   "cell_type": "code",
   "execution_count": 242,
   "id": "d652c7e0",
   "metadata": {},
   "outputs": [],
   "source": [
    "try :\n",
    "    try :\n",
    "        x = int(input('3의 배수만 입력해주세요'))\n",
    "        if x % 3 != 0 :\n",
    "            raise Exception('3의 배수가 아닙니다')\n",
    "    except Exception as e:\n",
    "        print(e)\n",
    "        raise\n",
    "except Exception as e:\n",
    "    print(e)"
   ]
  }
 ],
 "metadata": {
  "kernelspec": {
   "display_name": "Python 3 (ipykernel)",
   "language": "python",
   "name": "python3"
  },
  "language_info": {
   "codemirror_mode": {
    "name": "ipython",
    "version": 3
   },
   "file_extension": ".py",
   "mimetype": "text/x-python",
   "name": "python",
   "nbconvert_exporter": "python",
   "pygments_lexer": "ipython3",
   "version": "3.9.12"
  }
 },
 "nbformat": 4,
 "nbformat_minor": 5
}
