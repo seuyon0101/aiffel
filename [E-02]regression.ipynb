{
 "cells": [
  {
   "cell_type": "markdown",
   "id": "1a945412",
   "metadata": {},
   "source": [
    "# 프로젝트 1 : 손수 설계하는 선형회귀, 당뇨병 수치를 맞춰보자!"
   ]
  },
  {
   "cell_type": "markdown",
   "id": "4c4e73cf",
   "metadata": {},
   "source": [
    "## (1) 데이터 가져오기"
   ]
  },
  {
   "cell_type": "markdown",
   "id": "f4c4258a",
   "metadata": {},
   "source": [
    "- sklearn.datasets의 load_diabetes에서 데이터를 가져와주세요.\n",
    "- diabetes의 data를 df_X에, target을 df_y에 저장해주세요."
   ]
  },
  {
   "cell_type": "code",
   "execution_count": 1,
   "id": "35811b4c",
   "metadata": {},
   "outputs": [],
   "source": [
    "from sklearn.datasets import load_diabetes\n",
    "import matplotlib.pyplot as plt\n",
    "import seaborn as sns\n",
    "import numpy as np\n",
    "import pandas as pd"
   ]
  },
  {
   "cell_type": "code",
   "execution_count": 2,
   "id": "ba1d4f3f",
   "metadata": {},
   "outputs": [],
   "source": [
    "diabetes_data = load_diabetes()\n",
    "df_X = diabetes_data.data\n",
    "df_y = diabetes_data.target"
   ]
  },
  {
   "cell_type": "code",
   "execution_count": 3,
   "id": "2487ead5",
   "metadata": {},
   "outputs": [
    {
     "name": "stdout",
     "output_type": "stream",
     "text": [
      "<class 'numpy.ndarray'>\n",
      "<class 'numpy.ndarray'>\n",
      "(442, 10)\n",
      "(442,)\n"
     ]
    }
   ],
   "source": [
    "print(type(df_X))\n",
    "print(type(df_y))\n",
    "print(df_X.shape)\n",
    "print(df_y.shape)"
   ]
  },
  {
   "cell_type": "code",
   "execution_count": 34,
   "id": "72a59a8b",
   "metadata": {},
   "outputs": [
    {
     "name": "stdout",
     "output_type": "stream",
     "text": [
      ".. _diabetes_dataset:\n",
      "\n",
      "Diabetes dataset\n",
      "----------------\n",
      "\n",
      "Ten baseline variables, age, sex, body mass index, average blood\n",
      "pressure, and six blood serum measurements were obtained for each of n =\n",
      "442 diabetes patients, as well as the response of interest, a\n",
      "quantitative measure of disease progression one year after baseline.\n",
      "\n",
      "**Data Set Characteristics:**\n",
      "\n",
      "  :Number of Instances: 442\n",
      "\n",
      "  :Number of Attributes: First 10 columns are numeric predictive values\n",
      "\n",
      "  :Target: Column 11 is a quantitative measure of disease progression one year after baseline\n",
      "\n",
      "  :Attribute Information:\n",
      "      - age     age in years\n",
      "      - sex\n",
      "      - bmi     body mass index\n",
      "      - bp      average blood pressure\n",
      "      - s1      tc, total serum cholesterol\n",
      "      - s2      ldl, low-density lipoproteins\n",
      "      - s3      hdl, high-density lipoproteins\n",
      "      - s4      tch, total cholesterol / HDL\n",
      "      - s5      ltg, possibly log of serum triglycerides level\n",
      "      - s6      glu, blood sugar level\n",
      "\n",
      "Note: Each of these 10 feature variables have been mean centered and scaled by the standard deviation times the square root of `n_samples` (i.e. the sum of squares of each column totals 1).\n",
      "\n",
      "Source URL:\n",
      "https://www4.stat.ncsu.edu/~boos/var.select/diabetes.html\n",
      "\n",
      "For more information see:\n",
      "Bradley Efron, Trevor Hastie, Iain Johnstone and Robert Tibshirani (2004) \"Least Angle Regression,\" Annals of Statistics (with discussion), 407-499.\n",
      "(https://web.stanford.edu/~hastie/Papers/LARS/LeastAngle_2002.pdf)\n",
      "\n"
     ]
    }
   ],
   "source": [
    "print(diabetes_data.DESCR)"
   ]
  },
  {
   "cell_type": "code",
   "execution_count": 25,
   "id": "31c4b9f2",
   "metadata": {},
   "outputs": [],
   "source": [
    "ddf = pd.DataFrame(data  = df_X, columns = diabetes_data.feature_names)"
   ]
  },
  {
   "cell_type": "code",
   "execution_count": 26,
   "id": "bf14f758",
   "metadata": {},
   "outputs": [
    {
     "name": "stdout",
     "output_type": "stream",
     "text": [
      "<class 'pandas.core.frame.DataFrame'>\n",
      "RangeIndex: 442 entries, 0 to 441\n",
      "Data columns (total 10 columns):\n",
      " #   Column  Non-Null Count  Dtype  \n",
      "---  ------  --------------  -----  \n",
      " 0   age     442 non-null    float64\n",
      " 1   sex     442 non-null    float64\n",
      " 2   bmi     442 non-null    float64\n",
      " 3   bp      442 non-null    float64\n",
      " 4   s1      442 non-null    float64\n",
      " 5   s2      442 non-null    float64\n",
      " 6   s3      442 non-null    float64\n",
      " 7   s4      442 non-null    float64\n",
      " 8   s5      442 non-null    float64\n",
      " 9   s6      442 non-null    float64\n",
      "dtypes: float64(10)\n",
      "memory usage: 34.7 KB\n"
     ]
    }
   ],
   "source": [
    "ddf.info()"
   ]
  },
  {
   "cell_type": "code",
   "execution_count": 30,
   "id": "60610f9d",
   "metadata": {},
   "outputs": [
    {
     "data": {
      "text/html": [
       "<div>\n",
       "<style scoped>\n",
       "    .dataframe tbody tr th:only-of-type {\n",
       "        vertical-align: middle;\n",
       "    }\n",
       "\n",
       "    .dataframe tbody tr th {\n",
       "        vertical-align: top;\n",
       "    }\n",
       "\n",
       "    .dataframe thead th {\n",
       "        text-align: right;\n",
       "    }\n",
       "</style>\n",
       "<table border=\"1\" class=\"dataframe\">\n",
       "  <thead>\n",
       "    <tr style=\"text-align: right;\">\n",
       "      <th></th>\n",
       "      <th>age</th>\n",
       "      <th>sex</th>\n",
       "      <th>bmi</th>\n",
       "      <th>bp</th>\n",
       "      <th>s1</th>\n",
       "      <th>s2</th>\n",
       "      <th>s3</th>\n",
       "      <th>s4</th>\n",
       "      <th>s5</th>\n",
       "      <th>s6</th>\n",
       "    </tr>\n",
       "  </thead>\n",
       "  <tbody>\n",
       "    <tr>\n",
       "      <th>count</th>\n",
       "      <td>442.000</td>\n",
       "      <td>442.000</td>\n",
       "      <td>442.000</td>\n",
       "      <td>442.000</td>\n",
       "      <td>442.000</td>\n",
       "      <td>442.000</td>\n",
       "      <td>442.000</td>\n",
       "      <td>442.000</td>\n",
       "      <td>442.000</td>\n",
       "      <td>442.000</td>\n",
       "    </tr>\n",
       "    <tr>\n",
       "      <th>mean</th>\n",
       "      <td>-0.000</td>\n",
       "      <td>0.000</td>\n",
       "      <td>-0.000</td>\n",
       "      <td>-0.000</td>\n",
       "      <td>-0.000</td>\n",
       "      <td>0.000</td>\n",
       "      <td>-0.000</td>\n",
       "      <td>-0.000</td>\n",
       "      <td>0.000</td>\n",
       "      <td>0.000</td>\n",
       "    </tr>\n",
       "    <tr>\n",
       "      <th>std</th>\n",
       "      <td>0.048</td>\n",
       "      <td>0.048</td>\n",
       "      <td>0.048</td>\n",
       "      <td>0.048</td>\n",
       "      <td>0.048</td>\n",
       "      <td>0.048</td>\n",
       "      <td>0.048</td>\n",
       "      <td>0.048</td>\n",
       "      <td>0.048</td>\n",
       "      <td>0.048</td>\n",
       "    </tr>\n",
       "    <tr>\n",
       "      <th>min</th>\n",
       "      <td>-0.107</td>\n",
       "      <td>-0.045</td>\n",
       "      <td>-0.090</td>\n",
       "      <td>-0.112</td>\n",
       "      <td>-0.127</td>\n",
       "      <td>-0.116</td>\n",
       "      <td>-0.102</td>\n",
       "      <td>-0.076</td>\n",
       "      <td>-0.126</td>\n",
       "      <td>-0.138</td>\n",
       "    </tr>\n",
       "    <tr>\n",
       "      <th>25%</th>\n",
       "      <td>-0.037</td>\n",
       "      <td>-0.045</td>\n",
       "      <td>-0.034</td>\n",
       "      <td>-0.037</td>\n",
       "      <td>-0.034</td>\n",
       "      <td>-0.030</td>\n",
       "      <td>-0.035</td>\n",
       "      <td>-0.039</td>\n",
       "      <td>-0.033</td>\n",
       "      <td>-0.033</td>\n",
       "    </tr>\n",
       "    <tr>\n",
       "      <th>50%</th>\n",
       "      <td>0.005</td>\n",
       "      <td>-0.045</td>\n",
       "      <td>-0.007</td>\n",
       "      <td>-0.006</td>\n",
       "      <td>-0.004</td>\n",
       "      <td>-0.004</td>\n",
       "      <td>-0.007</td>\n",
       "      <td>-0.003</td>\n",
       "      <td>-0.002</td>\n",
       "      <td>-0.001</td>\n",
       "    </tr>\n",
       "    <tr>\n",
       "      <th>75%</th>\n",
       "      <td>0.038</td>\n",
       "      <td>0.051</td>\n",
       "      <td>0.031</td>\n",
       "      <td>0.036</td>\n",
       "      <td>0.028</td>\n",
       "      <td>0.030</td>\n",
       "      <td>0.029</td>\n",
       "      <td>0.034</td>\n",
       "      <td>0.032</td>\n",
       "      <td>0.028</td>\n",
       "    </tr>\n",
       "    <tr>\n",
       "      <th>max</th>\n",
       "      <td>0.111</td>\n",
       "      <td>0.051</td>\n",
       "      <td>0.171</td>\n",
       "      <td>0.132</td>\n",
       "      <td>0.154</td>\n",
       "      <td>0.199</td>\n",
       "      <td>0.181</td>\n",
       "      <td>0.185</td>\n",
       "      <td>0.134</td>\n",
       "      <td>0.136</td>\n",
       "    </tr>\n",
       "  </tbody>\n",
       "</table>\n",
       "</div>"
      ],
      "text/plain": [
       "          age     sex     bmi      bp      s1      s2      s3      s4      s5  \\\n",
       "count 442.000 442.000 442.000 442.000 442.000 442.000 442.000 442.000 442.000   \n",
       "mean   -0.000   0.000  -0.000  -0.000  -0.000   0.000  -0.000  -0.000   0.000   \n",
       "std     0.048   0.048   0.048   0.048   0.048   0.048   0.048   0.048   0.048   \n",
       "min    -0.107  -0.045  -0.090  -0.112  -0.127  -0.116  -0.102  -0.076  -0.126   \n",
       "25%    -0.037  -0.045  -0.034  -0.037  -0.034  -0.030  -0.035  -0.039  -0.033   \n",
       "50%     0.005  -0.045  -0.007  -0.006  -0.004  -0.004  -0.007  -0.003  -0.002   \n",
       "75%     0.038   0.051   0.031   0.036   0.028   0.030   0.029   0.034   0.032   \n",
       "max     0.111   0.051   0.171   0.132   0.154   0.199   0.181   0.185   0.134   \n",
       "\n",
       "           s6  \n",
       "count 442.000  \n",
       "mean    0.000  \n",
       "std     0.048  \n",
       "min    -0.138  \n",
       "25%    -0.033  \n",
       "50%    -0.001  \n",
       "75%     0.028  \n",
       "max     0.136  "
      ]
     },
     "execution_count": 30,
     "metadata": {},
     "output_type": "execute_result"
    }
   ],
   "source": [
    "ddf.describe()"
   ]
  },
  {
   "cell_type": "code",
   "execution_count": 31,
   "id": "99fe56d3",
   "metadata": {},
   "outputs": [],
   "source": [
    "ddf['target'] = diabetes_data.target"
   ]
  },
  {
   "cell_type": "code",
   "execution_count": 33,
   "id": "91f6196f",
   "metadata": {},
   "outputs": [
    {
     "data": {
      "text/html": [
       "<style type=\"text/css\">\n",
       "#T_67488_row0_col0, #T_67488_row1_col1, #T_67488_row2_col2, #T_67488_row3_col3, #T_67488_row4_col4, #T_67488_row5_col5, #T_67488_row6_col6, #T_67488_row7_col7, #T_67488_row8_col8, #T_67488_row9_col9, #T_67488_row10_col10 {\n",
       "  background-color: #004529;\n",
       "  color: #f1f1f1;\n",
       "}\n",
       "#T_67488_row0_col1 {\n",
       "  background-color: #a2d88a;\n",
       "  color: #000000;\n",
       "}\n",
       "#T_67488_row0_col2 {\n",
       "  background-color: #a1d889;\n",
       "  color: #000000;\n",
       "}\n",
       "#T_67488_row0_col3, #T_67488_row4_col10 {\n",
       "  background-color: #93d284;\n",
       "  color: #000000;\n",
       "}\n",
       "#T_67488_row0_col4, #T_67488_row1_col0 {\n",
       "  background-color: #ddf2a6;\n",
       "  color: #000000;\n",
       "}\n",
       "#T_67488_row0_col5 {\n",
       "  background-color: #b8e293;\n",
       "  color: #000000;\n",
       "}\n",
       "#T_67488_row0_col6, #T_67488_row2_col5, #T_67488_row3_col0 {\n",
       "  background-color: #abdc8d;\n",
       "  color: #000000;\n",
       "}\n",
       "#T_67488_row0_col7, #T_67488_row7_col9 {\n",
       "  background-color: #66bd70;\n",
       "  color: #f1f1f1;\n",
       "}\n",
       "#T_67488_row0_col8 {\n",
       "  background-color: #81ca7d;\n",
       "  color: #000000;\n",
       "}\n",
       "#T_67488_row0_col9, #T_67488_row3_col1, #T_67488_row4_col2 {\n",
       "  background-color: #8dcf81;\n",
       "  color: #000000;\n",
       "}\n",
       "#T_67488_row0_col10 {\n",
       "  background-color: #9cd687;\n",
       "  color: #000000;\n",
       "}\n",
       "#T_67488_row1_col2 {\n",
       "  background-color: #bce395;\n",
       "  color: #000000;\n",
       "}\n",
       "#T_67488_row1_col3, #T_67488_row4_col3 {\n",
       "  background-color: #b3e091;\n",
       "  color: #000000;\n",
       "}\n",
       "#T_67488_row1_col4, #T_67488_row6_col0, #T_67488_row6_col1, #T_67488_row6_col2, #T_67488_row6_col3, #T_67488_row6_col5, #T_67488_row6_col7, #T_67488_row6_col8, #T_67488_row6_col9, #T_67488_row6_col10, #T_67488_row7_col6 {\n",
       "  background-color: #ffffe5;\n",
       "  color: #000000;\n",
       "}\n",
       "#T_67488_row1_col5 {\n",
       "  background-color: #ceeb9e;\n",
       "  color: #000000;\n",
       "}\n",
       "#T_67488_row1_col6 {\n",
       "  background-color: #e4f4ab;\n",
       "  color: #000000;\n",
       "}\n",
       "#T_67488_row1_col7 {\n",
       "  background-color: #45ad5f;\n",
       "  color: #f1f1f1;\n",
       "}\n",
       "#T_67488_row1_col8 {\n",
       "  background-color: #a6da8b;\n",
       "  color: #000000;\n",
       "}\n",
       "#T_67488_row1_col9, #T_67488_row5_col1 {\n",
       "  background-color: #acdd8e;\n",
       "  color: #000000;\n",
       "}\n",
       "#T_67488_row1_col10 {\n",
       "  background-color: #c3e698;\n",
       "  color: #000000;\n",
       "}\n",
       "#T_67488_row2_col0 {\n",
       "  background-color: #dcf1a5;\n",
       "  color: #000000;\n",
       "}\n",
       "#T_67488_row2_col1 {\n",
       "  background-color: #bae394;\n",
       "  color: #000000;\n",
       "}\n",
       "#T_67488_row2_col3, #T_67488_row8_col3 {\n",
       "  background-color: #7ec97b;\n",
       "  color: #000000;\n",
       "}\n",
       "#T_67488_row2_col4 {\n",
       "  background-color: #e0f3a8;\n",
       "  color: #000000;\n",
       "}\n",
       "#T_67488_row2_col6, #T_67488_row3_col4 {\n",
       "  background-color: #e2f4aa;\n",
       "  color: #000000;\n",
       "}\n",
       "#T_67488_row2_col7 {\n",
       "  background-color: #389f55;\n",
       "  color: #f1f1f1;\n",
       "}\n",
       "#T_67488_row2_col8 {\n",
       "  background-color: #4ab062;\n",
       "  color: #f1f1f1;\n",
       "}\n",
       "#T_67488_row2_col9, #T_67488_row3_col9 {\n",
       "  background-color: #6fc174;\n",
       "  color: #000000;\n",
       "}\n",
       "#T_67488_row2_col10 {\n",
       "  background-color: #2e924c;\n",
       "  color: #f1f1f1;\n",
       "}\n",
       "#T_67488_row3_col2, #T_67488_row9_col10 {\n",
       "  background-color: #5fba6c;\n",
       "  color: #f1f1f1;\n",
       "}\n",
       "#T_67488_row3_col5 {\n",
       "  background-color: #c1e698;\n",
       "  color: #000000;\n",
       "}\n",
       "#T_67488_row3_col6, #T_67488_row8_col0 {\n",
       "  background-color: #c0e597;\n",
       "  color: #000000;\n",
       "}\n",
       "#T_67488_row3_col7, #T_67488_row7_col2 {\n",
       "  background-color: #58b669;\n",
       "  color: #f1f1f1;\n",
       "}\n",
       "#T_67488_row3_col8 {\n",
       "  background-color: #5cb86b;\n",
       "  color: #f1f1f1;\n",
       "}\n",
       "#T_67488_row3_col10 {\n",
       "  background-color: #4cb063;\n",
       "  color: #f1f1f1;\n",
       "}\n",
       "#T_67488_row4_col0, #T_67488_row5_col3, #T_67488_row5_col6, #T_67488_row10_col5 {\n",
       "  background-color: #c4e799;\n",
       "  color: #000000;\n",
       "}\n",
       "#T_67488_row4_col1 {\n",
       "  background-color: #c8e99b;\n",
       "  color: #000000;\n",
       "}\n",
       "#T_67488_row4_col5 {\n",
       "  background-color: #005d33;\n",
       "  color: #f1f1f1;\n",
       "}\n",
       "#T_67488_row4_col6 {\n",
       "  background-color: #8bce81;\n",
       "  color: #000000;\n",
       "}\n",
       "#T_67488_row4_col7 {\n",
       "  background-color: #268846;\n",
       "  color: #f1f1f1;\n",
       "}\n",
       "#T_67488_row4_col8 {\n",
       "  background-color: #3aa257;\n",
       "  color: #f1f1f1;\n",
       "}\n",
       "#T_67488_row4_col9 {\n",
       "  background-color: #84cb7e;\n",
       "  color: #000000;\n",
       "}\n",
       "#T_67488_row5_col0 {\n",
       "  background-color: #d0ec9f;\n",
       "  color: #000000;\n",
       "}\n",
       "#T_67488_row5_col2 {\n",
       "  background-color: #89ce80;\n",
       "  color: #000000;\n",
       "}\n",
       "#T_67488_row5_col4 {\n",
       "  background-color: #006335;\n",
       "  color: #f1f1f1;\n",
       "}\n",
       "#T_67488_row5_col7 {\n",
       "  background-color: #14783e;\n",
       "  color: #f1f1f1;\n",
       "}\n",
       "#T_67488_row5_col8, #T_67488_row10_col9 {\n",
       "  background-color: #72c376;\n",
       "  color: #000000;\n",
       "}\n",
       "#T_67488_row5_col9 {\n",
       "  background-color: #90d083;\n",
       "  color: #000000;\n",
       "}\n",
       "#T_67488_row5_col10, #T_67488_row9_col5 {\n",
       "  background-color: #9fd788;\n",
       "  color: #000000;\n",
       "}\n",
       "#T_67488_row6_col4 {\n",
       "  background-color: #feffdf;\n",
       "  color: #000000;\n",
       "}\n",
       "#T_67488_row7_col0 {\n",
       "  background-color: #d6efa2;\n",
       "  color: #000000;\n",
       "}\n",
       "#T_67488_row7_col1 {\n",
       "  background-color: #70c275;\n",
       "  color: #000000;\n",
       "}\n",
       "#T_67488_row7_col3 {\n",
       "  background-color: #afde8f;\n",
       "  color: #000000;\n",
       "}\n",
       "#T_67488_row7_col4, #T_67488_row10_col3 {\n",
       "  background-color: #6dc073;\n",
       "  color: #000000;\n",
       "}\n",
       "#T_67488_row7_col5 {\n",
       "  background-color: #2b8e4a;\n",
       "  color: #f1f1f1;\n",
       "}\n",
       "#T_67488_row7_col8 {\n",
       "  background-color: #288a47;\n",
       "  color: #f1f1f1;\n",
       "}\n",
       "#T_67488_row7_col10 {\n",
       "  background-color: #4fb264;\n",
       "  color: #f1f1f1;\n",
       "}\n",
       "#T_67488_row8_col1 {\n",
       "  background-color: #a9db8c;\n",
       "  color: #000000;\n",
       "}\n",
       "#T_67488_row8_col2 {\n",
       "  background-color: #4eb163;\n",
       "  color: #f1f1f1;\n",
       "}\n",
       "#T_67488_row8_col4 {\n",
       "  background-color: #79c679;\n",
       "  color: #000000;\n",
       "}\n",
       "#T_67488_row8_col5 {\n",
       "  background-color: #95d385;\n",
       "  color: #000000;\n",
       "}\n",
       "#T_67488_row8_col6, #T_67488_row10_col6 {\n",
       "  background-color: #e6f5ac;\n",
       "  color: #000000;\n",
       "}\n",
       "#T_67488_row8_col7 {\n",
       "  background-color: #1a7d40;\n",
       "  color: #f1f1f1;\n",
       "}\n",
       "#T_67488_row8_col9 {\n",
       "  background-color: #55b567;\n",
       "  color: #f1f1f1;\n",
       "}\n",
       "#T_67488_row8_col10, #T_67488_row10_col8 {\n",
       "  background-color: #31974f;\n",
       "  color: #f1f1f1;\n",
       "}\n",
       "#T_67488_row9_col0 {\n",
       "  background-color: #b6e192;\n",
       "  color: #000000;\n",
       "}\n",
       "#T_67488_row9_col1 {\n",
       "  background-color: #97d385;\n",
       "  color: #000000;\n",
       "}\n",
       "#T_67488_row9_col2 {\n",
       "  background-color: #61bb6d;\n",
       "  color: #f1f1f1;\n",
       "}\n",
       "#T_67488_row9_col3 {\n",
       "  background-color: #7fc97c;\n",
       "  color: #000000;\n",
       "}\n",
       "#T_67488_row9_col4 {\n",
       "  background-color: #c7e89a;\n",
       "  color: #000000;\n",
       "}\n",
       "#T_67488_row9_col6 {\n",
       "  background-color: #d3eda0;\n",
       "  color: #000000;\n",
       "}\n",
       "#T_67488_row9_col7 {\n",
       "  background-color: #379e54;\n",
       "  color: #f1f1f1;\n",
       "}\n",
       "#T_67488_row9_col8 {\n",
       "  background-color: #43ac5e;\n",
       "  color: #f1f1f1;\n",
       "}\n",
       "#T_67488_row10_col0 {\n",
       "  background-color: #dbf1a4;\n",
       "  color: #000000;\n",
       "}\n",
       "#T_67488_row10_col1 {\n",
       "  background-color: #c5e89a;\n",
       "  color: #000000;\n",
       "}\n",
       "#T_67488_row10_col2 {\n",
       "  background-color: #2f944e;\n",
       "  color: #f1f1f1;\n",
       "}\n",
       "#T_67488_row10_col4 {\n",
       "  background-color: #eaf7af;\n",
       "  color: #000000;\n",
       "}\n",
       "#T_67488_row10_col7 {\n",
       "  background-color: #359c53;\n",
       "  color: #f1f1f1;\n",
       "}\n",
       "</style>\n",
       "<table id=\"T_67488\">\n",
       "  <thead>\n",
       "    <tr>\n",
       "      <th class=\"blank level0\" >&nbsp;</th>\n",
       "      <th id=\"T_67488_level0_col0\" class=\"col_heading level0 col0\" >age</th>\n",
       "      <th id=\"T_67488_level0_col1\" class=\"col_heading level0 col1\" >sex</th>\n",
       "      <th id=\"T_67488_level0_col2\" class=\"col_heading level0 col2\" >bmi</th>\n",
       "      <th id=\"T_67488_level0_col3\" class=\"col_heading level0 col3\" >bp</th>\n",
       "      <th id=\"T_67488_level0_col4\" class=\"col_heading level0 col4\" >s1</th>\n",
       "      <th id=\"T_67488_level0_col5\" class=\"col_heading level0 col5\" >s2</th>\n",
       "      <th id=\"T_67488_level0_col6\" class=\"col_heading level0 col6\" >s3</th>\n",
       "      <th id=\"T_67488_level0_col7\" class=\"col_heading level0 col7\" >s4</th>\n",
       "      <th id=\"T_67488_level0_col8\" class=\"col_heading level0 col8\" >s5</th>\n",
       "      <th id=\"T_67488_level0_col9\" class=\"col_heading level0 col9\" >s6</th>\n",
       "      <th id=\"T_67488_level0_col10\" class=\"col_heading level0 col10\" >target</th>\n",
       "    </tr>\n",
       "  </thead>\n",
       "  <tbody>\n",
       "    <tr>\n",
       "      <th id=\"T_67488_level0_row0\" class=\"row_heading level0 row0\" >age</th>\n",
       "      <td id=\"T_67488_row0_col0\" class=\"data row0 col0\" >1.000000</td>\n",
       "      <td id=\"T_67488_row0_col1\" class=\"data row0 col1\" >0.173737</td>\n",
       "      <td id=\"T_67488_row0_col2\" class=\"data row0 col2\" >0.185085</td>\n",
       "      <td id=\"T_67488_row0_col3\" class=\"data row0 col3\" >0.335428</td>\n",
       "      <td id=\"T_67488_row0_col4\" class=\"data row0 col4\" >0.260061</td>\n",
       "      <td id=\"T_67488_row0_col5\" class=\"data row0 col5\" >0.219243</td>\n",
       "      <td id=\"T_67488_row0_col6\" class=\"data row0 col6\" >-0.075181</td>\n",
       "      <td id=\"T_67488_row0_col7\" class=\"data row0 col7\" >0.203841</td>\n",
       "      <td id=\"T_67488_row0_col8\" class=\"data row0 col8\" >0.270774</td>\n",
       "      <td id=\"T_67488_row0_col9\" class=\"data row0 col9\" >0.301731</td>\n",
       "      <td id=\"T_67488_row0_col10\" class=\"data row0 col10\" >0.187889</td>\n",
       "    </tr>\n",
       "    <tr>\n",
       "      <th id=\"T_67488_level0_row1\" class=\"row_heading level0 row1\" >sex</th>\n",
       "      <td id=\"T_67488_row1_col0\" class=\"data row1 col0\" >0.173737</td>\n",
       "      <td id=\"T_67488_row1_col1\" class=\"data row1 col1\" >1.000000</td>\n",
       "      <td id=\"T_67488_row1_col2\" class=\"data row1 col2\" >0.088161</td>\n",
       "      <td id=\"T_67488_row1_col3\" class=\"data row1 col3\" >0.241010</td>\n",
       "      <td id=\"T_67488_row1_col4\" class=\"data row1 col4\" >0.035277</td>\n",
       "      <td id=\"T_67488_row1_col5\" class=\"data row1 col5\" >0.142637</td>\n",
       "      <td id=\"T_67488_row1_col6\" class=\"data row1 col6\" >-0.379090</td>\n",
       "      <td id=\"T_67488_row1_col7\" class=\"data row1 col7\" >0.332115</td>\n",
       "      <td id=\"T_67488_row1_col8\" class=\"data row1 col8\" >0.149916</td>\n",
       "      <td id=\"T_67488_row1_col9\" class=\"data row1 col9\" >0.208133</td>\n",
       "      <td id=\"T_67488_row1_col10\" class=\"data row1 col10\" >0.043062</td>\n",
       "    </tr>\n",
       "    <tr>\n",
       "      <th id=\"T_67488_level0_row2\" class=\"row_heading level0 row2\" >bmi</th>\n",
       "      <td id=\"T_67488_row2_col0\" class=\"data row2 col0\" >0.185085</td>\n",
       "      <td id=\"T_67488_row2_col1\" class=\"data row2 col1\" >0.088161</td>\n",
       "      <td id=\"T_67488_row2_col2\" class=\"data row2 col2\" >1.000000</td>\n",
       "      <td id=\"T_67488_row2_col3\" class=\"data row2 col3\" >0.395411</td>\n",
       "      <td id=\"T_67488_row2_col4\" class=\"data row2 col4\" >0.249777</td>\n",
       "      <td id=\"T_67488_row2_col5\" class=\"data row2 col5\" >0.261170</td>\n",
       "      <td id=\"T_67488_row2_col6\" class=\"data row2 col6\" >-0.366811</td>\n",
       "      <td id=\"T_67488_row2_col7\" class=\"data row2 col7\" >0.413807</td>\n",
       "      <td id=\"T_67488_row2_col8\" class=\"data row2 col8\" >0.446157</td>\n",
       "      <td id=\"T_67488_row2_col9\" class=\"data row2 col9\" >0.388680</td>\n",
       "      <td id=\"T_67488_row2_col10\" class=\"data row2 col10\" >0.586450</td>\n",
       "    </tr>\n",
       "    <tr>\n",
       "      <th id=\"T_67488_level0_row3\" class=\"row_heading level0 row3\" >bp</th>\n",
       "      <td id=\"T_67488_row3_col0\" class=\"data row3 col0\" >0.335428</td>\n",
       "      <td id=\"T_67488_row3_col1\" class=\"data row3 col1\" >0.241010</td>\n",
       "      <td id=\"T_67488_row3_col2\" class=\"data row3 col2\" >0.395411</td>\n",
       "      <td id=\"T_67488_row3_col3\" class=\"data row3 col3\" >1.000000</td>\n",
       "      <td id=\"T_67488_row3_col4\" class=\"data row3 col4\" >0.242464</td>\n",
       "      <td id=\"T_67488_row3_col5\" class=\"data row3 col5\" >0.185548</td>\n",
       "      <td id=\"T_67488_row3_col6\" class=\"data row3 col6\" >-0.178762</td>\n",
       "      <td id=\"T_67488_row3_col7\" class=\"data row3 col7\" >0.257650</td>\n",
       "      <td id=\"T_67488_row3_col8\" class=\"data row3 col8\" >0.393480</td>\n",
       "      <td id=\"T_67488_row3_col9\" class=\"data row3 col9\" >0.390430</td>\n",
       "      <td id=\"T_67488_row3_col10\" class=\"data row3 col10\" >0.441482</td>\n",
       "    </tr>\n",
       "    <tr>\n",
       "      <th id=\"T_67488_level0_row4\" class=\"row_heading level0 row4\" >s1</th>\n",
       "      <td id=\"T_67488_row4_col0\" class=\"data row4 col0\" >0.260061</td>\n",
       "      <td id=\"T_67488_row4_col1\" class=\"data row4 col1\" >0.035277</td>\n",
       "      <td id=\"T_67488_row4_col2\" class=\"data row4 col2\" >0.249777</td>\n",
       "      <td id=\"T_67488_row4_col3\" class=\"data row4 col3\" >0.242464</td>\n",
       "      <td id=\"T_67488_row4_col4\" class=\"data row4 col4\" >1.000000</td>\n",
       "      <td id=\"T_67488_row4_col5\" class=\"data row4 col5\" >0.896663</td>\n",
       "      <td id=\"T_67488_row4_col6\" class=\"data row4 col6\" >0.051519</td>\n",
       "      <td id=\"T_67488_row4_col7\" class=\"data row4 col7\" >0.542207</td>\n",
       "      <td id=\"T_67488_row4_col8\" class=\"data row4 col8\" >0.515503</td>\n",
       "      <td id=\"T_67488_row4_col9\" class=\"data row4 col9\" >0.325717</td>\n",
       "      <td id=\"T_67488_row4_col10\" class=\"data row4 col10\" >0.212022</td>\n",
       "    </tr>\n",
       "    <tr>\n",
       "      <th id=\"T_67488_level0_row5\" class=\"row_heading level0 row5\" >s2</th>\n",
       "      <td id=\"T_67488_row5_col0\" class=\"data row5 col0\" >0.219243</td>\n",
       "      <td id=\"T_67488_row5_col1\" class=\"data row5 col1\" >0.142637</td>\n",
       "      <td id=\"T_67488_row5_col2\" class=\"data row5 col2\" >0.261170</td>\n",
       "      <td id=\"T_67488_row5_col3\" class=\"data row5 col3\" >0.185548</td>\n",
       "      <td id=\"T_67488_row5_col4\" class=\"data row5 col4\" >0.896663</td>\n",
       "      <td id=\"T_67488_row5_col5\" class=\"data row5 col5\" >1.000000</td>\n",
       "      <td id=\"T_67488_row5_col6\" class=\"data row5 col6\" >-0.196455</td>\n",
       "      <td id=\"T_67488_row5_col7\" class=\"data row5 col7\" >0.659817</td>\n",
       "      <td id=\"T_67488_row5_col8\" class=\"data row5 col8\" >0.318357</td>\n",
       "      <td id=\"T_67488_row5_col9\" class=\"data row5 col9\" >0.290600</td>\n",
       "      <td id=\"T_67488_row5_col10\" class=\"data row5 col10\" >0.174054</td>\n",
       "    </tr>\n",
       "    <tr>\n",
       "      <th id=\"T_67488_level0_row6\" class=\"row_heading level0 row6\" >s3</th>\n",
       "      <td id=\"T_67488_row6_col0\" class=\"data row6 col0\" >-0.075181</td>\n",
       "      <td id=\"T_67488_row6_col1\" class=\"data row6 col1\" >-0.379090</td>\n",
       "      <td id=\"T_67488_row6_col2\" class=\"data row6 col2\" >-0.366811</td>\n",
       "      <td id=\"T_67488_row6_col3\" class=\"data row6 col3\" >-0.178762</td>\n",
       "      <td id=\"T_67488_row6_col4\" class=\"data row6 col4\" >0.051519</td>\n",
       "      <td id=\"T_67488_row6_col5\" class=\"data row6 col5\" >-0.196455</td>\n",
       "      <td id=\"T_67488_row6_col6\" class=\"data row6 col6\" >1.000000</td>\n",
       "      <td id=\"T_67488_row6_col7\" class=\"data row6 col7\" >-0.738493</td>\n",
       "      <td id=\"T_67488_row6_col8\" class=\"data row6 col8\" >-0.398577</td>\n",
       "      <td id=\"T_67488_row6_col9\" class=\"data row6 col9\" >-0.273697</td>\n",
       "      <td id=\"T_67488_row6_col10\" class=\"data row6 col10\" >-0.394789</td>\n",
       "    </tr>\n",
       "    <tr>\n",
       "      <th id=\"T_67488_level0_row7\" class=\"row_heading level0 row7\" >s4</th>\n",
       "      <td id=\"T_67488_row7_col0\" class=\"data row7 col0\" >0.203841</td>\n",
       "      <td id=\"T_67488_row7_col1\" class=\"data row7 col1\" >0.332115</td>\n",
       "      <td id=\"T_67488_row7_col2\" class=\"data row7 col2\" >0.413807</td>\n",
       "      <td id=\"T_67488_row7_col3\" class=\"data row7 col3\" >0.257650</td>\n",
       "      <td id=\"T_67488_row7_col4\" class=\"data row7 col4\" >0.542207</td>\n",
       "      <td id=\"T_67488_row7_col5\" class=\"data row7 col5\" >0.659817</td>\n",
       "      <td id=\"T_67488_row7_col6\" class=\"data row7 col6\" >-0.738493</td>\n",
       "      <td id=\"T_67488_row7_col7\" class=\"data row7 col7\" >1.000000</td>\n",
       "      <td id=\"T_67488_row7_col8\" class=\"data row7 col8\" >0.617859</td>\n",
       "      <td id=\"T_67488_row7_col9\" class=\"data row7 col9\" >0.417212</td>\n",
       "      <td id=\"T_67488_row7_col10\" class=\"data row7 col10\" >0.430453</td>\n",
       "    </tr>\n",
       "    <tr>\n",
       "      <th id=\"T_67488_level0_row8\" class=\"row_heading level0 row8\" >s5</th>\n",
       "      <td id=\"T_67488_row8_col0\" class=\"data row8 col0\" >0.270774</td>\n",
       "      <td id=\"T_67488_row8_col1\" class=\"data row8 col1\" >0.149916</td>\n",
       "      <td id=\"T_67488_row8_col2\" class=\"data row8 col2\" >0.446157</td>\n",
       "      <td id=\"T_67488_row8_col3\" class=\"data row8 col3\" >0.393480</td>\n",
       "      <td id=\"T_67488_row8_col4\" class=\"data row8 col4\" >0.515503</td>\n",
       "      <td id=\"T_67488_row8_col5\" class=\"data row8 col5\" >0.318357</td>\n",
       "      <td id=\"T_67488_row8_col6\" class=\"data row8 col6\" >-0.398577</td>\n",
       "      <td id=\"T_67488_row8_col7\" class=\"data row8 col7\" >0.617859</td>\n",
       "      <td id=\"T_67488_row8_col8\" class=\"data row8 col8\" >1.000000</td>\n",
       "      <td id=\"T_67488_row8_col9\" class=\"data row8 col9\" >0.464669</td>\n",
       "      <td id=\"T_67488_row8_col10\" class=\"data row8 col10\" >0.565883</td>\n",
       "    </tr>\n",
       "    <tr>\n",
       "      <th id=\"T_67488_level0_row9\" class=\"row_heading level0 row9\" >s6</th>\n",
       "      <td id=\"T_67488_row9_col0\" class=\"data row9 col0\" >0.301731</td>\n",
       "      <td id=\"T_67488_row9_col1\" class=\"data row9 col1\" >0.208133</td>\n",
       "      <td id=\"T_67488_row9_col2\" class=\"data row9 col2\" >0.388680</td>\n",
       "      <td id=\"T_67488_row9_col3\" class=\"data row9 col3\" >0.390430</td>\n",
       "      <td id=\"T_67488_row9_col4\" class=\"data row9 col4\" >0.325717</td>\n",
       "      <td id=\"T_67488_row9_col5\" class=\"data row9 col5\" >0.290600</td>\n",
       "      <td id=\"T_67488_row9_col6\" class=\"data row9 col6\" >-0.273697</td>\n",
       "      <td id=\"T_67488_row9_col7\" class=\"data row9 col7\" >0.417212</td>\n",
       "      <td id=\"T_67488_row9_col8\" class=\"data row9 col8\" >0.464669</td>\n",
       "      <td id=\"T_67488_row9_col9\" class=\"data row9 col9\" >1.000000</td>\n",
       "      <td id=\"T_67488_row9_col10\" class=\"data row9 col10\" >0.382483</td>\n",
       "    </tr>\n",
       "    <tr>\n",
       "      <th id=\"T_67488_level0_row10\" class=\"row_heading level0 row10\" >target</th>\n",
       "      <td id=\"T_67488_row10_col0\" class=\"data row10 col0\" >0.187889</td>\n",
       "      <td id=\"T_67488_row10_col1\" class=\"data row10 col1\" >0.043062</td>\n",
       "      <td id=\"T_67488_row10_col2\" class=\"data row10 col2\" >0.586450</td>\n",
       "      <td id=\"T_67488_row10_col3\" class=\"data row10 col3\" >0.441482</td>\n",
       "      <td id=\"T_67488_row10_col4\" class=\"data row10 col4\" >0.212022</td>\n",
       "      <td id=\"T_67488_row10_col5\" class=\"data row10 col5\" >0.174054</td>\n",
       "      <td id=\"T_67488_row10_col6\" class=\"data row10 col6\" >-0.394789</td>\n",
       "      <td id=\"T_67488_row10_col7\" class=\"data row10 col7\" >0.430453</td>\n",
       "      <td id=\"T_67488_row10_col8\" class=\"data row10 col8\" >0.565883</td>\n",
       "      <td id=\"T_67488_row10_col9\" class=\"data row10 col9\" >0.382483</td>\n",
       "      <td id=\"T_67488_row10_col10\" class=\"data row10 col10\" >1.000000</td>\n",
       "    </tr>\n",
       "  </tbody>\n",
       "</table>\n"
      ],
      "text/plain": [
       "<pandas.io.formats.style.Styler at 0x7feadaf361c0>"
      ]
     },
     "execution_count": 33,
     "metadata": {},
     "output_type": "execute_result"
    }
   ],
   "source": [
    "ddf.corr().style.background_gradient(cmap = 'YlGn')"
   ]
  },
  {
   "cell_type": "code",
   "execution_count": 38,
   "id": "b8ed578a",
   "metadata": {},
   "outputs": [
    {
     "data": {
      "image/png": "[encoded data removed]",
      "text/plain": [
       "<Figure size 1000x1000 with 11 Axes>"
      ]
     },
     "metadata": {},
     "output_type": "display_data"
    }
   ],
   "source": [
    "fig = plt.figure(figsize = (10,10))\n",
    "for i, col in enumerate(ddf.columns) :\n",
    "    ax = fig.add_subplot(6,2,i+1)\n",
    "    sns.kdeplot(data=ddf,x=col)\n",
    "plt.tight_layout()\n",
    "plt.show()    "
   ]
  },
  {
   "cell_type": "markdown",
   "id": "d0ef62eb",
   "metadata": {},
   "source": [
    "## (2) 모델에 입력할 데이터 X 준비하기"
   ]
  },
  {
   "cell_type": "markdown",
   "id": "6d34cfaf",
   "metadata": {},
   "source": [
    "- df_X에 있는 값들을 numpy array로 변환해서 저장해주세요."
   ]
  },
  {
   "cell_type": "code",
   "execution_count": 4,
   "id": "7daf2058",
   "metadata": {},
   "outputs": [
    {
     "name": "stdout",
     "output_type": "stream",
     "text": [
      "[[ 0.03807591  0.05068012  0.06169621 ... -0.00259226  0.01990749\n",
      "  -0.01764613]\n",
      " [-0.00188202 -0.04464164 -0.05147406 ... -0.03949338 -0.06833155\n",
      "  -0.09220405]\n",
      " [ 0.08529891  0.05068012  0.04445121 ... -0.00259226  0.00286131\n",
      "  -0.02593034]\n",
      " ...\n",
      " [ 0.04170844  0.05068012 -0.01590626 ... -0.01107952 -0.04688253\n",
      "   0.01549073]\n",
      " [-0.04547248 -0.04464164  0.03906215 ...  0.02655962  0.04452873\n",
      "  -0.02593034]\n",
      " [-0.04547248 -0.04464164 -0.0730303  ... -0.03949338 -0.00422151\n",
      "   0.00306441]]\n"
     ]
    }
   ],
   "source": [
    "df_X = np.array(df_X)\n",
    "print(df_X)"
   ]
  },
  {
   "cell_type": "markdown",
   "id": "f1f23e4d",
   "metadata": {},
   "source": [
    "## (3) 모델에 예측할 데이터 y 준비하기"
   ]
  },
  {
   "cell_type": "markdown",
   "id": "82d750e0",
   "metadata": {},
   "source": [
    "- df_y에 있는 값들을 numpy array로 변환해서 저장해주세요."
   ]
  },
  {
   "cell_type": "code",
   "execution_count": 5,
   "id": "4b3f729b",
   "metadata": {},
   "outputs": [
    {
     "name": "stdout",
     "output_type": "stream",
     "text": [
      "[151.  75. 141. 206. 135.  97. 138.  63. 110. 310. 101.  69. 179. 185.\n",
      " 118. 171. 166. 144.  97. 168.  68.  49.  68. 245. 184. 202. 137.  85.\n",
      " 131. 283. 129.  59. 341.  87.  65. 102. 265. 276. 252.  90. 100.  55.\n",
      "  61.  92. 259.  53. 190. 142.  75. 142. 155. 225.  59. 104. 182. 128.\n",
      "  52.  37. 170. 170.  61. 144.  52. 128.  71. 163. 150.  97. 160. 178.\n",
      "  48. 270. 202. 111.  85.  42. 170. 200. 252. 113. 143.  51.  52. 210.\n",
      "  65. 141.  55. 134.  42. 111.  98. 164.  48.  96.  90. 162. 150. 279.\n",
      "  92.  83. 128. 102. 302. 198.  95.  53. 134. 144. 232.  81. 104.  59.\n",
      " 246. 297. 258. 229. 275. 281. 179. 200. 200. 173. 180.  84. 121. 161.\n",
      "  99. 109. 115. 268. 274. 158. 107.  83. 103. 272.  85. 280. 336. 281.\n",
      " 118. 317. 235.  60. 174. 259. 178. 128.  96. 126. 288.  88. 292.  71.\n",
      " 197. 186.  25.  84.  96. 195.  53. 217. 172. 131. 214.  59.  70. 220.\n",
      " 268. 152.  47.  74. 295. 101. 151. 127. 237. 225.  81. 151. 107.  64.\n",
      " 138. 185. 265. 101. 137. 143. 141.  79. 292. 178.  91. 116.  86. 122.\n",
      "  72. 129. 142.  90. 158.  39. 196. 222. 277.  99. 196. 202. 155.  77.\n",
      " 191.  70.  73.  49.  65. 263. 248. 296. 214. 185.  78.  93. 252. 150.\n",
      "  77. 208.  77. 108. 160.  53. 220. 154. 259.  90. 246. 124.  67.  72.\n",
      " 257. 262. 275. 177.  71.  47. 187. 125.  78.  51. 258. 215. 303. 243.\n",
      "  91. 150. 310. 153. 346.  63.  89.  50.  39. 103. 308. 116. 145.  74.\n",
      "  45. 115. 264.  87. 202. 127. 182. 241.  66.  94. 283.  64. 102. 200.\n",
      " 265.  94. 230. 181. 156. 233.  60. 219.  80.  68. 332. 248.  84. 200.\n",
      "  55.  85.  89.  31. 129.  83. 275.  65. 198. 236. 253. 124.  44. 172.\n",
      " 114. 142. 109. 180. 144. 163. 147.  97. 220. 190. 109. 191. 122. 230.\n",
      " 242. 248. 249. 192. 131. 237.  78. 135. 244. 199. 270. 164.  72.  96.\n",
      " 306.  91. 214.  95. 216. 263. 178. 113. 200. 139. 139.  88. 148.  88.\n",
      " 243.  71.  77. 109. 272.  60.  54. 221.  90. 311. 281. 182. 321.  58.\n",
      " 262. 206. 233. 242. 123. 167.  63. 197.  71. 168. 140. 217. 121. 235.\n",
      " 245.  40.  52. 104. 132.  88.  69. 219.  72. 201. 110.  51. 277.  63.\n",
      " 118.  69. 273. 258.  43. 198. 242. 232. 175.  93. 168. 275. 293. 281.\n",
      "  72. 140. 189. 181. 209. 136. 261. 113. 131. 174. 257.  55.  84.  42.\n",
      " 146. 212. 233.  91. 111. 152. 120.  67. 310.  94. 183.  66. 173.  72.\n",
      "  49.  64.  48. 178. 104. 132. 220.  57.]\n"
     ]
    }
   ],
   "source": [
    "df_X = np.array(df_X)"
   ]
  },
  {
   "cell_type": "code",
   "execution_count": 39,
   "id": "7687a6a7",
   "metadata": {},
   "outputs": [],
   "source": [
    "from sklearn.preprocessing import MinMaxScaler"
   ]
  },
  {
   "cell_type": "code",
   "execution_count": 41,
   "id": "c74b64b9",
   "metadata": {},
   "outputs": [],
   "source": [
    "scaler = MinMaxScaler()\n",
    "scaler.fit(df_X)\n",
    "df_X = scaler.transform(df_X)"
   ]
  },
  {
   "cell_type": "code",
   "execution_count": 108,
   "id": "43126feb",
   "metadata": {},
   "outputs": [
    {
     "data": {
      "text/plain": [
       "array([[0.66666667, 1.        , 0.58264463, ..., 0.28208745, 0.562217  ,\n",
       "        0.43939394],\n",
       "       [0.48333333, 0.        , 0.14876033, ..., 0.14104372, 0.22243673,\n",
       "        0.16666667],\n",
       "       [0.88333333, 1.        , 0.51652893, ..., 0.28208745, 0.49657763,\n",
       "        0.40909091],\n",
       "       ...,\n",
       "       [0.68333333, 1.        , 0.28512397, ..., 0.24964739, 0.30503001,\n",
       "        0.56060606],\n",
       "       [0.28333333, 0.        , 0.49586777, ..., 0.39351199, 0.65702552,\n",
       "        0.40909091],\n",
       "       [0.28333333, 0.        , 0.0661157 , ..., 0.14104372, 0.46930394,\n",
       "        0.51515152]])"
      ]
     },
     "execution_count": 108,
     "metadata": {},
     "output_type": "execute_result"
    }
   ],
   "source": [
    "df_X"
   ]
  },
  {
   "cell_type": "markdown",
   "id": "2f1ebed0",
   "metadata": {},
   "source": [
    "## (4) train 데이터와 test 데이터로 분리하기"
   ]
  },
  {
   "cell_type": "markdown",
   "id": "9b2fcccc",
   "metadata": {},
   "source": [
    "- X와 y 데이터를 각각 train 데이터와 test 데이터로 분리해주세요."
   ]
  },
  {
   "cell_type": "code",
   "execution_count": 54,
   "id": "d17596de",
   "metadata": {},
   "outputs": [],
   "source": [
    "from sklearn.model_selection import train_test_split"
   ]
  },
  {
   "cell_type": "code",
   "execution_count": 123,
   "id": "fe24d0b6",
   "metadata": {},
   "outputs": [
    {
     "name": "stdout",
     "output_type": "stream",
     "text": [
      "(309, 10) (133, 10)\n",
      "(309,) (133,)\n"
     ]
    }
   ],
   "source": [
    "X_train, X_test, y_train, y_test = train_test_split(df_X, df_y, test_size = 0.3, random_state =23)\n",
    "\n",
    "print(X_train.shape, X_test.shape)\n",
    "print(y_train.shape,y_test.shape)"
   ]
  },
  {
   "cell_type": "markdown",
   "id": "37bab059",
   "metadata": {},
   "source": [
    "## (5) 모델 준비하기"
   ]
  },
  {
   "cell_type": "markdown",
   "id": "d8bcc08c",
   "metadata": {},
   "source": [
    "- 입력 데이터 개수에 맞는 가중치 W와 b를 준비해주세요.\n",
    "- 모델 함수를 구현해주세요."
   ]
  },
  {
   "cell_type": "code",
   "execution_count": 124,
   "id": "a8b730c8",
   "metadata": {},
   "outputs": [
    {
     "name": "stdout",
     "output_type": "stream",
     "text": [
      "[0.5488135  0.71518937 0.60276338 0.54488318 0.4236548  0.64589411\n",
      " 0.43758721 0.891773   0.96366276 0.38344152]\n",
      "0.7917250380826646\n"
     ]
    }
   ],
   "source": [
    "np.random.seed(0)\n",
    "W = np.random.rand(10)\n",
    "b = np.random.rand()\n",
    "print(W)\n",
    "print(b)"
   ]
  },
  {
   "cell_type": "code",
   "execution_count": 125,
   "id": "9fd2b63c",
   "metadata": {},
   "outputs": [],
   "source": [
    "def regression_model(X,W,b) :\n",
    "    y = np.dot(X,W) + b\n",
    "    return y"
   ]
  },
  {
   "cell_type": "code",
   "execution_count": 126,
   "id": "c2dc6de2",
   "metadata": {},
   "outputs": [],
   "source": [
    "y_hat = regression_model(X_train, W,b)"
   ]
  },
  {
   "cell_type": "markdown",
   "id": "96531aaa",
   "metadata": {},
   "source": [
    "## (6) 손실함수 loss 정의하기"
   ]
  },
  {
   "cell_type": "markdown",
   "id": "bb7572b4",
   "metadata": {},
   "source": [
    "- 손실함수를 MSE 함수로 정의해주세요."
   ]
  },
  {
   "cell_type": "code",
   "execution_count": 127,
   "id": "07b643c9",
   "metadata": {},
   "outputs": [],
   "source": [
    "def MSE(a,b):\n",
    "    MSE = ((a - b) ** 2).mean()\n",
    "    return MSE"
   ]
  },
  {
   "cell_type": "code",
   "execution_count": 152,
   "id": "f7dbf053",
   "metadata": {},
   "outputs": [],
   "source": [
    "def RMSE(mse):\n",
    "    return mse**0.5"
   ]
  },
  {
   "cell_type": "code",
   "execution_count": 128,
   "id": "8ce98fd9",
   "metadata": {},
   "outputs": [
    {
     "data": {
      "text/plain": [
       "27251.158719222138"
      ]
     },
     "execution_count": 128,
     "metadata": {},
     "output_type": "execute_result"
    }
   ],
   "source": [
    "MSE(y_hat,y_train)"
   ]
  },
  {
   "cell_type": "markdown",
   "id": "59395786",
   "metadata": {},
   "source": [
    "## (7) 기울기를 구하는 gradient 함수 구현하기"
   ]
  },
  {
   "cell_type": "markdown",
   "id": "06b5a6af",
   "metadata": {},
   "source": [
    "- 기울기를 계산하는 gradient 함수를 구현해주세요."
   ]
  },
  {
   "cell_type": "code",
   "execution_count": 129,
   "id": "7fd73170",
   "metadata": {},
   "outputs": [],
   "source": [
    "def gradient_descent(X,predicted, y) :\n",
    "    N = len(X)\n",
    "    dW = 1/N * 2 * X.T.dot(predicted-y)\n",
    "    db = 2 * (predicted - y).mean()\n",
    "    return dW, db"
   ]
  },
  {
   "cell_type": "markdown",
   "id": "5a2cbe96",
   "metadata": {},
   "source": [
    "## (8) 하이퍼 파라미터인 학습률 설정하기"
   ]
  },
  {
   "cell_type": "markdown",
   "id": "c448ebf9",
   "metadata": {},
   "source": [
    "- 학습률, learning rate 를 설정해주세요\n",
    "- 만약 학습이 잘 되지 않는다면 learning rate 값을 한번 여러 가지로 설정하며 실험해 보세요."
   ]
  },
  {
   "cell_type": "code",
   "execution_count": 130,
   "id": "17d91e4f",
   "metadata": {},
   "outputs": [],
   "source": [
    "LearningRate = 0.01"
   ]
  },
  {
   "cell_type": "markdown",
   "id": "fcc3ace8",
   "metadata": {},
   "source": [
    "## (9) 모델 학습하기"
   ]
  },
  {
   "cell_type": "markdown",
   "id": "ea7f669e",
   "metadata": {},
   "source": [
    "- 정의된 손실함수와 기울기 함수로 모델을 학습해주세요.\n",
    "- loss값이 충분히 떨어질 때까지 학습을 진행해주세요.\n",
    "- 입력하는 데이터인 X에 들어가는 특성 컬럼들을 몇 개 빼도 괜찮습니다. 다양한 데이터로 실험해 보세요."
   ]
  },
  {
   "cell_type": "code",
   "execution_count": 131,
   "id": "d5feb405",
   "metadata": {},
   "outputs": [
    {
     "name": "stdout",
     "output_type": "stream",
     "text": [
      "for epoch 0, loss : 27251.158719222138\n",
      "for epoch 100, loss : 4572.186640612103\n",
      "for epoch 200, loss : 4229.724557846721\n",
      "for epoch 300, loss : 3983.046348422478\n",
      "for epoch 400, loss : 3796.4933590855717\n",
      "for epoch 500, loss : 3651.1408676297524\n",
      "for epoch 600, loss : 3535.7586655586997\n",
      "for epoch 700, loss : 3443.015826450203\n",
      "for epoch 800, loss : 3367.7738977944246\n",
      "for epoch 900, loss : 3306.258774144508\n",
      "for epoch 1000, loss : 3255.6177940580897\n",
      "for epoch 1100, loss : 3213.656946152612\n",
      "for epoch 1200, loss : 3178.670074537655\n",
      "for epoch 1300, loss : 3149.3201537501795\n",
      "for epoch 1400, loss : 3124.5530663543022\n",
      "for epoch 1500, loss : 3103.5333083232467\n",
      "for epoch 1600, loss : 3085.5952946978664\n",
      "for epoch 1700, loss : 3070.206134376515\n",
      "for epoch 1800, loss : 3056.937000813543\n",
      "for epoch 1900, loss : 3045.4410176194647\n",
      "for epoch 2000, loss : 3035.436115090029\n"
     ]
    }
   ],
   "source": [
    "epoch = 2000\n",
    "losses = []\n",
    "\n",
    "for i in range(epoch+1) :\n",
    "    prediction = regression_model(X_train, W, b)\n",
    "    loss = MSE(y_train ,prediction)\n",
    "    dW, db = gradient_descent(X_train, prediction, y_train)\n",
    "    W -= LearningRate * dW\n",
    "    b -= LearningRate * db\n",
    "    losses.append(loss)\n",
    "    \n",
    "    if i % 100 == 0 :\n",
    "        print(f'for epoch {i}, loss : {loss}')"
   ]
  },
  {
   "cell_type": "markdown",
   "id": "540773bc",
   "metadata": {},
   "source": [
    "## (10) test 데이터에 대한 성능 확인하기"
   ]
  },
  {
   "cell_type": "markdown",
   "id": "78018ec5",
   "metadata": {},
   "source": [
    "- test 데이터에 대한 성능을 확인해주세요."
   ]
  },
  {
   "cell_type": "code",
   "execution_count": 132,
   "id": "11d5c52f",
   "metadata": {},
   "outputs": [
    {
     "data": {
      "text/plain": [
       "2805.8469526130157"
      ]
     },
     "execution_count": 132,
     "metadata": {},
     "output_type": "execute_result"
    }
   ],
   "source": [
    "test_prediction = regression_model(X_test,W,b)\n",
    "final_loss = MSE(test_prediction, y_test)\n",
    "final_loss"
   ]
  },
  {
   "cell_type": "code",
   "execution_count": 153,
   "id": "13ce8e91",
   "metadata": {},
   "outputs": [
    {
     "data": {
      "text/plain": [
       "52.970245917996415"
      ]
     },
     "execution_count": 153,
     "metadata": {},
     "output_type": "execute_result"
    }
   ],
   "source": [
    "RMSE(final_loss)"
   ]
  },
  {
   "cell_type": "markdown",
   "id": "21895b3d",
   "metadata": {},
   "source": [
    "## (11) 정답 데이터와 예측한 데이터 시각화하기"
   ]
  },
  {
   "cell_type": "markdown",
   "id": "ac44d270",
   "metadata": {},
   "source": [
    "- x축에는 X 데이터의 첫 번째 컬럼을, y축에는 정답인 target 데이터를 넣어서 모델이 예측한 데이터를 시각화해 주세요."
   ]
  },
  {
   "cell_type": "code",
   "execution_count": 107,
   "id": "ec876d2c",
   "metadata": {},
   "outputs": [
    {
     "data": {
      "image/png": "[encoded data removed]",
      "text/plain": [
       "<Figure size 640x480 with 1 Axes>"
      ]
     },
     "metadata": {},
     "output_type": "display_data"
    }
   ],
   "source": [
    "fig = plt.figure()\n",
    "ax = fig.add_subplot(1,1,1)\n",
    "plt.scatter(df_X[:,3], df_y)\n",
    "plt.scatter(df_X[:,3], regression_model(df_X,W,b))\n",
    "\n",
    "plt.show()"
   ]
  },
  {
   "cell_type": "markdown",
   "id": "93dcfe1f",
   "metadata": {},
   "source": [
    "# 프로젝트 2 : 날씨 좋은 월요일 오후 세 시, 자전거 타는 사람은 몇 명?"
   ]
  },
  {
   "cell_type": "markdown",
   "id": "ea9cdb77",
   "metadata": {},
   "source": [
    "datetime - hourly date + timestamp  \n",
    "season -  1 = spring, 2 = summer, 3 = fall, 4 = winter \n",
    "holiday - whether the day is considered a holiday\n",
    "workingday - whether the day is neither a weekend nor holiday\n",
    "weather - 1: Clear, Few clouds, Partly cloudy, Partly cloudy\n",
    "2: Mist + Cloudy, Mist + Broken clouds, Mist + Few clouds, Mist\n",
    "3: Light Snow, Light Rain + Thunderstorm + Scattered clouds, Light Rain + Scattered clouds\n",
    "4: Heavy Rain + Ice Pallets + Thunderstorm + Mist, Snow + Fog \n",
    "temp - temperature in Celsius\n",
    "atemp - \"feels like\" temperature in Celsius\n",
    "humidity - relative humidity\n",
    "windspeed - wind speed\n",
    "casual - number of non-registered user rentals initiated\n",
    "registered - number of registered user rentals initiated\n",
    "count - number of total rentals"
   ]
  },
  {
   "cell_type": "markdown",
   "id": "47312c7a",
   "metadata": {},
   "source": [
    "## (1) 데이터 가져오기"
   ]
  },
  {
   "cell_type": "markdown",
   "id": "211ccbcd",
   "metadata": {},
   "source": [
    "- 터미널에서 ~/data/data/bike-sharing-demand 경로에 train.csv 데이터를 train 변수로 가져 옵니다.\n",
    "- 여기에서 데이터를 상세히 확인할 수 있습니다."
   ]
  },
  {
   "cell_type": "code",
   "execution_count": 141,
   "id": "de23ec6a",
   "metadata": {},
   "outputs": [],
   "source": [
    "wdata = pd.read_csv('../train.csv')"
   ]
  },
  {
   "cell_type": "code",
   "execution_count": 142,
   "id": "d3115c5e",
   "metadata": {},
   "outputs": [
    {
     "data": {
      "text/html": [
       "<div>\n",
       "<style scoped>\n",
       "    .dataframe tbody tr th:only-of-type {\n",
       "        vertical-align: middle;\n",
       "    }\n",
       "\n",
       "    .dataframe tbody tr th {\n",
       "        vertical-align: top;\n",
       "    }\n",
       "\n",
       "    .dataframe thead th {\n",
       "        text-align: right;\n",
       "    }\n",
       "</style>\n",
       "<table border=\"1\" class=\"dataframe\">\n",
       "  <thead>\n",
       "    <tr style=\"text-align: right;\">\n",
       "      <th></th>\n",
       "      <th>datetime</th>\n",
       "      <th>season</th>\n",
       "      <th>holiday</th>\n",
       "      <th>workingday</th>\n",
       "      <th>weather</th>\n",
       "      <th>temp</th>\n",
       "      <th>atemp</th>\n",
       "      <th>humidity</th>\n",
       "      <th>windspeed</th>\n",
       "      <th>casual</th>\n",
       "      <th>registered</th>\n",
       "      <th>count</th>\n",
       "    </tr>\n",
       "  </thead>\n",
       "  <tbody>\n",
       "    <tr>\n",
       "      <th>10881</th>\n",
       "      <td>2012-12-19 19:00:00</td>\n",
       "      <td>4</td>\n",
       "      <td>0</td>\n",
       "      <td>1</td>\n",
       "      <td>1</td>\n",
       "      <td>15.580</td>\n",
       "      <td>19.695</td>\n",
       "      <td>50</td>\n",
       "      <td>26.003</td>\n",
       "      <td>7</td>\n",
       "      <td>329</td>\n",
       "      <td>336</td>\n",
       "    </tr>\n",
       "    <tr>\n",
       "      <th>10882</th>\n",
       "      <td>2012-12-19 20:00:00</td>\n",
       "      <td>4</td>\n",
       "      <td>0</td>\n",
       "      <td>1</td>\n",
       "      <td>1</td>\n",
       "      <td>14.760</td>\n",
       "      <td>17.425</td>\n",
       "      <td>57</td>\n",
       "      <td>15.001</td>\n",
       "      <td>10</td>\n",
       "      <td>231</td>\n",
       "      <td>241</td>\n",
       "    </tr>\n",
       "    <tr>\n",
       "      <th>10883</th>\n",
       "      <td>2012-12-19 21:00:00</td>\n",
       "      <td>4</td>\n",
       "      <td>0</td>\n",
       "      <td>1</td>\n",
       "      <td>1</td>\n",
       "      <td>13.940</td>\n",
       "      <td>15.910</td>\n",
       "      <td>61</td>\n",
       "      <td>15.001</td>\n",
       "      <td>4</td>\n",
       "      <td>164</td>\n",
       "      <td>168</td>\n",
       "    </tr>\n",
       "    <tr>\n",
       "      <th>10884</th>\n",
       "      <td>2012-12-19 22:00:00</td>\n",
       "      <td>4</td>\n",
       "      <td>0</td>\n",
       "      <td>1</td>\n",
       "      <td>1</td>\n",
       "      <td>13.940</td>\n",
       "      <td>17.425</td>\n",
       "      <td>61</td>\n",
       "      <td>6.003</td>\n",
       "      <td>12</td>\n",
       "      <td>117</td>\n",
       "      <td>129</td>\n",
       "    </tr>\n",
       "    <tr>\n",
       "      <th>10885</th>\n",
       "      <td>2012-12-19 23:00:00</td>\n",
       "      <td>4</td>\n",
       "      <td>0</td>\n",
       "      <td>1</td>\n",
       "      <td>1</td>\n",
       "      <td>13.120</td>\n",
       "      <td>16.665</td>\n",
       "      <td>66</td>\n",
       "      <td>8.998</td>\n",
       "      <td>4</td>\n",
       "      <td>84</td>\n",
       "      <td>88</td>\n",
       "    </tr>\n",
       "  </tbody>\n",
       "</table>\n",
       "</div>"
      ],
      "text/plain": [
       "                  datetime  season  holiday  workingday  weather   temp  \\\n",
       "10881  2012-12-19 19:00:00       4        0           1        1 15.580   \n",
       "10882  2012-12-19 20:00:00       4        0           1        1 14.760   \n",
       "10883  2012-12-19 21:00:00       4        0           1        1 13.940   \n",
       "10884  2012-12-19 22:00:00       4        0           1        1 13.940   \n",
       "10885  2012-12-19 23:00:00       4        0           1        1 13.120   \n",
       "\n",
       "       atemp  humidity  windspeed  casual  registered  count  \n",
       "10881 19.695        50     26.003       7         329    336  \n",
       "10882 17.425        57     15.001      10         231    241  \n",
       "10883 15.910        61     15.001       4         164    168  \n",
       "10884 17.425        61      6.003      12         117    129  \n",
       "10885 16.665        66      8.998       4          84     88  "
      ]
     },
     "execution_count": 142,
     "metadata": {},
     "output_type": "execute_result"
    }
   ],
   "source": [
    "wdata.tail()"
   ]
  },
  {
   "cell_type": "markdown",
   "id": "702270bc",
   "metadata": {},
   "source": [
    "## (2) datetime 컬럼을 datetime 자료형으로 변환하고 연, 월, 일, 시, 분, 초까지 6가지 컬럼 생성하기"
   ]
  },
  {
   "cell_type": "markdown",
   "id": "2c876f33",
   "metadata": {},
   "source": [
    "- to_datetime 활용 : 링크 참조\n",
    "- pandas datetime extract year month day 키워드로 검색해 보기"
   ]
  },
  {
   "cell_type": "code",
   "execution_count": 143,
   "id": "9cfcccdb",
   "metadata": {},
   "outputs": [
    {
     "data": {
      "text/plain": [
       "0       2011-01-01 00:00:00\n",
       "1       2011-01-01 01:00:00\n",
       "2       2011-01-01 02:00:00\n",
       "3       2011-01-01 03:00:00\n",
       "4       2011-01-01 04:00:00\n",
       "                ...        \n",
       "10881   2012-12-19 19:00:00\n",
       "10882   2012-12-19 20:00:00\n",
       "10883   2012-12-19 21:00:00\n",
       "10884   2012-12-19 22:00:00\n",
       "10885   2012-12-19 23:00:00\n",
       "Name: datetime_new, Length: 10886, dtype: datetime64[ns]"
      ]
     },
     "execution_count": 143,
     "metadata": {},
     "output_type": "execute_result"
    }
   ],
   "source": [
    "wdata['datetime_new'] = pd.to_datetime(wdata['datetime'])\n",
    "wdata['datetime_new']"
   ]
  },
  {
   "cell_type": "code",
   "execution_count": 144,
   "id": "1a171378",
   "metadata": {},
   "outputs": [],
   "source": [
    "#연\n",
    "wdata['year'] = wdata['datetime_new'].map(lambda x : x.year)\n",
    "#월\n",
    "wdata['month'] = wdata['datetime_new'].map(lambda x : x.month)\n",
    "#일\n",
    "wdata['day'] = wdata['datetime_new'].map(lambda x : x.day)\n",
    "#시\n",
    "wdata['hour'] = wdata['datetime_new'].map(lambda x : x.hour)\n",
    "#분\n",
    "wdata['min'] = wdata['datetime_new'].map(lambda x : x.minute)\n",
    "#초\n",
    "wdata['sec'] = wdata['datetime_new'].map(lambda x : x.second)"
   ]
  },
  {
   "cell_type": "markdown",
   "id": "ef634f01",
   "metadata": {},
   "source": [
    "## (3) year, month, day, hour, minute, second 데이터 개수 시각화하기"
   ]
  },
  {
   "cell_type": "markdown",
   "id": "6334ea9e",
   "metadata": {},
   "source": [
    "- sns.countplot 활용해서 시각화하기\n",
    "- subplot을 활용해서 한 번에 6개의 그래프 함께 시각화하기"
   ]
  },
  {
   "cell_type": "code",
   "execution_count": 145,
   "id": "585f6b62",
   "metadata": {},
   "outputs": [],
   "source": [
    "time_col = ['year','month','day','hour','min','sec']"
   ]
  },
  {
   "cell_type": "code",
   "execution_count": 146,
   "id": "a24d5195",
   "metadata": {},
   "outputs": [
    {
     "data": {
      "image/png": "[encoded data removed]",
      "text/plain": [
       "<Figure size 1500x600 with 6 Axes>"
      ]
     },
     "metadata": {},
     "output_type": "display_data"
    }
   ],
   "source": [
    "fig = plt.figure(figsize = (15,6))\n",
    "for i, col in enumerate(time_col) :\n",
    "    ax = fig.add_subplot(2,3,i+1)\n",
    "    sns.countplot(data = wdata, x = col)\n",
    "    plt.xticks(rotation=45)\n",
    "\n",
    "plt.suptitle('Countplot by datetime category')\n",
    "plt.tight_layout()\n",
    "plt.show()"
   ]
  },
  {
   "cell_type": "markdown",
   "id": "ab43fa3e",
   "metadata": {},
   "source": [
    "## (4) X, y 컬럼 선택 및 train/test 데이터 분리"
   ]
  },
  {
   "cell_type": "markdown",
   "id": "f6b53fbe",
   "metadata": {},
   "source": [
    "- X(feature) 에는 어떤 데이터 컬럼을 넣어야 될지 고민해 봅시다 데이터 컬럼을 추가하거나 빼면서 잘 조합하여 데이터를 넣기 바랍니다. 만일 모든 데이터 컬럼(특징)을 넣는다면 오차 값이 말도 안 되게 적게 나올 수도 있습니다. ex) count를 예측하는데 casual,registered 컬럼이 필요할까요?\n",
    "\n",
    "- count 값을 맞추고자 하므로, y 변수에 count 컬럼의 데이터 넣기"
   ]
  },
  {
   "cell_type": "markdown",
   "id": "eeb5fc09",
   "metadata": {},
   "source": [
    "삭제 feature = min, sec\n",
    "data "
   ]
  },
  {
   "cell_type": "code",
   "execution_count": 156,
   "id": "44ad892c",
   "metadata": {},
   "outputs": [
    {
     "data": {
      "text/plain": [
       "count         1.000\n",
       "registered    0.971\n",
       "casual        0.690\n",
       "hour          0.401\n",
       "temp          0.394\n",
       "atemp         0.390\n",
       "year          0.260\n",
       "month         0.167\n",
       "season        0.163\n",
       "windspeed     0.101\n",
       "day           0.020\n",
       "workingday    0.012\n",
       "holiday      -0.005\n",
       "weather      -0.129\n",
       "humidity     -0.317\n",
       "min             NaN\n",
       "sec             NaN\n",
       "Name: count, dtype: float64"
      ]
     },
     "execution_count": 156,
     "metadata": {},
     "output_type": "execute_result"
    }
   ],
   "source": [
    "wdata.corr()['count'].sort_values(ascending=False)"
   ]
  },
  {
   "cell_type": "code",
   "execution_count": null,
   "id": "26347f47",
   "metadata": {},
   "outputs": [],
   "source": [
    "fig = plt.figure(figsize = (10,10))\n",
    "for i, col in enumerate(ddf.columns) :\n",
    "    ax = fig.add_subplot(6,2,i+1)\n",
    "    sns.kdeplot(data=ddf,x=col)\n",
    "plt.tight_layout()\n",
    "plt.show()    "
   ]
  },
  {
   "cell_type": "markdown",
   "id": "59f8e2aa",
   "metadata": {},
   "source": [
    "## (5) LinearRegression 모델 학습"
   ]
  },
  {
   "cell_type": "markdown",
   "id": "b16867dc",
   "metadata": {},
   "source": [
    "- sklearn의 LinearRegression 모델 불러오기 및 학습하기"
   ]
  },
  {
   "cell_type": "code",
   "execution_count": 164,
   "id": "e1107eaa",
   "metadata": {},
   "outputs": [],
   "source": [
    "from sklearn.linear_model import LinearRegression"
   ]
  },
  {
   "cell_type": "code",
   "execution_count": null,
   "id": "9d253108",
   "metadata": {},
   "outputs": [],
   "source": [
    "linearmodel = LinearRegression()\n",
    "# linearmodel.fit(X_train, y_train)"
   ]
  },
  {
   "cell_type": "markdown",
   "id": "94f527d9",
   "metadata": {},
   "source": [
    "## (6) 학습된 모델로 X_test에 대한 예측값 출력 및 손실함수값 계산"
   ]
  },
  {
   "cell_type": "code",
   "execution_count": 166,
   "id": "d57dd757",
   "metadata": {},
   "outputs": [],
   "source": [
    "from sklearn.metrics import mean_squared_error"
   ]
  },
  {
   "cell_type": "code",
   "execution_count": null,
   "id": "619b6883",
   "metadata": {},
   "outputs": [],
   "source": [
    "prediction = linearmodel.predict(X_test)\n",
    "mse = mean_squared_error(y_test, prediction)\n",
    "rmse = mse ** 0.5"
   ]
  },
  {
   "cell_type": "markdown",
   "id": "a234d739",
   "metadata": {},
   "source": [
    "- 학습된 모델에 X_test를 입력해서 예측값 출력하기\n",
    "- 모델이 예측한 값과 정답 target 간의 손실함수 값 계산하기\n",
    "- mse 값과 함께 rmse 값도 계산하기"
   ]
  },
  {
   "cell_type": "markdown",
   "id": "98e691d5",
   "metadata": {},
   "source": [
    "## (7) x축은 temp 또는 humidity로, y축은 count로 예측 결과 시각화하기"
   ]
  },
  {
   "cell_type": "markdown",
   "id": "0e72b972",
   "metadata": {},
   "source": [
    "- x축에 X 데이터 중 temp 데이터를, y축에는 count 데이터를 넣어서 시각화하기\n",
    "- x축에 X 데이터 중 humidity 데이터를, y축에는 count 데이터를 넣어서 시각화하기"
   ]
  },
  {
   "cell_type": "code",
   "execution_count": null,
   "id": "526c7d08",
   "metadata": {},
   "outputs": [],
   "source": []
  }
 ],
 "metadata": {
  "kernelspec": {
   "display_name": "Python 3 (ipykernel)",
   "language": "python",
   "name": "python3"
  },
  "language_info": {
   "codemirror_mode": {
    "name": "ipython",
    "version": 3
   },
   "file_extension": ".py",
   "mimetype": "text/x-python",
   "name": "python",
   "nbconvert_exporter": "python",
   "pygments_lexer": "ipython3",
   "version": "3.9.12"
  }
 },
 "nbformat": 4,
 "nbformat_minor": 5
}
