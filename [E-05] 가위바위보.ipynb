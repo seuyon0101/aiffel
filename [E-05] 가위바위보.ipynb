{
 "cells": [
  {
   "cell_type": "code",
   "execution_count": 169,
   "id": "fedc31c8",
   "metadata": {},
   "outputs": [],
   "source": [
    "import tensorflow as tf\n",
    "from tensorflow import keras\n",
    "\n",
    "import numpy as np\n",
    "import matplotlib.pyplot as plt\n",
    "import os"
   ]
  },
  {
   "cell_type": "code",
   "execution_count": 170,
   "id": "f9ebe402",
   "metadata": {},
   "outputs": [
    {
     "name": "stdout",
     "output_type": "stream",
     "text": [
      "2.11.0\n"
     ]
    }
   ],
   "source": [
    "print(tf.__version__)  "
   ]
  },
  {
   "cell_type": "markdown",
   "id": "00b8c688",
   "metadata": {},
   "source": [
    "## STEP 1 : 데이터 준비하기"
   ]
  },
  {
   "cell_type": "code",
   "execution_count": 171,
   "id": "15b4cba0",
   "metadata": {},
   "outputs": [],
   "source": [
    "from PIL import Image\n",
    "import glob\n",
    "import os"
   ]
  },
  {
   "cell_type": "code",
   "execution_count": 201,
   "id": "e31c947d",
   "metadata": {},
   "outputs": [],
   "source": [
    "def resize_images(img_path):\n",
    "    images=glob.glob(img_path + \"/*.jpg\")  \n",
    "    \n",
    "    print(len(images), \" images to be resized.\")\n",
    "\n",
    "    target_size=(28,28)\n",
    "    for img in images:\n",
    "        old_img=Image.open(img)\n",
    "        new_img=old_img.resize(target_size,Image.ANTIALIAS)\n",
    "        new_img.save(img, \"JPEG\")\n",
    "    \n",
    "    print(len(images), \" images resized.\") "
   ]
  },
  {
   "cell_type": "code",
   "execution_count": 202,
   "id": "8d47c65c",
   "metadata": {},
   "outputs": [],
   "source": [
    "folders = ['/paper','/rock','/scissor']"
   ]
  },
  {
   "cell_type": "code",
   "execution_count": 203,
   "id": "c3659e95",
   "metadata": {},
   "outputs": [
    {
     "name": "stdout",
     "output_type": "stream",
     "text": [
      "208  images to be resized.\n"
     ]
    },
    {
     "name": "stderr",
     "output_type": "stream",
     "text": [
      "/var/folders/gw/_hckw7j932n6_zdqjr965yzc0000gn/T/ipykernel_11040/2160633127.py:9: DeprecationWarning: ANTIALIAS is deprecated and will be removed in Pillow 10 (2023-07-01). Use Resampling.LANCZOS instead.\n",
      "  new_img=old_img.resize(target_size,Image.ANTIALIAS)\n"
     ]
    },
    {
     "name": "stdout",
     "output_type": "stream",
     "text": [
      "208  images resized.\n",
      "227  images to be resized.\n",
      "227  images resized.\n",
      "217  images to be resized.\n",
      "217  images resized.\n",
      "100  images to be resized.\n",
      "100  images resized.\n",
      "100  images to be resized.\n",
      "100  images resized.\n",
      "100  images to be resized.\n",
      "100  images resized.\n"
     ]
    }
   ],
   "source": [
    "for i in ['/train','/test'] :\n",
    "    image_dir_path = os.getenv(\"HOME\") + '/Desktop/Life3/aiffel/project/data/rock_paper_scissor'\n",
    "    \n",
    "    for j in folders :\n",
    "        resize_images(image_dir_path+i+j)\n"
   ]
  },
  {
   "cell_type": "code",
   "execution_count": 204,
   "id": "439fdd56",
   "metadata": {},
   "outputs": [],
   "source": [
    "image_dir_path_train = os.getenv(\"HOME\") + '/Desktop/Life3/aiffel/project/data/rock_paper_scissor/train'\n",
    "image_dir_path_test = os.getenv(\"HOME\") + '/Desktop/Life3/aiffel/project/data/rock_paper_scissor/test'"
   ]
  },
  {
   "cell_type": "code",
   "execution_count": 205,
   "id": "62d31e6a",
   "metadata": {},
   "outputs": [],
   "source": [
    "import numpy as np\n",
    "\n",
    "def load_data(img_path, number_of_data=300):  # 가위바위보 이미지 개수 총합에 주의하세요.\n",
    "    # 가위 : 0, 바위 : 1, 보 : 2\n",
    "    img_size=28\n",
    "    color=3\n",
    "    #이미지 데이터와 라벨(가위 : 0, 바위 : 1, 보 : 2) 데이터를 담을 행렬(matrix) 영역을 생성합니다.\n",
    "    imgs=np.zeros(number_of_data*img_size*img_size*color,dtype=np.int32).reshape(number_of_data,img_size,img_size,color)\n",
    "    labels=np.zeros(number_of_data,dtype=np.int32)\n",
    "\n",
    "    idx=0\n",
    "    for file in glob.iglob(img_path+'/scissor/*.jpg'):\n",
    "        img = np.array(Image.open(file),dtype=np.int32)\n",
    "        imgs[idx,:,:,:]=img    # 데이터 영역에 이미지 행렬을 복사\n",
    "        labels[idx]=0   # 가위 : 0\n",
    "        idx=idx+1\n",
    "\n",
    "    for file in glob.iglob(img_path+'/rock/*.jpg'):\n",
    "        img = np.array(Image.open(file),dtype=np.int32)\n",
    "        imgs[idx,:,:,:]=img    # 데이터 영역에 이미지 행렬을 복사\n",
    "        labels[idx]=1   # 바위 : 1\n",
    "        idx=idx+1  \n",
    "    \n",
    "    for file in glob.iglob(img_path+'/paper/*.jpg'):\n",
    "        img = np.array(Image.open(file),dtype=np.int32)\n",
    "        imgs[idx,:,:,:]=img    # 데이터 영역에 이미지 행렬을 복사\n",
    "        labels[idx]=2   # 보 : 2\n",
    "        idx=idx+1\n",
    "        \n",
    "    print(\"학습데이터(x_train)의 이미지 개수는\", idx,\"입니다.\")\n",
    "    return imgs, labels\n"
   ]
  },
  {
   "cell_type": "code",
   "execution_count": 206,
   "id": "4cfaaf79",
   "metadata": {},
   "outputs": [
    {
     "data": {
      "text/plain": [
       "1181"
      ]
     },
     "execution_count": 206,
     "metadata": {},
     "output_type": "execute_result"
    }
   ],
   "source": [
    "trp =len(os.listdir(image_dir_path_train+'/paper'))\n",
    "trs = len(os.listdir(image_dir_path_train+'/scissor'))\n",
    "trr = len(os.listdir(image_dir_path_train+'/rock'))\n",
    "trtot = trp + trs +trr\n",
    "\n",
    "trtot"
   ]
  },
  {
   "cell_type": "code",
   "execution_count": 267,
   "id": "b98987cb",
   "metadata": {},
   "outputs": [
    {
     "name": "stdout",
     "output_type": "stream",
     "text": [
      "학습데이터(x_train)의 이미지 개수는 652 입니다.\n",
      "x_train shape: (1181, 28, 28, 3)\n",
      "y_train shape: (1181,)\n"
     ]
    }
   ],
   "source": [
    "(x_train, y_train)=load_data(image_dir_path_train, number_of_data = trtot)\n",
    "x_train_norm = x_train/255.0   \n",
    "\n",
    "print(\"x_train shape: {}\".format(x_train.shape))\n",
    "print(\"y_train shape: {}\".format(y_train.shape))"
   ]
  },
  {
   "cell_type": "code",
   "execution_count": 268,
   "id": "31085567",
   "metadata": {},
   "outputs": [
    {
     "name": "stdout",
     "output_type": "stream",
     "text": [
      "(551, 28, 28, 3)\n",
      "(551,)\n"
     ]
    }
   ],
   "source": [
    "mask1 = np.random.choice(len(x_train_norm),int(len(x_train_norm) *0.8))\n",
    "mask2 = np.array(list(set(np.arange(len(x_train_norm))) - set(mask1)))\n",
    "x_train_norm1 = x_train_norm[mask1]\n",
    "x_val_norm1 = x_train_norm[mask2]\n",
    "y_train1 = y_train[mask1] \n",
    "y_val1 = y_train[mask2] \n",
    "print(x_val_norm1.shape)\n",
    "print(y_val1.shape)"
   ]
  },
  {
   "cell_type": "code",
   "execution_count": 269,
   "id": "e0b0c8ab",
   "metadata": {},
   "outputs": [
    {
     "data": {
      "text/plain": [
       "300"
      ]
     },
     "execution_count": 269,
     "metadata": {},
     "output_type": "execute_result"
    }
   ],
   "source": [
    "tsp =len(os.listdir(image_dir_path_test+'/paper'))\n",
    "tss = len(os.listdir(image_dir_path_test+'/scissor'))\n",
    "tsr = len(os.listdir(image_dir_path_test+'/rock'))\n",
    "tstot = tsp + tss +tsr\n",
    "\n",
    "tstot"
   ]
  },
  {
   "cell_type": "code",
   "execution_count": 270,
   "id": "aacd772a",
   "metadata": {},
   "outputs": [
    {
     "name": "stdout",
     "output_type": "stream",
     "text": [
      "학습데이터(x_train)의 이미지 개수는 300 입니다.\n",
      "x_test shape: (1181, 28, 28, 3)\n",
      "y_test shape: (1181,)\n"
     ]
    }
   ],
   "source": [
    "(x_test, y_test)=load_data(image_dir_path_test, number_of_data = tstot)\n",
    "\n",
    "\n",
    "x_test_norm = x_test/255.0   # 입력은 0~1 사이의 값으로 정규화\n",
    "\n",
    "print(\"x_test shape: {}\".format(x_train.shape))\n",
    "print(\"y_test shape: {}\".format(y_train.shape))"
   ]
  },
  {
   "cell_type": "code",
   "execution_count": 271,
   "id": "487b3f37",
   "metadata": {},
   "outputs": [
    {
     "name": "stdout",
     "output_type": "stream",
     "text": [
      "라벨:  0\n"
     ]
    },
    {
     "data": {
      "image/png": "[encoded data removed]",
      "text/plain": [
       "<Figure size 640x480 with 1 Axes>"
      ]
     },
     "metadata": {},
     "output_type": "display_data"
    }
   ],
   "source": [
    "#이미지 확인\n",
    "plt.imshow(x_train[0])\n",
    "print('라벨: ', y_train[0])"
   ]
  },
  {
   "cell_type": "markdown",
   "id": "fc01ab9d",
   "metadata": {},
   "source": [
    "## STEP 2 : 딥러닝 네트워크 학습시키기"
   ]
  },
  {
   "cell_type": "code",
   "execution_count": 272,
   "id": "59ef6a71",
   "metadata": {},
   "outputs": [
    {
     "name": "stdout",
     "output_type": "stream",
     "text": [
      "Model에 추가된 Layer 개수:  7\n",
      "Model: \"sequential_61\"\n",
      "_________________________________________________________________\n",
      " Layer (type)                Output Shape              Param #   \n",
      "=================================================================\n",
      " conv2d_154 (Conv2D)         (None, 26, 26, 16)        448       \n",
      "                                                                 \n",
      " max_pooling2d_152 (MaxPooli  (None, 13, 13, 16)       0         \n",
      " ng2D)                                                           \n",
      "                                                                 \n",
      " conv2d_155 (Conv2D)         (None, 11, 11, 32)        4640      \n",
      "                                                                 \n",
      " max_pooling2d_153 (MaxPooli  (None, 5, 5, 32)         0         \n",
      " ng2D)                                                           \n",
      "                                                                 \n",
      " flatten_54 (Flatten)        (None, 800)               0         \n",
      "                                                                 \n",
      " dense_108 (Dense)           (None, 32)                25632     \n",
      "                                                                 \n",
      " dense_109 (Dense)           (None, 3)                 99        \n",
      "                                                                 \n",
      "=================================================================\n",
      "Total params: 30,819\n",
      "Trainable params: 30,819\n",
      "Non-trainable params: 0\n",
      "_________________________________________________________________\n"
     ]
    }
   ],
   "source": [
    "model=keras.models.Sequential()\n",
    "model.add(keras.layers.Conv2D(16, (3,3), activation='relu', input_shape=(28,28,3)))\n",
    "model.add(keras.layers.MaxPool2D(2,2))\n",
    "model.add(keras.layers.Conv2D(32, (3,3), activation='relu'))\n",
    "model.add(keras.layers.MaxPooling2D((2,2)))\n",
    "model.add(keras.layers.Flatten())\n",
    "model.add(keras.layers.Dense(32, activation='relu'))\n",
    "model.add(keras.layers.Dense(3, activation='softmax')) # 0, 1, 2\n",
    "\n",
    "print('Model에 추가된 Layer 개수: ', len(model.layers))\n",
    "model.summary()"
   ]
  },
  {
   "cell_type": "code",
   "execution_count": 305,
   "id": "d737358e",
   "metadata": {},
   "outputs": [
    {
     "name": "stdout",
     "output_type": "stream",
     "text": [
      "Before Reshape - x_train_norm shape: (1181, 28, 28, 3)\n",
      "Before Reshape - x_test_norm shape: (300, 28, 28, 3)\n"
     ]
    },
    {
     "ename": "NameError",
     "evalue": "name 'x_val_norm' is not defined",
     "output_type": "error",
     "traceback": [
      "\u001b[0;31m---------------------------------------------------------------------------\u001b[0m",
      "\u001b[0;31mNameError\u001b[0m                                 Traceback (most recent call last)",
      "Input \u001b[0;32mIn [305]\u001b[0m, in \u001b[0;36m<cell line: 5>\u001b[0;34m()\u001b[0m\n\u001b[1;32m      2\u001b[0m \u001b[38;5;28mprint\u001b[39m(\u001b[38;5;124mf\u001b[39m\u001b[38;5;124m\"\u001b[39m\u001b[38;5;124mBefore Reshape - x_test_norm shape: \u001b[39m\u001b[38;5;132;01m{\u001b[39;00mx_test_norm\u001b[38;5;241m.\u001b[39mshape\u001b[38;5;132;01m}\u001b[39;00m\u001b[38;5;124m\"\u001b[39m)\n\u001b[1;32m      4\u001b[0m x_train_reshaped \u001b[38;5;241m=\u001b[39m x_train_norm\u001b[38;5;241m.\u001b[39mreshape( \u001b[38;5;241m-\u001b[39m\u001b[38;5;241m1\u001b[39m, \u001b[38;5;241m28\u001b[39m, \u001b[38;5;241m28\u001b[39m, \u001b[38;5;241m3\u001b[39m)  \u001b[38;5;66;03m# 데이터갯수에 -1을 쓰면 reshape시 자동계산됩니다.\u001b[39;00m\n\u001b[0;32m----> 5\u001b[0m x_val_reshaped \u001b[38;5;241m=\u001b[39m \u001b[43mx_val_norm\u001b[49m\u001b[38;5;241m.\u001b[39mreshape( \u001b[38;5;241m-\u001b[39m\u001b[38;5;241m1\u001b[39m, \u001b[38;5;241m28\u001b[39m, \u001b[38;5;241m28\u001b[39m, \u001b[38;5;241m3\u001b[39m)  \u001b[38;5;66;03m# 데이터갯수에 -1을 쓰면 reshape시 자동계산됩니다.\u001b[39;00m\n\u001b[1;32m      6\u001b[0m x_test_reshaped \u001b[38;5;241m=\u001b[39m x_test_norm\u001b[38;5;241m.\u001b[39mreshape( \u001b[38;5;241m-\u001b[39m\u001b[38;5;241m1\u001b[39m, \u001b[38;5;241m28\u001b[39m, \u001b[38;5;241m28\u001b[39m, \u001b[38;5;241m3\u001b[39m)\n\u001b[1;32m      8\u001b[0m \u001b[38;5;28mprint\u001b[39m(\u001b[38;5;124mf\u001b[39m\u001b[38;5;124m\"\u001b[39m\u001b[38;5;124mAfter Reshape - x_train_reshaped shape: \u001b[39m\u001b[38;5;132;01m{\u001b[39;00mx_train_reshaped\u001b[38;5;241m.\u001b[39mshape\u001b[38;5;132;01m}\u001b[39;00m\u001b[38;5;124m\"\u001b[39m)\n",
      "\u001b[0;31mNameError\u001b[0m: name 'x_val_norm' is not defined"
     ]
    }
   ],
   "source": [
    "print(f\"Before Reshape - x_train_norm shape: {x_train_norm.shape}\")\n",
    "print(f\"Before Reshape - x_test_norm shape: {x_test_norm.shape}\")\n",
    "\n",
    "x_train_reshaped = x_train_norm.reshape( -1, 28, 28, 3)  # 데이터갯수에 -1을 쓰면 reshape시 자동계산됩니다.\n",
    "x_val_reshaped = x_val_norm.reshape( -1, 28, 28, 3)  # 데이터갯수에 -1을 쓰면 reshape시 자동계산됩니다.\n",
    "x_test_reshaped = x_test_norm.reshape( -1, 28, 28, 3)\n",
    "\n",
    "print(f\"After Reshape - x_train_reshaped shape: {x_train_reshaped.shape}\")\n",
    "print(f\"After Reshape - x_test_reshaped shape: {x_test_reshaped.shape}\")"
   ]
  },
  {
   "cell_type": "code",
   "execution_count": 306,
   "id": "c4a2ab17",
   "metadata": {},
   "outputs": [
    {
     "name": "stdout",
     "output_type": "stream",
     "text": [
      "Epoch 1/10\n",
      "37/37 [==============================] - 4s 48ms/step - loss: 0.1599 - accuracy: 0.9306\n",
      "Epoch 2/10\n",
      "37/37 [==============================] - 2s 45ms/step - loss: 0.1175 - accuracy: 0.9543\n",
      "Epoch 3/10\n",
      "37/37 [==============================] - 2s 48ms/step - loss: 0.1177 - accuracy: 0.9500\n",
      "Epoch 4/10\n",
      "37/37 [==============================] - 2s 48ms/step - loss: 0.0879 - accuracy: 0.9712\n",
      "Epoch 5/10\n",
      "37/37 [==============================] - 2s 46ms/step - loss: 0.0686 - accuracy: 0.9721\n",
      "Epoch 6/10\n",
      "37/37 [==============================] - 2s 52ms/step - loss: 0.0648 - accuracy: 0.9746\n",
      "Epoch 7/10\n",
      "37/37 [==============================] - 2s 46ms/step - loss: 0.0721 - accuracy: 0.9653\n",
      "Epoch 8/10\n",
      "37/37 [==============================] - 2s 48ms/step - loss: 0.0545 - accuracy: 0.9771\n",
      "Epoch 9/10\n",
      "37/37 [==============================] - 2s 41ms/step - loss: 0.0441 - accuracy: 0.9831\n",
      "Epoch 10/10\n",
      "37/37 [==============================] - 2s 43ms/step - loss: 0.0352 - accuracy: 0.9890\n"
     ]
    },
    {
     "data": {
      "text/plain": [
       "<keras.callbacks.History at 0x7fc713e6ceb0>"
      ]
     },
     "execution_count": 306,
     "metadata": {},
     "output_type": "execute_result"
    }
   ],
   "source": [
    "model.compile(optimizer='adam',\n",
    "             loss='sparse_categorical_crossentropy',\n",
    "             metrics=['accuracy'])\n",
    "\n",
    "model.fit(x_train_reshaped, y_train, epochs=10)"
   ]
  },
  {
   "cell_type": "markdown",
   "id": "89b03ce2",
   "metadata": {},
   "source": [
    "## STEP 3 : 얼마나 잘 만들었는지 확인하기"
   ]
  },
  {
   "cell_type": "code",
   "execution_count": 307,
   "id": "c0271152",
   "metadata": {},
   "outputs": [
    {
     "name": "stdout",
     "output_type": "stream",
     "text": [
      "10/10 - 0s - loss: 3.9252 - accuracy: 0.4000 - 457ms/epoch - 46ms/step\n",
      "test_loss: 3.9251933097839355\n",
      "test_accuracy: 0.4000000059604645\n"
     ]
    }
   ],
   "source": [
    "test_loss, test_accuracy = model.evaluate(x_test_reshaped, y_test, verbose=2)\n",
    "print(f\"test_loss: {test_loss}\")\n",
    "print(f\"test_accuracy: {test_accuracy}\")"
   ]
  },
  {
   "cell_type": "code",
   "execution_count": 308,
   "id": "38565501",
   "metadata": {},
   "outputs": [
    {
     "name": "stdout",
     "output_type": "stream",
     "text": [
      "10/10 [==============================] - 0s 15ms/step\n",
      "model.predict() 결과 :  [0.00134697 0.00229069 0.9963624 ]\n",
      "model이 추론한 가장 가능성이 높은 결과 :  2\n",
      "실제 데이터의 라벨 :  0\n"
     ]
    }
   ],
   "source": [
    "predicted_result = model.predict(x_test_reshaped)  # model이 추론한 확률값. \n",
    "predicted_labels = np.argmax(predicted_result, axis=1)\n",
    "\n",
    "idx=0  #1번째 x_test를 살펴보자. \n",
    "print('model.predict() 결과 : ', predicted_result[idx])\n",
    "print('model이 추론한 가장 가능성이 높은 결과 : ', predicted_labels[idx])\n",
    "print('실제 데이터의 라벨 : ', y_test[idx])"
   ]
  },
  {
   "cell_type": "code",
   "execution_count": 309,
   "id": "6e324ed7",
   "metadata": {},
   "outputs": [
    {
     "data": {
      "image/png": "[encoded data removed]",
      "text/plain": [
       "<Figure size 640x480 with 1 Axes>"
      ]
     },
     "metadata": {},
     "output_type": "display_data"
    }
   ],
   "source": [
    "plt.imshow(x_test[idx],cmap=plt.cm.binary)\n",
    "plt.show()"
   ]
  },
  {
   "cell_type": "code",
   "execution_count": 277,
   "id": "0a26a980",
   "metadata": {},
   "outputs": [
    {
     "name": "stdout",
     "output_type": "stream",
     "text": [
      "예측확률분포: [0.3118726  0.68638545 0.00174187]\n",
      "라벨: 0, 예측결과: 1\n"
     ]
    },
    {
     "data": {
      "image/png": "[encoded data removed]",
      "text/plain": [
       "<Figure size 640x480 with 1 Axes>"
      ]
     },
     "metadata": {},
     "output_type": "display_data"
    },
    {
     "name": "stdout",
     "output_type": "stream",
     "text": [
      "예측확률분포: [0.29153815 0.61474544 0.09371636]\n",
      "라벨: 0, 예측결과: 1\n"
     ]
    },
    {
     "data": {
      "image/png": "[encoded data removed]",
      "text/plain": [
       "<Figure size 640x480 with 1 Axes>"
      ]
     },
     "metadata": {},
     "output_type": "display_data"
    },
    {
     "name": "stdout",
     "output_type": "stream",
     "text": [
      "예측확률분포: [0.27587903 0.7231357  0.0009852 ]\n",
      "라벨: 0, 예측결과: 1\n"
     ]
    },
    {
     "data": {
      "image/png": "[encoded data removed]",
      "text/plain": [
       "<Figure size 640x480 with 1 Axes>"
      ]
     },
     "metadata": {},
     "output_type": "display_data"
    },
    {
     "name": "stdout",
     "output_type": "stream",
     "text": [
      "예측확률분포: [0.4939849  0.50507456 0.00094046]\n",
      "라벨: 0, 예측결과: 1\n"
     ]
    },
    {
     "data": {
      "image/png": "[encoded data removed]",
      "text/plain": [
       "<Figure size 640x480 with 1 Axes>"
      ]
     },
     "metadata": {},
     "output_type": "display_data"
    },
    {
     "name": "stdout",
     "output_type": "stream",
     "text": [
      "예측확률분포: [0.57000935 0.3271433  0.10284738]\n",
      "라벨: 2, 예측결과: 0\n"
     ]
    },
    {
     "data": {
      "image/png": "[encoded data removed]",
      "text/plain": [
       "<Figure size 640x480 with 1 Axes>"
      ]
     },
     "metadata": {},
     "output_type": "display_data"
    }
   ],
   "source": [
    "import random\n",
    "wrong_predict_list=[]\n",
    "for i, _ in enumerate(predicted_labels):\n",
    "    # i번째 test_labels과 y_test이 다른 경우만 모아 봅시다. \n",
    "    if predicted_labels[i] != y_val1[i]:\n",
    "        wrong_predict_list.append(i)\n",
    "\n",
    "# wrong_predict_list 에서 랜덤하게 5개만 뽑아봅시다.\n",
    "samples = random.choices(population=wrong_predict_list, k=5)\n",
    "\n",
    "for n in samples:\n",
    "    print(\"예측확률분포: \" + str(predicted_result[n]))\n",
    "    print(\"라벨: \" + str(y_val1[n]) + \", 예측결과: \" + str(predicted_labels[n]))\n",
    "    plt.imshow(x_test[n], cmap=plt.cm.binary)\n",
    "    plt.show()"
   ]
  },
  {
   "cell_type": "markdown",
   "id": "208e355d",
   "metadata": {},
   "source": [
    "## STEP 4 : 더 좋은 네트워크 만들어 보기"
   ]
  },
  {
   "cell_type": "markdown",
   "id": "cd68022a",
   "metadata": {},
   "source": [
    "### Adding Layer and Adjusting Channel/kernels"
   ]
  },
  {
   "cell_type": "code",
   "execution_count": 324,
   "id": "0874a573",
   "metadata": {},
   "outputs": [
    {
     "name": "stdout",
     "output_type": "stream",
     "text": [
      "Epoch 1/25\n",
      "37/37 [==============================] - 5s 57ms/step - loss: 0.8869 - accuracy: 0.6376 - val_loss: 1.1572 - val_accuracy: 0.3333\n",
      "Epoch 2/25\n",
      "37/37 [==============================] - 2s 50ms/step - loss: 0.5845 - accuracy: 0.6816 - val_loss: 1.0730 - val_accuracy: 0.3800\n",
      "Epoch 3/25\n",
      "37/37 [==============================] - 2s 47ms/step - loss: 0.4997 - accuracy: 0.7595 - val_loss: 1.3246 - val_accuracy: 0.3333\n",
      "Epoch 4/25\n",
      "37/37 [==============================] - 2s 50ms/step - loss: 0.3811 - accuracy: 0.8510 - val_loss: 1.1611 - val_accuracy: 0.2567\n",
      "Epoch 5/25\n",
      "37/37 [==============================] - 2s 53ms/step - loss: 0.2621 - accuracy: 0.9086 - val_loss: 1.3520 - val_accuracy: 0.2733\n",
      "Epoch 6/25\n",
      "37/37 [==============================] - 2s 59ms/step - loss: 0.1820 - accuracy: 0.9348 - val_loss: 1.5510 - val_accuracy: 0.3400\n",
      "Epoch 7/25\n",
      "37/37 [==============================] - 2s 52ms/step - loss: 0.1242 - accuracy: 0.9627 - val_loss: 1.8348 - val_accuracy: 0.4100\n",
      "Epoch 8/25\n",
      "37/37 [==============================] - 2s 51ms/step - loss: 0.0841 - accuracy: 0.9771 - val_loss: 1.9997 - val_accuracy: 0.3500\n",
      "Epoch 9/25\n",
      "37/37 [==============================] - 2s 53ms/step - loss: 0.0503 - accuracy: 0.9873 - val_loss: 2.4951 - val_accuracy: 0.4000\n",
      "Epoch 10/25\n",
      "37/37 [==============================] - 2s 53ms/step - loss: 0.0355 - accuracy: 0.9932 - val_loss: 3.0228 - val_accuracy: 0.2933\n",
      "Epoch 11/25\n",
      "37/37 [==============================] - 2s 51ms/step - loss: 0.0200 - accuracy: 0.9966 - val_loss: 3.5812 - val_accuracy: 0.2967\n",
      "Epoch 12/25\n",
      "37/37 [==============================] - 2s 50ms/step - loss: 0.0149 - accuracy: 0.9992 - val_loss: 3.3611 - val_accuracy: 0.2833\n",
      "Epoch 13/25\n",
      "37/37 [==============================] - 2s 58ms/step - loss: 0.0094 - accuracy: 1.0000 - val_loss: 4.0936 - val_accuracy: 0.3267\n",
      "Epoch 14/25\n",
      "37/37 [==============================] - 2s 53ms/step - loss: 0.0078 - accuracy: 1.0000 - val_loss: 4.4408 - val_accuracy: 0.3333\n",
      "Epoch 15/25\n",
      "37/37 [==============================] - 2s 55ms/step - loss: 0.0077 - accuracy: 0.9992 - val_loss: 4.6923 - val_accuracy: 0.3400\n",
      "Epoch 16/25\n",
      "37/37 [==============================] - 2s 54ms/step - loss: 0.0048 - accuracy: 1.0000 - val_loss: 4.2344 - val_accuracy: 0.2900\n",
      "Epoch 17/25\n",
      "37/37 [==============================] - 2s 53ms/step - loss: 0.0045 - accuracy: 1.0000 - val_loss: 4.3917 - val_accuracy: 0.3033\n",
      "Epoch 18/25\n",
      "37/37 [==============================] - 2s 53ms/step - loss: 0.0034 - accuracy: 1.0000 - val_loss: 4.7616 - val_accuracy: 0.3167\n",
      "Epoch 19/25\n",
      "37/37 [==============================] - 2s 52ms/step - loss: 0.0024 - accuracy: 1.0000 - val_loss: 4.4960 - val_accuracy: 0.2867\n",
      "Epoch 20/25\n",
      "37/37 [==============================] - 2s 53ms/step - loss: 0.0030 - accuracy: 1.0000 - val_loss: 5.2686 - val_accuracy: 0.3300\n",
      "Epoch 21/25\n",
      "37/37 [==============================] - 3s 69ms/step - loss: 0.0027 - accuracy: 1.0000 - val_loss: 5.2485 - val_accuracy: 0.3467\n",
      "Epoch 22/25\n",
      "37/37 [==============================] - 4s 106ms/step - loss: 0.0021 - accuracy: 1.0000 - val_loss: 4.9317 - val_accuracy: 0.3200\n",
      "Epoch 23/25\n",
      "37/37 [==============================] - 4s 98ms/step - loss: 0.0015 - accuracy: 1.0000 - val_loss: 5.0196 - val_accuracy: 0.3200\n",
      "Epoch 24/25\n",
      "37/37 [==============================] - 4s 106ms/step - loss: 0.0013 - accuracy: 1.0000 - val_loss: 5.2231 - val_accuracy: 0.2867\n",
      "Epoch 25/25\n",
      "37/37 [==============================] - 4s 116ms/step - loss: 0.0013 - accuracy: 1.0000 - val_loss: 5.4424 - val_accuracy: 0.3300\n",
      "Model: \"sequential_79\"\n",
      "_________________________________________________________________\n",
      " Layer (type)                Output Shape              Param #   \n",
      "=================================================================\n",
      " random_flip_15 (RandomFlip)  (None, 28, 28, 3)        0         \n",
      "                                                                 \n",
      " random_flip_16 (RandomFlip)  (None, 28, 28, 3)        0         \n",
      "                                                                 \n",
      " conv2d_206 (Conv2D)         (None, 26, 26, 32)        896       \n",
      "                                                                 \n",
      " max_pooling2d_204 (MaxPooli  (None, 13, 13, 32)       0         \n",
      " ng2D)                                                           \n",
      "                                                                 \n",
      " conv2d_207 (Conv2D)         (None, 11, 11, 64)        18496     \n",
      "                                                                 \n",
      " max_pooling2d_205 (MaxPooli  (None, 5, 5, 64)         0         \n",
      " ng2D)                                                           \n",
      "                                                                 \n",
      " conv2d_208 (Conv2D)         (None, 3, 3, 64)          36928     \n",
      "                                                                 \n",
      " max_pooling2d_206 (MaxPooli  (None, 1, 1, 64)         0         \n",
      " ng2D)                                                           \n",
      "                                                                 \n",
      " flatten_72 (Flatten)        (None, 64)                0         \n",
      "                                                                 \n",
      " dense_144 (Dense)           (None, 128)               8320      \n",
      "                                                                 \n",
      " dense_145 (Dense)           (None, 3)                 387       \n",
      "                                                                 \n",
      "=================================================================\n",
      "Total params: 65,027\n",
      "Trainable params: 65,027\n",
      "Non-trainable params: 0\n",
      "_________________________________________________________________\n",
      "10/10 - 1s - loss: 5.4424 - accuracy: 0.3300 - 652ms/epoch - 65ms/step\n",
      "test_loss: 5.442364692687988 \n",
      "test_accuracy: 0.33000001311302185\n"
     ]
    }
   ],
   "source": [
    "# 바꿔 볼 수 있는 하이퍼파라미터들\n",
    "n_channel_1=32# 증가\n",
    "n_channel_2=64 # 증가\n",
    "n_channel_3=64 # 증가\n",
    "n_dense=128 # 증가\n",
    "n_train_epoch= 25 # 증가\n",
    "\n",
    "test_loss_list = []\n",
    "test_acc_list = []\n",
    "\n",
    "model=keras.models.Sequential()\n",
    "model.add(keras.layers.experimental.preprocessing.RandomFlip(\"vertical\"))\n",
    "model.add(keras.layers.experimental.preprocessing.RandomFlip(\"horizontal\"))\n",
    "model.add(keras.layers.Conv2D(n_channel_1, (3,3), activation='relu', input_shape=(28,28,3)))\n",
    "model.add(keras.layers.MaxPool2D(2,2))\n",
    "model.add(keras.layers.Conv2D(n_channel_2, (3,3), activation='relu'))\n",
    "model.add(keras.layers.MaxPooling2D((2,2)))\n",
    "model.add(keras.layers.Conv2D(n_channel_3,(3,3), activation='relu')) #layer 추가\n",
    "model.add(keras.layers.MaxPooling2D((2,2)))\n",
    "model.add(keras.layers.Flatten())\n",
    "model.add(keras.layers.Dense(n_dense, activation='selu'))\n",
    "model.add(keras.layers.Dense(3, activation='softmax'))\n",
    "\n",
    "model.compile(optimizer='adam',\n",
    "             loss='sparse_categorical_crossentropy',\n",
    "             metrics=['accuracy'])\n",
    "\n",
    "# 모델 훈련\n",
    "history = model.fit(x_train_reshaped, y_train, epochs=n_train_epoch, validation_data = (x_test_reshaped, y_test))\n",
    "\n",
    "model.summary()\n",
    "\n",
    "\n",
    "# 모델 시험\n",
    "test_loss, test_accuracy = model.evaluate(x_test_reshaped, y_test, verbose=2)\n",
    "test_loss_list.append(test_loss)\n",
    "test_acc_list.append(test_accuracy)\n",
    "\n",
    "print(f\"test_loss: {test_loss} \")\n",
    "print(f\"test_accuracy: {test_accuracy}\")"
   ]
  },
  {
   "cell_type": "markdown",
   "id": "03ba5bd7",
   "metadata": {},
   "source": [
    "학습이 증가할수록 예측결과는 좋아지는 것을 볼 수 있으나..."
   ]
  },
  {
   "cell_type": "code",
   "execution_count": 325,
   "id": "887be8e9",
   "metadata": {},
   "outputs": [
    {
     "data": {
      "image/png": "[encoded data removed]",
      "text/plain": [
       "<Figure size 1200x600 with 2 Axes>"
      ]
     },
     "metadata": {},
     "output_type": "display_data"
    }
   ],
   "source": [
    "fig = plt.figure(figsize =(12,6))\n",
    "ax = fig.add_subplot(1,2,1)\n",
    "plt.plot(history.history['loss'], label = 'train')\n",
    "plt.plot(history.history['val_loss'], c='red', label = 'val')\n",
    "plt.legend()\n",
    "plt.xlabel('epoch')\n",
    "plt.ylabel('loss')\n",
    "plt.title('Loss')\n",
    "\n",
    "ax = fig.add_subplot(1,2,2)\n",
    "plt.plot(history.history['accuracy'], label = 'train')\n",
    "plt.plot(history.history['val_accuracy'], c='red', label = 'val')\n",
    "plt.legend()\n",
    "plt.xlabel('epoch')\n",
    "plt.ylabel('accuracy(%)')\n",
    "plt.title('accuracy')\n",
    "\n",
    "plt.show()"
   ]
  },
  {
   "cell_type": "code",
   "execution_count": 279,
   "id": "1695c169",
   "metadata": {},
   "outputs": [
    {
     "name": "stdout",
     "output_type": "stream",
     "text": [
      "10/10 - 0s - loss: 1.7510 - accuracy: 0.5400 - 156ms/epoch - 16ms/step\n"
     ]
    }
   ],
   "source": [
    "test_loss, test_accuracy = model.evaluate(x_test_reshaped, y_test, verbose=2)"
   ]
  },
  {
   "cell_type": "markdown",
   "id": "98659cbf",
   "metadata": {},
   "source": [
    "## STEP 5 : 결론"
   ]
  },
  {
   "cell_type": "markdown",
   "id": "ad4e5871",
   "metadata": {},
   "source": [
    "이번에는 신경망을 이용해 이미지(가위, 바위, 보)를 분류하는 프로젝트를 수행하였습니다. \n",
    "\n",
    "모델 성능을 올리기 위해, 데이터 어그멘테이션, hyperparameter optimizing, layer 추가 등을 하였습니다. \n",
    "\n",
    "어려웠지만 목표 점수인 60%를 간신히 통과하였습니다.\n",
    "\n",
    "아직까지 모델에 대한 전반적인 이해가 없어서, 어떤 이유로 성능이 개선되는지는 잘 모르겠습니다.\n",
    "\n",
    "단순히 아래 링크를 찾아보고 몇가지 optimizing 방법을 테세트해본 결과뿐입니다.\n",
    "\n",
    "앞으로 딥러닝 지식을 한층 더 올리면서 오늘까지 이해하지 못한 것들을 배워나가도록 하겠습니다. \n",
    "\n",
    "https://towardsdatascience.com/hacking-your-image-recognition-model-909ad4176247"
   ]
  }
 ],
 "metadata": {
  "kernelspec": {
   "display_name": "Python 3 (ipykernel)",
   "language": "python",
   "name": "python3"
  },
  "language_info": {
   "codemirror_mode": {
    "name": "ipython",
    "version": 3
   },
   "file_extension": ".py",
   "mimetype": "text/x-python",
   "name": "python",
   "nbconvert_exporter": "python",
   "pygments_lexer": "ipython3",
   "version": "3.9.12"
  }
 },
 "nbformat": 4,
 "nbformat_minor": 5
}
