{
 "cells": [
  {
   "cell_type": "code",
   "execution_count": 3,
   "id": "fedc31c8",
   "metadata": {},
   "outputs": [],
   "source": [
    "import tensorflow as tf\n",
    "from tensorflow import keras\n",
    "\n",
    "import numpy as np\n",
    "import matplotlib.pyplot as plt\n",
    "import os"
   ]
  },
  {
   "cell_type": "code",
   "execution_count": 4,
   "id": "cf6a47ab",
   "metadata": {},
   "outputs": [
    {
     "name": "stdout",
     "output_type": "stream",
     "text": [
      "2.11.0\n"
     ]
    }
   ],
   "source": [
    "print(tf.__version__)  "
   ]
  },
  {
   "cell_type": "markdown",
   "id": "507a2ce8",
   "metadata": {},
   "source": [
    "## STEP 1 : 데이터 준비하기"
   ]
  },
  {
   "cell_type": "code",
   "execution_count": 5,
   "id": "a8e662df",
   "metadata": {},
   "outputs": [],
   "source": [
    "from PIL import Image\n",
    "import glob\n",
    "import os"
   ]
  },
  {
   "cell_type": "code",
   "execution_count": 8,
   "id": "b68ad811",
   "metadata": {},
   "outputs": [],
   "source": [
    "def resize_images(img_path):\n",
    "    images=glob.glob(img_path + \"/*.jpg\")  \n",
    "    \n",
    "    print(len(images), \" images to be resized.\")\n",
    "\n",
    "    # 파일마다 모두 28x28 사이즈로 바꾸어 저장합니다.\n",
    "    target_size=(28,28)\n",
    "    for img in images:\n",
    "        old_img=Image.open(img)\n",
    "        new_img=old_img.resize(target_size,Image.ANTIALIAS)\n",
    "        new_img.save(img, \"JPEG\")\n",
    "    \n",
    "    print(len(images), \" images resized.\") \n",
    "\n",
    "# 가위 이미지가 저장된 디렉토리 아래의 모든 jpg 파일을 읽어들여서\n",
    "image_dir_path = os.getenv(\"HOME\") + '/Desktop/Life3/aiffel/project/data/rock_paper_scissor'\n",
    "resize_images(image_dir_path)\n"
   ]
  },
  {
   "cell_type": "code",
   "execution_count": 58,
   "id": "9b6d0ac2",
   "metadata": {},
   "outputs": [],
   "source": [
    "folders = ['/paper','/rock','/scissor']"
   ]
  },
  {
   "cell_type": "code",
   "execution_count": 59,
   "id": "bfd9c490",
   "metadata": {},
   "outputs": [
    {
     "name": "stdout",
     "output_type": "stream",
     "text": [
      "208  images to be resized.\n"
     ]
    },
    {
     "name": "stderr",
     "output_type": "stream",
     "text": [
      "/var/folders/gw/_hckw7j932n6_zdqjr965yzc0000gn/T/ipykernel_11040/2238249178.py:10: DeprecationWarning: ANTIALIAS is deprecated and will be removed in Pillow 10 (2023-07-01). Use Resampling.LANCZOS instead.\n",
      "  new_img=old_img.resize(target_size,Image.ANTIALIAS)\n"
     ]
    },
    {
     "name": "stdout",
     "output_type": "stream",
     "text": [
      "208  images resized.\n",
      "227  images to be resized.\n",
      "227  images resized.\n",
      "217  images to be resized.\n",
      "217  images resized.\n",
      "100  images to be resized.\n",
      "100  images resized.\n",
      "100  images to be resized.\n",
      "100  images resized.\n",
      "100  images to be resized.\n",
      "100  images resized.\n"
     ]
    }
   ],
   "source": [
    "for i in ['/train','/test'] :\n",
    "    image_dir_path = os.getenv(\"HOME\") + '/Desktop/Life3/aiffel/project/data/rock_paper_scissor'\n",
    "    \n",
    "    for j in folders :\n",
    "        resize_images(image_dir_path+i+j)\n"
   ]
  },
  {
   "cell_type": "code",
   "execution_count": 60,
   "id": "3ef83897",
   "metadata": {},
   "outputs": [],
   "source": [
    "image_dir_path_train = os.getenv(\"HOME\") + '/Desktop/Life3/aiffel/project/data/rock_paper_scissor/train'\n",
    "image_dir_path_test = os.getenv(\"HOME\") + '/Desktop/Life3/aiffel/project/data/rock_paper_scissor/test'"
   ]
  },
  {
   "cell_type": "code",
   "execution_count": 61,
   "id": "52ce6a31",
   "metadata": {},
   "outputs": [],
   "source": [
    "import numpy as np\n",
    "\n",
    "def load_data(img_path, number_of_data=300):  # 가위바위보 이미지 개수 총합에 주의하세요.\n",
    "    # 가위 : 0, 바위 : 1, 보 : 2\n",
    "    img_size=28\n",
    "    color=3\n",
    "    #이미지 데이터와 라벨(가위 : 0, 바위 : 1, 보 : 2) 데이터를 담을 행렬(matrix) 영역을 생성합니다.\n",
    "    imgs=np.zeros(number_of_data*img_size*img_size*color,dtype=np.int32).reshape(number_of_data,img_size,img_size,color)\n",
    "    labels=np.zeros(number_of_data,dtype=np.int32)\n",
    "\n",
    "    idx=0\n",
    "    for file in glob.iglob(img_path+'/scissor/*.jpg'):\n",
    "        img = np.array(Image.open(file),dtype=np.int32)\n",
    "        imgs[idx,:,:,:]=img    # 데이터 영역에 이미지 행렬을 복사\n",
    "        labels[idx]=0   # 가위 : 0\n",
    "        idx=idx+1\n",
    "\n",
    "    for file in glob.iglob(img_path+'/rock/*.jpg'):\n",
    "        img = np.array(Image.open(file),dtype=np.int32)\n",
    "        imgs[idx,:,:,:]=img    # 데이터 영역에 이미지 행렬을 복사\n",
    "        labels[idx]=1   # 바위 : 1\n",
    "        idx=idx+1  \n",
    "    \n",
    "    for file in glob.iglob(img_path+'/paper/*.jpg'):\n",
    "        img = np.array(Image.open(file),dtype=np.int32)\n",
    "        imgs[idx,:,:,:]=img    # 데이터 영역에 이미지 행렬을 복사\n",
    "        labels[idx]=2   # 보 : 2\n",
    "        idx=idx+1\n",
    "        \n",
    "    print(\"학습데이터(x_train)의 이미지 개수는\", idx,\"입니다.\")\n",
    "    return imgs, labels\n"
   ]
  },
  {
   "cell_type": "code",
   "execution_count": 62,
   "id": "93d594c3",
   "metadata": {},
   "outputs": [
    {
     "data": {
      "text/plain": [
       "652"
      ]
     },
     "execution_count": 62,
     "metadata": {},
     "output_type": "execute_result"
    }
   ],
   "source": [
    "trp =len(os.listdir(image_dir_path_train+'/paper'))\n",
    "trs = len(os.listdir(image_dir_path_train+'/scissor'))\n",
    "trr = len(os.listdir(image_dir_path_train+'/rock'))\n",
    "trtot = trp + trs +trr\n",
    "\n",
    "trtot"
   ]
  },
  {
   "cell_type": "code",
   "execution_count": 63,
   "id": "1597cbe1",
   "metadata": {},
   "outputs": [
    {
     "name": "stdout",
     "output_type": "stream",
     "text": [
      "학습데이터(x_train)의 이미지 개수는 652 입니다.\n",
      "x_train shape: (652, 28, 28, 3)\n",
      "y_train shape: (652,)\n"
     ]
    }
   ],
   "source": [
    "(x_train, y_train)=load_data(image_dir_path_train, number_of_data = trtot)\n",
    "x_train_norm = x_train/255.0   \n",
    "\n",
    "print(\"x_train shape: {}\".format(x_train.shape))\n",
    "print(\"y_train shape: {}\".format(y_train.shape))"
   ]
  },
  {
   "cell_type": "code",
   "execution_count": 64,
   "id": "d7755ed5",
   "metadata": {},
   "outputs": [
    {
     "data": {
      "text/plain": [
       "300"
      ]
     },
     "execution_count": 64,
     "metadata": {},
     "output_type": "execute_result"
    }
   ],
   "source": [
    "tsp =len(os.listdir(image_dir_path_test+'/paper'))\n",
    "tss = len(os.listdir(image_dir_path_test+'/scissor'))\n",
    "tsr = len(os.listdir(image_dir_path_test+'/rock'))\n",
    "tstot = tsp + tss +tsr\n",
    "\n",
    "tstot"
   ]
  },
  {
   "cell_type": "code",
   "execution_count": 65,
   "id": "97c1704d",
   "metadata": {},
   "outputs": [
    {
     "name": "stdout",
     "output_type": "stream",
     "text": [
      "학습데이터(x_train)의 이미지 개수는 300 입니다.\n",
      "x_test shape: (652, 28, 28, 3)\n",
      "y_test shape: (652,)\n"
     ]
    }
   ],
   "source": [
    "(x_test, y_test)=load_data(image_dir_path_test, number_of_data = tstot)\n",
    "x_test_norm = x_test/255.0   # 입력은 0~1 사이의 값으로 정규화\n",
    "\n",
    "print(\"x_test shape: {}\".format(x_train.shape))\n",
    "print(\"y_test shape: {}\".format(y_train.shape))"
   ]
  },
  {
   "cell_type": "code",
   "execution_count": 66,
   "id": "76a8cc9a",
   "metadata": {},
   "outputs": [
    {
     "name": "stdout",
     "output_type": "stream",
     "text": [
      "라벨:  0\n"
     ]
    },
    {
     "data": {
      "image/png": "[encoded data removed]",
      "text/plain": [
       "<Figure size 640x480 with 1 Axes>"
      ]
     },
     "metadata": {},
     "output_type": "display_data"
    }
   ],
   "source": [
    "#이미지 확인\n",
    "plt.imshow(x_train[0])\n",
    "print('라벨: ', y_train[0])"
   ]
  },
  {
   "cell_type": "markdown",
   "id": "9bebbf74",
   "metadata": {},
   "source": [
    "## STEP 2 : 딥러닝 네트워크 학습시키기"
   ]
  },
  {
   "cell_type": "code",
   "execution_count": 67,
   "id": "0e241b5e",
   "metadata": {},
   "outputs": [
    {
     "name": "stdout",
     "output_type": "stream",
     "text": [
      "Model에 추가된 Layer 개수:  7\n",
      "Model: \"sequential_8\"\n",
      "_________________________________________________________________\n",
      " Layer (type)                Output Shape              Param #   \n",
      "=================================================================\n",
      " conv2d_16 (Conv2D)          (None, 26, 26, 16)        448       \n",
      "                                                                 \n",
      " max_pooling2d_16 (MaxPoolin  (None, 13, 13, 16)       0         \n",
      " g2D)                                                            \n",
      "                                                                 \n",
      " conv2d_17 (Conv2D)          (None, 11, 11, 32)        4640      \n",
      "                                                                 \n",
      " max_pooling2d_17 (MaxPoolin  (None, 5, 5, 32)         0         \n",
      " g2D)                                                            \n",
      "                                                                 \n",
      " flatten_8 (Flatten)         (None, 800)               0         \n",
      "                                                                 \n",
      " dense_16 (Dense)            (None, 32)                25632     \n",
      "                                                                 \n",
      " dense_17 (Dense)            (None, 3)                 99        \n",
      "                                                                 \n",
      "=================================================================\n",
      "Total params: 30,819\n",
      "Trainable params: 30,819\n",
      "Non-trainable params: 0\n",
      "_________________________________________________________________\n"
     ]
    }
   ],
   "source": [
    "model=keras.models.Sequential()\n",
    "model.add(keras.layers.Conv2D(16, (3,3), activation='relu', input_shape=(28,28,3)))\n",
    "model.add(keras.layers.MaxPool2D(2,2))\n",
    "model.add(keras.layers.Conv2D(32, (3,3), activation='relu'))\n",
    "model.add(keras.layers.MaxPooling2D((2,2)))\n",
    "model.add(keras.layers.Flatten())\n",
    "model.add(keras.layers.Dense(32, activation='relu'))\n",
    "model.add(keras.layers.Dense(3, activation='softmax')) # 0, 1, 2\n",
    "\n",
    "print('Model에 추가된 Layer 개수: ', len(model.layers))\n",
    "model.summary()"
   ]
  },
  {
   "cell_type": "code",
   "execution_count": 68,
   "id": "d533a4e2",
   "metadata": {},
   "outputs": [
    {
     "name": "stdout",
     "output_type": "stream",
     "text": [
      "Before Reshape - x_train_norm shape: (652, 28, 28, 3)\n",
      "Before Reshape - x_test_norm shape: (300, 28, 28, 3)\n",
      "After Reshape - x_train_reshaped shape: (652, 28, 28, 3)\n",
      "After Reshape - x_test_reshaped shape: (300, 28, 28, 3)\n"
     ]
    }
   ],
   "source": [
    "print(f\"Before Reshape - x_train_norm shape: {x_train_norm.shape}\")\n",
    "print(f\"Before Reshape - x_test_norm shape: {x_test_norm.shape}\")\n",
    "\n",
    "x_train_reshaped=x_train_norm.reshape( -1, 28, 28, 3)  # 데이터갯수에 -1을 쓰면 reshape시 자동계산됩니다.\n",
    "x_test_reshaped=x_test_norm.reshape( -1, 28, 28, 3)\n",
    "\n",
    "print(f\"After Reshape - x_train_reshaped shape: {x_train_reshaped.shape}\")\n",
    "print(f\"After Reshape - x_test_reshaped shape: {x_test_reshaped.shape}\")"
   ]
  },
  {
   "cell_type": "code",
   "execution_count": 69,
   "id": "1f04a1b4",
   "metadata": {},
   "outputs": [
    {
     "name": "stdout",
     "output_type": "stream",
     "text": [
      "Epoch 1/10\n",
      "21/21 [==============================] - 2s 23ms/step - loss: 1.0792 - accuracy: 0.3742\n",
      "Epoch 2/10\n",
      "21/21 [==============================] - 1s 24ms/step - loss: 1.0246 - accuracy: 0.4724\n",
      "Epoch 3/10\n",
      "21/21 [==============================] - 0s 22ms/step - loss: 0.9046 - accuracy: 0.6304\n",
      "Epoch 4/10\n",
      "21/21 [==============================] - 0s 22ms/step - loss: 0.7827 - accuracy: 0.6503\n",
      "Epoch 5/10\n",
      "21/21 [==============================] - 1s 26ms/step - loss: 0.6825 - accuracy: 0.7025\n",
      "Epoch 6/10\n",
      "21/21 [==============================] - 1s 24ms/step - loss: 0.6088 - accuracy: 0.7301\n",
      "Epoch 7/10\n",
      "21/21 [==============================] - 1s 23ms/step - loss: 0.5245 - accuracy: 0.8190\n",
      "Epoch 8/10\n",
      "21/21 [==============================] - 1s 26ms/step - loss: 0.4354 - accuracy: 0.8650\n",
      "Epoch 9/10\n",
      "21/21 [==============================] - 1s 24ms/step - loss: 0.3792 - accuracy: 0.8834\n",
      "Epoch 10/10\n",
      "21/21 [==============================] - 1s 26ms/step - loss: 0.3130 - accuracy: 0.9080\n"
     ]
    },
    {
     "data": {
      "text/plain": [
       "<keras.callbacks.History at 0x7fc7bc7b54c0>"
      ]
     },
     "execution_count": 69,
     "metadata": {},
     "output_type": "execute_result"
    }
   ],
   "source": [
    "model.compile(optimizer='adam',\n",
    "             loss='sparse_categorical_crossentropy',\n",
    "             metrics=['accuracy'])\n",
    "\n",
    "model.fit(x_train_reshaped, y_train, epochs=10)"
   ]
  },
  {
   "cell_type": "markdown",
   "id": "29531e53",
   "metadata": {},
   "source": [
    "## STEP 3 : 얼마나 잘 만들었는지 확인하기"
   ]
  },
  {
   "cell_type": "code",
   "execution_count": 70,
   "id": "40403425",
   "metadata": {},
   "outputs": [
    {
     "name": "stdout",
     "output_type": "stream",
     "text": [
      "10/10 - 0s - loss: 1.6582 - accuracy: 0.3467 - 449ms/epoch - 45ms/step\n",
      "test_loss: 1.6582399606704712\n",
      "test_accuracy: 0.3466666638851166\n"
     ]
    }
   ],
   "source": [
    "test_loss, test_accuracy = model.evaluate(x_test_reshaped,y_test, verbose=2)\n",
    "print(f\"test_loss: {test_loss}\")\n",
    "print(f\"test_accuracy: {test_accuracy}\")"
   ]
  },
  {
   "cell_type": "code",
   "execution_count": 71,
   "id": "af64b492",
   "metadata": {},
   "outputs": [
    {
     "name": "stdout",
     "output_type": "stream",
     "text": [
      "10/10 [==============================] - 0s 12ms/step\n",
      "model.predict() 결과 :  [0.10238091 0.13819502 0.75942403]\n",
      "model이 추론한 가장 가능성이 높은 결과 :  2\n",
      "실제 데이터의 라벨 :  0\n"
     ]
    }
   ],
   "source": [
    "predicted_result = model.predict(x_test_reshaped)  # model이 추론한 확률값. \n",
    "predicted_labels = np.argmax(predicted_result, axis=1)\n",
    "\n",
    "idx=0  #1번째 x_test를 살펴보자. \n",
    "print('model.predict() 결과 : ', predicted_result[idx])\n",
    "print('model이 추론한 가장 가능성이 높은 결과 : ', predicted_labels[idx])\n",
    "print('실제 데이터의 라벨 : ', y_test[idx])"
   ]
  },
  {
   "cell_type": "code",
   "execution_count": 72,
   "id": "8ad9a7cb",
   "metadata": {},
   "outputs": [
    {
     "data": {
      "image/png": "[encoded data removed]",
      "text/plain": [
       "<Figure size 640x480 with 1 Axes>"
      ]
     },
     "metadata": {},
     "output_type": "display_data"
    }
   ],
   "source": [
    "plt.imshow(x_test[idx],cmap=plt.cm.binary)\n",
    "plt.show()"
   ]
  },
  {
   "cell_type": "code",
   "execution_count": 73,
   "id": "a261387e",
   "metadata": {},
   "outputs": [
    {
     "name": "stdout",
     "output_type": "stream",
     "text": [
      "예측확률분포: [0.03877785 0.22451784 0.7367043 ]\n",
      "라벨: 0, 예측결과: 2\n"
     ]
    },
    {
     "data": {
      "image/png": "[encoded data removed]",
      "text/plain": [
       "<Figure size 640x480 with 1 Axes>"
      ]
     },
     "metadata": {},
     "output_type": "display_data"
    },
    {
     "name": "stdout",
     "output_type": "stream",
     "text": [
      "예측확률분포: [0.00933895 0.15236823 0.8382928 ]\n",
      "라벨: 0, 예측결과: 2\n"
     ]
    },
    {
     "data": {
      "image/png": "[encoded data removed]",
      "text/plain": [
       "<Figure size 640x480 with 1 Axes>"
      ]
     },
     "metadata": {},
     "output_type": "display_data"
    },
    {
     "name": "stdout",
     "output_type": "stream",
     "text": [
      "예측확률분포: [2.9755171e-04 2.4652420e-02 9.7505003e-01]\n",
      "라벨: 1, 예측결과: 2\n"
     ]
    },
    {
     "data": {
      "image/png": "[encoded data removed]",
      "text/plain": [
       "<Figure size 640x480 with 1 Axes>"
      ]
     },
     "metadata": {},
     "output_type": "display_data"
    },
    {
     "name": "stdout",
     "output_type": "stream",
     "text": [
      "예측확률분포: [0.02434311 0.07346731 0.90218955]\n",
      "라벨: 0, 예측결과: 2\n"
     ]
    },
    {
     "data": {
      "image/png": "[encoded data removed]",
      "text/plain": [
       "<Figure size 640x480 with 1 Axes>"
      ]
     },
     "metadata": {},
     "output_type": "display_data"
    },
    {
     "name": "stdout",
     "output_type": "stream",
     "text": [
      "예측확률분포: [0.03120777 0.6192004  0.34959182]\n",
      "라벨: 0, 예측결과: 1\n"
     ]
    },
    {
     "data": {
      "image/png": "[encoded data removed]",
      "text/plain": [
       "<Figure size 640x480 with 1 Axes>"
      ]
     },
     "metadata": {},
     "output_type": "display_data"
    }
   ],
   "source": [
    "import random\n",
    "wrong_predict_list=[]\n",
    "for i, _ in enumerate(predicted_labels):\n",
    "    # i번째 test_labels과 y_test이 다른 경우만 모아 봅시다. \n",
    "    if predicted_labels[i] != y_test[i]:\n",
    "        wrong_predict_list.append(i)\n",
    "\n",
    "# wrong_predict_list 에서 랜덤하게 5개만 뽑아봅시다.\n",
    "samples = random.choices(population=wrong_predict_list, k=5)\n",
    "\n",
    "for n in samples:\n",
    "    print(\"예측확률분포: \" + str(predicted_result[n]))\n",
    "    print(\"라벨: \" + str(y_test[n]) + \", 예측결과: \" + str(predicted_labels[n]))\n",
    "    plt.imshow(x_test[n], cmap=plt.cm.binary)\n",
    "    plt.show()"
   ]
  },
  {
   "cell_type": "markdown",
   "id": "0aa783ab",
   "metadata": {},
   "source": [
    "## STEP 4 : 더 좋은 네트워크 만들어 보기"
   ]
  },
  {
   "cell_type": "code",
   "execution_count": 84,
   "id": "a18f8769",
   "metadata": {},
   "outputs": [
    {
     "name": "stdout",
     "output_type": "stream",
     "text": [
      "Model: \"sequential_16\"\n",
      "_________________________________________________________________\n",
      " Layer (type)                Output Shape              Param #   \n",
      "=================================================================\n",
      " conv2d_39 (Conv2D)          (None, 26, 26, 32)        896       \n",
      "                                                                 \n",
      " max_pooling2d_37 (MaxPoolin  (None, 13, 13, 32)       0         \n",
      " g2D)                                                            \n",
      "                                                                 \n",
      " conv2d_40 (Conv2D)          (None, 11, 11, 128)       36992     \n",
      "                                                                 \n",
      " max_pooling2d_38 (MaxPoolin  (None, 5, 5, 128)        0         \n",
      " g2D)                                                            \n",
      "                                                                 \n",
      " conv2d_41 (Conv2D)          (None, 3, 3, 128)         147584    \n",
      "                                                                 \n",
      " max_pooling2d_39 (MaxPoolin  (None, 1, 1, 128)        0         \n",
      " g2D)                                                            \n",
      "                                                                 \n",
      " flatten_14 (Flatten)        (None, 128)               0         \n",
      "                                                                 \n",
      " dense_28 (Dense)            (None, 128)               16512     \n",
      "                                                                 \n",
      " dense_29 (Dense)            (None, 3)                 387       \n",
      "                                                                 \n",
      "=================================================================\n",
      "Total params: 202,371\n",
      "Trainable params: 202,371\n",
      "Non-trainable params: 0\n",
      "_________________________________________________________________\n",
      "Epoch 1/15\n",
      "21/21 [==============================] - 4s 67ms/step - loss: 1.1023 - accuracy: 0.3206\n",
      "Epoch 2/15\n",
      "21/21 [==============================] - 1s 69ms/step - loss: 1.0986 - accuracy: 0.3374\n",
      "Epoch 3/15\n",
      "21/21 [==============================] - 1s 66ms/step - loss: 1.0744 - accuracy: 0.4294\n",
      "Epoch 4/15\n",
      "21/21 [==============================] - 1s 67ms/step - loss: 0.9859 - accuracy: 0.5675\n",
      "Epoch 5/15\n",
      "21/21 [==============================] - 2s 82ms/step - loss: 0.7403 - accuracy: 0.7285\n",
      "Epoch 6/15\n",
      "21/21 [==============================] - 2s 75ms/step - loss: 0.5342 - accuracy: 0.7684\n",
      "Epoch 7/15\n",
      "21/21 [==============================] - 2s 75ms/step - loss: 0.3951 - accuracy: 0.8512\n",
      "Epoch 8/15\n",
      "21/21 [==============================] - 2s 90ms/step - loss: 0.3286 - accuracy: 0.8865\n",
      "Epoch 9/15\n",
      "21/21 [==============================] - 2s 84ms/step - loss: 0.2473 - accuracy: 0.9141\n",
      "Epoch 10/15\n",
      "21/21 [==============================] - 2s 75ms/step - loss: 0.1780 - accuracy: 0.9417\n",
      "Epoch 11/15\n",
      "21/21 [==============================] - 2s 74ms/step - loss: 0.1465 - accuracy: 0.9371\n",
      "Epoch 12/15\n",
      "21/21 [==============================] - 2s 74ms/step - loss: 0.1147 - accuracy: 0.9509\n",
      "Epoch 13/15\n",
      "21/21 [==============================] - 2s 74ms/step - loss: 0.1165 - accuracy: 0.9586\n",
      "Epoch 14/15\n",
      "21/21 [==============================] - 2s 77ms/step - loss: 0.0886 - accuracy: 0.9739\n",
      "Epoch 15/15\n",
      "21/21 [==============================] - 2s 84ms/step - loss: 0.0984 - accuracy: 0.9586\n",
      "10/10 - 0s - loss: 1.6904 - accuracy: 0.6400 - 464ms/epoch - 46ms/step\n",
      "test_loss: 1.6904088258743286 \n",
      "test_accuracy: 0.6399999856948853\n"
     ]
    }
   ],
   "source": [
    "# 바꿔 볼 수 있는 하이퍼파라미터들\n",
    "n_channel_1=32# 증가\n",
    "n_channel_2=128 # 증가\n",
    "n_channel_3=128 # 증가\n",
    "n_dense=128 # 증가\n",
    "n_train_epoch= 15 # 증가\n",
    "\n",
    "model=keras.models.Sequential()\n",
    "model.add(keras.layers.Conv2D(n_channel_1, (3,3), activation='relu', input_shape=(28,28,3)))\n",
    "model.add(keras.layers.MaxPool2D(2,2))\n",
    "model.add(keras.layers.Conv2D(n_channel_2, (3,3), activation='relu'))\n",
    "model.add(keras.layers.MaxPooling2D((2,2)))\n",
    "model.add(keras.layers.Conv2D(n_channel_3,(3,3), activation='relu')) #layer 추가\n",
    "model.add(keras.layers.MaxPooling2D((2,2)))\n",
    "model.add(keras.layers.Flatten())\n",
    "model.add(keras.layers.Dense(n_dense, activation='relu'))\n",
    "model.add(keras.layers.Dense(3, activation='softmax'))\n",
    "\n",
    "model.summary()\n",
    "model.compile(optimizer='adam',\n",
    "             loss='sparse_categorical_crossentropy',\n",
    "             metrics=['accuracy'])\n",
    "\n",
    "# 모델 훈련\n",
    "model.fit(x_train_reshaped, y_train, epochs=n_train_epoch)\n",
    "\n",
    "# 모델 시험\n",
    "test_loss, test_accuracy = model.evaluate(x_test_reshaped, y_test, verbose=2)\n",
    "print(f\"test_loss: {test_loss} \")\n",
    "print(f\"test_accuracy: {test_accuracy}\")"
   ]
  },
  {
   "cell_type": "markdown",
   "id": "915d6a93",
   "metadata": {},
   "source": [
    "## STEP 5 : 결론"
   ]
  },
  {
   "cell_type": "markdown",
   "id": "21f2c5c7",
   "metadata": {},
   "source": [
    "이번에는 신경망을 이용해 이미지(가위, 바위, 보)를 분류하는 프로젝트를 수행하였습니다. \n",
    "\n",
    "모델 성능을 올리기 위해, 데이터 어그멘테이션, hyperparameter optimizing, layer 추가 등을 하였습니다. \n",
    "\n",
    "어려웠지만 목표 점수인 60%를 간신히 통과하였습니다.\n",
    "\n",
    "아직까지 모델에 대한 전반적인 이해가 없어서, 어떤 이유로 성능이 개선되는지는 잘 모르겠습니다.\n",
    "\n",
    "단순히 아래 링크를 찾아보고 몇가지 optimizing 방법을 테세트해본 결과뿐입니다.\n",
    "\n",
    "앞으로 딥러닝 지식을 한층 더 올리면서 배워나가도록 하겠습니다. \n",
    "\n",
    "https://towardsdatascience.com/hacking-your-image-recognition-model-909ad4176247"
   ]
  }
 ],
 "metadata": {
  "kernelspec": {
   "display_name": "Python 3 (ipykernel)",
   "language": "python",
   "name": "python3"
  },
  "language_info": {
   "codemirror_mode": {
    "name": "ipython",
    "version": 3
   },
   "file_extension": ".py",
   "mimetype": "text/x-python",
   "name": "python",
   "nbconvert_exporter": "python",
   "pygments_lexer": "ipython3",
   "version": "3.9.12"
  }
 },
 "nbformat": 4,
 "nbformat_minor": 5
}
